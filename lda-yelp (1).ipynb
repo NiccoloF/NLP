{
 "cells": [
  {
   "cell_type": "code",
   "execution_count": 1,
   "id": "ccf2a508",
   "metadata": {
    "_cell_guid": "b1076dfc-b9ad-4769-8c92-a6c4dae69d19",
    "_uuid": "8f2839f25d086af736a60e9eeb907d3b93b6e0e5",
    "execution": {
     "iopub.execute_input": "2024-05-23T10:22:41.240548Z",
     "iopub.status.busy": "2024-05-23T10:22:41.240044Z",
     "iopub.status.idle": "2024-05-23T10:22:52.163623Z",
     "shell.execute_reply": "2024-05-23T10:22:52.162136Z"
    },
    "papermill": {
     "duration": 10.935812,
     "end_time": "2024-05-23T10:22:52.167140",
     "exception": false,
     "start_time": "2024-05-23T10:22:41.231328",
     "status": "completed"
    },
    "tags": []
   },
   "outputs": [],
   "source": [
    "import pandas as pd\n",
    "dataset_train=pd.read_csv('/kaggle/input/yelp-csv/train.csv')"
   ]
  },
  {
   "cell_type": "code",
   "execution_count": 2,
   "id": "775792a2",
   "metadata": {
    "execution": {
     "iopub.execute_input": "2024-05-23T10:22:52.182787Z",
     "iopub.status.busy": "2024-05-23T10:22:52.182284Z",
     "iopub.status.idle": "2024-05-23T10:22:52.695202Z",
     "shell.execute_reply": "2024-05-23T10:22:52.694021Z"
    },
    "papermill": {
     "duration": 0.523601,
     "end_time": "2024-05-23T10:22:52.697733",
     "exception": false,
     "start_time": "2024-05-23T10:22:52.174132",
     "status": "completed"
    },
    "tags": []
   },
   "outputs": [
    {
     "name": "stderr",
     "output_type": "stream",
     "text": [
      "/tmp/ipykernel_18/3086331156.py:3: SettingWithCopyWarning: \n",
      "A value is trying to be set on a copy of a slice from a DataFrame\n",
      "\n",
      "See the caveats in the documentation: https://pandas.pydata.org/pandas-docs/stable/user_guide/indexing.html#returning-a-view-versus-a-copy\n",
      "  data_text['index']=data_text.index\n"
     ]
    },
    {
     "data": {
      "text/plain": [
       "0    dr. goldberg offers everything i look for in a...\n",
       "1    Unfortunately, the frustration of being Dr. Go...\n",
       "2    Been going to Dr. Goldberg for over 10 years. ...\n",
       "3    Got a letter in the mail last week that said D...\n",
       "4    I don't know what Dr. Goldberg was like before...\n",
       "Name: text, dtype: object"
      ]
     },
     "execution_count": 2,
     "metadata": {},
     "output_type": "execute_result"
    }
   ],
   "source": [
    "# I need rewies in a list (no labels required in this part)\n",
    "data_text=dataset_train['text']\n",
    "data_text['index']=data_text.index\n",
    "data_text.head()\n"
   ]
  },
  {
   "cell_type": "code",
   "execution_count": 3,
   "id": "5fb02ab3",
   "metadata": {
    "execution": {
     "iopub.execute_input": "2024-05-23T10:22:52.713585Z",
     "iopub.status.busy": "2024-05-23T10:22:52.712954Z",
     "iopub.status.idle": "2024-05-23T10:22:55.034385Z",
     "shell.execute_reply": "2024-05-23T10:22:55.033129Z"
    },
    "papermill": {
     "duration": 2.33373,
     "end_time": "2024-05-23T10:22:55.038242",
     "exception": false,
     "start_time": "2024-05-23T10:22:52.704512",
     "status": "completed"
    },
    "tags": []
   },
   "outputs": [],
   "source": [
    "import re\n",
    "from nltk.corpus import stopwords\n",
    "from nltk.stem.porter import PorterStemmer"
   ]
  },
  {
   "cell_type": "code",
   "execution_count": 4,
   "id": "dd2f597d",
   "metadata": {
    "execution": {
     "iopub.execute_input": "2024-05-23T10:22:55.055344Z",
     "iopub.status.busy": "2024-05-23T10:22:55.054899Z",
     "iopub.status.idle": "2024-05-23T14:35:51.086240Z",
     "shell.execute_reply": "2024-05-23T14:35:51.084443Z"
    },
    "papermill": {
     "duration": 15176.044591,
     "end_time": "2024-05-23T14:35:51.090116",
     "exception": false,
     "start_time": "2024-05-23T10:22:55.045525",
     "status": "completed"
    },
    "tags": []
   },
   "outputs": [],
   "source": [
    "#Generate corpus for lda, preprocessed and lemmatized\n",
    "#Corpus is the collection of documents used in training, Porterstemmer performs lemmatization\n",
    "corpus=[]\n",
    "for i in range(0,len(data_text)-1):\n",
    "    text=re.sub('[^a-zA-z]',' ',data_text[i])\n",
    "    text=text.lower()\n",
    "    text=text.split()\n",
    "    text=[PorterStemmer().stem(word) for word in text if not word in stopwords.words('english')]\n",
    "    text=' '.join(text)\n",
    "    corpus.append(text)"
   ]
  },
  {
   "cell_type": "code",
   "execution_count": 5,
   "id": "9d8e61dc",
   "metadata": {
    "execution": {
     "iopub.execute_input": "2024-05-23T14:35:51.108533Z",
     "iopub.status.busy": "2024-05-23T14:35:51.108121Z",
     "iopub.status.idle": "2024-05-23T14:35:55.162849Z",
     "shell.execute_reply": "2024-05-23T14:35:55.161909Z"
    },
    "papermill": {
     "duration": 4.067635,
     "end_time": "2024-05-23T14:35:55.165780",
     "exception": false,
     "start_time": "2024-05-23T14:35:51.098145",
     "status": "completed"
    },
    "tags": []
   },
   "outputs": [],
   "source": [
    "#Save corpus, since it is the part which needs more time for being executed. Next time we can directly load the data\n",
    "import json\n",
    "\n",
    "with open(\"corpus.json\", 'w') as f:\n",
    "    # indent=2 is not needed but makes the file human-readable \n",
    "    # if the data is nested\n",
    "    json.dump(corpus, f, indent=2) \n",
    "\n",
    "with open(\"corpus.json\", 'r') as f:\n",
    "    corpus = json.load(f) "
   ]
  },
  {
   "cell_type": "code",
   "execution_count": 6,
   "id": "614170f4",
   "metadata": {
    "execution": {
     "iopub.execute_input": "2024-05-23T14:35:55.182711Z",
     "iopub.status.busy": "2024-05-23T14:35:55.181537Z",
     "iopub.status.idle": "2024-05-23T14:36:05.858084Z",
     "shell.execute_reply": "2024-05-23T14:36:05.857090Z"
    },
    "papermill": {
     "duration": 10.68802,
     "end_time": "2024-05-23T14:36:05.861071",
     "exception": false,
     "start_time": "2024-05-23T14:35:55.173051",
     "status": "completed"
    },
    "tags": []
   },
   "outputs": [],
   "source": [
    "# I need to perform this operation because gensim.Dictionary takes as input array of tokens\n",
    "processed_docs=[]\n",
    "for i in range(0,len(data_text)-1):\n",
    "    text = corpus[i].split()\n",
    "    processed_docs.append(text)\n",
    "    "
   ]
  },
  {
   "cell_type": "code",
   "execution_count": 7,
   "id": "7d7d107b",
   "metadata": {
    "execution": {
     "iopub.execute_input": "2024-05-23T14:36:05.878787Z",
     "iopub.status.busy": "2024-05-23T14:36:05.878376Z",
     "iopub.status.idle": "2024-05-23T14:37:44.005675Z",
     "shell.execute_reply": "2024-05-23T14:37:44.003487Z"
    },
    "papermill": {
     "duration": 98.139817,
     "end_time": "2024-05-23T14:37:44.008768",
     "exception": false,
     "start_time": "2024-05-23T14:36:05.868951",
     "status": "completed"
    },
    "tags": []
   },
   "outputs": [],
   "source": [
    "import gensim\n",
    "dictionary=gensim.corpora.Dictionary(processed_docs)\n"
   ]
  },
  {
   "cell_type": "code",
   "execution_count": 8,
   "id": "7c058db1",
   "metadata": {
    "execution": {
     "iopub.execute_input": "2024-05-23T14:37:44.024547Z",
     "iopub.status.busy": "2024-05-23T14:37:44.023884Z",
     "iopub.status.idle": "2024-05-23T14:37:44.132503Z",
     "shell.execute_reply": "2024-05-23T14:37:44.130809Z"
    },
    "papermill": {
     "duration": 0.119927,
     "end_time": "2024-05-23T14:37:44.135582",
     "exception": false,
     "start_time": "2024-05-23T14:37:44.015655",
     "status": "completed"
    },
    "tags": []
   },
   "outputs": [
    {
     "name": "stdout",
     "output_type": "stream",
     "text": [
      "0 affili\n",
      "1 alway\n",
      "2 blank\n",
      "3 case\n",
      "4 complaint\n",
      "5 dr\n",
      "6 draw\n",
      "7 easi\n",
      "8 everyth\n",
      "9 explain\n",
      "10 first\n",
      "11 gener\n",
      "12 get\n",
      "13 goldberg\n",
      "14 happen\n",
      "15 hospit\n",
      "16 import\n",
      "17 look\n",
      "18 need\n",
      "19 nice\n",
      "20 notch\n"
     ]
    }
   ],
   "source": [
    "count=0\n",
    "for k,v in dictionary.iteritems():\n",
    "    print(k,v)\n",
    "    count+=1\n",
    "    if count>20:\n",
    "        break"
   ]
  },
  {
   "cell_type": "code",
   "execution_count": 9,
   "id": "643b38f7",
   "metadata": {
    "execution": {
     "iopub.execute_input": "2024-05-23T14:37:44.152083Z",
     "iopub.status.busy": "2024-05-23T14:37:44.151609Z",
     "iopub.status.idle": "2024-05-23T14:37:44.798461Z",
     "shell.execute_reply": "2024-05-23T14:37:44.796996Z"
    },
    "papermill": {
     "duration": 0.659231,
     "end_time": "2024-05-23T14:37:44.801995",
     "exception": false,
     "start_time": "2024-05-23T14:37:44.142764",
     "status": "completed"
    },
    "tags": []
   },
   "outputs": [],
   "source": [
    "dictionary.filter_extremes(no_below=15,no_above=0.1,keep_n=1000)"
   ]
  },
  {
   "cell_type": "code",
   "execution_count": 10,
   "id": "460cd0f0",
   "metadata": {
    "execution": {
     "iopub.execute_input": "2024-05-23T14:37:44.820650Z",
     "iopub.status.busy": "2024-05-23T14:37:44.820143Z",
     "iopub.status.idle": "2024-05-23T14:38:19.595813Z",
     "shell.execute_reply": "2024-05-23T14:38:19.593671Z"
    },
    "papermill": {
     "duration": 34.789168,
     "end_time": "2024-05-23T14:38:19.598889",
     "exception": false,
     "start_time": "2024-05-23T14:37:44.809721",
     "status": "completed"
    },
    "tags": []
   },
   "outputs": [],
   "source": [
    "bow_corpus=[dictionary.doc2bow(doc) for doc in processed_docs]"
   ]
  },
  {
   "cell_type": "code",
   "execution_count": 11,
   "id": "ee37fc4d",
   "metadata": {
    "execution": {
     "iopub.execute_input": "2024-05-23T14:38:19.614210Z",
     "iopub.status.busy": "2024-05-23T14:38:19.613794Z",
     "iopub.status.idle": "2024-05-23T14:38:25.257847Z",
     "shell.execute_reply": "2024-05-23T14:38:25.256410Z"
    },
    "papermill": {
     "duration": 5.655709,
     "end_time": "2024-05-23T14:38:25.261454",
     "exception": false,
     "start_time": "2024-05-23T14:38:19.605745",
     "status": "completed"
    },
    "tags": []
   },
   "outputs": [],
   "source": [
    "# Prepare corpus for a tfidf lda (term frequency–inverse document frequency)- More attention\n",
    "#to terms which appear in the document but are less frequent.\n",
    "from gensim import corpora,models\n",
    "tfidf=models.TfidfModel(bow_corpus)"
   ]
  },
  {
   "cell_type": "code",
   "execution_count": 12,
   "id": "f123318a",
   "metadata": {
    "execution": {
     "iopub.execute_input": "2024-05-23T14:38:25.277749Z",
     "iopub.status.busy": "2024-05-23T14:38:25.277318Z",
     "iopub.status.idle": "2024-05-23T14:38:25.283822Z",
     "shell.execute_reply": "2024-05-23T14:38:25.282069Z"
    },
    "papermill": {
     "duration": 0.018091,
     "end_time": "2024-05-23T14:38:25.286876",
     "exception": false,
     "start_time": "2024-05-23T14:38:25.268785",
     "status": "completed"
    },
    "tags": []
   },
   "outputs": [],
   "source": [
    "corpus_tfidf=tfidf[bow_corpus]"
   ]
  },
  {
   "cell_type": "code",
   "execution_count": 13,
   "id": "9a45a0db",
   "metadata": {
    "execution": {
     "iopub.execute_input": "2024-05-23T14:38:25.303233Z",
     "iopub.status.busy": "2024-05-23T14:38:25.302745Z",
     "iopub.status.idle": "2024-05-23T14:47:05.471081Z",
     "shell.execute_reply": "2024-05-23T14:47:05.469797Z"
    },
    "papermill": {
     "duration": 520.181019,
     "end_time": "2024-05-23T14:47:05.474938",
     "exception": false,
     "start_time": "2024-05-23T14:38:25.293919",
     "status": "completed"
    },
    "tags": []
   },
   "outputs": [],
   "source": [
    "lda_model=gensim.models.LdaMulticore(bow_corpus,\n",
    "                                    num_topics=20,\n",
    "                                    id2word=dictionary,\n",
    "                                    passes=2,\n",
    "                                    random_state=11\n",
    "                                    )\n",
    "lda_model.save('lda_model.model')"
   ]
  },
  {
   "cell_type": "code",
   "execution_count": 14,
   "id": "0158aee8",
   "metadata": {
    "execution": {
     "iopub.execute_input": "2024-05-23T14:47:05.495047Z",
     "iopub.status.busy": "2024-05-23T14:47:05.493440Z",
     "iopub.status.idle": "2024-05-23T14:47:05.504835Z",
     "shell.execute_reply": "2024-05-23T14:47:05.503511Z"
    },
    "papermill": {
     "duration": 0.024504,
     "end_time": "2024-05-23T14:47:05.507879",
     "exception": false,
     "start_time": "2024-05-23T14:47:05.483375",
     "status": "completed"
    },
    "tags": []
   },
   "outputs": [
    {
     "name": "stdout",
     "output_type": "stream",
     "text": [
      "Topic: 0 \n",
      "Words: 0.059*\"coffe\" + 0.047*\"breakfast\" + 0.023*\"tea\" + 0.018*\"lunch\" + 0.016*\"cafe\" + 0.016*\"cup\" + 0.016*\"morn\" + 0.016*\"juic\" + 0.015*\"fresh\" + 0.013*\"open\"\n",
      "\n",
      "\n",
      "Topic: 1 \n",
      "Words: 0.020*\"wine\" + 0.019*\"delici\" + 0.017*\"dinner\" + 0.015*\"dish\" + 0.015*\"meal\" + 0.015*\"amaz\" + 0.011*\"excel\" + 0.011*\"dessert\" + 0.011*\"enjoy\" + 0.011*\"appet\"\n",
      "\n",
      "\n",
      "Topic: 2 \n",
      "Words: 0.027*\"show\" + 0.017*\"club\" + 0.013*\"friend\" + 0.012*\"guy\" + 0.012*\"fun\" + 0.012*\"line\" + 0.012*\"girl\" + 0.011*\"music\" + 0.010*\"cool\" + 0.010*\"danc\"\n",
      "\n",
      "\n",
      "Topic: 3 \n",
      "Words: 0.034*\"chees\" + 0.034*\"salad\" + 0.033*\"sauc\" + 0.028*\"meat\" + 0.019*\"chicken\" + 0.017*\"side\" + 0.016*\"flavor\" + 0.014*\"bread\" + 0.014*\"bbq\" + 0.013*\"potato\"\n",
      "\n",
      "\n",
      "Topic: 4 \n",
      "Words: 0.098*\"room\" + 0.050*\"hotel\" + 0.049*\"stay\" + 0.020*\"pool\" + 0.017*\"check\" + 0.017*\"clean\" + 0.015*\"floor\" + 0.014*\"bed\" + 0.013*\"bathroom\" + 0.012*\"strip\"\n",
      "\n",
      "\n",
      "Topic: 5 \n",
      "Words: 0.355*\"e\" + 0.107*\"de\" + 0.092*\"la\" + 0.047*\"f\" + 0.047*\"c\" + 0.043*\"die\" + 0.038*\"pour\" + 0.037*\"n\" + 0.020*\"b\" + 0.019*\"brunch\"\n",
      "\n",
      "\n",
      "Topic: 6 \n",
      "Words: 0.102*\"roll\" + 0.089*\"sushi\" + 0.066*\"fish\" + 0.037*\"crab\" + 0.035*\"shrimp\" + 0.026*\"fresh\" + 0.020*\"tuna\" + 0.017*\"salmon\" + 0.017*\"lobster\" + 0.017*\"chef\"\n",
      "\n",
      "\n",
      "Topic: 7 \n",
      "Words: 0.038*\"beer\" + 0.033*\"locat\" + 0.021*\"park\" + 0.019*\"area\" + 0.012*\"select\" + 0.012*\"open\" + 0.011*\"spot\" + 0.010*\"local\" + 0.009*\"atmospher\" + 0.009*\"new\"\n",
      "\n",
      "\n",
      "Topic: 8 \n",
      "Words: 0.028*\"server\" + 0.020*\"took\" + 0.019*\"waitress\" + 0.017*\"seat\" + 0.012*\"anoth\" + 0.012*\"arriv\" + 0.012*\"waiter\" + 0.012*\"check\" + 0.012*\"manag\" + 0.011*\"told\"\n",
      "\n",
      "\n",
      "Topic: 9 \n",
      "Words: 0.072*\"sandwich\" + 0.046*\"ice\" + 0.037*\"cream\" + 0.030*\"chocol\" + 0.030*\"flavor\" + 0.025*\"cake\" + 0.019*\"sweet\" + 0.014*\"bread\" + 0.013*\"top\" + 0.013*\"dessert\"\n",
      "\n",
      "\n",
      "Topic: 10 \n",
      "Words: 0.038*\"custom\" + 0.018*\"employe\" + 0.018*\"walk\" + 0.015*\"help\" + 0.014*\"line\" + 0.013*\"manag\" + 0.013*\"counter\" + 0.012*\"busi\" + 0.012*\"card\" + 0.011*\"rude\"\n",
      "\n",
      "\n",
      "Topic: 11 \n",
      "Words: 0.105*\"pizza\" + 0.051*\"store\" + 0.037*\"shop\" + 0.018*\"buy\" + 0.018*\"item\" + 0.014*\"find\" + 0.013*\"crust\" + 0.012*\"product\" + 0.010*\"select\" + 0.010*\"new\"\n",
      "\n",
      "\n",
      "Topic: 12 \n",
      "Words: 0.083*\"fri\" + 0.063*\"chicken\" + 0.041*\"egg\" + 0.020*\"bacon\" + 0.018*\"cook\" + 0.017*\"chines\" + 0.012*\"pancak\" + 0.011*\"beef\" + 0.011*\"greasi\" + 0.010*\"brown\"\n",
      "\n",
      "\n",
      "Topic: 13 \n",
      "Words: 0.113*\"burger\" + 0.057*\"taco\" + 0.041*\"fri\" + 0.029*\"chip\" + 0.023*\"salsa\" + 0.020*\"happi\" + 0.018*\"chees\" + 0.016*\"hour\" + 0.016*\"mexican\" + 0.012*\"onion\"\n",
      "\n",
      "\n",
      "Topic: 14 \n",
      "Words: 0.033*\"money\" + 0.030*\"ever\" + 0.022*\"worst\" + 0.017*\"pay\" + 0.016*\"horribl\" + 0.016*\"terribl\" + 0.013*\"worth\" + 0.012*\"charg\" + 0.012*\"wast\" + 0.012*\"els\"\n",
      "\n",
      "\n",
      "Topic: 15 \n",
      "Words: 0.039*\"buffet\" + 0.032*\"\\n\\n\" + 0.030*\"noth\" + 0.022*\"ok\" + 0.021*\"casino\" + 0.021*\"qualiti\" + 0.020*\"expect\" + 0.019*\"averag\" + 0.016*\"special\" + 0.015*\"select\"\n",
      "\n",
      "\n",
      "Topic: 16 \n",
      "Words: 0.098*\"\\n\" + 0.052*\"game\" + 0.041*\"play\" + 0.032*\"watch\" + 0.030*\"music\" + 0.027*\"tv\" + 0.022*\"movi\" + 0.020*\"kid\" + 0.017*\"loud\" + 0.017*\"nail\"\n",
      "\n",
      "\n",
      "Topic: 17 \n",
      "Words: 0.046*\"call\" + 0.024*\"told\" + 0.021*\"car\" + 0.013*\"phone\" + 0.013*\"hour\" + 0.012*\"compani\" + 0.011*\"charg\" + 0.009*\"manag\" + 0.008*\"fix\" + 0.008*\"week\"\n",
      "\n",
      "\n",
      "Topic: 18 \n",
      "Words: 0.032*\"dish\" + 0.028*\"rice\" + 0.024*\"soup\" + 0.024*\"chicken\" + 0.021*\"spici\" + 0.020*\"flavor\" + 0.019*\"noodl\" + 0.018*\"bowl\" + 0.017*\"lunch\" + 0.017*\"thai\"\n",
      "\n",
      "\n",
      "Topic: 19 \n",
      "Words: 0.024*\"year\" + 0.018*\"dog\" + 0.017*\"recommend\" + 0.015*\"new\" + 0.014*\"hair\" + 0.013*\"visit\" + 0.011*\"last\" + 0.011*\"owner\" + 0.011*\"amaz\" + 0.010*\"week\"\n",
      "\n",
      "\n"
     ]
    }
   ],
   "source": [
    "for idx,topic in lda_model.print_topics(-1):\n",
    "    print(\"Topic: {} \\nWords: {}\".format(idx, topic))\n",
    "    print(\"\\n\")"
   ]
  },
  {
   "cell_type": "code",
   "execution_count": 15,
   "id": "e95ea279",
   "metadata": {
    "execution": {
     "iopub.execute_input": "2024-05-23T14:47:05.524401Z",
     "iopub.status.busy": "2024-05-23T14:47:05.523935Z",
     "iopub.status.idle": "2024-05-23T14:54:09.770589Z",
     "shell.execute_reply": "2024-05-23T14:54:09.768732Z"
    },
    "papermill": {
     "duration": 424.264774,
     "end_time": "2024-05-23T14:54:09.779953",
     "exception": false,
     "start_time": "2024-05-23T14:47:05.515179",
     "status": "completed"
    },
    "tags": []
   },
   "outputs": [
    {
     "name": "stdout",
     "output_type": "stream",
     "text": [
      "Topic: 0 Word: 0.035*\"casino\" + 0.025*\"scottsdal\" + 0.019*\"locat\" + 0.013*\"downtown\" + 0.013*\"close\" + 0.009*\"town\" + 0.009*\"street\" + 0.008*\"strip\" + 0.008*\"open\" + 0.007*\"cheap\"\n",
      "\n",
      "\n",
      "Topic: 1 Word: 0.035*\"breakfast\" + 0.022*\"egg\" + 0.017*\"pancak\" + 0.014*\"brunch\" + 0.012*\"bacon\" + 0.012*\"toast\" + 0.012*\"coffe\" + 0.009*\"juic\" + 0.008*\"french\" + 0.008*\"morn\"\n",
      "\n",
      "\n",
      "Topic: 2 Word: 0.020*\"call\" + 0.011*\"phone\" + 0.010*\"told\" + 0.009*\"compani\" + 0.008*\"custom\" + 0.007*\"card\" + 0.007*\"appoint\" + 0.007*\"manag\" + 0.007*\"offic\" + 0.007*\"busi\"\n",
      "\n",
      "\n",
      "Topic: 3 Word: 0.073*\"pizza\" + 0.020*\"wing\" + 0.015*\"crust\" + 0.014*\"dog\" + 0.010*\"slice\" + 0.010*\"chees\" + 0.009*\"pie\" + 0.009*\"sauc\" + 0.008*\"hot\" + 0.007*\"top\"\n",
      "\n",
      "\n",
      "Topic: 4 Word: 0.057*\"e\" + 0.040*\"buffet\" + 0.021*\"de\" + 0.015*\"die\" + 0.012*\"crab\" + 0.011*\"f\" + 0.010*\"la\" + 0.009*\"seafood\" + 0.009*\"averag\" + 0.008*\"dessert\"\n",
      "\n",
      "\n",
      "Topic: 5 Word: 0.013*\"steak\" + 0.013*\"bbq\" + 0.012*\"rib\" + 0.011*\"chees\" + 0.010*\"mac\" + 0.010*\"fri\" + 0.010*\"pork\" + 0.009*\"potato\" + 0.009*\"meat\" + 0.008*\"sauc\"\n",
      "\n",
      "\n",
      "Topic: 6 Word: 0.015*\"wine\" + 0.008*\"pasta\" + 0.008*\"dish\" + 0.007*\"dinner\" + 0.007*\"appet\" + 0.006*\"salad\" + 0.006*\"meal\" + 0.006*\"delici\" + 0.006*\"dessert\" + 0.006*\"entre\"\n",
      "\n",
      "\n",
      "Topic: 7 Word: 0.057*\"sushi\" + 0.033*\"roll\" + 0.013*\"happi\" + 0.013*\"fish\" + 0.011*\"fresh\" + 0.011*\"tuna\" + 0.010*\"hour\" + 0.010*\"chef\" + 0.009*\"salmon\" + 0.006*\"qualiti\"\n",
      "\n",
      "\n",
      "Topic: 8 Word: 0.045*\"taco\" + 0.021*\"mexican\" + 0.021*\"salsa\" + 0.019*\"burrito\" + 0.016*\"chip\" + 0.011*\"bean\" + 0.010*\"margarita\" + 0.009*\"fish\" + 0.009*\"tortilla\" + 0.007*\"chicken\"\n",
      "\n",
      "\n",
      "Topic: 9 Word: 0.021*\"nail\" + 0.017*\"hair\" + 0.015*\"recommend\" + 0.014*\"salon\" + 0.012*\"highli\" + 0.012*\"amaz\" + 0.011*\"job\" + 0.010*\"profession\" + 0.009*\"awesom\" + 0.008*\"clean\"\n",
      "\n",
      "\n",
      "Topic: 10 Word: 0.038*\"burger\" + 0.016*\"ice\" + 0.015*\"coffe\" + 0.013*\"fri\" + 0.012*\"chocol\" + 0.012*\"cream\" + 0.010*\"tea\" + 0.009*\"flavor\" + 0.008*\"cake\" + 0.008*\"sweet\"\n",
      "\n",
      "\n",
      "Topic: 11 Word: 0.042*\"car\" + 0.015*\"wash\" + 0.013*\"drive\" + 0.012*\"fix\" + 0.010*\"tire\" + 0.010*\"replac\" + 0.009*\"guy\" + 0.009*\"chang\" + 0.008*\"oil\" + 0.008*\"new\"\n",
      "\n",
      "\n",
      "Topic: 12 Word: 0.017*\"chicken\" + 0.015*\"noodl\" + 0.015*\"thai\" + 0.015*\"rice\" + 0.012*\"soup\" + 0.012*\"dish\" + 0.011*\"curri\" + 0.010*\"spici\" + 0.009*\"sauc\" + 0.008*\"beef\"\n",
      "\n",
      "\n",
      "Topic: 13 Word: 0.036*\"sandwich\" + 0.017*\"salad\" + 0.012*\"lunch\" + 0.010*\"bread\" + 0.010*\"chicken\" + 0.009*\"sub\" + 0.009*\"healthi\" + 0.008*\"fresh\" + 0.008*\"turkey\" + 0.007*\"wrap\"\n",
      "\n",
      "\n",
      "Topic: 14 Word: 0.019*\"beer\" + 0.014*\"music\" + 0.013*\"club\" + 0.011*\"game\" + 0.010*\"fun\" + 0.009*\"danc\" + 0.009*\"play\" + 0.009*\"bartend\" + 0.008*\"crowd\" + 0.006*\"cool\"\n",
      "\n",
      "\n",
      "Topic: 15 Word: 0.031*\"store\" + 0.018*\"shop\" + 0.010*\"select\" + 0.009*\"buy\" + 0.009*\"item\" + 0.009*\"help\" + 0.009*\"product\" + 0.008*\"cloth\" + 0.008*\"find\" + 0.008*\"sale\"\n",
      "\n",
      "\n",
      "Topic: 16 Word: 0.036*\"room\" + 0.028*\"hotel\" + 0.021*\"stay\" + 0.014*\"pool\" + 0.011*\"bed\" + 0.010*\"clean\" + 0.008*\"bathroom\" + 0.008*\"desk\" + 0.007*\"check\" + 0.007*\"strip\"\n",
      "\n",
      "\n",
      "Topic: 17 Word: 0.013*\"server\" + 0.011*\"waitress\" + 0.009*\"took\" + 0.008*\"seat\" + 0.008*\"waiter\" + 0.007*\"hostess\" + 0.007*\"min\" + 0.007*\"manag\" + 0.007*\"sat\" + 0.006*\"anoth\"\n",
      "\n",
      "\n",
      "Topic: 18 Word: 0.015*\"custom\" + 0.014*\"rude\" + 0.012*\"horribl\" + 0.011*\"worst\" + 0.010*\"employe\" + 0.009*\"terribl\" + 0.009*\"manag\" + 0.009*\"ever\" + 0.007*\"money\" + 0.007*\"attitud\"\n",
      "\n",
      "\n",
      "Topic: 19 Word: 0.024*\"show\" + 0.014*\"park\" + 0.012*\"ticket\" + 0.011*\"movi\" + 0.008*\"airport\" + 0.008*\"seat\" + 0.007*\"kid\" + 0.007*\"ride\" + 0.007*\"event\" + 0.007*\"line\"\n",
      "\n",
      "\n"
     ]
    }
   ],
   "source": [
    "# lda with tfidf\n",
    "lda_model_tfidf = gensim.models.LdaMulticore(corpus_tfidf, \n",
    "                                             num_topics=20, \n",
    "                                             id2word = dictionary, \n",
    "                                             passes = 2, \n",
    "                                             workers=4)\n",
    "for idx, topic in lda_model_tfidf.print_topics(-1):\n",
    "    print(\"Topic: {} Word: {}\".format(idx, topic))\n",
    "    print(\"\\n\")\n",
    "    \n",
    "    "
   ]
  },
  {
   "cell_type": "code",
   "execution_count": 16,
   "id": "1577637a",
   "metadata": {
    "execution": {
     "iopub.execute_input": "2024-05-23T14:54:09.797030Z",
     "iopub.status.busy": "2024-05-23T14:54:09.796471Z",
     "iopub.status.idle": "2024-05-23T14:54:09.812758Z",
     "shell.execute_reply": "2024-05-23T14:54:09.811471Z"
    },
    "papermill": {
     "duration": 0.028732,
     "end_time": "2024-05-23T14:54:09.815734",
     "exception": false,
     "start_time": "2024-05-23T14:54:09.787002",
     "status": "completed"
    },
    "tags": []
   },
   "outputs": [
    {
     "name": "stdout",
     "output_type": "stream",
     "text": [
      "This place is absolute garbage...  Half of the tees are not available, including all the grass tees.  It is cash only, and they sell the last bucket at 8, despite having lights.  And if you finish even a minute after 8, don't plan on getting a drink.  The vending machines are sold out (of course) and they sell drinks inside, but close the drawers at 8 on the dot.  There are weeds grown all over the place.  I noticed some sort of batting cage, but it looks like those are out of order as well.  Someone should buy this place and turn it into what it should be.\n",
      "\n",
      "Score: 0.42214149236679077\t \n",
      "Topic: 0.038*\"custom\" + 0.018*\"employe\" + 0.018*\"walk\" + 0.015*\"help\" + 0.014*\"line\" + 0.013*\"manag\" + 0.013*\"counter\" + 0.012*\"busi\" + 0.012*\"card\" + 0.011*\"rude\"\n",
      "\n",
      "Score: 0.27001717686653137\t \n",
      "Topic: 0.105*\"pizza\" + 0.051*\"store\" + 0.037*\"shop\" + 0.018*\"buy\" + 0.018*\"item\" + 0.014*\"find\" + 0.013*\"crust\" + 0.012*\"product\" + 0.010*\"select\" + 0.010*\"new\"\n",
      "\n",
      "Score: 0.21490934491157532\t \n",
      "Topic: 0.020*\"wine\" + 0.019*\"delici\" + 0.017*\"dinner\" + 0.015*\"dish\" + 0.015*\"meal\" + 0.015*\"amaz\" + 0.011*\"excel\" + 0.011*\"dessert\" + 0.011*\"enjoy\" + 0.011*\"appet\"\n",
      "\n",
      "Score: 0.056564487516880035\t \n",
      "Topic: 0.098*\"\\n\" + 0.052*\"game\" + 0.041*\"play\" + 0.032*\"watch\" + 0.030*\"music\" + 0.027*\"tv\" + 0.022*\"movi\" + 0.020*\"kid\" + 0.017*\"loud\" + 0.017*\"nail\"\n"
     ]
    }
   ],
   "source": [
    "print(dataset_train['text'][11])\n",
    "for index, score in sorted(lda_model[bow_corpus[11]], key=lambda tup: -1*tup[1]):\n",
    "    print(\"\\nScore: {}\\t \\nTopic: {}\".format(score, lda_model.print_topic(index, 10)))"
   ]
  }
 ],
 "metadata": {
  "kaggle": {
   "accelerator": "none",
   "dataSources": [
    {
     "datasetId": 4950712,
     "sourceId": 8336018,
     "sourceType": "datasetVersion"
    },
    {
     "sourceId": 178910114,
     "sourceType": "kernelVersion"
    }
   ],
   "dockerImageVersionId": 30698,
   "isGpuEnabled": false,
   "isInternetEnabled": true,
   "language": "python",
   "sourceType": "notebook"
  },
  "kernelspec": {
   "display_name": "Python 3",
   "language": "python",
   "name": "python3"
  },
  "language_info": {
   "codemirror_mode": {
    "name": "ipython",
    "version": 3
   },
   "file_extension": ".py",
   "mimetype": "text/x-python",
   "name": "python",
   "nbconvert_exporter": "python",
   "pygments_lexer": "ipython3",
   "version": "3.10.13"
  },
  "papermill": {
   "default_parameters": {},
   "duration": 16295.271552,
   "end_time": "2024-05-23T14:54:13.009815",
   "environment_variables": {},
   "exception": null,
   "input_path": "__notebook__.ipynb",
   "output_path": "__notebook__.ipynb",
   "parameters": {},
   "start_time": "2024-05-23T10:22:37.738263",
   "version": "2.5.0"
  }
 },
 "nbformat": 4,
 "nbformat_minor": 5
}
