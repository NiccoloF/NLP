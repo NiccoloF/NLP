{
 "cells": [
  {
   "cell_type": "code",
   "execution_count": 1,
   "id": "45d64a70",
   "metadata": {
    "_cell_guid": "b1076dfc-b9ad-4769-8c92-a6c4dae69d19",
    "_uuid": "8f2839f25d086af736a60e9eeb907d3b93b6e0e5",
    "execution": {
     "iopub.execute_input": "2024-05-21T09:29:34.392808Z",
     "iopub.status.busy": "2024-05-21T09:29:34.392226Z",
     "iopub.status.idle": "2024-05-21T09:29:45.304768Z",
     "shell.execute_reply": "2024-05-21T09:29:45.303554Z"
    },
    "papermill": {
     "duration": 10.925559,
     "end_time": "2024-05-21T09:29:45.307899",
     "exception": false,
     "start_time": "2024-05-21T09:29:34.382340",
     "status": "completed"
    },
    "tags": []
   },
   "outputs": [],
   "source": [
    "import pandas as pd\n",
    "\n",
    "dataset_train=pd.read_csv('/kaggle/input/yelp-csv/train.csv')"
   ]
  },
  {
   "cell_type": "code",
   "execution_count": 2,
   "id": "7142af7a",
   "metadata": {
    "execution": {
     "iopub.execute_input": "2024-05-21T09:29:45.323870Z",
     "iopub.status.busy": "2024-05-21T09:29:45.323438Z",
     "iopub.status.idle": "2024-05-21T09:29:45.844251Z",
     "shell.execute_reply": "2024-05-21T09:29:45.843069Z"
    },
    "papermill": {
     "duration": 0.531947,
     "end_time": "2024-05-21T09:29:45.847085",
     "exception": false,
     "start_time": "2024-05-21T09:29:45.315138",
     "status": "completed"
    },
    "tags": []
   },
   "outputs": [
    {
     "name": "stderr",
     "output_type": "stream",
     "text": [
      "/tmp/ipykernel_18/2921778390.py:2: SettingWithCopyWarning: \n",
      "A value is trying to be set on a copy of a slice from a DataFrame\n",
      "\n",
      "See the caveats in the documentation: https://pandas.pydata.org/pandas-docs/stable/user_guide/indexing.html#returning-a-view-versus-a-copy\n",
      "  data_text['index']=data_text.index\n"
     ]
    },
    {
     "data": {
      "text/plain": [
       "0    dr. goldberg offers everything i look for in a...\n",
       "1    Unfortunately, the frustration of being Dr. Go...\n",
       "2    Been going to Dr. Goldberg for over 10 years. ...\n",
       "3    Got a letter in the mail last week that said D...\n",
       "4    I don't know what Dr. Goldberg was like before...\n",
       "Name: text, dtype: object"
      ]
     },
     "execution_count": 2,
     "metadata": {},
     "output_type": "execute_result"
    }
   ],
   "source": [
    "data_text=dataset_train['text']\n",
    "data_text['index']=data_text.index\n",
    "data_text.head()\n"
   ]
  },
  {
   "cell_type": "code",
   "execution_count": 3,
   "id": "e869757a",
   "metadata": {
    "execution": {
     "iopub.execute_input": "2024-05-21T09:29:45.863826Z",
     "iopub.status.busy": "2024-05-21T09:29:45.863410Z",
     "iopub.status.idle": "2024-05-21T09:29:48.186832Z",
     "shell.execute_reply": "2024-05-21T09:29:48.185571Z"
    },
    "papermill": {
     "duration": 2.335699,
     "end_time": "2024-05-21T09:29:48.190552",
     "exception": false,
     "start_time": "2024-05-21T09:29:45.854853",
     "status": "completed"
    },
    "tags": []
   },
   "outputs": [],
   "source": [
    "import re\n",
    "from nltk.corpus import stopwords\n",
    "from nltk.stem.porter import PorterStemmer"
   ]
  },
  {
   "cell_type": "code",
   "execution_count": 4,
   "id": "1bab05d2",
   "metadata": {
    "execution": {
     "iopub.execute_input": "2024-05-21T09:29:48.208235Z",
     "iopub.status.busy": "2024-05-21T09:29:48.207716Z",
     "iopub.status.idle": "2024-05-21T13:51:09.316639Z",
     "shell.execute_reply": "2024-05-21T13:51:09.314319Z"
    },
    "papermill": {
     "duration": 15681.123611,
     "end_time": "2024-05-21T13:51:09.321228",
     "exception": false,
     "start_time": "2024-05-21T09:29:48.197617",
     "status": "completed"
    },
    "tags": []
   },
   "outputs": [],
   "source": [
    "#Generate corpus for lda, preprocessed and lemmatized\n",
    "corpus=[]\n",
    "for i in range(0,len(data_text)-1):\n",
    "    text=re.sub('[^a-zA-z]',' ',data_text[i])\n",
    "    text=text.lower()\n",
    "    text=text.split()\n",
    "    text=[PorterStemmer().stem(word) for word in text if not word in stopwords.words('english')]\n",
    "    text=' '.join(text)\n",
    "    corpus.append(text)"
   ]
  },
  {
   "cell_type": "code",
   "execution_count": 5,
   "id": "0bc2d978",
   "metadata": {
    "execution": {
     "iopub.execute_input": "2024-05-21T13:51:09.340590Z",
     "iopub.status.busy": "2024-05-21T13:51:09.340086Z",
     "iopub.status.idle": "2024-05-21T13:51:13.690552Z",
     "shell.execute_reply": "2024-05-21T13:51:13.689242Z"
    },
    "papermill": {
     "duration": 4.363938,
     "end_time": "2024-05-21T13:51:13.693679",
     "exception": false,
     "start_time": "2024-05-21T13:51:09.329741",
     "status": "completed"
    },
    "tags": []
   },
   "outputs": [],
   "source": [
    "#Save corpus, since it is the part which needs more time for being executed. Next time we can directly load the data\n",
    "import json\n",
    "\n",
    "with open(\"corpus.json\", 'w') as f:\n",
    "    # indent=2 is not needed but makes the file human-readable \n",
    "    # if the data is nested\n",
    "    json.dump(corpus, f, indent=2) \n",
    "\n",
    "with open(\"corpus.json\", 'r') as f:\n",
    "    corpus = json.load(f) "
   ]
  },
  {
   "cell_type": "code",
   "execution_count": 6,
   "id": "ce5fcdfd",
   "metadata": {
    "execution": {
     "iopub.execute_input": "2024-05-21T13:51:13.710766Z",
     "iopub.status.busy": "2024-05-21T13:51:13.710307Z",
     "iopub.status.idle": "2024-05-21T13:51:23.775969Z",
     "shell.execute_reply": "2024-05-21T13:51:23.774828Z"
    },
    "papermill": {
     "duration": 10.077406,
     "end_time": "2024-05-21T13:51:23.778940",
     "exception": false,
     "start_time": "2024-05-21T13:51:13.701534",
     "status": "completed"
    },
    "tags": []
   },
   "outputs": [],
   "source": [
    "new_data_text=data_text\n",
    "for i in range(0,len(corpus)-1):\n",
    "    new_data_text[i]=corpus[i]"
   ]
  },
  {
   "cell_type": "code",
   "execution_count": 7,
   "id": "72bd5084",
   "metadata": {
    "execution": {
     "iopub.execute_input": "2024-05-21T13:51:23.795715Z",
     "iopub.status.busy": "2024-05-21T13:51:23.795319Z",
     "iopub.status.idle": "2024-05-21T13:51:23.806418Z",
     "shell.execute_reply": "2024-05-21T13:51:23.805262Z"
    },
    "papermill": {
     "duration": 0.022353,
     "end_time": "2024-05-21T13:51:23.809195",
     "exception": false,
     "start_time": "2024-05-21T13:51:23.786842",
     "status": "completed"
    },
    "tags": []
   },
   "outputs": [
    {
     "data": {
      "text/plain": [
       "0    dr goldberg offer everyth look gener practitio...\n",
       "1    unfortun frustrat dr goldberg patient repeat e...\n",
       "2    go dr goldberg year think one st patient start...\n",
       "3    got letter mail last week said dr goldberg mov...\n",
       "4    know dr goldberg like move arizona let tell st...\n",
       "Name: text, dtype: object"
      ]
     },
     "execution_count": 7,
     "metadata": {},
     "output_type": "execute_result"
    }
   ],
   "source": [
    "new_data_text.head()"
   ]
  },
  {
   "cell_type": "code",
   "execution_count": 8,
   "id": "5710a854",
   "metadata": {
    "execution": {
     "iopub.execute_input": "2024-05-21T13:51:23.825684Z",
     "iopub.status.busy": "2024-05-21T13:51:23.825278Z",
     "iopub.status.idle": "2024-05-21T13:51:38.883330Z",
     "shell.execute_reply": "2024-05-21T13:51:38.882037Z"
    },
    "papermill": {
     "duration": 15.069774,
     "end_time": "2024-05-21T13:51:38.886364",
     "exception": false,
     "start_time": "2024-05-21T13:51:23.816590",
     "status": "completed"
    },
    "tags": []
   },
   "outputs": [],
   "source": [
    "processed_docs=[]\n",
    "for i in range(0,len(data_text)-1):\n",
    "    text = data_text[i].split()\n",
    "    processed_docs.append(text)\n",
    "    "
   ]
  },
  {
   "cell_type": "code",
   "execution_count": 9,
   "id": "4d838b33",
   "metadata": {
    "execution": {
     "iopub.execute_input": "2024-05-21T13:51:38.904583Z",
     "iopub.status.busy": "2024-05-21T13:51:38.904136Z",
     "iopub.status.idle": "2024-05-21T13:53:19.501170Z",
     "shell.execute_reply": "2024-05-21T13:53:19.499991Z"
    },
    "papermill": {
     "duration": 100.608709,
     "end_time": "2024-05-21T13:53:19.504087",
     "exception": false,
     "start_time": "2024-05-21T13:51:38.895378",
     "status": "completed"
    },
    "tags": []
   },
   "outputs": [],
   "source": [
    "import gensim\n",
    "dictionary=gensim.corpora.Dictionary(processed_docs)\n"
   ]
  },
  {
   "cell_type": "code",
   "execution_count": 10,
   "id": "607ba374",
   "metadata": {
    "execution": {
     "iopub.execute_input": "2024-05-21T13:53:19.522733Z",
     "iopub.status.busy": "2024-05-21T13:53:19.521989Z",
     "iopub.status.idle": "2024-05-21T13:53:19.626838Z",
     "shell.execute_reply": "2024-05-21T13:53:19.625492Z"
    },
    "papermill": {
     "duration": 0.117774,
     "end_time": "2024-05-21T13:53:19.629860",
     "exception": false,
     "start_time": "2024-05-21T13:53:19.512086",
     "status": "completed"
    },
    "tags": []
   },
   "outputs": [
    {
     "name": "stdout",
     "output_type": "stream",
     "text": [
      "0 affili\n",
      "1 alway\n",
      "2 blank\n",
      "3 case\n",
      "4 complaint\n",
      "5 dr\n",
      "6 draw\n",
      "7 easi\n",
      "8 everyth\n",
      "9 explain\n",
      "10 first\n",
      "11 gener\n",
      "12 get\n",
      "13 goldberg\n",
      "14 happen\n",
      "15 hospit\n",
      "16 import\n",
      "17 look\n",
      "18 need\n",
      "19 nice\n",
      "20 notch\n"
     ]
    }
   ],
   "source": [
    "count=0\n",
    "for k,v in dictionary.iteritems():\n",
    "    print(k,v)\n",
    "    count+=1\n",
    "    if count>20:\n",
    "        break"
   ]
  },
  {
   "cell_type": "code",
   "execution_count": 11,
   "id": "f48426d5",
   "metadata": {
    "execution": {
     "iopub.execute_input": "2024-05-21T13:53:19.646633Z",
     "iopub.status.busy": "2024-05-21T13:53:19.646178Z",
     "iopub.status.idle": "2024-05-21T13:53:20.179991Z",
     "shell.execute_reply": "2024-05-21T13:53:20.178737Z"
    },
    "papermill": {
     "duration": 0.545678,
     "end_time": "2024-05-21T13:53:20.183009",
     "exception": false,
     "start_time": "2024-05-21T13:53:19.637331",
     "status": "completed"
    },
    "tags": []
   },
   "outputs": [],
   "source": [
    "dictionary.filter_extremes(no_below=15,no_above=0.1,keep_n=1000)"
   ]
  },
  {
   "cell_type": "code",
   "execution_count": 12,
   "id": "bc1b7def",
   "metadata": {
    "execution": {
     "iopub.execute_input": "2024-05-21T13:53:20.199974Z",
     "iopub.status.busy": "2024-05-21T13:53:20.199560Z",
     "iopub.status.idle": "2024-05-21T13:53:55.335405Z",
     "shell.execute_reply": "2024-05-21T13:53:55.333876Z"
    },
    "papermill": {
     "duration": 35.148043,
     "end_time": "2024-05-21T13:53:55.338742",
     "exception": false,
     "start_time": "2024-05-21T13:53:20.190699",
     "status": "completed"
    },
    "tags": []
   },
   "outputs": [],
   "source": [
    "bow_corpus=[dictionary.doc2bow(doc) for doc in processed_docs]"
   ]
  },
  {
   "cell_type": "code",
   "execution_count": 13,
   "id": "3d8203ad",
   "metadata": {
    "execution": {
     "iopub.execute_input": "2024-05-21T13:53:55.355896Z",
     "iopub.status.busy": "2024-05-21T13:53:55.355267Z",
     "iopub.status.idle": "2024-05-21T13:54:00.881521Z",
     "shell.execute_reply": "2024-05-21T13:54:00.880366Z"
    },
    "papermill": {
     "duration": 5.53808,
     "end_time": "2024-05-21T13:54:00.884394",
     "exception": false,
     "start_time": "2024-05-21T13:53:55.346314",
     "status": "completed"
    },
    "tags": []
   },
   "outputs": [],
   "source": [
    "# Prepare corpus for a tfidf lda (term frequency–inverse document frequency)- More attention\n",
    "#to terms which appear in the document but are less frequent.\n",
    "from gensim import corpora,models\n",
    "tfidf=models.TfidfModel(bow_corpus)"
   ]
  },
  {
   "cell_type": "code",
   "execution_count": 14,
   "id": "687e16d3",
   "metadata": {
    "execution": {
     "iopub.execute_input": "2024-05-21T13:54:00.902083Z",
     "iopub.status.busy": "2024-05-21T13:54:00.901672Z",
     "iopub.status.idle": "2024-05-21T13:54:00.907255Z",
     "shell.execute_reply": "2024-05-21T13:54:00.905900Z"
    },
    "papermill": {
     "duration": 0.017557,
     "end_time": "2024-05-21T13:54:00.909839",
     "exception": false,
     "start_time": "2024-05-21T13:54:00.892282",
     "status": "completed"
    },
    "tags": []
   },
   "outputs": [],
   "source": [
    "corpus_tfidf=tfidf[bow_corpus]"
   ]
  },
  {
   "cell_type": "code",
   "execution_count": 15,
   "id": "f5f61b23",
   "metadata": {
    "execution": {
     "iopub.execute_input": "2024-05-21T13:54:00.926963Z",
     "iopub.status.busy": "2024-05-21T13:54:00.926439Z",
     "iopub.status.idle": "2024-05-21T14:02:35.481143Z",
     "shell.execute_reply": "2024-05-21T14:02:35.479540Z"
    },
    "papermill": {
     "duration": 514.567525,
     "end_time": "2024-05-21T14:02:35.484775",
     "exception": false,
     "start_time": "2024-05-21T13:54:00.917250",
     "status": "completed"
    },
    "tags": []
   },
   "outputs": [],
   "source": [
    "lda_model=gensim.models.LdaMulticore(bow_corpus,\n",
    "                                    num_topics=20,\n",
    "                                    id2word=dictionary,\n",
    "                                    passes=2,\n",
    "                                    random_state=11\n",
    "                                    )\n",
    "lda_model.save('lda_model.model')"
   ]
  },
  {
   "cell_type": "code",
   "execution_count": 16,
   "id": "de3ce3d6",
   "metadata": {
    "execution": {
     "iopub.execute_input": "2024-05-21T14:02:35.502412Z",
     "iopub.status.busy": "2024-05-21T14:02:35.501938Z",
     "iopub.status.idle": "2024-05-21T14:02:35.512376Z",
     "shell.execute_reply": "2024-05-21T14:02:35.511054Z"
    },
    "papermill": {
     "duration": 0.022195,
     "end_time": "2024-05-21T14:02:35.514875",
     "exception": false,
     "start_time": "2024-05-21T14:02:35.492680",
     "status": "completed"
    },
    "tags": []
   },
   "outputs": [
    {
     "name": "stdout",
     "output_type": "stream",
     "text": [
      "Topic: 0 \n",
      "Words: 0.059*\"coffe\" + 0.029*\"tea\" + 0.027*\"lunch\" + 0.025*\"breakfast\" + 0.020*\"fresh\" + 0.017*\"cup\" + 0.016*\"cafe\" + 0.015*\"juic\" + 0.014*\"morn\" + 0.014*\"quick\"\n",
      "\n",
      "\n",
      "Topic: 1 \n",
      "Words: 0.019*\"wine\" + 0.019*\"delici\" + 0.016*\"dinner\" + 0.016*\"dish\" + 0.014*\"amaz\" + 0.014*\"meal\" + 0.011*\"enjoy\" + 0.011*\"appet\" + 0.011*\"dessert\" + 0.010*\"excel\"\n",
      "\n",
      "\n",
      "Topic: 2 \n",
      "Words: 0.026*\"show\" + 0.018*\"music\" + 0.017*\"club\" + 0.014*\"fun\" + 0.013*\"friend\" + 0.011*\"guy\" + 0.011*\"cool\" + 0.010*\"girl\" + 0.010*\"line\" + 0.009*\"danc\"\n",
      "\n",
      "\n",
      "Topic: 3 \n",
      "Words: 0.036*\"chees\" + 0.031*\"salad\" + 0.031*\"sauc\" + 0.026*\"chicken\" + 0.025*\"meat\" + 0.016*\"side\" + 0.015*\"flavor\" + 0.015*\"fri\" + 0.014*\"bread\" + 0.012*\"onion\"\n",
      "\n",
      "\n",
      "Topic: 4 \n",
      "Words: 0.098*\"room\" + 0.049*\"hotel\" + 0.048*\"stay\" + 0.020*\"pool\" + 0.017*\"check\" + 0.017*\"clean\" + 0.014*\"floor\" + 0.014*\"bed\" + 0.013*\"bathroom\" + 0.012*\"strip\"\n",
      "\n",
      "\n",
      "Topic: 5 \n",
      "Words: 0.310*\"e\" + 0.093*\"de\" + 0.077*\"steak\" + 0.073*\"la\" + 0.038*\"f\" + 0.037*\"c\" + 0.035*\"die\" + 0.033*\"n\" + 0.032*\"pour\" + 0.026*\"lobster\"\n",
      "\n",
      "\n",
      "Topic: 6 \n",
      "Words: 0.151*\"burger\" + 0.059*\"roll\" + 0.058*\"sushi\" + 0.042*\"fri\" + 0.025*\"fish\" + 0.015*\"bun\" + 0.014*\"fresh\" + 0.013*\"crab\" + 0.012*\"tuna\" + 0.009*\"salmon\"\n",
      "\n",
      "\n",
      "Topic: 7 \n",
      "Words: 0.042*\"beer\" + 0.033*\"locat\" + 0.020*\"park\" + 0.019*\"area\" + 0.012*\"select\" + 0.012*\"open\" + 0.010*\"spot\" + 0.010*\"local\" + 0.009*\"atmospher\" + 0.009*\"new\"\n",
      "\n",
      "\n",
      "Topic: 8 \n",
      "Words: 0.028*\"server\" + 0.020*\"took\" + 0.019*\"waitress\" + 0.017*\"seat\" + 0.012*\"anoth\" + 0.012*\"arriv\" + 0.012*\"waiter\" + 0.012*\"manag\" + 0.012*\"check\" + 0.011*\"told\"\n",
      "\n",
      "\n",
      "Topic: 9 \n",
      "Words: 0.067*\"sandwich\" + 0.047*\"ice\" + 0.040*\"cream\" + 0.033*\"flavor\" + 0.033*\"chocol\" + 0.026*\"cake\" + 0.019*\"sweet\" + 0.014*\"dessert\" + 0.014*\"top\" + 0.013*\"cooki\"\n",
      "\n",
      "\n",
      "Topic: 10 \n",
      "Words: 0.036*\"custom\" + 0.018*\"walk\" + 0.018*\"employe\" + 0.015*\"line\" + 0.015*\"help\" + 0.012*\"counter\" + 0.012*\"manag\" + 0.012*\"busi\" + 0.011*\"guy\" + 0.011*\"rude\"\n",
      "\n",
      "\n",
      "Topic: 11 \n",
      "Words: 0.104*\"pizza\" + 0.051*\"store\" + 0.037*\"shop\" + 0.018*\"buy\" + 0.018*\"item\" + 0.014*\"find\" + 0.012*\"crust\" + 0.012*\"product\" + 0.010*\"new\" + 0.010*\"select\"\n",
      "\n",
      "\n",
      "Topic: 12 \n",
      "Words: 0.089*\"fri\" + 0.066*\"egg\" + 0.037*\"bacon\" + 0.034*\"breakfast\" + 0.026*\"french\" + 0.023*\"pancak\" + 0.023*\"toast\" + 0.023*\"potato\" + 0.016*\"cook\" + 0.015*\"chicken\"\n",
      "\n",
      "\n",
      "Topic: 13 \n",
      "Words: 0.092*\"taco\" + 0.048*\"chip\" + 0.038*\"happi\" + 0.037*\"salsa\" + 0.036*\"mexican\" + 0.031*\"hour\" + 0.030*\"burrito\" + 0.022*\"bean\" + 0.017*\"fish\" + 0.017*\"margarita\"\n",
      "\n",
      "\n",
      "Topic: 14 \n",
      "Words: 0.032*\"money\" + 0.028*\"ever\" + 0.020*\"worst\" + 0.016*\"pay\" + 0.015*\"horribl\" + 0.015*\"terribl\" + 0.013*\"worth\" + 0.011*\"wast\" + 0.011*\"els\" + 0.011*\"charg\"\n",
      "\n",
      "\n",
      "Topic: 15 \n",
      "Words: 0.038*\"buffet\" + 0.030*\"\\n\\n\" + 0.030*\"noth\" + 0.023*\"ok\" + 0.021*\"casino\" + 0.020*\"qualiti\" + 0.019*\"expect\" + 0.019*\"averag\" + 0.015*\"special\" + 0.015*\"select\"\n",
      "\n",
      "\n",
      "Topic: 16 \n",
      "Words: 0.113*\"\\n\" + 0.060*\"game\" + 0.049*\"nail\" + 0.035*\"watch\" + 0.034*\"play\" + 0.031*\"tv\" + 0.025*\"movi\" + 0.022*\"kid\" + 0.020*\"\\n\\n\" + 0.019*\"sport\"\n",
      "\n",
      "\n",
      "Topic: 17 \n",
      "Words: 0.046*\"call\" + 0.024*\"told\" + 0.021*\"car\" + 0.013*\"phone\" + 0.012*\"hour\" + 0.012*\"compani\" + 0.011*\"charg\" + 0.010*\"manag\" + 0.008*\"fix\" + 0.008*\"week\"\n",
      "\n",
      "\n",
      "Topic: 18 \n",
      "Words: 0.039*\"chicken\" + 0.031*\"dish\" + 0.030*\"rice\" + 0.026*\"soup\" + 0.019*\"noodl\" + 0.018*\"spici\" + 0.017*\"bowl\" + 0.017*\"flavor\" + 0.016*\"thai\" + 0.016*\"sauc\"\n",
      "\n",
      "\n",
      "Topic: 19 \n",
      "Words: 0.024*\"year\" + 0.019*\"dog\" + 0.018*\"recommend\" + 0.015*\"new\" + 0.014*\"hair\" + 0.013*\"visit\" + 0.011*\"owner\" + 0.011*\"amaz\" + 0.011*\"last\" + 0.010*\"week\"\n",
      "\n",
      "\n"
     ]
    }
   ],
   "source": [
    "for idx,topic in lda_model.print_topics(-1):\n",
    "    print(\"Topic: {} \\nWords: {}\".format(idx, topic))\n",
    "    print(\"\\n\")"
   ]
  },
  {
   "cell_type": "code",
   "execution_count": 17,
   "id": "b4d44dce",
   "metadata": {
    "execution": {
     "iopub.execute_input": "2024-05-21T14:02:35.533051Z",
     "iopub.status.busy": "2024-05-21T14:02:35.532631Z",
     "iopub.status.idle": "2024-05-21T14:09:33.222229Z",
     "shell.execute_reply": "2024-05-21T14:09:33.221025Z"
    },
    "papermill": {
     "duration": 417.710105,
     "end_time": "2024-05-21T14:09:33.233256",
     "exception": false,
     "start_time": "2024-05-21T14:02:35.523151",
     "status": "completed"
    },
    "tags": []
   },
   "outputs": [
    {
     "name": "stdout",
     "output_type": "stream",
     "text": [
      "Topic: 0 Word: 0.017*\"show\" + 0.017*\"music\" + 0.016*\"club\" + 0.013*\"danc\" + 0.009*\"fun\" + 0.009*\"bartend\" + 0.008*\"crowd\" + 0.007*\"play\" + 0.007*\"girl\" + 0.006*\"loud\"\n",
      "\n",
      "\n",
      "Topic: 1 Word: 0.045*\"taco\" + 0.034*\"e\" + 0.021*\"salsa\" + 0.021*\"mexican\" + 0.020*\"burrito\" + 0.015*\"chip\" + 0.014*\"de\" + 0.010*\"bean\" + 0.010*\"margarita\" + 0.009*\"die\"\n",
      "\n",
      "\n",
      "Topic: 2 Word: 0.013*\"wine\" + 0.009*\"salad\" + 0.008*\"dish\" + 0.007*\"pasta\" + 0.007*\"steak\" + 0.007*\"appet\" + 0.007*\"dinner\" + 0.006*\"meal\" + 0.006*\"entre\" + 0.005*\"bread\"\n",
      "\n",
      "\n",
      "Topic: 3 Word: 0.015*\"chocol\" + 0.012*\"cream\" + 0.012*\"cake\" + 0.011*\"egg\" + 0.010*\"ice\" + 0.009*\"pancak\" + 0.009*\"flavor\" + 0.009*\"breakfast\" + 0.008*\"bacon\" + 0.008*\"chees\"\n",
      "\n",
      "\n",
      "Topic: 4 Word: 0.032*\"sandwich\" + 0.010*\"salad\" + 0.010*\"sub\" + 0.009*\"chicken\" + 0.009*\"bread\" + 0.008*\"terribl\" + 0.007*\"turkey\" + 0.007*\"meat\" + 0.007*\"worst\" + 0.007*\"horribl\"\n",
      "\n",
      "\n",
      "Topic: 5 Word: 0.059*\"sushi\" + 0.035*\"roll\" + 0.016*\"fish\" + 0.012*\"tuna\" + 0.011*\"happi\" + 0.011*\"chef\" + 0.010*\"fresh\" + 0.009*\"salmon\" + 0.008*\"hour\" + 0.006*\"rice\"\n",
      "\n",
      "\n",
      "Topic: 6 Word: 0.037*\"room\" + 0.029*\"hotel\" + 0.022*\"stay\" + 0.018*\"casino\" + 0.011*\"bed\" + 0.010*\"clean\" + 0.009*\"desk\" + 0.009*\"bathroom\" + 0.008*\"strip\" + 0.008*\"floor\"\n",
      "\n",
      "\n",
      "Topic: 7 Word: 0.017*\"pool\" + 0.013*\"close\" + 0.012*\"relax\" + 0.011*\"beauti\" + 0.011*\"downtown\" + 0.011*\"resort\" + 0.011*\"view\" + 0.010*\"locat\" + 0.009*\"loung\" + 0.009*\"area\"\n",
      "\n",
      "\n",
      "Topic: 8 Word: 0.046*\"buffet\" + 0.016*\"crab\" + 0.011*\"seafood\" + 0.010*\"leg\" + 0.010*\"dessert\" + 0.009*\"worth\" + 0.008*\"select\" + 0.008*\"qualiti\" + 0.008*\"station\" + 0.008*\"brunch\"\n",
      "\n",
      "\n",
      "Topic: 9 Word: 0.020*\"scottsdal\" + 0.018*\"movi\" + 0.018*\"airport\" + 0.015*\"line\" + 0.014*\"ticket\" + 0.011*\"ride\" + 0.009*\"drive\" + 0.009*\"seat\" + 0.009*\"park\" + 0.008*\"locat\"\n",
      "\n",
      "\n",
      "Topic: 10 Word: 0.017*\"call\" + 0.014*\"car\" + 0.009*\"phone\" + 0.009*\"compani\" + 0.009*\"told\" + 0.008*\"custom\" + 0.007*\"manag\" + 0.007*\"charg\" + 0.006*\"busi\" + 0.006*\"month\"\n",
      "\n",
      "\n",
      "Topic: 11 Word: 0.029*\"store\" + 0.017*\"shop\" + 0.010*\"help\" + 0.010*\"buy\" + 0.009*\"product\" + 0.008*\"item\" + 0.008*\"select\" + 0.008*\"find\" + 0.007*\"cloth\" + 0.007*\"sale\"\n",
      "\n",
      "\n",
      "Topic: 12 Word: 0.017*\"chicken\" + 0.014*\"pork\" + 0.013*\"noodl\" + 0.013*\"rice\" + 0.011*\"bbq\" + 0.011*\"sauc\" + 0.010*\"soup\" + 0.009*\"beef\" + 0.009*\"fri\" + 0.009*\"dish\"\n",
      "\n",
      "\n",
      "Topic: 13 Word: 0.021*\"dog\" + 0.020*\"game\" + 0.013*\"class\" + 0.012*\"\\n\" + 0.011*\"park\" + 0.011*\"sport\" + 0.010*\"tv\" + 0.010*\"watch\" + 0.010*\"play\" + 0.009*\"kid\"\n",
      "\n",
      "\n",
      "Topic: 14 Word: 0.080*\"pizza\" + 0.021*\"wing\" + 0.016*\"crust\" + 0.012*\"slice\" + 0.010*\"chees\" + 0.010*\"pie\" + 0.009*\"sauc\" + 0.008*\"deliveri\" + 0.007*\"garlic\" + 0.007*\"italian\"\n",
      "\n",
      "\n",
      "Topic: 15 Word: 0.012*\"server\" + 0.010*\"waitress\" + 0.009*\"took\" + 0.008*\"manag\" + 0.008*\"waiter\" + 0.008*\"seat\" + 0.007*\"hostess\" + 0.007*\"min\" + 0.006*\"sat\" + 0.006*\"anoth\"\n",
      "\n",
      "\n",
      "Topic: 16 Word: 0.059*\"burger\" + 0.024*\"fri\" + 0.009*\"bun\" + 0.008*\"onion\" + 0.008*\"chees\" + 0.007*\"steak\" + 0.007*\"ice\" + 0.006*\"tea\" + 0.006*\"ring\" + 0.006*\"cook\"\n",
      "\n",
      "\n",
      "Topic: 17 Word: 0.028*\"coffe\" + 0.017*\"breakfast\" + 0.012*\"delici\" + 0.012*\"amaz\" + 0.011*\"recommend\" + 0.011*\"excel\" + 0.011*\"awesom\" + 0.010*\"atmospher\" + 0.010*\"highli\" + 0.008*\"definit\"\n",
      "\n",
      "\n",
      "Topic: 18 Word: 0.031*\"beer\" + 0.023*\"thai\" + 0.014*\"curri\" + 0.012*\"select\" + 0.007*\"vegetarian\" + 0.006*\"dish\" + 0.006*\"neighborhood\" + 0.006*\"decent\" + 0.006*\"atmospher\" + 0.006*\"option\"\n",
      "\n",
      "\n",
      "Topic: 19 Word: 0.019*\"nail\" + 0.017*\"hair\" + 0.012*\"salon\" + 0.011*\"job\" + 0.010*\"custom\" + 0.009*\"profession\" + 0.008*\"appoint\" + 0.008*\"rude\" + 0.008*\"done\" + 0.007*\"cut\"\n",
      "\n",
      "\n"
     ]
    }
   ],
   "source": [
    "# lda with tfidf\n",
    "lda_model_tfidf = gensim.models.LdaMulticore(corpus_tfidf, \n",
    "                                             num_topics=20, \n",
    "                                             id2word = dictionary, \n",
    "                                             passes = 2, \n",
    "                                             workers=4)\n",
    "for idx, topic in lda_model_tfidf.print_topics(-1):\n",
    "    print(\"Topic: {} Word: {}\".format(idx, topic))\n",
    "    print(\"\\n\")\n",
    "    \n",
    "    "
   ]
  },
  {
   "cell_type": "code",
   "execution_count": 18,
   "id": "60673e5c",
   "metadata": {
    "execution": {
     "iopub.execute_input": "2024-05-21T14:09:33.253077Z",
     "iopub.status.busy": "2024-05-21T14:09:33.252314Z",
     "iopub.status.idle": "2024-05-21T14:09:33.264430Z",
     "shell.execute_reply": "2024-05-21T14:09:33.263478Z"
    },
    "papermill": {
     "duration": 0.02405,
     "end_time": "2024-05-21T14:09:33.266729",
     "exception": false,
     "start_time": "2024-05-21T14:09:33.242679",
     "status": "completed"
    },
    "tags": []
   },
   "outputs": [
    {
     "name": "stdout",
     "output_type": "stream",
     "text": [
      "This place is absolute garbage...  Half of the tees are not available, including all the grass tees.  It is cash only, and they sell the last bucket at 8, despite having lights.  And if you finish even a minute after 8, don't plan on getting a drink.  The vending machines are sold out (of course) and they sell drinks inside, but close the drawers at 8 on the dot.  There are weeds grown all over the place.  I noticed some sort of batting cage, but it looks like those are out of order as well.  Someone should buy this place and turn it into what it should be.\n",
      "\n",
      "Score: 0.439907968044281\t \n",
      "Topic: 0.036*\"custom\" + 0.018*\"walk\" + 0.018*\"employe\" + 0.015*\"line\" + 0.015*\"help\" + 0.012*\"counter\" + 0.012*\"manag\" + 0.012*\"busi\" + 0.011*\"guy\" + 0.011*\"rude\"\n",
      "\n",
      "Score: 0.268155038356781\t \n",
      "Topic: 0.104*\"pizza\" + 0.051*\"store\" + 0.037*\"shop\" + 0.018*\"buy\" + 0.018*\"item\" + 0.014*\"find\" + 0.012*\"crust\" + 0.012*\"product\" + 0.010*\"new\" + 0.010*\"select\"\n",
      "\n",
      "Score: 0.23716723918914795\t \n",
      "Topic: 0.019*\"wine\" + 0.019*\"delici\" + 0.016*\"dinner\" + 0.016*\"dish\" + 0.014*\"amaz\" + 0.014*\"meal\" + 0.011*\"enjoy\" + 0.011*\"appet\" + 0.011*\"dessert\" + 0.010*\"excel\"\n",
      "\n",
      "Score: 0.0184022169560194\t \n",
      "Topic: 0.113*\"\\n\" + 0.060*\"game\" + 0.049*\"nail\" + 0.035*\"watch\" + 0.034*\"play\" + 0.031*\"tv\" + 0.025*\"movi\" + 0.022*\"kid\" + 0.020*\"\\n\\n\" + 0.019*\"sport\"\n"
     ]
    }
   ],
   "source": [
    "print(dataset_train['text'][11])\n",
    "for index, score in sorted(lda_model[bow_corpus[11]], key=lambda tup: -1*tup[1]):\n",
    "    print(\"\\nScore: {}\\t \\nTopic: {}\".format(score, lda_model.print_topic(index, 10)))"
   ]
  }
 ],
 "metadata": {
  "kaggle": {
   "accelerator": "none",
   "dataSources": [
    {
     "datasetId": 4950712,
     "sourceId": 8336018,
     "sourceType": "datasetVersion"
    }
   ],
   "dockerImageVersionId": 30698,
   "isGpuEnabled": false,
   "isInternetEnabled": true,
   "language": "python",
   "sourceType": "notebook"
  },
  "kernelspec": {
   "display_name": "Python 3",
   "language": "python",
   "name": "python3"
  },
  "language_info": {
   "codemirror_mode": {
    "name": "ipython",
    "version": 3
   },
   "file_extension": ".py",
   "mimetype": "text/x-python",
   "name": "python",
   "nbconvert_exporter": "python",
   "pygments_lexer": "ipython3",
   "version": "3.10.13"
  },
  "papermill": {
   "default_parameters": {},
   "duration": 16805.181238,
   "end_time": "2024-05-21T14:09:36.343939",
   "environment_variables": {},
   "exception": null,
   "input_path": "__notebook__.ipynb",
   "output_path": "__notebook__.ipynb",
   "parameters": {},
   "start_time": "2024-05-21T09:29:31.162701",
   "version": "2.5.0"
  }
 },
 "nbformat": 4,
 "nbformat_minor": 5
}
