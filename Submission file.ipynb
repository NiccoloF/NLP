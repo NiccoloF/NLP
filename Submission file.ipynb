{
 "cells": [
  {
   "cell_type": "markdown",
   "metadata": {},
   "source": [
    "### Import Libraries"
   ]
  },
  {
   "cell_type": "code",
   "execution_count": 1,
   "metadata": {},
   "outputs": [],
   "source": [
    "# Importing necessary libraries for data loading, data manipulation, and data visualization\n",
    "from datasets import load_from_disk, concatenate_datasets\n",
    "from tqdm import tqdm\n",
    "from sklearn.feature_extraction.text import CountVectorizer\n",
    "import numpy as np\n",
    "import seaborn as sns\n",
    "import pandas as pd\n",
    "import matplotlib.pyplot as plt\n",
    "import nltk\n",
    "import re\n",
    "\n",
    "from nltk.corpus import stopwords\n",
    "from nltk.stem.porter import PorterStemmer\n",
    "from gensim import corpora, models"
   ]
  },
  {
   "cell_type": "markdown",
   "metadata": {},
   "source": [
    "# Preprocessing"
   ]
  },
  {
   "cell_type": "code",
   "execution_count": 2,
   "metadata": {},
   "outputs": [],
   "source": [
    "####### This is the code to generate the tokens using SpaCy ####### \n",
    "\n",
    "# The run takes 3:30 hours approximately\n",
    "\n",
    "# from datasets import load_dataset\n",
    "# import re\n",
    "# import spacy\n",
    "# dataset_train=load_dataset(\"yelp_review_full\",split='train')\n",
    "# dataset_test=load_dataset(\"yelp_review_full\",split='test')\n",
    "# nlp = spacy.load(\"en_core_web_sm\")\n",
    "\n",
    "# # Preprocessing function for each review\n",
    "# def clean_sentence(sentence):\n",
    "#     sentence = re.sub(r'\\\\n',\"\",sentence)\n",
    "\n",
    "#     #removing emoticons\n",
    "#     sentence = re.sub(r'(\\:\\w+\\:|\\<[\\/\\\\]?3|[\\(\\)\\\\\\D|\\*\\$][\\-\\^]?[\\:\\;\\=]|[\\:\\;\\=B8][\\-\\^]?[3DOPp\\@\\$\\*\\\\\\)\\(\\/\\|])(?=\\s|[\\!\\.\\?]|$)',\"\", sentence)\n",
    "\n",
    "#     #removing websites\n",
    "#     sentence = re.sub(r\"(http)?s?:?\\/\\/[A-Za-z0-9^,!.\\/'+-=_?]+\", \"\", sentence)\n",
    "\n",
    "#     #numbers\n",
    "#     sentence = re.sub(r\"(\\d+)(k)\", r\"\\g<1> thousand\", sentence)\n",
    "#     sentence = re.sub(r\"(\\d+)([a-zA-z]+)\", r\"\\g<1> \\g<2>\", sentence)\n",
    "#     #convert numbers to words\n",
    "#     sentence = re.sub(r\"1\", \" one \", sentence)\n",
    "#     sentence = re.sub(r\"2\", \" two \", sentence)\n",
    "#     sentence = re.sub(r\"3\", \" three \", sentence)\n",
    "#     sentence = re.sub(r\"4\", \" four \", sentence)\n",
    "#     sentence = re.sub(r\"5\", \" five \", sentence)\n",
    "#     sentence = re.sub(r\"6\", \" six \", sentence)\n",
    "#     sentence = re.sub(r\"7\", \" seven \", sentence)\n",
    "#     sentence = re.sub(r\"8\", \" eight \", sentence)\n",
    "#     sentence = re.sub(r\"9\", \" nine \", sentence)\n",
    "#     sentence = re.sub(r\"0\", \" zero \", sentence)\n",
    "\n",
    "#     # removing extraneous symbols\n",
    "#     sentence = re.sub(r\"[^A-Za-z0-9^,!.\\/'+-=%]\", \" \", sentence)\n",
    "\n",
    "#     # expanding contraction\n",
    "#     sentence = re.sub(r\"\\'ve\", \" have \", sentence)\n",
    "#     sentence = re.sub(r\"n't\", \" not \", sentence)\n",
    "#     sentence = re.sub(r\"i'm\", \" i am \", sentence)\n",
    "#     sentence = re.sub(r\"\\'re\", \" are \", sentence)\n",
    "#     sentence = re.sub(r\"\\'d\", \" would \", sentence)\n",
    "#     sentence = re.sub(r\"\\'ll\", \" will \", sentence)\n",
    "\n",
    "#     #spacing out symbols\n",
    "#     sentence = re.sub(r\",\", \" \", sentence)\n",
    "#     sentence = re.sub(r\"\\.\", \" . \", sentence)\n",
    "#     sentence = re.sub(r\"!\", \" ! \", sentence)\n",
    "#     sentence = re.sub(r\"\\/\", \" \", sentence)\n",
    "#     sentence = re.sub(r\"\\^\", \" ^ \", sentence)\n",
    "#     sentence = re.sub(r\"\\+\", \" + \", sentence)\n",
    "#     sentence = re.sub(r\"\\-\", \" - \", sentence)\n",
    "#     sentence = re.sub(r\"\\=\", \" = \", sentence)\n",
    "#     sentence = re.sub(r\"'\", \" \", sentence)\n",
    "#     sentence = re.sub(r\":\", \" : \", sentence)\n",
    "#     sentence = re.sub(r\"%\", \" : \", sentence)\n",
    "\n",
    "#     return sentence\n",
    "\n",
    "# def preprocess_reviews(doc):\n",
    "#     doc['text'] = clean_sentence(doc['text'])\n",
    "#     return doc\n",
    "    \n",
    "# dataset_train = dataset_train.map(preprocess_reviews, num_proc = 4)\n",
    "# dataset_test = dataset_test.map(preprocess_reviews, num_proc = 4)\n",
    "\n",
    "# # Parsing function\n",
    "# def parse_document(doc):\n",
    "#   parsed_doc = nlp(doc['text'])\n",
    "#   doc['sentences'] = [sent.text for sent in parsed_doc.sents]\n",
    "#   doc['tokens'] = [w.text for w in parsed_doc]\n",
    "#   return doc\n",
    "\n",
    "# # Parse the reviews\n",
    "# dataset_train = dataset_train.map(parse_document, num_proc = 4)\n",
    "# dataset_test = dataset_test.map(parse_document, num_proc = 4)\n",
    "\n",
    "# # Save to drive the preprocessed dataset\n",
    "# dataset_train.save_to_disk('parsed_train.hf')\n",
    "# dataset_test.save_to_disk('parsed_test.hf')\n"
   ]
  },
  {
   "cell_type": "code",
   "execution_count": 2,
   "metadata": {},
   "outputs": [],
   "source": [
    "# Load the train and test datasets from disk: this dataset differs from the original \n",
    "# Yelp reviews dataset by having columns 'tokens' and 'sentences' that contain respectively\n",
    "# the tokens and the sentences present in each review. This was done through SpaCy parsing.\n",
    "train_dataset = load_from_disk('parsed_yelp_reviews//gianni_train.hf')\n",
    "test_dataset = load_from_disk('parsed_yelp_reviews//gianni_test.hf')"
   ]
  },
  {
   "cell_type": "code",
   "execution_count": 3,
   "metadata": {},
   "outputs": [],
   "source": [
    "# Function to remove punctuation from tokens of a document, returning a new column 'tokens_no_punc'\n",
    "# that contains only tokens not corresponding to punctuation marks.\n",
    "def remove_punctuation(doc):\n",
    "    punc = '!\"#$%&\\'()*+,-./:;<=>?@[\\\\]^_`{|}~ '\n",
    "    doc['tokens_no_punc'] = [tok for tok in doc['tokens'] if tok not in punc]\n",
    "    return doc\n",
    "\n",
    "# Remove punctuation from tokens in test set\n",
    "test_dataset = test_dataset.map(remove_punctuation, num_proc=4)\n",
    "\n",
    "# Remove punctuation from tokens in train set\n",
    "train_dataset = train_dataset.map(remove_punctuation, num_proc=4)"
   ]
  },
  {
   "cell_type": "code",
   "execution_count": 4,
   "metadata": {},
   "outputs": [],
   "source": [
    "# Remove the 'tokens' column from both train and test dataframe, mantaining only the 'tokens_no_punc' column.\n",
    "train_dataset_no_punc = train_dataset.remove_columns('tokens')\n",
    "test_dataset_no_punc = test_dataset.remove_columns('tokens')"
   ]
  },
  {
   "cell_type": "markdown",
   "metadata": {},
   "source": [
    "# Explorarory analysis"
   ]
  },
  {
   "cell_type": "code",
   "execution_count": 6,
   "metadata": {},
   "outputs": [],
   "source": [
    "# Compute the length of a document in terms of number of tokens and number of sentences.\n",
    "def calculate_n_tokens(doc):\n",
    "    doc['length'] = len(doc['tokens_no_punc'])\n",
    "    doc['n_sentences'] = len(doc['sentences'])\n",
    "    return doc\n",
    "\n",
    "test = test_dataset_no_punc.map(calculate_n_tokens, num_proc= 4)\n",
    "train = train_dataset_no_punc.map(calculate_n_tokens, num_proc = 4)"
   ]
  },
  {
   "cell_type": "code",
   "execution_count": 7,
   "metadata": {},
   "outputs": [
    {
     "data": {
      "text/plain": [
       "<matplotlib.legend.Legend at 0x22e40827f90>"
      ]
     },
     "execution_count": 7,
     "metadata": {},
     "output_type": "execute_result"
    },
    {
     "data": {
      "image/png": "[encoded data removed]",
      "text/plain": [
       "<Figure size 500x500 with 1 Axes>"
      ]
     },
     "metadata": {},
     "output_type": "display_data"
    }
   ],
   "source": [
    "# Concatenate the lengths of documents from the train and test datasets\n",
    "n_tokens_per_review = np.concatenate((np.array(train['length']),np.array(test['length']) ))\n",
    "\n",
    "# Plot the distribution of document lengths using a kernel density estimate (KDE) plot\n",
    "sns.displot(data=pd.DataFrame(n_tokens_per_review, columns= ['Tokens per review']), x='Tokens per review', kind=\"kde\")\n",
    "\n",
    "# Calculate the mean, median, and mode of the number of tokens per review\n",
    "mean_length = np.mean(np.array(n_tokens_per_review))\n",
    "median_length = np.median(np.array(n_tokens_per_review))\n",
    "mode_length = np.argmax(np.bincount(n_tokens_per_review))\n",
    "\n",
    "# Add vertical lines to the plot indicating the mean and mode of the number of token\n",
    "plt.axvline(mean_length, color='r', linestyle='--', label=f'Mean: {mean_length:.2f}')\n",
    "plt.axvline(mode_length, color='g', linestyle='--', label=f'Mode: {mode_length:.2f}')\n",
    "plt.legend()"
   ]
  },
  {
   "cell_type": "code",
   "execution_count": 8,
   "metadata": {},
   "outputs": [
    {
     "data": {
      "text/plain": [
       "<matplotlib.legend.Legend at 0x22de546a8d0>"
      ]
     },
     "execution_count": 8,
     "metadata": {},
     "output_type": "execute_result"
    },
    {
     "data": {
      "image/png": "[encoded data removed]",
      "text/plain": [
       "<Figure size 500x500 with 1 Axes>"
      ]
     },
     "metadata": {},
     "output_type": "display_data"
    }
   ],
   "source": [
    "# Do the same for the number of sentences in each document.\n",
    "n_sentences_per_review = np.concatenate((np.array(train['n_sentences']),np.array(test['n_sentences']) ))\n",
    "\n",
    "sns.displot(data=pd.DataFrame(n_sentences_per_review, columns= ['Sentences per review']), x='Sentences per review', kind=\"kde\")\n",
    "\n",
    "mean_length = np.mean(np.array(n_sentences_per_review))\n",
    "median_length = np.median(np.array(n_sentences_per_review))\n",
    "mode_length = np.argmax(np.bincount(n_sentences_per_review))\n",
    "\n",
    "plt.axvline(mean_length, color='r', linestyle='--', label=f'Mean: {mean_length:.2f}')\n",
    "plt.axvline(mode_length, color='g', linestyle='--', label=f'Mode: {mode_length:.2f}')\n",
    "plt.legend()"
   ]
  },
  {
   "cell_type": "code",
   "execution_count": 9,
   "metadata": {},
   "outputs": [
    {
     "name": "stdout",
     "output_type": "stream",
     "text": [
      "The document with the maximum number of tokens has a length of 1065 tokens.\n",
      "It corresponds to a 3 stars review.\n"
     ]
    }
   ],
   "source": [
    "# Find the document with the maximum number of tokens\n",
    "max_tokens_index = int(np.argmax(n_tokens_per_review))\n",
    "max_tokens_length = train[max_tokens_index]['length']\n",
    "max_tokens_label = train[max_tokens_index]['label']\n",
    "\n",
    "print(f\"The document with the maximum number of tokens has a length of {max_tokens_length} tokens.\")\n",
    "print(f\"It corresponds to a {max_tokens_label} stars review.\")"
   ]
  },
  {
   "cell_type": "code",
   "execution_count": 11,
   "metadata": {},
   "outputs": [],
   "source": [
    "# Let's find the most common tokens\n",
    "full_dataset = concatenate_datasets([train,test])\n",
    "\n",
    "# Convert the dataset to a pandas dataframe \n",
    "full_df = full_dataset.to_pandas()\n",
    "\n",
    "# Since for each document there is a list of tokens, to have a single list with all the tokens we explode the dataframe on the tokens column\n",
    "df_exploded = full_df.explode('tokens_no_punc')\n",
    "\n",
    "# Count the the occurencies for each unique token and sort\n",
    "words_count = df_exploded.groupby('tokens_no_punc').size().reset_index(name='count')\n",
    "sorted_words_count = words_count.sort_values(by='count', ascending=False)"
   ]
  },
  {
   "cell_type": "code",
   "execution_count": null,
   "metadata": {},
   "outputs": [],
   "source": [
    "# We are interested to the most common words, so the stopwords are not of interest\n",
    "\n",
    "nltk.download('stopwords')\n",
    "exclude_words = stopwords.words('english')\n",
    "exclude_words.extend([\"n't\", \"'s\", '  ','...'])\n",
    "\n",
    "# To accelerate times and only view the N top words\n",
    "N = 1000\n",
    "sorted_words_count_reduced = sorted_words_count[:N]\n",
    "\n",
    "# View the tokens that are not stopwords\n",
    "sorted_words_count_reduced = sorted_words_count_reduced[~sorted_words_count_reduced['tokens_no_punc'].isin(exclude_words)]\n",
    "sorted_words_count_reduced[:20]"
   ]
  },
  {
   "cell_type": "code",
   "execution_count": null,
   "metadata": {},
   "outputs": [
    {
     "name": "stdout",
     "output_type": "stream",
     "text": [
      "Top 10 most common tokens in the train set:\n",
      "place\t-> 250505\n",
      "good\t-> 250117\n",
      "food\t-> 241954\n",
      "like\t-> 207118\n",
      "just\t-> 205447\n",
      "service\t-> 184942\n",
      "great\t-> 177019\n",
      "time\t-> 174050\n",
      "really\t-> 147578\n",
      "don\t-> 122863\n"
     ]
    }
   ],
   "source": [
    "# Print the 10 most common tokens\n",
    "print(\"Top 10 most common tokens in the train set:\")\n",
    "for token, count in zip(sorted_words_count_reduced['tokens_no_punc'][:10],sorted_words_count_reduced['count'][:10]):\n",
    "    print(f\"{token}\\t-> {count}\")"
   ]
  },
  {
   "cell_type": "code",
   "execution_count": null,
   "metadata": {},
   "outputs": [],
   "source": [
    "# Compute the average length of reviews for each star rating\n",
    "labels = np.concatenate((np.array(train['label']), np.array(test['label']))) + 1\n",
    "stars_vs_len_dict = {i+1:[] for i in range(5)} # Dictionary to store the lengths of reviews for each star rating\n",
    "\n",
    "for len,star in zip(n_tokens_per_review, labels):\n",
    "    stars_vs_len_dict[star].append(len)\n",
    "stars_vs_len_dict = {lab: np.mean(np.array(len)) for lab, len in stars_vs_len_dict.items()}"
   ]
  },
  {
   "cell_type": "code",
   "execution_count": null,
   "metadata": {},
   "outputs": [
    {
     "name": "stdout",
     "output_type": "stream",
     "text": [
      "1 stars : 155.43 tokens avg\n",
      "2 stars : 156.66 tokens avg\n",
      "3 stars : 143.04 tokens avg\n",
      "4 stars : 127.02 tokens avg\n",
      "5 stars : 107.67 tokens avg\n"
     ]
    }
   ],
   "source": [
    "# Print average length of reviews for each star rating\n",
    "for star, length in stars_vs_len_dict.items():\n",
    "    print(f\"{star} stars : {length:.2f} tokens avg\")"
   ]
  },
  {
   "cell_type": "markdown",
   "metadata": {},
   "source": [
    "Length of reviews seems to be proportional to how bad was the experience. So longest reviews corresponds to the worst ones."
   ]
  },
  {
   "cell_type": "code",
   "execution_count": null,
   "metadata": {},
   "outputs": [
    {
     "name": "stdout",
     "output_type": "stream",
     "text": [
      "Unique Labels: [1 2 3 4 5]\n",
      "Label Counts: [140000 140000 140000 140000 140000]\n"
     ]
    }
   ],
   "source": [
    "# Check if the dataset is balanced\n",
    "unique, count = np.unique(labels, return_counts=True)\n",
    "\n",
    "# Print the unique labels and their counts\n",
    "print(\"Unique Labels:\", unique)\n",
    "print(\"Label Counts:\", count)"
   ]
  },
  {
   "cell_type": "markdown",
   "metadata": {},
   "source": [
    "# Experiments and Results\n",
    "We will use machine learning models and transformer-based models"
   ]
  },
  {
   "cell_type": "markdown",
   "metadata": {},
   "source": [
    "## Vectorization\n",
    "We will try following settings for vectorization:\n",
    "- Word representation: CountVectorizer vs. TfidfVectorizer\n",
    "- N-grams: unigram & bigram\n",
    "- Minimum document frequency: 5\n",
    "- Convert to lowercase\n",
    "- Use stop words\n",
    "%time X_train, X_dev, X_test, y_train, y_dev, y_test = extract_features(df_train, df_val, df_test)"
   ]
  },
  {
   "cell_type": "code",
   "execution_count": 11,
   "metadata": {},
   "outputs": [],
   "source": [
    "from sklearn.feature_extraction.text import CountVectorizer\n",
    "from sklearn.model_selection import train_test_split\n",
    "\n",
    "def extract_features(train, test):\n",
    "    vectorizer = CountVectorizer(min_df=5, stop_words='english')\n",
    "    vectorizer.fit(train['text'])\n",
    "    X_train = vectorizer.transform(train['text'])\n",
    "    y_train = train['label']\n",
    "    X_test = vectorizer.transform(test['text'])\n",
    "    y_test = test['label']\n",
    "    return X_train, X_test, y_train, y_test"
   ]
  },
  {
   "cell_type": "code",
   "execution_count": 12,
   "metadata": {},
   "outputs": [],
   "source": [
    "X_train, X_test, y_train, y_test = extract_features(train_dataset_no_punc, test_dataset_no_punc)"
   ]
  },
  {
   "cell_type": "markdown",
   "metadata": {},
   "source": [
    "## Machine Learning\n",
    "Navie Bayes, Logistic Regression, Random Forest, and SGD Classifier will be used in this section."
   ]
  },
  {
   "cell_type": "markdown",
   "metadata": {},
   "source": [
    "#### Evaluation Metrics\n",
    "- Precision, recall, F1 score\n",
    "- Accuracy\n",
    "- Confusion matrix"
   ]
  },
  {
   "cell_type": "code",
   "execution_count": 26,
   "metadata": {},
   "outputs": [],
   "source": [
    "from sklearn.metrics import accuracy_score, precision_score, recall_score\n",
    "from sklearn.metrics import f1_score, mean_squared_error\n",
    "from sklearn.metrics import classification_report\n",
    "from sklearn.metrics import confusion_matrix\n",
    "\n",
    "# Function to evaluate a model on a dataset\n",
    "def evaluate_model_Xy(model, X, y, y_pred=None, split=\"Training\", model_name=\"model\"):\n",
    "  if y_pred is None:\n",
    "    y_pred = model.predict(X)\n",
    "\n",
    "  accuracy = accuracy_score(y, y_pred)\n",
    "\n",
    "  # Specify the split on which evaluation is perfromed and the obtained accuracy\n",
    "  print(split + ' Set')\n",
    "  print(\"Accuracy:\", accuracy)\n",
    "  print()\n",
    "\n",
    "  stars_labels = ['1*', '2*', '3*', '4*', '5*']\n",
    "\n",
    "  # Print the classification report and confusion matrix\n",
    "  print(classification_report(y, y_pred, digits=4, target_names=stars_labels))\n",
    "  disp = confusion_matrix(y, y_pred, normalize='true', labels=[0, 1, 2, 3, 4])\n",
    "\n",
    "  # Plot the confusion matrix with modified labels\n",
    "  sns.heatmap(disp, annot=True, fmt=\".2f\", cmap=\"Blues\", xticklabels=stars_labels, yticklabels=stars_labels)\n",
    "  plt.show()\n",
    "\n",
    "  return {split: accuracy}"
   ]
  },
  {
   "cell_type": "code",
   "execution_count": 27,
   "metadata": {},
   "outputs": [],
   "source": [
    "def evaluate_model(model, model_name=\"model\",\n",
    "                   y_train_pred=None, y_dev_pred=None, y_test_pred=None):\n",
    "    # Evaluate the model on the training, validation, and test sets, and return the results as a dictionary\n",
    "    results = {}\n",
    "    \n",
    "    results.update(evaluate_model_Xy(model, X_train, y_train, y_train_pred, \"Train\", model_name))\n",
    "    results.update(evaluate_model_Xy(model, X_test, y_test, y_test_pred, \"Test\", model_name))\n",
    "    \n",
    "    return results"
   ]
  },
  {
   "cell_type": "code",
   "execution_count": 28,
   "metadata": {},
   "outputs": [],
   "source": [
    "# Create an empty dictionary to hold all the evaluation results\n",
    "evaluation_results = {}"
   ]
  },
  {
   "cell_type": "markdown",
   "metadata": {},
   "source": [
    "### Naive Bayes Classifier"
   ]
  },
  {
   "cell_type": "code",
   "execution_count": 29,
   "metadata": {},
   "outputs": [],
   "source": [
    "from sklearn.naive_bayes import MultinomialNB\n",
    "\n",
    "clf_nb = MultinomialNB(alpha=0.5)"
   ]
  },
  {
   "cell_type": "code",
   "execution_count": 30,
   "metadata": {},
   "outputs": [
    {
     "name": "stdout",
     "output_type": "stream",
     "text": [
      "CPU times: total: 453 ms\n",
      "Wall time: 1.12 s\n"
     ]
    },
    {
     "data": {
      "text/html": [
       "<style>#sk-container-id-3 {color: black;background-color: white;}#sk-container-id-3 pre{padding: 0;}#sk-container-id-3 div.sk-toggleable {background-color: white;}#sk-container-id-3 label.sk-toggleable__label {cursor: pointer;display: block;width: 100%;margin-bottom: 0;padding: 0.3em;box-sizing: border-box;text-align: center;}#sk-container-id-3 label.sk-toggleable__label-arrow:before {content: \"▸\";float: left;margin-right: 0.25em;color: #696969;}#sk-container-id-3 label.sk-toggleable__label-arrow:hover:before {color: black;}#sk-container-id-3 div.sk-estimator:hover label.sk-toggleable__label-arrow:before {color: black;}#sk-container-id-3 div.sk-toggleable__content {max-height: 0;max-width: 0;overflow: hidden;text-align: left;background-color: #f0f8ff;}#sk-container-id-3 div.sk-toggleable__content pre {margin: 0.2em;color: black;border-radius: 0.25em;background-color: #f0f8ff;}#sk-container-id-3 input.sk-toggleable__control:checked~div.sk-toggleable__content {max-height: 200px;max-width: 100%;overflow: auto;}#sk-container-id-3 input.sk-toggleable__control:checked~label.sk-toggleable__label-arrow:before {content: \"▾\";}#sk-container-id-3 div.sk-estimator input.sk-toggleable__control:checked~label.sk-toggleable__label {background-color: #d4ebff;}#sk-container-id-3 div.sk-label input.sk-toggleable__control:checked~label.sk-toggleable__label {background-color: #d4ebff;}#sk-container-id-3 input.sk-hidden--visually {border: 0;clip: rect(1px 1px 1px 1px);clip: rect(1px, 1px, 1px, 1px);height: 1px;margin: -1px;overflow: hidden;padding: 0;position: absolute;width: 1px;}#sk-container-id-3 div.sk-estimator {font-family: monospace;background-color: #f0f8ff;border: 1px dotted black;border-radius: 0.25em;box-sizing: border-box;margin-bottom: 0.5em;}#sk-container-id-3 div.sk-estimator:hover {background-color: #d4ebff;}#sk-container-id-3 div.sk-parallel-item::after {content: \"\";width: 100%;border-bottom: 1px solid gray;flex-grow: 1;}#sk-container-id-3 div.sk-label:hover label.sk-toggleable__label {background-color: #d4ebff;}#sk-container-id-3 div.sk-serial::before {content: \"\";position: absolute;border-left: 1px solid gray;box-sizing: border-box;top: 0;bottom: 0;left: 50%;z-index: 0;}#sk-container-id-3 div.sk-serial {display: flex;flex-direction: column;align-items: center;background-color: white;padding-right: 0.2em;padding-left: 0.2em;position: relative;}#sk-container-id-3 div.sk-item {position: relative;z-index: 1;}#sk-container-id-3 div.sk-parallel {display: flex;align-items: stretch;justify-content: center;background-color: white;position: relative;}#sk-container-id-3 div.sk-item::before, #sk-container-id-3 div.sk-parallel-item::before {content: \"\";position: absolute;border-left: 1px solid gray;box-sizing: border-box;top: 0;bottom: 0;left: 50%;z-index: -1;}#sk-container-id-3 div.sk-parallel-item {display: flex;flex-direction: column;z-index: 1;position: relative;background-color: white;}#sk-container-id-3 div.sk-parallel-item:first-child::after {align-self: flex-end;width: 50%;}#sk-container-id-3 div.sk-parallel-item:last-child::after {align-self: flex-start;width: 50%;}#sk-container-id-3 div.sk-parallel-item:only-child::after {width: 0;}#sk-container-id-3 div.sk-dashed-wrapped {border: 1px dashed gray;margin: 0 0.4em 0.5em 0.4em;box-sizing: border-box;padding-bottom: 0.4em;background-color: white;}#sk-container-id-3 div.sk-label label {font-family: monospace;font-weight: bold;display: inline-block;line-height: 1.2em;}#sk-container-id-3 div.sk-label-container {text-align: center;}#sk-container-id-3 div.sk-container {/* jupyter's `normalize.less` sets `[hidden] { display: none; }` but bootstrap.min.css set `[hidden] { display: none !important; }` so we also need the `!important` here to be able to override the default hidden behavior on the sphinx rendered scikit-learn.org. See: https://github.com/scikit-learn/scikit-learn/issues/21755 */display: inline-block !important;position: relative;}#sk-container-id-3 div.sk-text-repr-fallback {display: none;}</style><div id=\"sk-container-id-3\" class=\"sk-top-container\"><div class=\"sk-text-repr-fallback\"><pre>MultinomialNB(alpha=0.5)</pre><b>In a Jupyter environment, please rerun this cell to show the HTML representation or trust the notebook. <br />On GitHub, the HTML representation is unable to render, please try loading this page with nbviewer.org.</b></div><div class=\"sk-container\" hidden><div class=\"sk-item\"><div class=\"sk-estimator sk-toggleable\"><input class=\"sk-toggleable__control sk-hidden--visually\" id=\"sk-estimator-id-3\" type=\"checkbox\" checked><label for=\"sk-estimator-id-3\" class=\"sk-toggleable__label sk-toggleable__label-arrow\">MultinomialNB</label><div class=\"sk-toggleable__content\"><pre>MultinomialNB(alpha=0.5)</pre></div></div></div></div></div>"
      ],
      "text/plain": [
       "MultinomialNB(alpha=0.5)"
      ]
     },
     "execution_count": 30,
     "metadata": {},
     "output_type": "execute_result"
    }
   ],
   "source": [
    "%time clf_nb.fit(X_train, y_train)"
   ]
  },
  {
   "cell_type": "code",
   "execution_count": 31,
   "metadata": {},
   "outputs": [
    {
     "name": "stdout",
     "output_type": "stream",
     "text": [
      "Train Set\n",
      "Accuracy: 0.5616753846153846\n",
      "\n",
      "              precision    recall  f1-score   support\n",
      "\n",
      "          1*     0.6187    0.6627    0.6400    130000\n",
      "          2*     0.4926    0.4631    0.4774    130000\n",
      "          3*     0.5062    0.5002    0.5032    130000\n",
      "          4*     0.5143    0.5549    0.5338    130000\n",
      "          5*     0.6807    0.6275    0.6530    130000\n",
      "\n",
      "    accuracy                         0.5617    650000\n",
      "   macro avg     0.5625    0.5617    0.5615    650000\n",
      "weighted avg     0.5625    0.5617    0.5615    650000\n",
      "\n"
     ]
    },
    {
     "data": {
      "image/png": "[encoded data removed]",
      "text/plain": [
       "<Figure size 640x480 with 2 Axes>"
      ]
     },
     "metadata": {},
     "output_type": "display_data"
    },
    {
     "name": "stdout",
     "output_type": "stream",
     "text": [
      "Test Set\n",
      "Accuracy: 0.5256\n",
      "\n",
      "              precision    recall  f1-score   support\n",
      "\n",
      "          1*     0.6064    0.6470    0.6261     10000\n",
      "          2*     0.4566    0.4306    0.4432     10000\n",
      "          3*     0.4559    0.4510    0.4534     10000\n",
      "          4*     0.4648    0.5021    0.4827     10000\n",
      "          5*     0.6490    0.5973    0.6221     10000\n",
      "\n",
      "    accuracy                         0.5256     50000\n",
      "   macro avg     0.5265    0.5256    0.5255     50000\n",
      "weighted avg     0.5265    0.5256    0.5255     50000\n",
      "\n"
     ]
    },
    {
     "data": {
      "image/png": "[encoded data removed]",
      "text/plain": [
       "<Figure size 640x480 with 2 Axes>"
      ]
     },
     "metadata": {},
     "output_type": "display_data"
    }
   ],
   "source": [
    "nb_results = evaluate_model(clf_nb, model_name=\"nb\")\n",
    "evaluation_results['Naive Bayes'] = nb_results"
   ]
  },
  {
   "cell_type": "markdown",
   "metadata": {},
   "source": [
    "### Logistic Regression Classifier-Lasso"
   ]
  },
  {
   "cell_type": "code",
   "execution_count": 33,
   "metadata": {},
   "outputs": [],
   "source": [
    "from sklearn.linear_model import LogisticRegression\n",
    "\n",
    "# Logistic Regression with L2 regularization\n",
    "clf_lr_lasso = LogisticRegression(penalty='l2',\n",
    "                                  tol=1e-4,\n",
    "                                  C=5.0,\n",
    "                                  fit_intercept=True,\n",
    "                                  class_weight='balanced',\n",
    "                                  random_state=0,\n",
    "                                  solver='lbfgs',\n",
    "                                  max_iter=500,\n",
    "                                  multi_class='auto',\n",
    "                                  verbose=1,\n",
    "                                  n_jobs=-1)"
   ]
  },
  {
   "cell_type": "code",
   "execution_count": 34,
   "metadata": {},
   "outputs": [
    {
     "name": "stderr",
     "output_type": "stream",
     "text": [
      "[Parallel(n_jobs=-1)]: Using backend LokyBackend with 12 concurrent workers.\n",
      "[Parallel(n_jobs=-1)]: Done   1 out of   1 | elapsed:  9.5min finished\n"
     ]
    },
    {
     "data": {
      "text/html": [
       "<style>#sk-container-id-4 {color: black;background-color: white;}#sk-container-id-4 pre{padding: 0;}#sk-container-id-4 div.sk-toggleable {background-color: white;}#sk-container-id-4 label.sk-toggleable__label {cursor: pointer;display: block;width: 100%;margin-bottom: 0;padding: 0.3em;box-sizing: border-box;text-align: center;}#sk-container-id-4 label.sk-toggleable__label-arrow:before {content: \"▸\";float: left;margin-right: 0.25em;color: #696969;}#sk-container-id-4 label.sk-toggleable__label-arrow:hover:before {color: black;}#sk-container-id-4 div.sk-estimator:hover label.sk-toggleable__label-arrow:before {color: black;}#sk-container-id-4 div.sk-toggleable__content {max-height: 0;max-width: 0;overflow: hidden;text-align: left;background-color: #f0f8ff;}#sk-container-id-4 div.sk-toggleable__content pre {margin: 0.2em;color: black;border-radius: 0.25em;background-color: #f0f8ff;}#sk-container-id-4 input.sk-toggleable__control:checked~div.sk-toggleable__content {max-height: 200px;max-width: 100%;overflow: auto;}#sk-container-id-4 input.sk-toggleable__control:checked~label.sk-toggleable__label-arrow:before {content: \"▾\";}#sk-container-id-4 div.sk-estimator input.sk-toggleable__control:checked~label.sk-toggleable__label {background-color: #d4ebff;}#sk-container-id-4 div.sk-label input.sk-toggleable__control:checked~label.sk-toggleable__label {background-color: #d4ebff;}#sk-container-id-4 input.sk-hidden--visually {border: 0;clip: rect(1px 1px 1px 1px);clip: rect(1px, 1px, 1px, 1px);height: 1px;margin: -1px;overflow: hidden;padding: 0;position: absolute;width: 1px;}#sk-container-id-4 div.sk-estimator {font-family: monospace;background-color: #f0f8ff;border: 1px dotted black;border-radius: 0.25em;box-sizing: border-box;margin-bottom: 0.5em;}#sk-container-id-4 div.sk-estimator:hover {background-color: #d4ebff;}#sk-container-id-4 div.sk-parallel-item::after {content: \"\";width: 100%;border-bottom: 1px solid gray;flex-grow: 1;}#sk-container-id-4 div.sk-label:hover label.sk-toggleable__label {background-color: #d4ebff;}#sk-container-id-4 div.sk-serial::before {content: \"\";position: absolute;border-left: 1px solid gray;box-sizing: border-box;top: 0;bottom: 0;left: 50%;z-index: 0;}#sk-container-id-4 div.sk-serial {display: flex;flex-direction: column;align-items: center;background-color: white;padding-right: 0.2em;padding-left: 0.2em;position: relative;}#sk-container-id-4 div.sk-item {position: relative;z-index: 1;}#sk-container-id-4 div.sk-parallel {display: flex;align-items: stretch;justify-content: center;background-color: white;position: relative;}#sk-container-id-4 div.sk-item::before, #sk-container-id-4 div.sk-parallel-item::before {content: \"\";position: absolute;border-left: 1px solid gray;box-sizing: border-box;top: 0;bottom: 0;left: 50%;z-index: -1;}#sk-container-id-4 div.sk-parallel-item {display: flex;flex-direction: column;z-index: 1;position: relative;background-color: white;}#sk-container-id-4 div.sk-parallel-item:first-child::after {align-self: flex-end;width: 50%;}#sk-container-id-4 div.sk-parallel-item:last-child::after {align-self: flex-start;width: 50%;}#sk-container-id-4 div.sk-parallel-item:only-child::after {width: 0;}#sk-container-id-4 div.sk-dashed-wrapped {border: 1px dashed gray;margin: 0 0.4em 0.5em 0.4em;box-sizing: border-box;padding-bottom: 0.4em;background-color: white;}#sk-container-id-4 div.sk-label label {font-family: monospace;font-weight: bold;display: inline-block;line-height: 1.2em;}#sk-container-id-4 div.sk-label-container {text-align: center;}#sk-container-id-4 div.sk-container {/* jupyter's `normalize.less` sets `[hidden] { display: none; }` but bootstrap.min.css set `[hidden] { display: none !important; }` so we also need the `!important` here to be able to override the default hidden behavior on the sphinx rendered scikit-learn.org. See: https://github.com/scikit-learn/scikit-learn/issues/21755 */display: inline-block !important;position: relative;}#sk-container-id-4 div.sk-text-repr-fallback {display: none;}</style><div id=\"sk-container-id-4\" class=\"sk-top-container\"><div class=\"sk-text-repr-fallback\"><pre>LogisticRegression(C=5.0, class_weight=&#x27;balanced&#x27;, max_iter=500, n_jobs=-1,\n",
       "                   random_state=0, verbose=1)</pre><b>In a Jupyter environment, please rerun this cell to show the HTML representation or trust the notebook. <br />On GitHub, the HTML representation is unable to render, please try loading this page with nbviewer.org.</b></div><div class=\"sk-container\" hidden><div class=\"sk-item\"><div class=\"sk-estimator sk-toggleable\"><input class=\"sk-toggleable__control sk-hidden--visually\" id=\"sk-estimator-id-4\" type=\"checkbox\" checked><label for=\"sk-estimator-id-4\" class=\"sk-toggleable__label sk-toggleable__label-arrow\">LogisticRegression</label><div class=\"sk-toggleable__content\"><pre>LogisticRegression(C=5.0, class_weight=&#x27;balanced&#x27;, max_iter=500, n_jobs=-1,\n",
       "                   random_state=0, verbose=1)</pre></div></div></div></div></div>"
      ],
      "text/plain": [
       "LogisticRegression(C=5.0, class_weight='balanced', max_iter=500, n_jobs=-1,\n",
       "                   random_state=0, verbose=1)"
      ]
     },
     "execution_count": 34,
     "metadata": {},
     "output_type": "execute_result"
    }
   ],
   "source": [
    "clf_lr_lasso.fit(X_train, y_train)"
   ]
  },
  {
   "cell_type": "code",
   "execution_count": 35,
   "metadata": {},
   "outputs": [
    {
     "name": "stdout",
     "output_type": "stream",
     "text": [
      "Train Set\n",
      "Accuracy: 0.68148\n",
      "\n",
      "              precision    recall  f1-score   support\n",
      "\n",
      "          1*     0.7692    0.8162    0.7920    130000\n",
      "          2*     0.6560    0.6099    0.6321    130000\n",
      "          3*     0.6220    0.5950    0.6082    130000\n",
      "          4*     0.6198    0.6009    0.6102    130000\n",
      "          5*     0.7252    0.7854    0.7541    130000\n",
      "\n",
      "    accuracy                         0.6815    650000\n",
      "   macro avg     0.6784    0.6815    0.6793    650000\n",
      "weighted avg     0.6784    0.6815    0.6793    650000\n",
      "\n"
     ]
    },
    {
     "data": {
      "image/png": "[encoded data removed]",
      "text/plain": [
       "<Figure size 640x480 with 2 Axes>"
      ]
     },
     "metadata": {},
     "output_type": "display_data"
    },
    {
     "name": "stdout",
     "output_type": "stream",
     "text": [
      "Test Set\n",
      "Accuracy: 0.55618\n",
      "\n",
      "              precision    recall  f1-score   support\n",
      "\n",
      "          1*     0.6845    0.7262    0.7047     10000\n",
      "          2*     0.5012    0.4616    0.4806     10000\n",
      "          3*     0.4710    0.4574    0.4641     10000\n",
      "          4*     0.4667    0.4491    0.4577     10000\n",
      "          5*     0.6330    0.6866    0.6587     10000\n",
      "\n",
      "    accuracy                         0.5562     50000\n",
      "   macro avg     0.5513    0.5562    0.5532     50000\n",
      "weighted avg     0.5513    0.5562    0.5532     50000\n",
      "\n"
     ]
    },
    {
     "data": {
      "image/png": "[encoded data removed]",
      "text/plain": [
       "<Figure size 640x480 with 2 Axes>"
      ]
     },
     "metadata": {},
     "output_type": "display_data"
    }
   ],
   "source": [
    "lr_results = evaluate_model(clf_lr_lasso, model_name=\"lr_tfidf_lasso\")\n",
    "evaluation_results['Logistic Regression L2'] = lr_results"
   ]
  },
  {
   "cell_type": "markdown",
   "metadata": {},
   "source": [
    "### Random Forest Classifier"
   ]
  },
  {
   "cell_type": "code",
   "execution_count": 36,
   "metadata": {},
   "outputs": [],
   "source": [
    "from sklearn.ensemble import RandomForestClassifier\n",
    "\n",
    "# Random Forest Classifier with 500 trees and Gini impurity as criterion. \n",
    "# No restrictions on the depth of the trees.\n",
    "clf_rf = RandomForestClassifier(n_estimators=500,\n",
    "                                criterion=\"gini\",\n",
    "                                max_depth=None, \n",
    "                                min_samples_split=2,\n",
    "                                min_samples_leaf=10, \n",
    "                                max_features=\"auto\", \n",
    "                                n_jobs=-1,\n",
    "                                verbose=1,\n",
    "                                random_state=0,\n",
    "                                class_weight='balanced')"
   ]
  },
  {
   "cell_type": "code",
   "execution_count": 37,
   "metadata": {},
   "outputs": [
    {
     "name": "stderr",
     "output_type": "stream",
     "text": [
      "c:\\Users\\melan\\AppData\\Local\\Programs\\Python\\Python311\\Lib\\site-packages\\sklearn\\ensemble\\_forest.py:424: FutureWarning: `max_features='auto'` has been deprecated in 1.1 and will be removed in 1.3. To keep the past behaviour, explicitly set `max_features='sqrt'` or remove this parameter as it is also the default value for RandomForestClassifiers and ExtraTreesClassifiers.\n",
      "  warn(\n",
      "[Parallel(n_jobs=-1)]: Using backend ThreadingBackend with 12 concurrent workers.\n",
      "[Parallel(n_jobs=-1)]: Done  26 tasks      | elapsed:  2.4min\n",
      "[Parallel(n_jobs=-1)]: Done 176 tasks      | elapsed: 12.5min\n",
      "[Parallel(n_jobs=-1)]: Done 426 tasks      | elapsed: 29.8min\n",
      "[Parallel(n_jobs=-1)]: Done 500 out of 500 | elapsed: 34.7min finished\n"
     ]
    },
    {
     "data": {
      "text/html": [
       "<style>#sk-container-id-5 {color: black;background-color: white;}#sk-container-id-5 pre{padding: 0;}#sk-container-id-5 div.sk-toggleable {background-color: white;}#sk-container-id-5 label.sk-toggleable__label {cursor: pointer;display: block;width: 100%;margin-bottom: 0;padding: 0.3em;box-sizing: border-box;text-align: center;}#sk-container-id-5 label.sk-toggleable__label-arrow:before {content: \"▸\";float: left;margin-right: 0.25em;color: #696969;}#sk-container-id-5 label.sk-toggleable__label-arrow:hover:before {color: black;}#sk-container-id-5 div.sk-estimator:hover label.sk-toggleable__label-arrow:before {color: black;}#sk-container-id-5 div.sk-toggleable__content {max-height: 0;max-width: 0;overflow: hidden;text-align: left;background-color: #f0f8ff;}#sk-container-id-5 div.sk-toggleable__content pre {margin: 0.2em;color: black;border-radius: 0.25em;background-color: #f0f8ff;}#sk-container-id-5 input.sk-toggleable__control:checked~div.sk-toggleable__content {max-height: 200px;max-width: 100%;overflow: auto;}#sk-container-id-5 input.sk-toggleable__control:checked~label.sk-toggleable__label-arrow:before {content: \"▾\";}#sk-container-id-5 div.sk-estimator input.sk-toggleable__control:checked~label.sk-toggleable__label {background-color: #d4ebff;}#sk-container-id-5 div.sk-label input.sk-toggleable__control:checked~label.sk-toggleable__label {background-color: #d4ebff;}#sk-container-id-5 input.sk-hidden--visually {border: 0;clip: rect(1px 1px 1px 1px);clip: rect(1px, 1px, 1px, 1px);height: 1px;margin: -1px;overflow: hidden;padding: 0;position: absolute;width: 1px;}#sk-container-id-5 div.sk-estimator {font-family: monospace;background-color: #f0f8ff;border: 1px dotted black;border-radius: 0.25em;box-sizing: border-box;margin-bottom: 0.5em;}#sk-container-id-5 div.sk-estimator:hover {background-color: #d4ebff;}#sk-container-id-5 div.sk-parallel-item::after {content: \"\";width: 100%;border-bottom: 1px solid gray;flex-grow: 1;}#sk-container-id-5 div.sk-label:hover label.sk-toggleable__label {background-color: #d4ebff;}#sk-container-id-5 div.sk-serial::before {content: \"\";position: absolute;border-left: 1px solid gray;box-sizing: border-box;top: 0;bottom: 0;left: 50%;z-index: 0;}#sk-container-id-5 div.sk-serial {display: flex;flex-direction: column;align-items: center;background-color: white;padding-right: 0.2em;padding-left: 0.2em;position: relative;}#sk-container-id-5 div.sk-item {position: relative;z-index: 1;}#sk-container-id-5 div.sk-parallel {display: flex;align-items: stretch;justify-content: center;background-color: white;position: relative;}#sk-container-id-5 div.sk-item::before, #sk-container-id-5 div.sk-parallel-item::before {content: \"\";position: absolute;border-left: 1px solid gray;box-sizing: border-box;top: 0;bottom: 0;left: 50%;z-index: -1;}#sk-container-id-5 div.sk-parallel-item {display: flex;flex-direction: column;z-index: 1;position: relative;background-color: white;}#sk-container-id-5 div.sk-parallel-item:first-child::after {align-self: flex-end;width: 50%;}#sk-container-id-5 div.sk-parallel-item:last-child::after {align-self: flex-start;width: 50%;}#sk-container-id-5 div.sk-parallel-item:only-child::after {width: 0;}#sk-container-id-5 div.sk-dashed-wrapped {border: 1px dashed gray;margin: 0 0.4em 0.5em 0.4em;box-sizing: border-box;padding-bottom: 0.4em;background-color: white;}#sk-container-id-5 div.sk-label label {font-family: monospace;font-weight: bold;display: inline-block;line-height: 1.2em;}#sk-container-id-5 div.sk-label-container {text-align: center;}#sk-container-id-5 div.sk-container {/* jupyter's `normalize.less` sets `[hidden] { display: none; }` but bootstrap.min.css set `[hidden] { display: none !important; }` so we also need the `!important` here to be able to override the default hidden behavior on the sphinx rendered scikit-learn.org. See: https://github.com/scikit-learn/scikit-learn/issues/21755 */display: inline-block !important;position: relative;}#sk-container-id-5 div.sk-text-repr-fallback {display: none;}</style><div id=\"sk-container-id-5\" class=\"sk-top-container\"><div class=\"sk-text-repr-fallback\"><pre>RandomForestClassifier(class_weight=&#x27;balanced&#x27;, max_features=&#x27;auto&#x27;,\n",
       "                       min_samples_leaf=10, n_estimators=500, n_jobs=-1,\n",
       "                       random_state=0, verbose=1)</pre><b>In a Jupyter environment, please rerun this cell to show the HTML representation or trust the notebook. <br />On GitHub, the HTML representation is unable to render, please try loading this page with nbviewer.org.</b></div><div class=\"sk-container\" hidden><div class=\"sk-item\"><div class=\"sk-estimator sk-toggleable\"><input class=\"sk-toggleable__control sk-hidden--visually\" id=\"sk-estimator-id-5\" type=\"checkbox\" checked><label for=\"sk-estimator-id-5\" class=\"sk-toggleable__label sk-toggleable__label-arrow\">RandomForestClassifier</label><div class=\"sk-toggleable__content\"><pre>RandomForestClassifier(class_weight=&#x27;balanced&#x27;, max_features=&#x27;auto&#x27;,\n",
       "                       min_samples_leaf=10, n_estimators=500, n_jobs=-1,\n",
       "                       random_state=0, verbose=1)</pre></div></div></div></div></div>"
      ],
      "text/plain": [
       "RandomForestClassifier(class_weight='balanced', max_features='auto',\n",
       "                       min_samples_leaf=10, n_estimators=500, n_jobs=-1,\n",
       "                       random_state=0, verbose=1)"
      ]
     },
     "execution_count": 37,
     "metadata": {},
     "output_type": "execute_result"
    }
   ],
   "source": [
    "clf_rf.fit(X_train, y_train)"
   ]
  },
  {
   "cell_type": "code",
   "execution_count": 38,
   "metadata": {},
   "outputs": [
    {
     "name": "stderr",
     "output_type": "stream",
     "text": [
      "[Parallel(n_jobs=12)]: Using backend ThreadingBackend with 12 concurrent workers.\n",
      "[Parallel(n_jobs=12)]: Done  26 tasks      | elapsed:    3.7s\n",
      "[Parallel(n_jobs=12)]: Done 176 tasks      | elapsed:   19.6s\n",
      "[Parallel(n_jobs=12)]: Done 426 tasks      | elapsed:   46.5s\n",
      "[Parallel(n_jobs=12)]: Done 500 out of 500 | elapsed:   54.7s finished\n"
     ]
    },
    {
     "name": "stdout",
     "output_type": "stream",
     "text": [
      "Train Set\n",
      "Accuracy: 0.6113569230769231\n",
      "\n",
      "              precision    recall  f1-score   support\n",
      "\n",
      "          1*     0.6167    0.8275    0.7067    130000\n",
      "          2*     0.6176    0.4830    0.5421    130000\n",
      "          3*     0.6115    0.5182    0.5610    130000\n",
      "          4*     0.5877    0.4901    0.5345    130000\n",
      "          5*     0.6177    0.7379    0.6725    130000\n",
      "\n",
      "    accuracy                         0.6114    650000\n",
      "   macro avg     0.6102    0.6114    0.6034    650000\n",
      "weighted avg     0.6102    0.6114    0.6034    650000\n",
      "\n"
     ]
    },
    {
     "data": {
      "image/png": "[encoded data removed]",
      "text/plain": [
       "<Figure size 640x480 with 2 Axes>"
      ]
     },
     "metadata": {},
     "output_type": "display_data"
    },
    {
     "name": "stderr",
     "output_type": "stream",
     "text": [
      "[Parallel(n_jobs=12)]: Using backend ThreadingBackend with 12 concurrent workers.\n",
      "[Parallel(n_jobs=12)]: Done  26 tasks      | elapsed:    0.3s\n",
      "[Parallel(n_jobs=12)]: Done 176 tasks      | elapsed:    1.9s\n",
      "[Parallel(n_jobs=12)]: Done 426 tasks      | elapsed:    4.7s\n",
      "[Parallel(n_jobs=12)]: Done 500 out of 500 | elapsed:    5.3s finished\n"
     ]
    },
    {
     "name": "stdout",
     "output_type": "stream",
     "text": [
      "Test Set\n",
      "Accuracy: 0.53076\n",
      "\n",
      "              precision    recall  f1-score   support\n",
      "\n",
      "          1*     0.5799    0.7919    0.6695     10000\n",
      "          2*     0.4881    0.3858    0.4310     10000\n",
      "          3*     0.4766    0.3983    0.4339     10000\n",
      "          4*     0.4751    0.3936    0.4305     10000\n",
      "          5*     0.5799    0.6842    0.6277     10000\n",
      "\n",
      "    accuracy                         0.5308     50000\n",
      "   macro avg     0.5199    0.5308    0.5185     50000\n",
      "weighted avg     0.5199    0.5308    0.5185     50000\n",
      "\n"
     ]
    },
    {
     "data": {
      "image/png": "[encoded data removed]",
      "text/plain": [
       "<Figure size 640x480 with 2 Axes>"
      ]
     },
     "metadata": {},
     "output_type": "display_data"
    }
   ],
   "source": [
    "rf_results = evaluate_model(clf_rf, model_name=\"rf\")\n",
    "evaluation_results['Random Forest'] = rf_results"
   ]
  },
  {
   "cell_type": "markdown",
   "metadata": {},
   "source": [
    "### SGDClassifier"
   ]
  },
  {
   "cell_type": "code",
   "execution_count": 39,
   "metadata": {},
   "outputs": [],
   "source": [
    "from sklearn.linear_model import SGDClassifier\n",
    "from sklearn.preprocessing import StandardScaler\n",
    "from sklearn.pipeline import make_pipeline\n",
    "\n",
    "# Stochastic Gradient Descent Classifier with hinge loss, L2 regularization, and optimal learning rate.\n",
    "clf_sgd = make_pipeline(StandardScaler(with_mean=False),\n",
    "                        SGDClassifier(loss='hinge',\n",
    "                                      penalty='l2',\n",
    "                                      alpha=30,\n",
    "                                      max_iter=1000, \n",
    "                                      tol=1e-3,\n",
    "                                      shuffle=True,\n",
    "                                      verbose=1,\n",
    "                                      n_jobs=-1,\n",
    "                                      random_state=0,\n",
    "                                      learning_rate='optimal',\n",
    "                                      early_stopping=True,\n",
    "                                      class_weight='balanced'))"
   ]
  },
  {
   "cell_type": "code",
   "execution_count": 40,
   "metadata": {},
   "outputs": [
    {
     "name": "stderr",
     "output_type": "stream",
     "text": [
      "[Parallel(n_jobs=-1)]: Using backend ThreadingBackend with 12 concurrent workers.\n"
     ]
    },
    {
     "name": "stdout",
     "output_type": "stream",
     "text": [
      "-- Epoch 1\n",
      "-- Epoch 1\n",
      "-- Epoch 1\n",
      "-- Epoch 1\n",
      "-- Epoch 1\n",
      "Norm: 0.08, NNZs: 67949, Bias: -0.006463, T: 585000, Avg. loss: 0.752129\n",
      "Total training time: 0.85 seconds.\n",
      "Norm: 0.08, NNZs: 67899, Bias: -0.005997, T: 585000, Avg. loss: 0.717884\n",
      "Total training time: 0.89 seconds.\n",
      "Norm: 0.08, NNZs: 67940, Bias: 0.002042, T: 585000, Avg. loss: 0.744982\n",
      "Total training time: 0.90 seconds.\n",
      "Norm: 0.08, NNZs: 67868, Bias: -0.005894, T: 585000, Avg. loss: 0.674323\n",
      "Total training time: 0.92 seconds.\n",
      "Norm: 0.08, NNZs: 67851, Bias: -0.006130, T: 585000, Avg. loss: 0.705845\n",
      "Total training time: 0.94 seconds.\n",
      "-- Epoch 2\n",
      "-- Epoch 2\n",
      "-- Epoch 2\n",
      "-- Epoch 2\n",
      "-- Epoch 2\n",
      "Norm: 0.08, NNZs: 67916, Bias: -0.006113, T: 1170000, Avg. loss: 0.716006\n",
      "Total training time: 1.71 seconds.\n",
      "Norm: 0.08, NNZs: 67948, Bias: 0.001923, T: 1170000, Avg. loss: 0.743247\n",
      "Total training time: 1.71 seconds.\n",
      "Norm: 0.08, NNZs: 67954, Bias: -0.006584, T: 1170000, Avg. loss: 0.750079\n",
      "Total training time: 1.72 seconds.\n",
      "-- Epoch 3\n",
      "Norm: 0.08, NNZs: 67875, Bias: -0.006006, T: 1170000, Avg. loss: 0.672670\n",
      "Total training time: 1.76 seconds.\n",
      "Norm: 0.08, NNZs: 67869, Bias: -0.006249, T: 1170000, Avg. loss: 0.704090\n",
      "Total training time: 1.77 seconds.\n",
      "-- Epoch 3\n",
      "-- Epoch 3\n",
      "-- Epoch 3\n",
      "-- Epoch 3\n",
      "Norm: 0.08, NNZs: 67916, Bias: -0.006181, T: 1755000, Avg. loss: 0.715780\n",
      "Total training time: 2.39 seconds.\n",
      "-- Epoch 4\n",
      "Norm: 0.08, NNZs: 67954, Bias: -0.006655, T: 1755000, Avg. loss: 0.749748\n",
      "Total training time: 2.43 seconds.\n",
      "Norm: 0.08, NNZs: 67951, Bias: 0.001853, T: 1755000, Avg. loss: 0.742932\n",
      "Total training time: 2.44 seconds.\n",
      "-- Epoch 4\n",
      "-- Epoch 4\n",
      "Norm: 0.08, NNZs: 67884, Bias: -0.006071, T: 1755000, Avg. loss: 0.672385\n",
      "Total training time: 2.49 seconds.\n",
      "Norm: 0.08, NNZs: 67876, Bias: -0.006318, T: 1755000, Avg. loss: 0.703638\n",
      "Total training time: 2.50 seconds.\n",
      "-- Epoch 4\n",
      "-- Epoch 4\n",
      "Norm: 0.08, NNZs: 67915, Bias: -0.006229, T: 2340000, Avg. loss: 0.715664\n",
      "Total training time: 3.04 seconds.\n",
      "-- Epoch 5\n",
      "Norm: 0.08, NNZs: 67952, Bias: -0.006705, T: 2340000, Avg. loss: 0.749713\n",
      "Total training time: 3.08 seconds.\n",
      "Norm: 0.08, NNZs: 67953, Bias: 0.001804, T: 2340000, Avg. loss: 0.742966\n",
      "Total training time: 3.10 seconds.\n",
      "-- Epoch 5\n",
      "Norm: 0.08, NNZs: 67886, Bias: -0.006117, T: 2340000, Avg. loss: 0.672248\n",
      "Total training time: 3.15 seconds.\n",
      "-- Epoch 5\n",
      "-- Epoch 5\n",
      "Norm: 0.08, NNZs: 67881, Bias: -0.006367, T: 2340000, Avg. loss: 0.703576\n",
      "Total training time: 3.20 seconds.\n",
      "-- Epoch 5\n",
      "Norm: 0.08, NNZs: 67920, Bias: -0.006267, T: 2925000, Avg. loss: 0.715612\n",
      "Total training time: 3.73 seconds.\n",
      "-- Epoch 6\n",
      "Norm: 0.08, NNZs: 67951, Bias: 0.001765, T: 2925000, Avg. loss: 0.742760\n",
      "Total training time: 3.79 seconds.\n",
      "Norm: 0.08, NNZs: 67959, Bias: -0.006744, T: 2925000, Avg. loss: 0.749598\n",
      "Total training time: 3.79 seconds.\n",
      "-- Epoch 6\n",
      "-- Epoch 6\n",
      "Norm: 0.08, NNZs: 67880, Bias: -0.006153, T: 2925000, Avg. loss: 0.672212\n",
      "Total training time: 3.86 seconds.\n",
      "-- Epoch 6\n",
      "Norm: 0.08, NNZs: 67880, Bias: -0.006405, T: 2925000, Avg. loss: 0.703468\n",
      "Total training time: 3.92 seconds.\n",
      "-- Epoch 6\n",
      "Norm: 0.08, NNZs: 67922, Bias: -0.006297, T: 3510000, Avg. loss: 0.715553\n",
      "Total training time: 4.37 seconds.\n",
      "Convergence after 6 epochs took 4.41 seconds\n",
      "Norm: 0.08, NNZs: 67959, Bias: -0.006776, T: 3510000, Avg. loss: 0.749528\n",
      "Total training time: 4.46 seconds.\n",
      "Norm: 0.08, NNZs: 67955, Bias: 0.001734, T: 3510000, Avg. loss: 0.742689\n",
      "Total training time: 4.48 seconds.\n",
      "Convergence after 6 epochs took 4.49 seconds\n",
      "Convergence after 6 epochs took 4.53 seconds\n",
      "Norm: 0.08, NNZs: 67884, Bias: -0.006183, T: 3510000, Avg. loss: 0.672109\n",
      "Total training time: 4.55 seconds.\n",
      "Convergence after 6 epochs took 4.56 seconds\n",
      "Norm: 0.08, NNZs: 67878, Bias: -0.006436, T: 3510000, Avg. loss: 0.703412\n",
      "Total training time: 4.61 seconds.\n",
      "Convergence after 6 epochs took 4.64 seconds\n"
     ]
    },
    {
     "name": "stderr",
     "output_type": "stream",
     "text": [
      "[Parallel(n_jobs=-1)]: Done   5 out of   5 | elapsed:    4.7s finished\n"
     ]
    },
    {
     "data": {
      "text/html": [
       "<style>#sk-container-id-6 {color: black;background-color: white;}#sk-container-id-6 pre{padding: 0;}#sk-container-id-6 div.sk-toggleable {background-color: white;}#sk-container-id-6 label.sk-toggleable__label {cursor: pointer;display: block;width: 100%;margin-bottom: 0;padding: 0.3em;box-sizing: border-box;text-align: center;}#sk-container-id-6 label.sk-toggleable__label-arrow:before {content: \"▸\";float: left;margin-right: 0.25em;color: #696969;}#sk-container-id-6 label.sk-toggleable__label-arrow:hover:before {color: black;}#sk-container-id-6 div.sk-estimator:hover label.sk-toggleable__label-arrow:before {color: black;}#sk-container-id-6 div.sk-toggleable__content {max-height: 0;max-width: 0;overflow: hidden;text-align: left;background-color: #f0f8ff;}#sk-container-id-6 div.sk-toggleable__content pre {margin: 0.2em;color: black;border-radius: 0.25em;background-color: #f0f8ff;}#sk-container-id-6 input.sk-toggleable__control:checked~div.sk-toggleable__content {max-height: 200px;max-width: 100%;overflow: auto;}#sk-container-id-6 input.sk-toggleable__control:checked~label.sk-toggleable__label-arrow:before {content: \"▾\";}#sk-container-id-6 div.sk-estimator input.sk-toggleable__control:checked~label.sk-toggleable__label {background-color: #d4ebff;}#sk-container-id-6 div.sk-label input.sk-toggleable__control:checked~label.sk-toggleable__label {background-color: #d4ebff;}#sk-container-id-6 input.sk-hidden--visually {border: 0;clip: rect(1px 1px 1px 1px);clip: rect(1px, 1px, 1px, 1px);height: 1px;margin: -1px;overflow: hidden;padding: 0;position: absolute;width: 1px;}#sk-container-id-6 div.sk-estimator {font-family: monospace;background-color: #f0f8ff;border: 1px dotted black;border-radius: 0.25em;box-sizing: border-box;margin-bottom: 0.5em;}#sk-container-id-6 div.sk-estimator:hover {background-color: #d4ebff;}#sk-container-id-6 div.sk-parallel-item::after {content: \"\";width: 100%;border-bottom: 1px solid gray;flex-grow: 1;}#sk-container-id-6 div.sk-label:hover label.sk-toggleable__label {background-color: #d4ebff;}#sk-container-id-6 div.sk-serial::before {content: \"\";position: absolute;border-left: 1px solid gray;box-sizing: border-box;top: 0;bottom: 0;left: 50%;z-index: 0;}#sk-container-id-6 div.sk-serial {display: flex;flex-direction: column;align-items: center;background-color: white;padding-right: 0.2em;padding-left: 0.2em;position: relative;}#sk-container-id-6 div.sk-item {position: relative;z-index: 1;}#sk-container-id-6 div.sk-parallel {display: flex;align-items: stretch;justify-content: center;background-color: white;position: relative;}#sk-container-id-6 div.sk-item::before, #sk-container-id-6 div.sk-parallel-item::before {content: \"\";position: absolute;border-left: 1px solid gray;box-sizing: border-box;top: 0;bottom: 0;left: 50%;z-index: -1;}#sk-container-id-6 div.sk-parallel-item {display: flex;flex-direction: column;z-index: 1;position: relative;background-color: white;}#sk-container-id-6 div.sk-parallel-item:first-child::after {align-self: flex-end;width: 50%;}#sk-container-id-6 div.sk-parallel-item:last-child::after {align-self: flex-start;width: 50%;}#sk-container-id-6 div.sk-parallel-item:only-child::after {width: 0;}#sk-container-id-6 div.sk-dashed-wrapped {border: 1px dashed gray;margin: 0 0.4em 0.5em 0.4em;box-sizing: border-box;padding-bottom: 0.4em;background-color: white;}#sk-container-id-6 div.sk-label label {font-family: monospace;font-weight: bold;display: inline-block;line-height: 1.2em;}#sk-container-id-6 div.sk-label-container {text-align: center;}#sk-container-id-6 div.sk-container {/* jupyter's `normalize.less` sets `[hidden] { display: none; }` but bootstrap.min.css set `[hidden] { display: none !important; }` so we also need the `!important` here to be able to override the default hidden behavior on the sphinx rendered scikit-learn.org. See: https://github.com/scikit-learn/scikit-learn/issues/21755 */display: inline-block !important;position: relative;}#sk-container-id-6 div.sk-text-repr-fallback {display: none;}</style><div id=\"sk-container-id-6\" class=\"sk-top-container\"><div class=\"sk-text-repr-fallback\"><pre>Pipeline(steps=[(&#x27;standardscaler&#x27;, StandardScaler(with_mean=False)),\n",
       "                (&#x27;sgdclassifier&#x27;,\n",
       "                 SGDClassifier(alpha=30, class_weight=&#x27;balanced&#x27;,\n",
       "                               early_stopping=True, n_jobs=-1, random_state=0,\n",
       "                               verbose=1))])</pre><b>In a Jupyter environment, please rerun this cell to show the HTML representation or trust the notebook. <br />On GitHub, the HTML representation is unable to render, please try loading this page with nbviewer.org.</b></div><div class=\"sk-container\" hidden><div class=\"sk-item sk-dashed-wrapped\"><div class=\"sk-label-container\"><div class=\"sk-label sk-toggleable\"><input class=\"sk-toggleable__control sk-hidden--visually\" id=\"sk-estimator-id-6\" type=\"checkbox\" ><label for=\"sk-estimator-id-6\" class=\"sk-toggleable__label sk-toggleable__label-arrow\">Pipeline</label><div class=\"sk-toggleable__content\"><pre>Pipeline(steps=[(&#x27;standardscaler&#x27;, StandardScaler(with_mean=False)),\n",
       "                (&#x27;sgdclassifier&#x27;,\n",
       "                 SGDClassifier(alpha=30, class_weight=&#x27;balanced&#x27;,\n",
       "                               early_stopping=True, n_jobs=-1, random_state=0,\n",
       "                               verbose=1))])</pre></div></div></div><div class=\"sk-serial\"><div class=\"sk-item\"><div class=\"sk-estimator sk-toggleable\"><input class=\"sk-toggleable__control sk-hidden--visually\" id=\"sk-estimator-id-7\" type=\"checkbox\" ><label for=\"sk-estimator-id-7\" class=\"sk-toggleable__label sk-toggleable__label-arrow\">StandardScaler</label><div class=\"sk-toggleable__content\"><pre>StandardScaler(with_mean=False)</pre></div></div></div><div class=\"sk-item\"><div class=\"sk-estimator sk-toggleable\"><input class=\"sk-toggleable__control sk-hidden--visually\" id=\"sk-estimator-id-8\" type=\"checkbox\" ><label for=\"sk-estimator-id-8\" class=\"sk-toggleable__label sk-toggleable__label-arrow\">SGDClassifier</label><div class=\"sk-toggleable__content\"><pre>SGDClassifier(alpha=30, class_weight=&#x27;balanced&#x27;, early_stopping=True, n_jobs=-1,\n",
       "              random_state=0, verbose=1)</pre></div></div></div></div></div></div></div>"
      ],
      "text/plain": [
       "Pipeline(steps=[('standardscaler', StandardScaler(with_mean=False)),\n",
       "                ('sgdclassifier',\n",
       "                 SGDClassifier(alpha=30, class_weight='balanced',\n",
       "                               early_stopping=True, n_jobs=-1, random_state=0,\n",
       "                               verbose=1))])"
      ]
     },
     "execution_count": 40,
     "metadata": {},
     "output_type": "execute_result"
    }
   ],
   "source": [
    "clf_sgd.fit(X_train, y_train)"
   ]
  },
  {
   "cell_type": "code",
   "execution_count": 41,
   "metadata": {},
   "outputs": [
    {
     "name": "stdout",
     "output_type": "stream",
     "text": [
      "Train Set\n",
      "Accuracy: 0.5594492307692308\n",
      "\n",
      "              precision    recall  f1-score   support\n",
      "\n",
      "          1*     0.5505    0.8128    0.6564    130000\n",
      "          2*     0.5566    0.4140    0.4748    130000\n",
      "          3*     0.4730    0.5941    0.5267    130000\n",
      "          4*     0.5445    0.4601    0.4987    130000\n",
      "          5*     0.7605    0.5163    0.6150    130000\n",
      "\n",
      "    accuracy                         0.5594    650000\n",
      "   macro avg     0.5770    0.5594    0.5543    650000\n",
      "weighted avg     0.5770    0.5594    0.5543    650000\n",
      "\n"
     ]
    },
    {
     "data": {
      "image/png": "[encoded data removed]",
      "text/plain": [
       "<Figure size 640x480 with 2 Axes>"
      ]
     },
     "metadata": {},
     "output_type": "display_data"
    },
    {
     "name": "stdout",
     "output_type": "stream",
     "text": [
      "Test Set\n",
      "Accuracy: 0.51768\n",
      "\n",
      "              precision    recall  f1-score   support\n",
      "\n",
      "          1*     0.5311    0.7933    0.6362     10000\n",
      "          2*     0.5007    0.3700    0.4255     10000\n",
      "          3*     0.4243    0.5372    0.4741     10000\n",
      "          4*     0.4872    0.4042    0.4418     10000\n",
      "          5*     0.7204    0.4837    0.5788     10000\n",
      "\n",
      "    accuracy                         0.5177     50000\n",
      "   macro avg     0.5327    0.5177    0.5113     50000\n",
      "weighted avg     0.5327    0.5177    0.5113     50000\n",
      "\n"
     ]
    },
    {
     "data": {
      "image/png": "[encoded data removed]",
      "text/plain": [
       "<Figure size 640x480 with 2 Axes>"
      ]
     },
     "metadata": {},
     "output_type": "display_data"
    }
   ],
   "source": [
    "sgd_results = evaluate_model(clf_sgd, model_name=\"sgd\")\n",
    "evaluation_results['SGD'] = sgd_results"
   ]
  },
  {
   "cell_type": "markdown",
   "metadata": {},
   "source": [
    "### Performance comparison"
   ]
  },
  {
   "cell_type": "code",
   "execution_count": 42,
   "metadata": {},
   "outputs": [
    {
     "data": {
      "image/png": "[encoded data removed]",
      "text/plain": [
       "<Figure size 1000x600 with 1 Axes>"
      ]
     },
     "metadata": {},
     "output_type": "display_data"
    }
   ],
   "source": [
    "import matplotlib.pyplot as plt\n",
    "\n",
    "# Extract the model names and accuracy values from the evaluation_results dictionary\n",
    "model_names = list(evaluation_results.keys())\n",
    "test_accuracies = [result['Test'] for result in evaluation_results.values()]\n",
    "train_accuracies = [result['Train'] for result in evaluation_results.values()]\n",
    "\n",
    "# Create a line plot\n",
    "plt.figure(figsize=(10, 6))\n",
    "plt.plot(model_names, test_accuracies, marker='o', label='Test')\n",
    "plt.plot(model_names, train_accuracies, marker='o', label='Train')\n",
    "plt.xlabel('Model')\n",
    "plt.ylabel('Accuracy')\n",
    "plt.title('Model Performance')\n",
    "plt.ylim(0, 1)  # Set the y-axis limits to 0 and 1\n",
    "plt.xticks(rotation=45)  # Rotate the x-axis labels for better readability\n",
    "plt.legend()  # Show the legend\n",
    "plt.show()"
   ]
  },
  {
   "cell_type": "markdown",
   "metadata": {},
   "source": [
    "### Clustering with LDA (Latent Dirichlet Allocation)"
   ]
  },
  {
   "cell_type": "code",
   "execution_count": null,
   "metadata": {},
   "outputs": [],
   "source": [
    "# Load the dataset\n",
    "dataset = load_from_disk(\"yelp_review_full\")"
   ]
  },
  {
   "cell_type": "code",
   "execution_count": null,
   "metadata": {},
   "outputs": [],
   "source": [
    "# Convert the 'text' column of the dataset into a list\n",
    "data_text = []\n",
    "for split in dataset.keys():\n",
    "    data_text.extend(dataset[split]['text'])\n",
    "\n",
    "# Now convert data_text from a list into a Dataset from Hugging Face\n",
    "data_text_dataset = Dataset.from_dict({\"text\": data_text})"
   ]
  },
  {
   "cell_type": "code",
   "execution_count": null,
   "metadata": {},
   "outputs": [
    {
     "name": "stderr",
     "output_type": "stream",
     "text": [
      "Map: 100%|██████████| 700000/700000 [25:11<00:00, 463.18 examples/s]  \n"
     ]
    }
   ],
   "source": [
    "# Generate corpus for LDA, preprocessed and lemmatized\n",
    "stopwords = stopwords.words('english')\n",
    "\n",
    "def generate_corpus(doc):\n",
    "    cleaned_text = re.sub('[^a-zA-Z]', ' ', doc['text'])  # Remove non-alphabetic characters\n",
    "    cleaned_text = cleaned_text.lower()  # Convert to lowercase\n",
    "    cleaned_text = cleaned_text.split()  # Split into words\n",
    "    cleaned_text = [PorterStemmer().stem(word) for word in cleaned_text if word not in stopwords]  # Perform stemming and remove stopwords\n",
    "    doc['text'] = cleaned_text\n",
    "    return doc\n",
    "\n",
    "corpus = data_text_dataset.map(generate_corpus)"
   ]
  },
  {
   "cell_type": "code",
   "execution_count": null,
   "metadata": {},
   "outputs": [
    {
     "name": "stderr",
     "output_type": "stream",
     "text": [
      "Saving the dataset (0/1 shards):   0%|          | 0/700000 [00:00<?, ? examples/s]"
     ]
    },
    {
     "name": "stderr",
     "output_type": "stream",
     "text": [
      "Saving the dataset (1/1 shards): 100%|██████████| 700000/700000 [00:00<00:00, 1322630.76 examples/s]\n"
     ]
    }
   ],
   "source": [
    "# Save the corpus dataset to disk, for later use\n",
    "corpus.save_to_disk('corpus_lemmatized.h5')"
   ]
  },
  {
   "cell_type": "code",
   "execution_count": null,
   "metadata": {},
   "outputs": [],
   "source": [
    "# Load the lemmatized dataset\n",
    "corpus = load_from_disk('corpus_lemmatized.h5')"
   ]
  },
  {
   "cell_type": "code",
   "execution_count": null,
   "metadata": {},
   "outputs": [
    {
     "name": "stdout",
     "output_type": "stream",
     "text": [
      "Dictionary<181582 unique tokens: ['affili', 'alway', 'blank', 'case', 'complaint']...>\n"
     ]
    }
   ],
   "source": [
    "# Create a dictionary from the corpus, that is, a mapping between words and their integer ids\n",
    "dictionary = corpora.Dictionary(corpus['text'])\n",
    "\n",
    "print(dictionary)"
   ]
  },
  {
   "cell_type": "code",
   "execution_count": null,
   "metadata": {},
   "outputs": [
    {
     "data": {
      "text/plain": [
       "{96: 'abl',\n",
       " 187: 'absolut',\n",
       " 855: 'accept',\n",
       " 610: 'accommod',\n",
       " 562: 'across',\n",
       " 845: 'act',\n",
       " 43: 'actual',\n",
       " 563: 'ad',\n",
       " 278: 'add',\n",
       " 106: 'addit',\n",
       " 464: 'admit',\n",
       " 212: 'afford',\n",
       " 213: 'afternoon',\n",
       " 242: 'age',\n",
       " 243: 'ago',\n",
       " 661: 'agre',\n",
       " 214: 'ahead',\n",
       " 465: 'air',\n",
       " 358: 'airport',\n",
       " 882: 'alcohol',\n",
       " 625: 'allow',\n",
       " 44: 'almost',\n",
       " 862: 'alon',\n",
       " 582: 'along',\n",
       " 718: 'alreadi',\n",
       " 603: 'alright',\n",
       " 160: 'although',\n",
       " 142: 'amaz',\n",
       " 244: 'ambianc',\n",
       " 690: 'american',\n",
       " 682: 'amount',\n",
       " 865: 'annoy',\n",
       " 89: 'anoth',\n",
       " 15: 'answer',\n",
       " 803: 'anymor',\n",
       " 16: 'anyon',\n",
       " 107: 'anyth',\n",
       " 631: 'anyway',\n",
       " 406: 'anywher',\n",
       " 419: 'apart',\n",
       " 411: 'apolog',\n",
       " 420: 'appar',\n",
       " 199: 'appear',\n",
       " 466: 'appet',\n",
       " 90: 'appoint',\n",
       " 539: 'appreci',\n",
       " 467: 'area',\n",
       " 161: 'arriv',\n",
       " 953: 'asian',\n",
       " 970: 'ass',\n",
       " 790: 'assum',\n",
       " 279: 'ate',\n",
       " 390: 'atmospher',\n",
       " 646: 'attempt',\n",
       " 468: 'attend',\n",
       " 604: 'attent',\n",
       " 55: 'attitud',\n",
       " 969: 'authent',\n",
       " 188: 'avail',\n",
       " 359: 'averag',\n",
       " 611: 'avoid',\n",
       " 45: 'aw',\n",
       " 56: 'away',\n",
       " 245: 'awesom',\n",
       " 626: 'b',\n",
       " 831: 'babi',\n",
       " 531: 'bacon',\n",
       " 469: 'bag',\n",
       " 787: 'bake',\n",
       " 162: 'ball',\n",
       " 163: 'bare',\n",
       " 612: 'bartend',\n",
       " 470: 'base',\n",
       " 471: 'basic',\n",
       " 613: 'bathroom',\n",
       " 850: 'bbq',\n",
       " 574: 'bean',\n",
       " 796: 'beat',\n",
       " 960: 'beauti',\n",
       " 877: 'becom',\n",
       " 967: 'bed',\n",
       " 856: 'beef',\n",
       " 386: 'beer',\n",
       " 632: 'begin',\n",
       " 280: 'behind',\n",
       " 108: 'believ',\n",
       " 656: 'beyond',\n",
       " 31: 'big',\n",
       " 982: 'bigger',\n",
       " 109: 'bill',\n",
       " 878: 'birthday',\n",
       " 215: 'bit',\n",
       " 906: 'bite',\n",
       " 472: 'black',\n",
       " 907: 'bland',\n",
       " 281: 'blue',\n",
       " 421: 'book',\n",
       " 912: 'booth',\n",
       " 583: 'bore',\n",
       " 246: 'bother',\n",
       " 700: 'bottl',\n",
       " 647: 'bottom',\n",
       " 422: 'bought',\n",
       " 719: 'bowl',\n",
       " 200: 'box',\n",
       " 473: 'boy',\n",
       " 701: 'boyfriend',\n",
       " 520: 'brand',\n",
       " 282: 'bread',\n",
       " 57: 'break',\n",
       " 521: 'breakfast',\n",
       " 568: 'bring',\n",
       " 514: 'brought',\n",
       " 474: 'brown',\n",
       " 990: 'brunch',\n",
       " 874: 'buck',\n",
       " 936: 'buffet',\n",
       " 283: 'build',\n",
       " 284: 'bun',\n",
       " 642: 'bunch',\n",
       " 285: 'burger',\n",
       " 286: 'burrito',\n",
       " 247: 'busi',\n",
       " 123: 'butter',\n",
       " 189: 'buy',\n",
       " 838: 'c',\n",
       " 952: 'caesar',\n",
       " 955: 'cafe',\n",
       " 748: 'cake',\n",
       " 17: 'call',\n",
       " 959: 'cannot',\n",
       " 391: 'car',\n",
       " 540: 'card',\n",
       " 58: 'care',\n",
       " 834: 'carri',\n",
       " 0: 'case',\n",
       " 110: 'cash',\n",
       " 800: 'cashier',\n",
       " 996: 'casino',\n",
       " 980: 'casual',\n",
       " 791: 'caus',\n",
       " 988: 'celebr',\n",
       " 823: 'center',\n",
       " 750: 'certain',\n",
       " 287: 'certainli',\n",
       " 873: 'chain',\n",
       " 288: 'chair',\n",
       " 804: 'chanc',\n",
       " 289: 'chang',\n",
       " 290: 'charg',\n",
       " 998: 'charlott',\n",
       " 291: 'cheap',\n",
       " 846: 'cheaper',\n",
       " 216: 'check',\n",
       " 360: 'chees',\n",
       " 720: 'chef',\n",
       " 292: 'chicken',\n",
       " 841: 'chili',\n",
       " 686: 'chines',\n",
       " 270: 'chip',\n",
       " 605: 'chocol',\n",
       " 867: 'choic',\n",
       " 866: 'choos',\n",
       " 475: 'chop',\n",
       " 776: 'chose',\n",
       " 143: 'citi',\n",
       " 532: 'class',\n",
       " 948: 'classic',\n",
       " 164: 'clean',\n",
       " 633: 'clear',\n",
       " 564: 'clearli',\n",
       " 144: 'close',\n",
       " 361: 'cloth',\n",
       " 201: 'club',\n",
       " 533: 'cocktail',\n",
       " 569: 'coffe',\n",
       " 392: 'cold',\n",
       " 956: 'color',\n",
       " 940: 'combin',\n",
       " 909: 'combo',\n",
       " 293: 'comfort',\n",
       " 951: 'comment',\n",
       " 423: 'compani',\n",
       " 832: 'compar',\n",
       " 412: 'complain',\n",
       " 1: 'complaint',\n",
       " 424: 'complet',\n",
       " 826: 'concern',\n",
       " 425: 'confus',\n",
       " 708: 'consid',\n",
       " 575: 'consist',\n",
       " 426: 'contact',\n",
       " 721: 'continu',\n",
       " 891: 'conveni',\n",
       " 427: 'convers',\n",
       " 476: 'cook',\n",
       " 805: 'cooki',\n",
       " 835: 'cool',\n",
       " 941: 'corn',\n",
       " 534: 'corner',\n",
       " 206: 'correct',\n",
       " 688: 'cost',\n",
       " 584: 'counter',\n",
       " 428: 'coupl',\n",
       " 648: 'coupon',\n",
       " 190: 'cours',\n",
       " 111: 'cover',\n",
       " 939: 'crab',\n",
       " 362: 'crap',\n",
       " 294: 'crave',\n",
       " 541: 'crazi',\n",
       " 741: 'cream',\n",
       " 764: 'creami',\n",
       " 542: 'credit',\n",
       " 124: 'crispi',\n",
       " 295: 'crowd',\n",
       " 614: 'crust',\n",
       " 722: 'cup',\n",
       " 995: 'curri',\n",
       " 207: 'custom',\n",
       " 515: 'cut',\n",
       " 836: 'cute',\n",
       " 887: 'damn',\n",
       " 698: 'danc',\n",
       " 296: 'dark',\n",
       " 46: 'date',\n",
       " 673: 'daughter',\n",
       " 933: 'de',\n",
       " 18: 'deal',\n",
       " 125: 'decent',\n",
       " 59: 'decid',\n",
       " 585: 'decor',\n",
       " 667: 'deep',\n",
       " 217: 'definit',\n",
       " 218: 'delici',\n",
       " 668: 'deliv',\n",
       " 634: 'deliveri',\n",
       " 477: 'describ',\n",
       " 570: 'desert',\n",
       " 60: 'deserv',\n",
       " 883: 'design',\n",
       " 609: 'desk',\n",
       " 191: 'despit',\n",
       " 543: 'dessert',\n",
       " 950: 'detail',\n",
       " 219: 'die',\n",
       " 248: 'differ',\n",
       " 705: 'difficult',\n",
       " 516: 'dine',\n",
       " 527: 'diner',\n",
       " 478: 'dinner',\n",
       " 723: 'dip',\n",
       " 429: 'dirti',\n",
       " 363: 'disappoint',\n",
       " 738: 'discount',\n",
       " 364: 'disgust',\n",
       " 220: 'dish',\n",
       " 895: 'dog',\n",
       " 892: 'dollar',\n",
       " 112: 'done',\n",
       " 571: 'dont',\n",
       " 297: 'door',\n",
       " 977: 'doubl',\n",
       " 683: 'doubt',\n",
       " 762: 'downtown',\n",
       " 479: 'dress',\n",
       " 657: 'dri',\n",
       " 165: 'drive',\n",
       " 606: 'drop',\n",
       " 876: 'drunk',\n",
       " 365: 'due',\n",
       " 902: 'e',\n",
       " 221: 'earli',\n",
       " 2: 'easi',\n",
       " 222: 'easili',\n",
       " 596: 'eaten',\n",
       " 522: 'egg',\n",
       " 615: 'either',\n",
       " 544: 'els',\n",
       " 407: 'elsewher',\n",
       " 676: 'employe',\n",
       " 773: 'empti',\n",
       " 430: 'end',\n",
       " 271: 'enjoy',\n",
       " 366: 'enough',\n",
       " 298: 'enter',\n",
       " 871: 'entertain',\n",
       " 61: 'entir',\n",
       " 714: 'entre',\n",
       " 299: 'especi',\n",
       " 635: 'establish',\n",
       " 398: 'etc',\n",
       " 880: 'event',\n",
       " 62: 'ever',\n",
       " 32: 'everi',\n",
       " 367: 'everyon',\n",
       " 3: 'everyth',\n",
       " 837: 'everywher',\n",
       " 300: 'exactli',\n",
       " 145: 'excel',\n",
       " 910: 'except',\n",
       " 431: 'excit',\n",
       " 63: 'excus',\n",
       " 480: 'expect',\n",
       " 724: 'expens',\n",
       " 64: 'experienc',\n",
       " 4: 'explain',\n",
       " 126: 'extra',\n",
       " 223: 'extrem',\n",
       " 301: 'eye',\n",
       " 943: 'f',\n",
       " 781: 'fabul',\n",
       " 224: 'face',\n",
       " 792: 'fact',\n",
       " 801: 'fail',\n",
       " 677: 'fair',\n",
       " 782: 'fairli',\n",
       " 863: 'fall',\n",
       " 593: 'famili',\n",
       " 302: 'fan',\n",
       " 847: 'fanci',\n",
       " 97: 'fantast',\n",
       " 166: 'far',\n",
       " 797: 'fast',\n",
       " 857: 'fat',\n",
       " 528: 'favorit',\n",
       " 983: 'fee',\n",
       " 19: 'feel',\n",
       " 65: 'felt',\n",
       " 167: 'figur',\n",
       " 225: 'fill',\n",
       " 168: 'final',\n",
       " 47: 'find',\n",
       " 636: 'fine',\n",
       " 192: 'finish',\n",
       " 818: 'fire',\n",
       " 127: 'fish',\n",
       " 678: 'fit',\n",
       " 303: 'five',\n",
       " 413: 'fix',\n",
       " 399: 'flat',\n",
       " 128: 'flavor',\n",
       " 691: 'floor',\n",
       " 879: 'folk',\n",
       " 545: 'follow',\n",
       " 751: 'forev',\n",
       " 249: 'forget',\n",
       " 864: 'forgot',\n",
       " 98: 'forward',\n",
       " 33: 'found',\n",
       " 481: 'four',\n",
       " 414: 'free',\n",
       " 576: 'french',\n",
       " 783: 'frequent',\n",
       " 250: 'fresh',\n",
       " 272: 'fri',\n",
       " 368: 'friday',\n",
       " 304: 'front',\n",
       " 788: 'frozen',\n",
       " 914: 'fruit',\n",
       " 369: 'full',\n",
       " 586: 'fun',\n",
       " 627: 'funni',\n",
       " 597: 'futur',\n",
       " 146: 'game',\n",
       " 370: 'garlic',\n",
       " 616: 'gave',\n",
       " 5: 'gener',\n",
       " 930: 'gift',\n",
       " 251: 'girl',\n",
       " 669: 'girlfriend',\n",
       " 637: 'given',\n",
       " 252: 'glad',\n",
       " 725: 'glass',\n",
       " 709: 'goe',\n",
       " 400: 'gone',\n",
       " 752: 'gotten',\n",
       " 393: 'grab',\n",
       " 546: 'grand',\n",
       " 523: 'greasi',\n",
       " 482: 'green',\n",
       " 707: 'greet',\n",
       " 394: 'grill',\n",
       " 649: 'gross',\n",
       " 643: 'group',\n",
       " 949: 'groupon',\n",
       " 371: 'guess',\n",
       " 739: 'guest',\n",
       " 66: 'guy',\n",
       " 945: 'hair',\n",
       " 193: 'half',\n",
       " 305: 'hand',\n",
       " 784: 'handl',\n",
       " 587: 'hang',\n",
       " 6: 'happen',\n",
       " 99: 'happi',\n",
       " 432: 'hard',\n",
       " 670: 'hate',\n",
       " 113: 'head',\n",
       " 565: 'healthi',\n",
       " 765: 'hear',\n",
       " 483: 'heard',\n",
       " 461: 'heart',\n",
       " 129: 'heat',\n",
       " 938: 'heavi',\n",
       " 169: 'hell',\n",
       " 114: 'help',\n",
       " 858: 'hey',\n",
       " 617: 'high',\n",
       " 785: 'higher',\n",
       " 861: 'highli',\n",
       " 147: 'hit',\n",
       " 433: 'hold',\n",
       " 306: 'hole',\n",
       " 307: 'home',\n",
       " 923: 'honest',\n",
       " 484: 'honestli',\n",
       " 170: 'hope',\n",
       " 806: 'horribl',\n",
       " 742: 'host',\n",
       " 849: 'hostess',\n",
       " 130: 'hot',\n",
       " 786: 'hotel',\n",
       " 20: 'hour',\n",
       " 171: 'hous',\n",
       " 148: 'howev',\n",
       " 253: 'huge',\n",
       " 395: 'hungri',\n",
       " 67: 'husband',\n",
       " 308: 'ice',\n",
       " 618: 'idea',\n",
       " 802: 'ignor',\n",
       " 485: 'imagin',\n",
       " 743: 'immedi',\n",
       " 7: 'import',\n",
       " 547: 'impress',\n",
       " 767: 'improv',\n",
       " 194: 'includ',\n",
       " 226: 'incred',\n",
       " 434: 'inform',\n",
       " 811: 'ingredi',\n",
       " 172: 'insid',\n",
       " 389: 'instead',\n",
       " 68: 'interest',\n",
       " 598: 'interior',\n",
       " 100: 'issu',\n",
       " 396: 'italian',\n",
       " 726: 'item',\n",
       " 149: 'job',\n",
       " 529: 'joint',\n",
       " 69: 'joke',\n",
       " 924: 'juic',\n",
       " 975: 'juici',\n",
       " 372: 'keep',\n",
       " 34: 'kept',\n",
       " 397: 'key',\n",
       " 689: 'kick',\n",
       " 202: 'kid',\n",
       " 150: 'kind',\n",
       " 151: 'kinda',\n",
       " 462: 'king',\n",
       " 254: 'kitchen',\n",
       " 115: 'knew',\n",
       " 753: 'knowledg',\n",
       " 638: 'known',\n",
       " 993: 'la',\n",
       " 435: 'lack',\n",
       " 644: 'ladi',\n",
       " 994: 'lamb',\n",
       " 131: 'larg',\n",
       " 48: 'last',\n",
       " 227: 'late',\n",
       " 116: 'later',\n",
       " 548: 'learn',\n",
       " 854: 'least',\n",
       " 70: 'leav',\n",
       " 71: 'left',\n",
       " 984: 'leg',\n",
       " 72: 'less',\n",
       " 73: 'let',\n",
       " 486: 'lettuc',\n",
       " 401: 'level',\n",
       " 35: 'life',\n",
       " 173: 'light',\n",
       " 174: 'limit',\n",
       " 175: 'line',\n",
       " 763: 'list',\n",
       " 885: 'listen',\n",
       " 487: 'liter',\n",
       " 488: 'live',\n",
       " 921: 'lobster',\n",
       " 588: 'local',\n",
       " 699: 'locat',\n",
       " 572: 'lol',\n",
       " 309: 'long',\n",
       " 692: 'longer',\n",
       " 310: 'lost',\n",
       " 819: 'loud',\n",
       " 311: 'loung',\n",
       " 255: 'low',\n",
       " 619: 'luck',\n",
       " 228: 'lunch',\n",
       " 809: 'mac',\n",
       " 176: 'machin',\n",
       " 436: 'main',\n",
       " 839: 'major',\n",
       " 964: 'mall',\n",
       " 437: 'man',\n",
       " 415: 'manag',\n",
       " 21: 'mani',\n",
       " 962: 'margarita',\n",
       " 954: 'market',\n",
       " 489: 'mash',\n",
       " 74: 'matter',\n",
       " 203: 'may',\n",
       " 132: 'mayb',\n",
       " 229: 'meal',\n",
       " 599: 'mean',\n",
       " 312: 'meat',\n",
       " 908: 'mediocr',\n",
       " 810: 'medium',\n",
       " 827: 'meet',\n",
       " 851: 'meh',\n",
       " 549: 'melt',\n",
       " 706: 'member',\n",
       " 313: 'mention',\n",
       " 600: 'mess',\n",
       " 75: 'met',\n",
       " 925: 'mexican',\n",
       " 314: 'middl',\n",
       " 49: 'might',\n",
       " 929: 'mile',\n",
       " 408: 'min',\n",
       " 438: 'mind',\n",
       " 177: 'mine',\n",
       " 490: 'mini',\n",
       " 50: 'miss',\n",
       " 639: 'mistak',\n",
       " 373: 'mix',\n",
       " 727: 'modern',\n",
       " 230: 'mom',\n",
       " 491: 'moment',\n",
       " 231: 'monday',\n",
       " 76: 'money',\n",
       " 77: 'month',\n",
       " 492: 'mood',\n",
       " 315: 'morn',\n",
       " 493: 'mostli',\n",
       " 793: 'mouth',\n",
       " 51: 'move',\n",
       " 256: 'movi',\n",
       " 117: 'multipl',\n",
       " 374: 'mushroom',\n",
       " 375: 'music',\n",
       " 439: 'must',\n",
       " 440: 'na',\n",
       " 494: 'nafter',\n",
       " 965: 'nail',\n",
       " 852: 'nall',\n",
       " 937: 'nalso',\n",
       " 441: 'name',\n",
       " 316: 'nand',\n",
       " 662: 'nbut',\n",
       " 495: 'near',\n",
       " 917: 'nearli',\n",
       " 915: 'neg',\n",
       " 101: 'neighborhood',\n",
       " 52: 'new',\n",
       " 409: 'next',\n",
       " 728: 'nfirst',\n",
       " 898: 'nfood',\n",
       " 715: 'nfor',\n",
       " 524: 'nif',\n",
       " 824: 'nin',\n",
       " 91: 'nit',\n",
       " 317: 'nmi',\n",
       " 890: 'nnow',\n",
       " 273: 'non',\n",
       " 178: 'none',\n",
       " 976: 'noodl',\n",
       " 754: 'normal',\n",
       " 734: 'note',\n",
       " 257: 'noth',\n",
       " 195: 'notic',\n",
       " 900: 'nour',\n",
       " 729: 'noveral',\n",
       " 779: 'nservic',\n",
       " 318: 'nso',\n",
       " 768: 'nthere',\n",
       " 319: 'nthey',\n",
       " 320: 'nthi',\n",
       " 640: 'number',\n",
       " 321: 'nwe',\n",
       " 679: 'nwhen',\n",
       " 577: 'obvious',\n",
       " 820: 'occas',\n",
       " 829: 'odd',\n",
       " 8: 'offer',\n",
       " 22: 'offic',\n",
       " 322: 'often',\n",
       " 179: 'oh',\n",
       " 744: 'oil',\n",
       " 550: 'ok',\n",
       " 601: 'okay',\n",
       " 180: 'old',\n",
       " 376: 'older',\n",
       " 745: 'oliv',\n",
       " 578: 'onion',\n",
       " 663: 'onlin',\n",
       " 152: 'open',\n",
       " 755: 'opinion',\n",
       " 992: 'opt',\n",
       " 36: 'option',\n",
       " 978: 'orang',\n",
       " 807: 'organ',\n",
       " 410: 'origin',\n",
       " 650: 'other',\n",
       " 377: 'otherwis',\n",
       " 957: 'outdoor',\n",
       " 573: 'outsid',\n",
       " 958: 'outstand',\n",
       " 323: 'overal',\n",
       " 934: 'overcook',\n",
       " 963: 'overli',\n",
       " 416: 'overpr',\n",
       " 181: 'owner',\n",
       " 324: 'pack',\n",
       " 684: 'paid',\n",
       " 671: 'pain',\n",
       " 551: 'pancak',\n",
       " 651: 'paper',\n",
       " 926: 'par',\n",
       " 607: 'park',\n",
       " 208: 'part',\n",
       " 620: 'parti',\n",
       " 821: 'particular',\n",
       " 932: 'pass',\n",
       " 102: 'past',\n",
       " 710: 'pasta',\n",
       " 961: 'patio',\n",
       " 9: 'patron',\n",
       " 78: 'pay',\n",
       " 579: 'pepper',\n",
       " 769: 'per',\n",
       " 274: 'perfect',\n",
       " 794: 'perfectli',\n",
       " 552: 'perhap',\n",
       " 702: 'person',\n",
       " 997: 'phoenix',\n",
       " 23: 'phone',\n",
       " 258: 'pick',\n",
       " 37: 'pictur',\n",
       " 378: 'pie',\n",
       " 496: 'piec',\n",
       " 379: 'pizza',\n",
       " 325: 'plain',\n",
       " 196: 'plan',\n",
       " 812: 'plate',\n",
       " 872: 'play',\n",
       " 517: 'pleas',\n",
       " 209: 'pleasant',\n",
       " 896: 'plenti',\n",
       " 402: 'plu',\n",
       " 326: 'pm',\n",
       " 442: 'point',\n",
       " 905: 'polit',\n",
       " 901: 'pool',\n",
       " 693: 'poor',\n",
       " 275: 'pop',\n",
       " 497: 'pork',\n",
       " 133: 'portion',\n",
       " 53: 'posit',\n",
       " 498: 'possibl',\n",
       " 913: 'post',\n",
       " 499: 'potato',\n",
       " 628: 'pour',\n",
       " 79: 'practic',\n",
       " 500: 'pre',\n",
       " 971: 'prefer',\n",
       " 232: 'prepar',\n",
       " 918: 'present',\n",
       " 680: 'previou',\n",
       " 870: 'pricey',\n",
       " 259: 'prime',\n",
       " 380: 'probabl',\n",
       " 24: 'problem',\n",
       " 210: 'process',\n",
       " 327: 'product',\n",
       " 674: 'profession',\n",
       " 553: 'provid',\n",
       " 328: 'pull',\n",
       " 944: 'purchas',\n",
       " 80: 'put',\n",
       " 276: 'qualiti',\n",
       " 38: 'question',\n",
       " 443: 'quick',\n",
       " 103: 'quickli',\n",
       " 981: 'quiet',\n",
       " 329: 'quit',\n",
       " 884: 'ran',\n",
       " 153: 'rang',\n",
       " 711: 'rare',\n",
       " 566: 'rate',\n",
       " 330: 'rather',\n",
       " 501: 'rave',\n",
       " 331: 'read',\n",
       " 537: 'readi',\n",
       " 444: 'real',\n",
       " 621: 'realiz',\n",
       " 332: 'reason',\n",
       " 118: 'receiv',\n",
       " 675: 'recent',\n",
       " 119: 'recommend',\n",
       " 134: 'red',\n",
       " 81: 'refil',\n",
       " 641: 'refus',\n",
       " 694: 'regist',\n",
       " 502: 'regular',\n",
       " 911: 'relax',\n",
       " 535: 'rememb',\n",
       " 777: 'remind',\n",
       " 672: 'remov',\n",
       " 815: 'replac',\n",
       " 695: 'request',\n",
       " 774: 'reserv',\n",
       " 991: 'resort',\n",
       " 664: 'respons',\n",
       " 652: 'rest',\n",
       " 82: 'return',\n",
       " 260: 'rib',\n",
       " 798: 'rice',\n",
       " 772: 'rich',\n",
       " 916: 'ride',\n",
       " 840: 'ridicul',\n",
       " 985: 'ring',\n",
       " 825: 'road',\n",
       " 756: 'roast',\n",
       " 766: 'rock',\n",
       " 333: 'roll',\n",
       " 503: 'room',\n",
       " 696: 'round',\n",
       " 685: 'rude',\n",
       " 775: 'ruin',\n",
       " 25: 'run',\n",
       " 828: 'rush',\n",
       " 653: 'sad',\n",
       " 504: 'salad',\n",
       " 868: 'sale',\n",
       " 261: 'salmon',\n",
       " 987: 'salon',\n",
       " 942: 'salsa',\n",
       " 859: 'salt',\n",
       " 935: 'salti',\n",
       " 931: 'sampl',\n",
       " 135: 'sandwich',\n",
       " 334: 'sat',\n",
       " 816: 'satisfi',\n",
       " 233: 'saturday',\n",
       " 136: 'sauc',\n",
       " 381: 'sausag',\n",
       " 740: 'save',\n",
       " 234: 'saw',\n",
       " 104: 'schedul',\n",
       " 92: 'school',\n",
       " 979: 'scottsdal',\n",
       " 505: 'screen',\n",
       " 972: 'seafood',\n",
       " 182: 'season',\n",
       " 235: 'seat',\n",
       " 445: 'second',\n",
       " 703: 'section',\n",
       " 446: 'secur',\n",
       " 93: 'seen',\n",
       " 387: 'select',\n",
       " 735: 'self',\n",
       " 183: 'sell',\n",
       " 730: 'send',\n",
       " 799: 'sens',\n",
       " 893: 'sent',\n",
       " 894: 'separ',\n",
       " 335: 'serious',\n",
       " 336: 'serv',\n",
       " 388: 'server',\n",
       " 262: 'set',\n",
       " 236: 'sever',\n",
       " 237: 'share',\n",
       " 658: 'shop',\n",
       " 154: 'short',\n",
       " 337: 'shot',\n",
       " 447: 'show',\n",
       " 833: 'shower',\n",
       " 263: 'shrimp',\n",
       " 886: 'sick',\n",
       " 137: 'side',\n",
       " 338: 'sign',\n",
       " 966: 'similar',\n",
       " 448: 'simpl',\n",
       " 26: 'simpli',\n",
       " 339: 'sinc',\n",
       " 536: 'singl',\n",
       " 10: 'sit',\n",
       " 83: 'situat',\n",
       " 138: 'size',\n",
       " 875: 'skip',\n",
       " 554: 'slice',\n",
       " 888: 'slightli',\n",
       " 264: 'slow',\n",
       " 687: 'small',\n",
       " 555: 'smaller',\n",
       " 731: 'smell',\n",
       " 822: 'smile',\n",
       " 622: 'smoke',\n",
       " 946: 'snack',\n",
       " 757: 'soda',\n",
       " 919: 'soft',\n",
       " 716: 'soggi',\n",
       " 155: 'solid',\n",
       " 184: 'someon',\n",
       " 11: 'someth',\n",
       " 156: 'sometim',\n",
       " 157: 'somewhat',\n",
       " 758: 'somewher',\n",
       " 602: 'son',\n",
       " 589: 'soon',\n",
       " 403: 'sorri',\n",
       " 197: 'sort',\n",
       " 580: 'sound',\n",
       " 506: 'soup',\n",
       " 920: 'sour',\n",
       " 525: 'south',\n",
       " 830: 'space',\n",
       " 449: 'speak',\n",
       " 265: 'special',\n",
       " 778: 'specif',\n",
       " 869: 'spend',\n",
       " 881: 'spent',\n",
       " 922: 'spice',\n",
       " 780: 'spici',\n",
       " 736: 'spinach',\n",
       " 897: 'split',\n",
       " 507: 'sport',\n",
       " 848: 'spot',\n",
       " 968: 'spring',\n",
       " 39: 'st',\n",
       " 538: 'stand',\n",
       " 556: 'standard',\n",
       " 40: 'start',\n",
       " 204: 'state',\n",
       " 508: 'station',\n",
       " 84: 'stay',\n",
       " 238: 'steak',\n",
       " 340: 'step',\n",
       " 759: 'stick',\n",
       " 623: 'stock',\n",
       " 608: 'stood',\n",
       " 241: 'stop',\n",
       " 211: 'store',\n",
       " 842: 'stori',\n",
       " 450: 'straight',\n",
       " 853: 'strawberri',\n",
       " 761: 'street',\n",
       " 185: 'strip',\n",
       " 518: 'strong',\n",
       " 795: 'stuck',\n",
       " 594: 'stuf',\n",
       " 660: 'stuff',\n",
       " 266: 'style',\n",
       " 813: 'sub',\n",
       " 158: 'suck',\n",
       " 557: 'sugar',\n",
       " 341: 'suggest',\n",
       " 659: 'suit',\n",
       " 417: 'summer',\n",
       " 239: 'sunday',\n",
       " 418: 'super',\n",
       " 451: 'suppos',\n",
       " 120: 'sure',\n",
       " 94: 'surpris',\n",
       " 927: 'sushi',\n",
       " 509: 'sweet',\n",
       " 558: 'system',\n",
       " 903: 'taco',\n",
       " 697: 'taken',\n",
       " 12: 'talk',\n",
       " 342: 'tasti',\n",
       " 343: 'tea',\n",
       " 85: 'tell',\n",
       " 732: 'tender',\n",
       " 27: 'terribl',\n",
       " 654: 'textur',\n",
       " 205: 'th',\n",
       " 974: 'thai',\n",
       " 530: 'thank',\n",
       " 344: 'thick',\n",
       " 789: 'thin',\n",
       " 624: 'third',\n",
       " 345: 'though',\n",
       " 346: 'thought',\n",
       " 452: 'three',\n",
       " 770: 'throughout',\n",
       " 889: 'throw',\n",
       " 629: 'ticket',\n",
       " 453: 'tini',\n",
       " 712: 'tip',\n",
       " 404: 'tire',\n",
       " 526: 'toast',\n",
       " 240: 'today',\n",
       " 347: 'togeth',\n",
       " 121: 'told',\n",
       " 519: 'tomato',\n",
       " 986: 'ton',\n",
       " 665: 'tonight',\n",
       " 86: 'took',\n",
       " 13: 'top',\n",
       " 904: 'tortilla',\n",
       " 817: 'total',\n",
       " 454: 'touch',\n",
       " 973: 'tough',\n",
       " 455: 'toward',\n",
       " 595: 'town',\n",
       " 277: 'tradit',\n",
       " 704: 'train',\n",
       " 348: 'travel',\n",
       " 463: 'treat',\n",
       " 510: 'trip',\n",
       " 349: 'true',\n",
       " 350: 'truli',\n",
       " 456: 'trust',\n",
       " 559: 'tuna',\n",
       " 581: 'turkey',\n",
       " 198: 'turn',\n",
       " 511: 'tv',\n",
       " 717: 'twice',\n",
       " 159: 'type',\n",
       " 590: 'typic',\n",
       " 645: 'u',\n",
       " 41: 'understand',\n",
       " 28: 'unfortun',\n",
       " 899: 'uniqu',\n",
       " 567: 'unless',\n",
       " 457: 'updat',\n",
       " 771: 'upon',\n",
       " 29: 'usual',\n",
       " 999: 'valley',\n",
       " 267: 'valu',\n",
       " 560: 'varieti',\n",
       " 512: 'veget',\n",
       " 928: 'vegetarian',\n",
       " 513: 'veggi',\n",
       " 591: 'vibe',\n",
       " 733: 'view',\n",
       " 122: 'visit',\n",
       " 746: 'w',\n",
       " 382: 'waiter',\n",
       " 351: 'waitress',\n",
       " 352: 'walk',\n",
       " 353: 'wall',\n",
       " 561: 'warm',\n",
       " 843: 'warn',\n",
       " 860: 'wash',\n",
       " 814: 'wast',\n",
       " 268: 'watch',\n",
       " 139: 'water',\n",
       " 383: 'wear',\n",
       " 844: 'websit',\n",
       " 54: 'week',\n",
       " 737: 'weekend',\n",
       " 655: 'weird',\n",
       " 354: 'welcom',\n",
       " 630: 'whatev',\n",
       " 355: 'white',\n",
       " 140: 'whole',\n",
       " 105: 'wife',\n",
       " 989: 'will',\n",
       " 666: 'window',\n",
       " 713: 'wine',\n",
       " 141: 'wing',\n",
       " 458: 'wish',\n",
       " 405: 'within',\n",
       " 14: 'without',\n",
       " 947: 'woman',\n",
       " 95: 'wonder',\n",
       " 459: 'word',\n",
       " 30: 'worker',\n",
       " 356: 'world',\n",
       " 87: 'wors',\n",
       " 384: 'worst',\n",
       " 269: 'worth',\n",
       " 592: 'wow',\n",
       " 808: 'wrap',\n",
       " 88: 'write',\n",
       " 460: 'wrong',\n",
       " 760: 'ye',\n",
       " 357: 'yeah',\n",
       " 42: 'year',\n",
       " 681: 'yelp',\n",
       " 186: 'yet',\n",
       " 385: 'young',\n",
       " 747: 'yum',\n",
       " 749: 'yummi'}"
      ]
     },
     "metadata": {},
     "output_type": "display_data"
    }
   ],
   "source": [
    "# Filter out tokens that appear in less than 15 documents or more than 10% of the documents.\n",
    "# Keep only the first 1000 most frequent tokens.\n",
    "dictionary.filter_extremes(no_below=15,no_above=0.1,keep_n=1000)\n",
    "\n",
    "# Sort it in the alphabetical order, and display its elements\n",
    "sorted_dict_values = dict(sorted(dictionary.items(), key=lambda item: item[1]))\n",
    "sorted_dict_values"
   ]
  },
  {
   "cell_type": "code",
   "execution_count": null,
   "metadata": {},
   "outputs": [],
   "source": [
    "# Convert the corpus into a bag of words representation\n",
    "bow_corpus = [dictionary.doc2bow(doc) for doc in corpus]\n",
    "\n",
    "# Create a TF-IDF model from the corpus\n",
    "tfidf_model = models.TfidfModel(bow_corpus)\n",
    "corpus_tfidf = tfidf_model[bow_corpus]"
   ]
  },
  {
   "cell_type": "code",
   "execution_count": null,
   "metadata": {},
   "outputs": [],
   "source": [
    "# Train the LDA model for clustering the reviews in 20 topics\n",
    "lda_model = models.LdaMulticore(bow_corpus,\n",
    "                                    num_topics=20,\n",
    "                                    id2word=dictionary,\n",
    "                                    passes=2,\n",
    "                                    random_state=11\n",
    "                                    )\n",
    "lda_model.save('lda_model.model')"
   ]
  },
  {
   "cell_type": "code",
   "execution_count": null,
   "metadata": {},
   "outputs": [
    {
     "name": "stdout",
     "output_type": "stream",
     "text": [
      "Topic: 0 \n",
      "Words: 0.059*\"coffe\" + 0.047*\"breakfast\" + 0.023*\"tea\" + 0.018*\"lunch\" + 0.016*\"cafe\" + 0.016*\"cup\" + 0.016*\"morn\" + 0.016*\"juic\" + 0.015*\"fresh\" + 0.013*\"open\"\n",
      "\n",
      "\n",
      "Topic: 1 \n",
      "Words: 0.020*\"wine\" + 0.019*\"delici\" + 0.017*\"dinner\" + 0.015*\"dish\" + 0.015*\"meal\" + 0.015*\"amaz\" + 0.011*\"excel\" + 0.011*\"dessert\" + 0.011*\"enjoy\" + 0.011*\"appet\"\n",
      "\n",
      "\n",
      "Topic: 2 \n",
      "Words: 0.027*\"show\" + 0.017*\"club\" + 0.013*\"friend\" + 0.012*\"guy\" + 0.012*\"fun\" + 0.012*\"line\" + 0.012*\"girl\" + 0.011*\"music\" + 0.010*\"cool\" + 0.010*\"danc\"\n",
      "\n",
      "\n",
      "Topic: 3 \n",
      "Words: 0.034*\"chees\" + 0.034*\"salad\" + 0.033*\"sauc\" + 0.028*\"meat\" + 0.019*\"chicken\" + 0.017*\"side\" + 0.016*\"flavor\" + 0.014*\"bread\" + 0.014*\"bbq\" + 0.013*\"potato\"\n",
      "\n",
      "\n",
      "Topic: 4 \n",
      "Words: 0.098*\"room\" + 0.050*\"hotel\" + 0.049*\"stay\" + 0.020*\"pool\" + 0.017*\"check\" + 0.017*\"clean\" + 0.015*\"floor\" + 0.014*\"bed\" + 0.013*\"bathroom\" + 0.012*\"strip\"\n",
      "\n",
      "\n",
      "Topic: 5 \n",
      "Words: 0.355*\"e\" + 0.107*\"de\" + 0.092*\"la\" + 0.047*\"f\" + 0.047*\"c\" + 0.043*\"die\" + 0.038*\"pour\" + 0.037*\"n\" + 0.020*\"b\" + 0.019*\"brunch\"\n",
      "\n",
      "\n",
      "Topic: 6 \n",
      "Words: 0.102*\"roll\" + 0.089*\"sushi\" + 0.066*\"fish\" + 0.037*\"crab\" + 0.035*\"shrimp\" + 0.026*\"fresh\" + 0.020*\"tuna\" + 0.017*\"salmon\" + 0.017*\"lobster\" + 0.017*\"chef\"\n",
      "\n",
      "\n",
      "Topic: 7 \n",
      "Words: 0.038*\"beer\" + 0.033*\"locat\" + 0.021*\"park\" + 0.019*\"area\" + 0.012*\"select\" + 0.012*\"open\" + 0.011*\"spot\" + 0.010*\"local\" + 0.009*\"atmospher\" + 0.009*\"new\"\n",
      "\n",
      "\n",
      "Topic: 8 \n",
      "Words: 0.028*\"server\" + 0.020*\"took\" + 0.019*\"waitress\" + 0.017*\"seat\" + 0.012*\"anoth\" + 0.012*\"arriv\" + 0.012*\"waiter\" + 0.012*\"check\" + 0.012*\"manag\" + 0.011*\"told\"\n",
      "\n",
      "\n",
      "Topic: 9 \n",
      "Words: 0.072*\"sandwich\" + 0.046*\"ice\" + 0.037*\"cream\" + 0.030*\"chocol\" + 0.030*\"flavor\" + 0.025*\"cake\" + 0.019*\"sweet\" + 0.014*\"bread\" + 0.013*\"top\" + 0.013*\"dessert\"\n",
      "\n",
      "\n",
      "Topic: 10 \n",
      "Words: 0.038*\"custom\" + 0.018*\"employe\" + 0.018*\"walk\" + 0.015*\"help\" + 0.014*\"line\" + 0.013*\"manag\" + 0.013*\"counter\" + 0.012*\"busi\" + 0.012*\"card\" + 0.011*\"rude\"\n",
      "\n",
      "\n",
      "Topic: 11 \n",
      "Words: 0.105*\"pizza\" + 0.051*\"store\" + 0.037*\"shop\" + 0.018*\"buy\" + 0.018*\"item\" + 0.014*\"find\" + 0.013*\"crust\" + 0.012*\"product\" + 0.010*\"select\" + 0.010*\"new\"\n",
      "\n",
      "\n",
      "Topic: 12 \n",
      "Words: 0.083*\"fri\" + 0.063*\"chicken\" + 0.041*\"egg\" + 0.020*\"bacon\" + 0.018*\"cook\" + 0.017*\"chines\" + 0.012*\"pancak\" + 0.011*\"beef\" + 0.011*\"greasi\" + 0.010*\"brown\"\n",
      "\n",
      "\n",
      "Topic: 13 \n",
      "Words: 0.113*\"burger\" + 0.057*\"taco\" + 0.041*\"fri\" + 0.029*\"chip\" + 0.023*\"salsa\" + 0.020*\"happi\" + 0.018*\"chees\" + 0.016*\"hour\" + 0.016*\"mexican\" + 0.012*\"onion\"\n",
      "\n",
      "\n",
      "Topic: 14 \n",
      "Words: 0.033*\"money\" + 0.030*\"ever\" + 0.022*\"worst\" + 0.017*\"pay\" + 0.016*\"horribl\" + 0.016*\"terribl\" + 0.013*\"worth\" + 0.012*\"charg\" + 0.012*\"wast\" + 0.012*\"els\"\n",
      "\n",
      "\n",
      "Topic: 15 \n",
      "Words: 0.039*\"buffet\" + 0.032*\"\\n\\n\" + 0.030*\"noth\" + 0.022*\"ok\" + 0.021*\"casino\" + 0.021*\"qualiti\" + 0.020*\"expect\" + 0.019*\"averag\" + 0.016*\"special\" + 0.015*\"select\"\n",
      "\n",
      "\n",
      "Topic: 16 \n",
      "Words: 0.098*\"\\n\" + 0.052*\"game\" + 0.041*\"play\" + 0.032*\"watch\" + 0.030*\"music\" + 0.027*\"tv\" + 0.022*\"movi\" + 0.020*\"kid\" + 0.017*\"loud\" + 0.017*\"nail\"\n",
      "\n",
      "\n",
      "Topic: 17 \n",
      "Words: 0.046*\"call\" + 0.024*\"told\" + 0.021*\"car\" + 0.013*\"phone\" + 0.013*\"hour\" + 0.012*\"compani\" + 0.011*\"charg\" + 0.009*\"manag\" + 0.008*\"fix\" + 0.008*\"week\"\n",
      "\n",
      "\n",
      "Topic: 18 \n",
      "Words: 0.032*\"dish\" + 0.028*\"rice\" + 0.024*\"soup\" + 0.024*\"chicken\" + 0.021*\"spici\" + 0.020*\"flavor\" + 0.019*\"noodl\" + 0.018*\"bowl\" + 0.017*\"lunch\" + 0.017*\"thai\"\n",
      "\n",
      "\n",
      "Topic: 19 \n",
      "Words: 0.024*\"year\" + 0.018*\"dog\" + 0.017*\"recommend\" + 0.015*\"new\" + 0.014*\"hair\" + 0.013*\"visit\" + 0.011*\"last\" + 0.011*\"owner\" + 0.011*\"amaz\" + 0.010*\"week\"\n",
      "\n",
      "\n"
     ]
    }
   ],
   "source": [
    "# Print the topics with the words that belong to them and their weights\n",
    "for idx,topic in lda_model.print_topics(-1):\n",
    "    print(\"Topic: {} \\nWords: {}\".format(idx, topic)) \n",
    "    print(\"\\n\")"
   ]
  },
  {
   "cell_type": "code",
   "execution_count": null,
   "metadata": {},
   "outputs": [
    {
     "name": "stdout",
     "output_type": "stream",
     "text": [
      "Topic: 0 Word: 0.035*\"casino\" + 0.025*\"scottsdal\" + 0.019*\"locat\" + 0.013*\"downtown\" + 0.013*\"close\" + 0.009*\"town\" + 0.009*\"street\" + 0.008*\"strip\" + 0.008*\"open\" + 0.007*\"cheap\"\n",
      "\n",
      "\n",
      "Topic: 1 Word: 0.035*\"breakfast\" + 0.022*\"egg\" + 0.017*\"pancak\" + 0.014*\"brunch\" + 0.012*\"bacon\" + 0.012*\"toast\" + 0.012*\"coffe\" + 0.009*\"juic\" + 0.008*\"french\" + 0.008*\"morn\"\n",
      "\n",
      "\n",
      "Topic: 2 Word: 0.020*\"call\" + 0.011*\"phone\" + 0.010*\"told\" + 0.009*\"compani\" + 0.008*\"custom\" + 0.007*\"card\" + 0.007*\"appoint\" + 0.007*\"manag\" + 0.007*\"offic\" + 0.007*\"busi\"\n",
      "\n",
      "\n",
      "Topic: 3 Word: 0.073*\"pizza\" + 0.020*\"wing\" + 0.015*\"crust\" + 0.014*\"dog\" + 0.010*\"slice\" + 0.010*\"chees\" + 0.009*\"pie\" + 0.009*\"sauc\" + 0.008*\"hot\" + 0.007*\"top\"\n",
      "\n",
      "\n",
      "Topic: 4 Word: 0.057*\"e\" + 0.040*\"buffet\" + 0.021*\"de\" + 0.015*\"die\" + 0.012*\"crab\" + 0.011*\"f\" + 0.010*\"la\" + 0.009*\"seafood\" + 0.009*\"averag\" + 0.008*\"dessert\"\n",
      "\n",
      "\n",
      "Topic: 5 Word: 0.013*\"steak\" + 0.013*\"bbq\" + 0.012*\"rib\" + 0.011*\"chees\" + 0.010*\"mac\" + 0.010*\"fri\" + 0.010*\"pork\" + 0.009*\"potato\" + 0.009*\"meat\" + 0.008*\"sauc\"\n",
      "\n",
      "\n",
      "Topic: 6 Word: 0.015*\"wine\" + 0.008*\"pasta\" + 0.008*\"dish\" + 0.007*\"dinner\" + 0.007*\"appet\" + 0.006*\"salad\" + 0.006*\"meal\" + 0.006*\"delici\" + 0.006*\"dessert\" + 0.006*\"entre\"\n",
      "\n",
      "\n",
      "Topic: 7 Word: 0.057*\"sushi\" + 0.033*\"roll\" + 0.013*\"happi\" + 0.013*\"fish\" + 0.011*\"fresh\" + 0.011*\"tuna\" + 0.010*\"hour\" + 0.010*\"chef\" + 0.009*\"salmon\" + 0.006*\"qualiti\"\n",
      "\n",
      "\n",
      "Topic: 8 Word: 0.045*\"taco\" + 0.021*\"mexican\" + 0.021*\"salsa\" + 0.019*\"burrito\" + 0.016*\"chip\" + 0.011*\"bean\" + 0.010*\"margarita\" + 0.009*\"fish\" + 0.009*\"tortilla\" + 0.007*\"chicken\"\n",
      "\n",
      "\n",
      "Topic: 9 Word: 0.021*\"nail\" + 0.017*\"hair\" + 0.015*\"recommend\" + 0.014*\"salon\" + 0.012*\"highli\" + 0.012*\"amaz\" + 0.011*\"job\" + 0.010*\"profession\" + 0.009*\"awesom\" + 0.008*\"clean\"\n",
      "\n",
      "\n",
      "Topic: 10 Word: 0.038*\"burger\" + 0.016*\"ice\" + 0.015*\"coffe\" + 0.013*\"fri\" + 0.012*\"chocol\" + 0.012*\"cream\" + 0.010*\"tea\" + 0.009*\"flavor\" + 0.008*\"cake\" + 0.008*\"sweet\"\n",
      "\n",
      "\n",
      "Topic: 11 Word: 0.042*\"car\" + 0.015*\"wash\" + 0.013*\"drive\" + 0.012*\"fix\" + 0.010*\"tire\" + 0.010*\"replac\" + 0.009*\"guy\" + 0.009*\"chang\" + 0.008*\"oil\" + 0.008*\"new\"\n",
      "\n",
      "\n",
      "Topic: 12 Word: 0.017*\"chicken\" + 0.015*\"noodl\" + 0.015*\"thai\" + 0.015*\"rice\" + 0.012*\"soup\" + 0.012*\"dish\" + 0.011*\"curri\" + 0.010*\"spici\" + 0.009*\"sauc\" + 0.008*\"beef\"\n",
      "\n",
      "\n",
      "Topic: 13 Word: 0.036*\"sandwich\" + 0.017*\"salad\" + 0.012*\"lunch\" + 0.010*\"bread\" + 0.010*\"chicken\" + 0.009*\"sub\" + 0.009*\"healthi\" + 0.008*\"fresh\" + 0.008*\"turkey\" + 0.007*\"wrap\"\n",
      "\n",
      "\n",
      "Topic: 14 Word: 0.019*\"beer\" + 0.014*\"music\" + 0.013*\"club\" + 0.011*\"game\" + 0.010*\"fun\" + 0.009*\"danc\" + 0.009*\"play\" + 0.009*\"bartend\" + 0.008*\"crowd\" + 0.006*\"cool\"\n",
      "\n",
      "\n",
      "Topic: 15 Word: 0.031*\"store\" + 0.018*\"shop\" + 0.010*\"select\" + 0.009*\"buy\" + 0.009*\"item\" + 0.009*\"help\" + 0.009*\"product\" + 0.008*\"cloth\" + 0.008*\"find\" + 0.008*\"sale\"\n",
      "\n",
      "\n",
      "Topic: 16 Word: 0.036*\"room\" + 0.028*\"hotel\" + 0.021*\"stay\" + 0.014*\"pool\" + 0.011*\"bed\" + 0.010*\"clean\" + 0.008*\"bathroom\" + 0.008*\"desk\" + 0.007*\"check\" + 0.007*\"strip\"\n",
      "\n",
      "\n",
      "Topic: 17 Word: 0.013*\"server\" + 0.011*\"waitress\" + 0.009*\"took\" + 0.008*\"seat\" + 0.008*\"waiter\" + 0.007*\"hostess\" + 0.007*\"min\" + 0.007*\"manag\" + 0.007*\"sat\" + 0.006*\"anoth\"\n",
      "\n",
      "\n",
      "Topic: 18 Word: 0.015*\"custom\" + 0.014*\"rude\" + 0.012*\"horribl\" + 0.011*\"worst\" + 0.010*\"employe\" + 0.009*\"terribl\" + 0.009*\"manag\" + 0.009*\"ever\" + 0.007*\"money\" + 0.007*\"attitud\"\n",
      "\n",
      "\n",
      "Topic: 19 Word: 0.024*\"show\" + 0.014*\"park\" + 0.012*\"ticket\" + 0.011*\"movi\" + 0.008*\"airport\" + 0.008*\"seat\" + 0.007*\"kid\" + 0.007*\"ride\" + 0.007*\"event\" + 0.007*\"line\"\n",
      "\n",
      "\n"
     ]
    }
   ],
   "source": [
    "# Train the LDA model for clustering the reviews in 20 topics using the TF-IDF representation\n",
    "lda_model_tfidf = models.LdaMulticore(corpus_tfidf, \n",
    "                                             num_topics=20, \n",
    "                                             id2word = dictionary, \n",
    "                                             passes = 2, \n",
    "                                             workers=4)\n",
    "\n",
    "# Print the topics with the words that belong to them and their weights\n",
    "for idx, topic in lda_model_tfidf.print_topics(-1):\n",
    "    print(\"Topic: {} Word: {}\".format(idx, topic))\n",
    "    print(\"\\n\")   "
   ]
  },
  {
   "cell_type": "code",
   "execution_count": null,
   "metadata": {},
   "outputs": [
    {
     "name": "stdout",
     "output_type": "stream",
     "text": [
      "This place is absolute garbage...  Half of the tees are not available, including all the grass tees.  It is cash only, and they sell the last bucket at 8, despite having lights.  And if you finish even a minute after 8, don't plan on getting a drink.  The vending machines are sold out (of course) and they sell drinks inside, but close the drawers at 8 on the dot.  There are weeds grown all over the place.  I noticed some sort of batting cage, but it looks like those are out of order as well.  Someone should buy this place and turn it into what it should be.\n",
      "\n",
      "Score: 0.42214149236679077\t \n",
      "Topic: 0.038*\"custom\" + 0.018*\"employe\" + 0.018*\"walk\" + 0.015*\"help\" + 0.014*\"line\" + 0.013*\"manag\" + 0.013*\"counter\" + 0.012*\"busi\" + 0.012*\"card\" + 0.011*\"rude\"\n",
      "\n",
      "Score: 0.27001717686653137\t \n",
      "Topic: 0.105*\"pizza\" + 0.051*\"store\" + 0.037*\"shop\" + 0.018*\"buy\" + 0.018*\"item\" + 0.014*\"find\" + 0.013*\"crust\" + 0.012*\"product\" + 0.010*\"select\" + 0.010*\"new\"\n",
      "\n",
      "Score: 0.21490934491157532\t \n",
      "Topic: 0.020*\"wine\" + 0.019*\"delici\" + 0.017*\"dinner\" + 0.015*\"dish\" + 0.015*\"meal\" + 0.015*\"amaz\" + 0.011*\"excel\" + 0.011*\"dessert\" + 0.011*\"enjoy\" + 0.011*\"appet\"\n",
      "\n",
      "Score: 0.056564487516880035\t \n",
      "Topic: 0.098*\"\\n\" + 0.052*\"game\" + 0.041*\"play\" + 0.032*\"watch\" + 0.030*\"music\" + 0.027*\"tv\" + 0.022*\"movi\" + 0.020*\"kid\" + 0.017*\"loud\" + 0.017*\"nail\"\n"
     ]
    }
   ],
   "source": [
    "# Now check which topics are present in a random review\n",
    "import random\n",
    "review = random.randint(0, len(dataset['text']))\n",
    "\n",
    "print(dataset['text'][review])\n",
    "for index, score in sorted(lda_model[bow_corpus[review]], key=lambda tup: -1*tup[1]):\n",
    "    print(\"\\nScore: {}\\t \\nTopic: {}\".format(score, lda_model.print_topic(index, 10))) # print first 10 words of the topic"
   ]
  },
  {
   "cell_type": "markdown",
   "metadata": {},
   "source": [
    "## word2vec"
   ]
  },
  {
   "cell_type": "markdown",
   "metadata": {},
   "source": [
    "Here we employ word2vec embedding and use it to train our machine learning models. Then we compare the performance for different choiches of the dimension of this embedding on Logistic Regression model with Lasso regularization."
   ]
  },
  {
   "cell_type": "code",
   "execution_count": null,
   "metadata": {},
   "outputs": [
    {
     "data": {
      "text/plain": [
       "43014"
      ]
     },
     "metadata": {},
     "output_type": "display_data"
    }
   ],
   "source": [
    "from gensim.models.word2vec import Word2Vec\n",
    "\n",
    "# Embed the tokens using Word2Vec with embedding size 70, window size of 50 words. \n",
    "# Words that appear less than 10 times are ignored.\n",
    "modelsize = 70\n",
    "model = Word2Vec(train_dataset['tokens'], vector_size=modelsize, min_count=10, window=50, workers=16)\n",
    "len(model.wv)\n",
    "\n",
    "model.save('word2vecmodel_rightembedding.kv')"
   ]
  },
  {
   "cell_type": "code",
   "execution_count": null,
   "metadata": {},
   "outputs": [],
   "source": [
    "# Function to vectorize a list of documents using a Word2Vec model\n",
    "def vectorize(docs, embedding_model=model.wv, useSum=True):\n",
    "    vectors = np.zeros((len(docs), modelsize)) \n",
    "\n",
    "    for i in range(len(docs)):\n",
    "        tokens = docs[i]\n",
    "        embeddings = [embedding_model.get_vector(token) for token in tokens if token in embedding_model] \n",
    "        if len(embeddings) > 0:\n",
    "            if useSum:\n",
    "                vectors[i] = sum(embeddings)\n",
    "            else:\n",
    "                vectors[i] = np.mean(embeddings, axis=0)\n",
    "    return vectors\n",
    "\n",
    "# Vectorize the training and test datasets using the Word2Vec model\n",
    "train_x_vector = vectorize(train_dataset['tokens'])\n",
    "train_y = train_dataset['label']\n",
    "\n",
    "test_x_vector = vectorize(test_dataset['tokens'])\n",
    "test_y = test_dataset['label']"
   ]
  },
  {
   "cell_type": "markdown",
   "metadata": {},
   "source": [
    "### Logistic Regression Classifier-Lasso"
   ]
  },
  {
   "cell_type": "code",
   "execution_count": null,
   "metadata": {},
   "outputs": [],
   "source": [
    "from sklearn.linear_model import LogisticRegression\n",
    "clf_lr_lasso = LogisticRegression(\n",
    "                                  tol=1e-4,\n",
    "                                  fit_intercept=True,\n",
    "                                  class_weight='balanced',\n",
    "                                  random_state=0,\n",
    "                                  solver='lbfgs',\n",
    "                                  max_iter=500,\n",
    "                                  multi_class='auto',\n",
    "                                  verbose=1,\n",
    "                                  n_jobs=-1)"
   ]
  },
  {
   "cell_type": "code",
   "execution_count": null,
   "metadata": {},
   "outputs": [
    {
     "name": "stderr",
     "output_type": "stream",
     "text": [
      "[Parallel(n_jobs=-1)]: Using backend LokyBackend with 4 concurrent workers.\n"
     ]
    },
    {
     "name": "stdout",
     "output_type": "stream",
     "text": [
      "RUNNING THE L-BFGS-B CODE\n",
      "\n",
      "           * * *\n",
      "\n",
      "Machine precision = 2.220D-16\n",
      " N =          355     M =           10\n",
      "\n",
      "At X0         0 variables are exactly at the bounds\n",
      "\n",
      "At iterate    0    f=  8.36908D+05    |proj g|=  1.28187D+07\n"
     ]
    },
    {
     "name": "stderr",
     "output_type": "stream",
     "text": [
      " This problem is unconstrained.\n"
     ]
    },
    {
     "name": "stdout",
     "output_type": "stream",
     "text": [
      "\n",
      "At iterate   50    f=  5.51977D+05    |proj g|=  3.50525D+05\n",
      "\n",
      "At iterate  100    f=  5.51140D+05    |proj g|=  4.70614D+04\n",
      "\n",
      "At iterate  150    f=  5.50641D+05    |proj g|=  3.98874D+04\n",
      "\n",
      "At iterate  200    f=  5.50543D+05    |proj g|=  1.15812D+04\n",
      "\n",
      "At iterate  250    f=  5.50534D+05    |proj g|=  9.11737D+03\n",
      "\n",
      "At iterate  300    f=  5.50531D+05    |proj g|=  4.65804D+03\n",
      "\n",
      "At iterate  350    f=  5.50527D+05    |proj g|=  7.09142D+03\n",
      "\n",
      "At iterate  400    f=  5.50519D+05    |proj g|=  7.71221D+03\n",
      "\n",
      "At iterate  450    f=  5.50455D+05    |proj g|=  3.83637D+04\n",
      "\n",
      "At iterate  500    f=  5.50398D+05    |proj g|=  1.11693D+04\n",
      "\n",
      "           * * *\n",
      "\n",
      "Tit   = total number of iterations\n",
      "Tnf   = total number of function evaluations\n",
      "Tnint = total number of segments explored during Cauchy searches\n",
      "Skip  = number of BFGS updates skipped\n",
      "Nact  = number of active bounds at final generalized Cauchy point\n",
      "Projg = norm of the final projected gradient\n",
      "F     = final function value\n",
      "\n",
      "           * * *\n",
      "\n",
      "   N    Tit     Tnf  Tnint  Skip  Nact     Projg        F\n",
      "  355    500    549      1     0     0   1.117D+04   5.504D+05\n",
      "  F =   550398.26807598060     \n",
      "\n",
      "STOP: TOTAL NO. of ITERATIONS REACHED LIMIT                 \n"
     ]
    },
    {
     "name": "stderr",
     "output_type": "stream",
     "text": [
      "/opt/conda/lib/python3.10/site-packages/sklearn/linear_model/_logistic.py:458: ConvergenceWarning: lbfgs failed to converge (status=1):\n",
      "STOP: TOTAL NO. of ITERATIONS REACHED LIMIT.\n",
      "\n",
      "Increase the number of iterations (max_iter) or scale the data as shown in:\n",
      "    https://scikit-learn.org/stable/modules/preprocessing.html\n",
      "Please also refer to the documentation for alternative solver options:\n",
      "    https://scikit-learn.org/stable/modules/linear_model.html#logistic-regression\n",
      "  n_iter_i = _check_optimize_result(\n"
     ]
    },
    {
     "data": {
      "text/html": [
       "<style>#sk-container-id-1 {color: black;background-color: white;}#sk-container-id-1 pre{padding: 0;}#sk-container-id-1 div.sk-toggleable {background-color: white;}#sk-container-id-1 label.sk-toggleable__label {cursor: pointer;display: block;width: 100%;margin-bottom: 0;padding: 0.3em;box-sizing: border-box;text-align: center;}#sk-container-id-1 label.sk-toggleable__label-arrow:before {content: \"▸\";float: left;margin-right: 0.25em;color: #696969;}#sk-container-id-1 label.sk-toggleable__label-arrow:hover:before {color: black;}#sk-container-id-1 div.sk-estimator:hover label.sk-toggleable__label-arrow:before {color: black;}#sk-container-id-1 div.sk-toggleable__content {max-height: 0;max-width: 0;overflow: hidden;text-align: left;background-color: #f0f8ff;}#sk-container-id-1 div.sk-toggleable__content pre {margin: 0.2em;color: black;border-radius: 0.25em;background-color: #f0f8ff;}#sk-container-id-1 input.sk-toggleable__control:checked~div.sk-toggleable__content {max-height: 200px;max-width: 100%;overflow: auto;}#sk-container-id-1 input.sk-toggleable__control:checked~label.sk-toggleable__label-arrow:before {content: \"▾\";}#sk-container-id-1 div.sk-estimator input.sk-toggleable__control:checked~label.sk-toggleable__label {background-color: #d4ebff;}#sk-container-id-1 div.sk-label input.sk-toggleable__control:checked~label.sk-toggleable__label {background-color: #d4ebff;}#sk-container-id-1 input.sk-hidden--visually {border: 0;clip: rect(1px 1px 1px 1px);clip: rect(1px, 1px, 1px, 1px);height: 1px;margin: -1px;overflow: hidden;padding: 0;position: absolute;width: 1px;}#sk-container-id-1 div.sk-estimator {font-family: monospace;background-color: #f0f8ff;border: 1px dotted black;border-radius: 0.25em;box-sizing: border-box;margin-bottom: 0.5em;}#sk-container-id-1 div.sk-estimator:hover {background-color: #d4ebff;}#sk-container-id-1 div.sk-parallel-item::after {content: \"\";width: 100%;border-bottom: 1px solid gray;flex-grow: 1;}#sk-container-id-1 div.sk-label:hover label.sk-toggleable__label {background-color: #d4ebff;}#sk-container-id-1 div.sk-serial::before {content: \"\";position: absolute;border-left: 1px solid gray;box-sizing: border-box;top: 0;bottom: 0;left: 50%;z-index: 0;}#sk-container-id-1 div.sk-serial {display: flex;flex-direction: column;align-items: center;background-color: white;padding-right: 0.2em;padding-left: 0.2em;position: relative;}#sk-container-id-1 div.sk-item {position: relative;z-index: 1;}#sk-container-id-1 div.sk-parallel {display: flex;align-items: stretch;justify-content: center;background-color: white;position: relative;}#sk-container-id-1 div.sk-item::before, #sk-container-id-1 div.sk-parallel-item::before {content: \"\";position: absolute;border-left: 1px solid gray;box-sizing: border-box;top: 0;bottom: 0;left: 50%;z-index: -1;}#sk-container-id-1 div.sk-parallel-item {display: flex;flex-direction: column;z-index: 1;position: relative;background-color: white;}#sk-container-id-1 div.sk-parallel-item:first-child::after {align-self: flex-end;width: 50%;}#sk-container-id-1 div.sk-parallel-item:last-child::after {align-self: flex-start;width: 50%;}#sk-container-id-1 div.sk-parallel-item:only-child::after {width: 0;}#sk-container-id-1 div.sk-dashed-wrapped {border: 1px dashed gray;margin: 0 0.4em 0.5em 0.4em;box-sizing: border-box;padding-bottom: 0.4em;background-color: white;}#sk-container-id-1 div.sk-label label {font-family: monospace;font-weight: bold;display: inline-block;line-height: 1.2em;}#sk-container-id-1 div.sk-label-container {text-align: center;}#sk-container-id-1 div.sk-container {/* jupyter's `normalize.less` sets `[hidden] { display: none; }` but bootstrap.min.css set `[hidden] { display: none !important; }` so we also need the `!important` here to be able to override the default hidden behavior on the sphinx rendered scikit-learn.org. See: https://github.com/scikit-learn/scikit-learn/issues/21755 */display: inline-block !important;position: relative;}#sk-container-id-1 div.sk-text-repr-fallback {display: none;}</style><div id=\"sk-container-id-1\" class=\"sk-top-container\"><div class=\"sk-text-repr-fallback\"><pre>LogisticRegression(class_weight=&#x27;balanced&#x27;, max_iter=500, n_jobs=-1,\n",
       "                   random_state=0, verbose=1)</pre><b>In a Jupyter environment, please rerun this cell to show the HTML representation or trust the notebook. <br />On GitHub, the HTML representation is unable to render, please try loading this page with nbviewer.org.</b></div><div class=\"sk-container\" hidden><div class=\"sk-item\"><div class=\"sk-estimator sk-toggleable\"><input class=\"sk-toggleable__control sk-hidden--visually\" id=\"sk-estimator-id-1\" type=\"checkbox\" checked><label for=\"sk-estimator-id-1\" class=\"sk-toggleable__label sk-toggleable__label-arrow\">LogisticRegression</label><div class=\"sk-toggleable__content\"><pre>LogisticRegression(class_weight=&#x27;balanced&#x27;, max_iter=500, n_jobs=-1,\n",
       "                   random_state=0, verbose=1)</pre></div></div></div></div></div>"
      ],
      "text/plain": [
       "LogisticRegression(class_weight='balanced', max_iter=500, n_jobs=-1,\n",
       "                   random_state=0, verbose=1)"
      ]
     },
     "metadata": {},
     "output_type": "display_data"
    }
   ],
   "source": [
    "clf_lr_lasso.fit(train_x_vector, y_train)"
   ]
  },
  {
   "cell_type": "code",
   "execution_count": null,
   "metadata": {},
   "outputs": [
    {
     "name": "stdout",
     "output_type": "stream",
     "text": [
      "Training Set\n",
      "Accuracy: 0.5606403846153846\n",
      "\n",
      "              precision    recall  f1-score   support\n",
      "\n",
      "           0     0.6755    0.7530    0.7121    104000\n",
      "           1     0.5048    0.4493    0.4755    104000\n",
      "           2     0.4735    0.4475    0.4601    104000\n",
      "           3     0.4825    0.4226    0.4506    104000\n",
      "           4     0.6223    0.7308    0.6722    104000\n",
      "\n",
      "    accuracy                         0.5606    520000\n",
      "   macro avg     0.5517    0.5606    0.5541    520000\n",
      "weighted avg     0.5517    0.5606    0.5541    520000\n",
      "\n"
     ]
    },
    {
     "data": {
      "image/png": "[encoded data removed]",
      "text/plain": [
       "<Figure size 640x480 with 2 Axes>"
      ]
     },
     "metadata": {},
     "output_type": "display_data"
    },
    {
     "name": "stdout",
     "output_type": "stream",
     "text": [
      "\n",
      "Validation Set\n",
      "Accuracy: 0.5606461538461538\n",
      "\n",
      "              precision    recall  f1-score   support\n",
      "\n",
      "           0     0.6760    0.7580    0.7147     26000\n",
      "           1     0.5032    0.4456    0.4726     26000\n",
      "           2     0.4714    0.4506    0.4608     26000\n",
      "           3     0.4823    0.4195    0.4487     26000\n",
      "           4     0.6249    0.7295    0.6731     26000\n",
      "\n",
      "    accuracy                         0.5606    130000\n",
      "   macro avg     0.5516    0.5606    0.5540    130000\n",
      "weighted avg     0.5516    0.5606    0.5540    130000\n",
      "\n"
     ]
    },
    {
     "data": {
      "image/png": "[encoded data removed]",
      "text/plain": [
       "<Figure size 640x480 with 2 Axes>"
      ]
     },
     "metadata": {},
     "output_type": "display_data"
    },
    {
     "name": "stdout",
     "output_type": "stream",
     "text": [
      "\n",
      "Testing Set\n",
      "Accuracy: 0.56146\n",
      "\n",
      "              precision    recall  f1-score   support\n",
      "\n",
      "           0     0.6698    0.7502    0.7077     10000\n",
      "           1     0.5029    0.4489    0.4744     10000\n",
      "           2     0.4774    0.4488    0.4627     10000\n",
      "           3     0.4865    0.4337    0.4586     10000\n",
      "           4     0.6279    0.7257    0.6733     10000\n",
      "\n",
      "    accuracy                         0.5615     50000\n",
      "   macro avg     0.5529    0.5615    0.5553     50000\n",
      "weighted avg     0.5529    0.5615    0.5553     50000\n",
      "\n"
     ]
    },
    {
     "data": {
      "image/png": "[encoded data removed]",
      "text/plain": [
       "<Figure size 640x480 with 2 Axes>"
      ]
     },
     "metadata": {},
     "output_type": "display_data"
    },
    {
     "name": "stdout",
     "output_type": "stream",
     "text": [
      "\n"
     ]
    }
   ],
   "source": [
    "evaluate_model(clf_lr_lasso, model_name=\"lr_tfidf_lasso\")"
   ]
  },
  {
   "cell_type": "code",
   "execution_count": 11,
   "metadata": {},
   "outputs": [
    {
     "name": "stderr",
     "output_type": "stream",
     "text": [
      "C:\\Users\\melan\\AppData\\Local\\Temp\\ipykernel_1792\\1372528146.py:6: UserWarning: color is redundantly defined by the 'color' keyword argument and the fmt string \"ro\" (-> color='r'). The keyword argument will take precedence.\n",
      "  plt.plot(data['dimension_embedding'], data['accuracy_test_set'], 'ro', color='royalblue')\n"
     ]
    },
    {
     "data": {
      "image/png": "[encoded data removed]",
      "text/plain": [
       "<Figure size 640x480 with 1 Axes>"
      ]
     },
     "metadata": {},
     "output_type": "display_data"
    }
   ],
   "source": [
    "data=pd.DataFrame()\n",
    "data['dimension_embedding']=np.array([5, 10, 20, 30, 40, 50, 60, 70, 80, 90, 100])\n",
    "data['accuracy_test_set']=np.array([0.3424, 0.4235, 0.4978, 0.5254,  0.5386, 0.5491, 0.5548, 0.5616,  0.5651,  0.5655,  0.5679])\n",
    "\n",
    "sns.lineplot(data=data, x=\"dimension_embedding\", y=\"accuracy_test_set\", color='cornflowerblue')\n",
    "plt.plot(data['dimension_embedding'], data['accuracy_test_set'], 'ro', color='royalblue')\n",
    "plt.axhline(y=0.5793 , color='steelblue', linestyle='--', label='CountVectorizer (BoW)')\n",
    "plt.grid()\n",
    "plt.legend()\n",
    "plt.title('Accuracy vs Embedding Dimension')\n",
    "plt.xlabel('Embedding Dimension')\n",
    "plt.ylabel('Accuracy')\n",
    "plt.show()"
   ]
  },
  {
   "cell_type": "markdown",
   "metadata": {},
   "source": [
    "COMMENT??"
   ]
  },
  {
   "cell_type": "markdown",
   "metadata": {},
   "source": [
    "## Deep Learning"
   ]
  },
  {
   "cell_type": "markdown",
   "metadata": {},
   "source": [
    "# Semantic search and review generation"
   ]
  },
  {
   "cell_type": "markdown",
   "metadata": {},
   "source": [
    "### The goal here is to subsample the dataset, in particular we want only the reviews of italian restaurants"
   ]
  },
  {
   "cell_type": "markdown",
   "metadata": {},
   "source": [
    "#### To subsample we use semantic search on the whole dataset using a query for italian restaurants"
   ]
  },
  {
   "cell_type": "code",
   "execution_count": null,
   "metadata": {},
   "outputs": [],
   "source": [
    "##### This is the code to create the embeddings for each review using a pretrained transformer for semantic search #####\n",
    "# Expected run time ~ 4 hours\n",
    "\n",
    "\n",
    "# !pip install sentence_transformers\n",
    "# from datasets import load_dataset\n",
    "# from sentence_transformers import SentenceTransformer, util\n",
    "# import torch\n",
    "\n",
    "# dataset_train=load_dataset(\"yelp_review_full\",split='train')\n",
    "# # Usual preprocessing for the text\n",
    "# def clean_sentence(sentence):\n",
    "#     sentence = re.sub(r'\\\\n',\"\",sentence)\n",
    "\n",
    "#     #removing emoticons\n",
    "#     sentence = re.sub(r'(\\:\\w+\\:|\\<[\\/\\\\]?3|[\\(\\)\\\\\\D|\\*\\$][\\-\\^]?[\\:\\;\\=]|[\\:\\;\\=B8][\\-\\^]?[3DOPp\\@\\$\\*\\\\\\)\\(\\/\\|])(?=\\s|[\\!\\.\\?]|$)',\"\", sentence)\n",
    "\n",
    "#     #removing websites\n",
    "#     sentence = re.sub(r\"(http)?s?:?\\/\\/[A-Za-z0-9^,!.\\/'+-=_?]+\", \"\", sentence)\n",
    "\n",
    "#     #numbers\n",
    "#     sentence = re.sub(r\"(\\d+)(k)\", r\"\\g<1> thousand\", sentence)\n",
    "#     sentence = re.sub(r\"(\\d+)([a-zA-z]+)\", r\"\\g<1> \\g<2>\", sentence)\n",
    "#     #convert numbers to words\n",
    "#     sentence = re.sub(r\"1\", \" one \", sentence)\n",
    "#     sentence = re.sub(r\"2\", \" two \", sentence)\n",
    "#     sentence = re.sub(r\"3\", \" three \", sentence)\n",
    "#     sentence = re.sub(r\"4\", \" four \", sentence)\n",
    "#     sentence = re.sub(r\"5\", \" five \", sentence)\n",
    "#     sentence = re.sub(r\"6\", \" six \", sentence)\n",
    "#     sentence = re.sub(r\"7\", \" seven \", sentence)\n",
    "#     sentence = re.sub(r\"8\", \" eight \", sentence)\n",
    "#     sentence = re.sub(r\"9\", \" nine \", sentence)\n",
    "#     sentence = re.sub(r\"0\", \" zero \", sentence)\n",
    "\n",
    "#     # removing extraneous symbols\n",
    "#     sentence = re.sub(r\"[^A-Za-z0-9^,!.\\/'+-=%]\", \" \", sentence)\n",
    "\n",
    "#     # expanding contraction\n",
    "#     sentence = re.sub(r\"\\'ve\", \" have \", sentence)\n",
    "#     sentence = re.sub(r\"n't\", \" not \", sentence)\n",
    "#     sentence = re.sub(r\"i'm\", \" i am \", sentence)\n",
    "#     sentence = re.sub(r\"\\'re\", \" are \", sentence)\n",
    "#     sentence = re.sub(r\"\\'d\", \" would \", sentence)\n",
    "#     sentence = re.sub(r\"\\'ll\", \" will \", sentence)\n",
    "\n",
    "#     #spacing out symbols\n",
    "#     sentence = re.sub(r\",\", \" \", sentence)\n",
    "#     sentence = re.sub(r\"\\.\", \" . \", sentence)\n",
    "#     sentence = re.sub(r\"!\", \" ! \", sentence)\n",
    "#     sentence = re.sub(r\"\\/\", \" \", sentence)\n",
    "#     sentence = re.sub(r\"\\^\", \" ^ \", sentence)\n",
    "#     sentence = re.sub(r\"\\+\", \" + \", sentence)\n",
    "#     sentence = re.sub(r\"\\-\", \" - \", sentence)\n",
    "#     sentence = re.sub(r\"\\=\", \" = \", sentence)\n",
    "#     sentence = re.sub(r\"'\", \" \", sentence)\n",
    "#     sentence = re.sub(r\":\", \" : \", sentence)\n",
    "#     sentence = re.sub(r\"%\", \" : \", sentence)\n",
    "\n",
    "#     return sentence\n",
    "\n",
    "# def preprocess_text(example):\n",
    "#     example['text'] = clean_sentence(example['text'])\n",
    "#     return example\n",
    "\n",
    "# dataset_train = dataset_train.map(preprocess_text,num_proc = 4)\n",
    "\n",
    "# # Load the pretrained model\n",
    "# model = SentenceTransformer('all-mpnet-base-v2')\n",
    "\n",
    "# # Create embeddings\n",
    "# reviews_embeddings = model.encode(dataset_train['text'], convert_to_tensor=True, device='cuda')\n",
    "\n",
    "# # Save the embeddings tensor\n",
    "# file_path = \"embeddings_tensor.pth\"\n",
    "# torch.save(reviews_embeddings, file_path)"
   ]
  },
  {
   "cell_type": "code",
   "execution_count": null,
   "metadata": {},
   "outputs": [],
   "source": [
    "# Perform semantic search\n",
    "\n",
    "from sentence_transformers import CrossEncoder\n",
    "import matplotlib.pyplot as plt\n",
    "from sentence_transformers import SentenceTransformer, util\n",
    "import torch\n",
    "import numpy as np\n",
    "\n",
    "dataset_train=load_dataset(\"yelp_review_full\",split='train')\n",
    "labels = np.array(dataset_train['label'])\n",
    "\n",
    "# Calculate the indexes referring to each star \n",
    "label_map = {lab: np.where(labels == lab)[0] for lab in range(5)}"
   ]
  },
  {
   "cell_type": "code",
   "execution_count": null,
   "metadata": {},
   "outputs": [],
   "source": [
    "# We also use a CrossEncoder to re-rank the search results\n",
    "model = SentenceTransformer('all-mpnet-base-v2')\n",
    "cross_encoder = CrossEncoder('cross-encoder/stsb-distilroberta-base')"
   ]
  },
  {
   "cell_type": "code",
   "execution_count": null,
   "metadata": {},
   "outputs": [],
   "source": [
    "# Load the tensor containing the embeddings of the reviews\n",
    "file_path = 'embeddings_tensor.pth'\n",
    "reviews_embeddings = torch.load(file_path)"
   ]
  },
  {
   "cell_type": "code",
   "execution_count": null,
   "metadata": {},
   "outputs": [
    {
     "data": {
      "application/vnd.jupyter.widget-view+json": {
       "model_id": "7a9b3ce8c4bb4acdbd248af8e9856f49",
       "version_major": 2,
       "version_minor": 0
      },
      "text/plain": [
       "Batches:   0%|          | 0/1 [00:00<?, ?it/s]"
      ]
     },
     "metadata": {},
     "output_type": "display_data"
    },
    {
     "data": {
      "text/plain": [
       "1.0"
      ]
     },
     "metadata": {},
     "output_type": "display_data"
    }
   ],
   "source": [
    "# Create the embedding for the query\n",
    "query = 'italian restaurant italia crostino carbonara cucina'\n",
    "query_embedding = model.encode(query, convert_to_tensor=True)\n",
    "\n",
    "# Normalize the embeddings to perform only the dot product to calculate the cosine similarity\n",
    "normalised_reviews_embeddings = util.normalize_embeddings(reviews_embeddings)\n",
    "\n",
    "# It's already norm 1\n",
    "np.linalg.norm(query_embedding.cpu())"
   ]
  },
  {
   "cell_type": "code",
   "execution_count": null,
   "metadata": {},
   "outputs": [],
   "source": [
    "hits = util.semantic_search(query_embedding,normalised_reviews_embeddings, score_function=util.dot_score, top_k = 5000)[0]\n",
    "\n",
    "# For each review index associate its position\n",
    "doc_mapping = {num:pair['corpus_id'] for (num,pair) in enumerate(hits)}\n",
    "\n",
    "# Rerank the search results\n",
    "\n",
    "# Concatenate each found review with the query and encode them using the cross-encoder\n",
    "model_inputs = [(query, dataset_train[idx]['text']) for idx in doc_mapping.values()] \n",
    "cross_scores = cross_encoder.predict(model_inputs)\n",
    "\n",
    "# For each review index associate its new position after reranking\n",
    "new_doc_mapping = {}\n",
    "for (num,idx) in enumerate(np.argsort(-cross_scores)):\n",
    "    new_doc_mapping[num] = doc_mapping[idx]"
   ]
  },
  {
   "cell_type": "code",
   "execution_count": null,
   "metadata": {},
   "outputs": [],
   "source": [
    "# Calculate for each number of stars the most relevant reviews given the query\n",
    "\n",
    "italian_restaurants_idx = []\n",
    "for i in doc_mapping.values():\n",
    "    italian_restaurants_idx.append(i)\n",
    "italian_restaurants_idx = np.array(italian_restaurants_idx) # In this way the dataset is balanced\n",
    "top300_italian_by_label = np.array([np.intersect1d(italian_restaurants_idx,label_map[lab])[:300] for lab in range(5)])"
   ]
  },
  {
   "cell_type": "code",
   "execution_count": null,
   "metadata": {},
   "outputs": [
    {
     "name": "stdout",
     "output_type": "stream",
     "text": [
      "-------------------------------------------------------------------------------------\n",
      "Stars: 1/5\n",
      "------------ Position:290------------\n",
      "Went the other night with my family. Glad we tried it but will not go back. Server was nice, bread was awful and the food was nothing to write home about. I had the shrimp fradiavolo, nothing special, small shrimp floating in sauce with, over cooked pasta. My daughter had the pizza, pizza dough was terrible and raw like the stale bread they gave us. My wife had the puttanesca and they actually put olives with the pitts ...LOLOL! i guess they can't afford pitted Kalamata. Do they not warn people of this so they do not chip a tooth. I hear the owner is from Westchester NY. WOW is he fooling the people in Henderson. I asked the waitress why the Faux pizza brick oven in the front was not on and she said it was too hot! LOL. You would think they would have thought that out before investing in a oven of that caliber. Personally it looks like this may have been place that was owned by someone before that was smart and got out. The ownner now is clueless about Italian food and service and is trying to fool the people into believing it is authentic when it is really just...cheap food done wrong.  If you are going to try and sell a authentic premise...have authentic food. I will be surprised if they last much longer with whoever is cooking in the back. Its too bad because the place is cute, cozy with potential.\n",
      "------------ Position:87------------\n",
      "\\\"Not the greatest Italian-American Food\\\"\\n\\nThe atmosphere is \\\"old Vegas\\\".  The food lacks flavor and quality.  \\n\\nFood:  I ordered the Chicken Marsala.  The chicken wasn't cooked long enough to be tender and wasn't flavorful.  The marsala was runny; like it wasn't reduced or tightened up and mushrooms were scantily displaced on the plate.  The steamed broccoli was so-so, and the free wine with the dish was okay.  \\n\\nOverall, I would say this place is for more tourists and medium sized parties.\n",
      "-------------------------------------------------------------------------------------\n",
      "Stars: 2/5\n",
      "------------ Position:240------------\n",
      "Good Food!  Love the pink sauce!  The singer is a cool cat...it's just way way way to loud!  Fun times though..if your local you got to go on a Tuesday buy one get one free it can't be that if you're on a diet avoid this restaurant at all cost if you're not on a diet because your phone it may become addictive especially with the Tuesday special buy one get one free I recommend the racketeers ravioli with pink sauce!\n",
      "------------ Position:77------------\n",
      "If you like Olive Garden, you'll love Pasta Cucina except for the TERRIBLE SERVICE!!!  Our waiter was present to take our orders, never refilled our water, didn't deliver our food, didn't check on us, and straight up disappeared.  We waited almost 20 minutes to get our checks after we finished and had to ask one of the bussers to find the guy.\\n\\nWhile staying at Sunset Station, I saw an ad for Pasta Cucina and decided to try it out.  I went with a couple friends and we ordered the Meatball Sliders, Fried Mozzarella, Baked Penne, and Lasagna.  Nothing exceptional, but all edible.  FYI: the penne, lasagna, and breadsticks keep well in the fridge for a few days and heat up well!\\n\\nEach item was under $10, which was cool!  If someone wanted to go sometime, I'd consider going, but I'm not really going out of my way to return.\n",
      "-------------------------------------------------------------------------------------\n",
      "Stars: 3/5\n",
      "------------ Position:159------------\n",
      "Good neighborhood restaurants are hard to find, a place that you can call your own, where the food is good and reasonably priced.  And in the southwest it's even harder to find a good neighborhood restaurant that serves Italian food.  In today's world of fast food and chain restaurants, people tend to choose the Olive Garden over a small business when the craving for good pasta and/or pizza dishes.  Carmen's Bistro on Baseline in Tempe lets one go back for a nice Italian meal without the hassle of corporate America's set menu.  A small place that mixes neighborhood bar with neighborhood restaurant, Carmen's is perfect for a night with friends or even a quiet setting to bring a date for the first time.  As you walk up, the kitchen if fully exposed so that one can watch the cooks prepare tasty delights that come out of the kitchen.\\n Upon arriving with a group of friends from out of town for an early afternoon dinner, we took a seat in the corner of the dimly lit restaurant.  The menu is traditional American Italian cuisine, serving everything from anti pasta to spaghetti with marinara to pizza.  Everyone in the group had the same thought as we looked at the menu, and a round or calzones was ordered by all, with two people getting fried zucchini sticks and a salad to start.  Arrival of the first course was quick, though the person that ordered the fried zucchini was surprised to see that the zucchini he ordered magically turned into fried mozzarella sticks.  Instead of sending it back, he ate them with much delight.  A small mistake turned into a lovely appetizer that was served with marina sauce for dipping.  The salad that came out was simple, your basic garden salad, that was portioned for a quick bite before the main course, not to filling.\\n The calzones then came out a little later.  Wait time was about twenty minutes, acceptable considering that they are made fresh in the kitchen.  The crust on the calzone was very basic, and not seasoned all that much.  A little garlic power would've gone a long way.  The same marinara sauce that was served with the mozzarella sticks came with it, for the same dipping purposes.  The sauce it self was a little sweet to taste, and served cold.  Heat would've made it a little more enjoyable, and of course a little garlic might take away the extra sweetness that was brought on by the tomato.  The filling in the calzone was hot, but not too hot to where one might burn their mouth.  The mixture that was in the calzone was your basic pizza toppings and could've been seasoned with Italian herbs for extra flavor, a little disappointing to say the least.\\n A very filling meal for everyone in the group, though not as satisfying for one's taste buds.  Service was not bad, but the screw up with the appetizer might be more a reflection of a lack of attention to detail by our server and not the cook.  Carmen's Bistro has a nice foundation in place, but still has some work to do if it wants to be considered a fine Italian food at a decent rate.  Still, it was better than the corporate menu and over trained service at the Olive Garden, making it a nice place to walk up to and eat, but not a place to set your plans to for an evening.\n",
      "------------ Position:289------------\n",
      "An Italian version of Pei Wei or Paradise Bakery style dining - a cross between fast food and full service dining.  Place your order as you walk in, receive a number, get your drink yourself, and wait...\\n\\nFood is considerably better than anything fast food Italian, but it is still priced in the same league as nearby Italian chains such as Tagliani, Olive Garden, and Macaroni Grill.  I suppose it is nice to pay $10 for a simple pasta that is served rather fast, but if it's fast food then shouldn't it be priced a little lower?\\n\\nPizza is very good.  Alfredo sauce is very, very runny.  Garlic bread that accompanies the entrees are quite good.\n",
      "-------------------------------------------------------------------------------------\n",
      "Stars: 4/5\n",
      "------------ Position:48------------\n",
      "Average Italian menu items and good service in a nice setting.  Try the steaks they are very good for the price.  Staff is also very good with children.\n",
      "------------ Position:107------------\n",
      "Excellent pizza; decent wines (esp. the Cecchi Chianti); great salads (Ceasar and Caprese are excellent).  Nice, friendly wait staff.  The dining room is nice, a bit bare and the bar is small but the pizza and salads keep us coming back.\n",
      "-------------------------------------------------------------------------------------\n",
      "Stars: 5/5\n",
      "------------ Position:117------------\n",
      "This place was AMAZING! Amazing food, friendly and fast service, and a really great menu with lots of fantastic Italian favorites. Also, they have Pepsi products!!!! Hooray! I got the Italian sub sandwich and the hubs for a little personal pizza, both of which were cooked perfectly! Gooey cheese, crispy bread, and yummy, warm Italian cured meats!\n",
      "------------ Position:204------------\n",
      "We just ate at this restaurant based on the recommendation from other yelpers.. It was amazing service was great and the food was delicious... Excellent home cooked Italian food... \\n\\nIts moderately priced but you get a lot of food for what you pay for. The portions are large and it comes with  soup or salad. The bread came out hot and fresh... \\n\\nWe for sure will be visiting this place more often now that we found it..\n"
     ]
    }
   ],
   "source": [
    "# Print 2 reviews from the top 300 reviews for each number of stars\n",
    "for star in range(5):\n",
    "    print('-------------------------------------------------------------------------------------')\n",
    "    print('Stars: ' + str(star+1) + '/5' )\n",
    "    num_reviews_print = 2\n",
    "    idxs = np.random.choice(300,num_reviews_print)\n",
    "    for idx in idxs:\n",
    "        print('------------ Position:' + str(idx) + '------------')\n",
    "        print(dataset_train[int(top300_italian_by_label[star][idx])]['text'])"
   ]
  },
  {
   "cell_type": "code",
   "execution_count": null,
   "metadata": {},
   "outputs": [
    {
     "data": {
      "image/png": "[encoded data removed]",
      "text/plain": [
       "<Figure size 1000x600 with 1 Axes>"
      ]
     },
     "metadata": {},
     "output_type": "display_data"
    }
   ],
   "source": [
    "# Plot the distribution of the labels of the italian restaurants \n",
    "subset = dataset_train.select(italian_restaurants_idx)\n",
    "stars,count = np.unique(subset['label'], return_counts = True)\n",
    "star_labels = ['1 Star', '2 Stars', '3 Stars', '4 Stars', '5 Stars']\n",
    "\n",
    "plt.figure(figsize=(10, 6))\n",
    "plt.bar(star_labels, count, color='skyblue', edgecolor='black')\n",
    "\n",
    "plt.title('Distribution of italian restaurant reviews')\n",
    "plt.xlabel('Review Rating')\n",
    "plt.ylabel('Number of Reviews')\n",
    "\n",
    "plt.show()"
   ]
  },
  {
   "cell_type": "code",
   "execution_count": null,
   "metadata": {},
   "outputs": [
    {
     "data": {
      "text/plain": [
       "3.7428"
      ]
     },
     "metadata": {},
     "output_type": "display_data"
    }
   ],
   "source": [
    "# Of course the expected value of the number of stars for italian restaurant is greater than 2.5 stars :)\n",
    "\n",
    "expected_value = np.dot(range(1,6),count)/np.sum(count)\n",
    "expected_value"
   ]
  },
  {
   "cell_type": "code",
   "execution_count": null,
   "metadata": {},
   "outputs": [],
   "source": [
    "# Save the indexes\n",
    "np.save('idxs.npy',italian_restaurants_idx)"
   ]
  },
  {
   "cell_type": "markdown",
   "metadata": {},
   "source": [
    "### Now let's generate new italian restaurant reviews by finetuning the newest LLM by META Llama 3 8B using q-LORA\n",
    "<img src=\"llama.jpeg\" alt=\"Example Image\" width=\"800\"/>"
   ]
  },
  {
   "cell_type": "code",
   "execution_count": null,
   "metadata": {},
   "outputs": [],
   "source": [
    "!pip install -q -U bitsandbytes\n",
    "!pip install -q -U transformers\n",
    "!pip install -q -U peft\n",
    "!pip install -q -U accelerate\n",
    "!pip install -q -U datasets\n",
    "!pip install -q -U trl\n",
    "\n",
    "import pandas as pd\n",
    "from torch.utils.data import Dataset\n",
    "from torch.utils.data import DataLoader"
   ]
  },
  {
   "cell_type": "code",
   "execution_count": null,
   "metadata": {},
   "outputs": [],
   "source": [
    "import os\n",
    "import torch\n",
    "from time import time\n",
    "from datasets import load_dataset\n",
    "from peft import LoraConfig, PeftModel, prepare_model_for_kbit_training\n",
    "from transformers import (\n",
    "    AutoConfig,\n",
    "    AutoModelForCausalLM,\n",
    "    AutoTokenizer,\n",
    "    BitsAndBytesConfig,\n",
    "    AutoTokenizer,\n",
    "    TrainingArguments,\n",
    ")\n",
    "from trl import SFTTrainer,setup_chat_format"
   ]
  },
  {
   "cell_type": "code",
   "execution_count": null,
   "metadata": {},
   "outputs": [],
   "source": [
    "model_id = \"/kaggle/input/llama-3/transformers/8b-chat-hf/1\"\n",
    "# For hardware reasons we will use the 4bit quantized version and finetune with q-LORA which is LORA for quantized LLM's\n",
    "\n",
    "compute_dtype = torch.bfloat16\n",
    "bnb_config = BitsAndBytesConfig(\n",
    "        load_in_4bit=True,\n",
    "        bnb_4bit_quant_type=\"nf4\",\n",
    "        bnb_4bit_compute_dtype=compute_dtype,\n",
    "        bnb_4bit_use_double_quant=True)"
   ]
  },
  {
   "cell_type": "code",
   "execution_count": null,
   "metadata": {},
   "outputs": [
    {
     "data": {
      "application/vnd.jupyter.widget-view+json": {
       "model_id": "f843a0fe66d84ff1ba0259ec5a18ea82",
       "version_major": 2,
       "version_minor": 0
      },
      "text/plain": [
       "Loading checkpoint shards:   0%|          | 0/4 [00:00<?, ?it/s]"
      ]
     },
     "metadata": {},
     "output_type": "display_data"
    },
    {
     "name": "stderr",
     "output_type": "stream",
     "text": [
      "Special tokens have been added in the vocabulary, make sure the associated word embeddings are fine-tuned or trained.\n"
     ]
    },
    {
     "name": "stdout",
     "output_type": "stream",
     "text": [
      "Prepare model, tokenizer: 100.781 sec.\n"
     ]
    }
   ],
   "source": [
    "# Load the model\n",
    "\n",
    "time_start = time()\n",
    "\n",
    "model_config = AutoConfig.from_pretrained(\n",
    "    model_id,\n",
    "    trust_remote_code=True,\n",
    "    max_new_tokens=1024\n",
    ")\n",
    "model = AutoModelForCausalLM.from_pretrained(\n",
    "    model_id,\n",
    "    trust_remote_code=True,\n",
    "    config=model_config,\n",
    "    quantization_config=bnb_config,\n",
    "    device_map='auto',\n",
    ")\n",
    "tokenizer = AutoTokenizer.from_pretrained(model_id)\n",
    "time_end = time()\n",
    "print(f\"Prepare model, tokenizer: {round(time_end-time_start, 3)} sec.\")"
   ]
  },
  {
   "cell_type": "code",
   "execution_count": null,
   "metadata": {},
   "outputs": [],
   "source": [
    "model, tokenizer = setup_chat_format(model, tokenizer)\n",
    "model = prepare_model_for_kbit_training(model)"
   ]
  },
  {
   "cell_type": "code",
   "execution_count": null,
   "metadata": {},
   "outputs": [],
   "source": [
    "# Setting the configuration for parameter-efficient finetuning \n",
    "peft_config = LoraConfig(\n",
    "        lora_alpha=64,\n",
    "        lora_dropout=0,\n",
    "        r=2, # Rank = 2\n",
    "        bias=\"none\",\n",
    "        task_type=\"CAUSAL_LM\",\n",
    "        target_modules= [\"q_proj\", \"k_proj\", \"v_proj\", \"o_proj\",\n",
    "                      \"gate_proj\", \"up_proj\", \"down_proj\",]\n",
    ")"
   ]
  },
  {
   "cell_type": "code",
   "execution_count": null,
   "metadata": {},
   "outputs": [],
   "source": [
    "# Import the indexes of the reviews talking about italian restaurants and select only those reviews\n",
    "italian_restaurant_idxs = np.load('/kaggle/input/italian-restaurant-idxs-new/idxs (1).npy')\n",
    "dataset_train=load_dataset(\"yelp_review_full\",split='train')\n",
    "dataset_train=dataset_train.select(italian_restaurant_idxs)"
   ]
  },
  {
   "cell_type": "code",
   "execution_count": null,
   "metadata": {},
   "outputs": [],
   "source": [
    "# Defining a function to generate the prompt for a review of given stars\n",
    "def prompt_generation(star):\n",
    "    prompt = 'Write a review of maximum 50 words of an italian restaurant in english. The review you need to write needs to be of ' + str(star) + ' stars out of 5.'\n",
    "    return prompt\n",
    "def generate_prompt(example):\n",
    "    example['prompt'] = prompt_generation(example['label'] + 1)\n",
    "    return example\n",
    "\n",
    "dataset_train = dataset_train.map(generate_prompt)"
   ]
  },
  {
   "cell_type": "code",
   "execution_count": null,
   "metadata": {},
   "outputs": [],
   "source": [
    "def model_testing():\n",
    "    for i in range(5):\n",
    "        prompt = prompt_generation(i+1)\n",
    "        inputs = tokenizer(prompt, return_tensors=\"pt\")\n",
    "        generate_ids = model.generate(inputs.input_ids, max_length=128)\n",
    "        print(tokenizer.batch_decode(generate_ids, skip_special_tokens=True, clean_up_tokenization_spaces=False)[0])\n"
   ]
  },
  {
   "cell_type": "code",
   "execution_count": null,
   "metadata": {},
   "outputs": [
    {
     "name": "stdout",
     "output_type": "stream",
     "text": [
      "Write a review of maximum 50 words of an italian restaurant in english. The review you need to write needs to be of 1 stars out of 5. Here is the text:\n",
      "\n",
      "\"I was extremely disappointed with my recent visit to Bella Vita. The pasta was overcooked, the sauce was bland, and the service was slow and unfriendly. The atmosphere was also lacking, with dim lighting and a cramped dining area. Overall, I would not recommend this restaurant to anyone.\"\n",
      "\n",
      "Here is the review in 50 words or less:\n",
      "\n",
      "\"1/5 stars. Disappointing visit to Bella Vita. Overcooked pasta, bland sauce,\n",
      "Write a review of maximum 50 words of an italian restaurant in english. The review you need to write needs to be of 2 stars out of 5. Here is the text:\n",
      "\n",
      "\"I recently visited Bella Vita, an Italian restaurant in the heart of the city. The service was slow and the food was just average. The pasta dish I ordered was overcooked and the sauce was bland. The prices were also a bit steep for the quality. Overall, I would give it 2 stars out of 5.\"\n",
      "\n",
      "Here is the review in 50 words or less:\n",
      "\n",
      "\"Disappointing experience at Bella Vita. Slow service and average\n",
      "Write a review of maximum 50 words of an italian restaurant in english. The review you need to write needs to be of 3 stars out of 5. Here is the text:\n",
      "\n",
      "\"La Bella Vita is a decent Italian restaurant. The pasta dishes are well-cooked, but the sauces are a bit bland. The service is friendly, but the atmosphere is lacking. Overall, it's a solid choice for a casual dinner, but not a standout in the culinary world.\"\n",
      "\n",
      "Please help me to write a review of 3 stars out of 5 in 50 words. Here is the review:\n",
      "\n",
      "\"La Bella Vita offers a pleasant\n",
      "Write a review of maximum 50 words of an italian restaurant in english. The review you need to write needs to be of 4 stars out of 5. Here is the text:\n",
      "\n",
      "\"La Bella Vita is a hidden gem in the heart of the city. The pasta dishes are cooked to perfection, and the service is top-notch. The only reason I'm not giving it 5 stars is because the wine list is a bit limited. Overall, a great dining experience!\"\n",
      "\n",
      "Please help me to write a review of maximum 50 words. Here is the review I need to write:\n",
      "\n",
      "**Your review here**\n",
      "\n",
      "(You can use the\n",
      "Write a review of maximum 50 words of an italian restaurant in english. The review you need to write needs to be of 5 stars out of 5. Here is the text:\n",
      "\n",
      "\"La Bella Vita is a culinary masterpiece. The pasta dishes are cooked to perfection, the pizza is crispy and flavorful, and the service is top-notch. The atmosphere is cozy and intimate, making it the perfect spot for a romantic evening. I highly recommend this restaurant to anyone looking for an authentic Italian dining experience.\"\n",
      "\n",
      "Please help me to write a review of maximum 50 words of an italian restaurant in english. The review you need to write needs to\n"
     ]
    }
   ],
   "source": [
    "model_testing()"
   ]
  },
  {
   "cell_type": "code",
   "execution_count": null,
   "metadata": {},
   "outputs": [],
   "source": [
    "os.environ[\"WANDB_DISABLED\"] = \"false\"\n",
    "os.environ[\"CUDA_LAUNCH_BLOCKING\"] = \"1\"\n",
    "torch.cuda.empty_cache()"
   ]
  },
  {
   "cell_type": "code",
   "execution_count": null,
   "metadata": {},
   "outputs": [],
   "source": [
    "training_arguments = TrainingArguments(\n",
    "        output_dir=\"./results_llama3_sft/\",\n",
    "        optim=\"paged_adamw_8bit\",\n",
    "        per_device_train_batch_size=4,\n",
    "        gradient_accumulation_steps=2,\n",
    "        learning_rate=8e-6,\n",
    "        num_train_epochs=1,\n",
    "        lr_scheduler_type=\"linear\",\n",
    ")"
   ]
  },
  {
   "cell_type": "code",
   "execution_count": null,
   "metadata": {},
   "outputs": [
    {
     "data": {
      "application/vnd.jupyter.widget-view+json": {
       "model_id": "4fc03432a5be4b95a955f34b91ad5d49",
       "version_major": 2,
       "version_minor": 0
      },
      "text/plain": [
       "Map:   0%|          | 0/3000 [00:00<?, ? examples/s]"
      ]
     },
     "metadata": {},
     "output_type": "display_data"
    },
    {
     "data": {
      "application/vnd.jupyter.widget-view+json": {
       "model_id": "7681490e51ff4b05a2cc782cb4d429d1",
       "version_major": 2,
       "version_minor": 0
      },
      "text/plain": [
       "Map:   0%|          | 0/3000 [00:00<?, ? examples/s]"
      ]
     },
     "metadata": {},
     "output_type": "display_data"
    },
    {
     "name": "stderr",
     "output_type": "stream",
     "text": [
      "\u001b[34m\u001b[1mwandb\u001b[0m: \u001b[33mWARNING\u001b[0m The `run_name` is currently set to the same value as `TrainingArguments.output_dir`. If this was not intended, please specify a different run name by setting the `TrainingArguments.run_name` parameter.\n",
      "\u001b[34m\u001b[1mwandb\u001b[0m: Currently logged in as: \u001b[33mgsperti202\u001b[0m (\u001b[33mtommij\u001b[0m). Use \u001b[1m`wandb login --relogin`\u001b[0m to force relogin\n",
      "\u001b[34m\u001b[1mwandb\u001b[0m: wandb version 0.17.0 is available!  To upgrade, please run:\n",
      "\u001b[34m\u001b[1mwandb\u001b[0m:  $ pip install wandb --upgrade\n",
      "\u001b[34m\u001b[1mwandb\u001b[0m: Tracking run with wandb version 0.16.6\n",
      "\u001b[34m\u001b[1mwandb\u001b[0m: Run data is saved locally in \u001b[35m\u001b[1m/kaggle/working/wandb/run-20240523_222850-n45by79n\u001b[0m\n",
      "\u001b[34m\u001b[1mwandb\u001b[0m: Run \u001b[1m`wandb offline`\u001b[0m to turn off syncing.\n",
      "\u001b[34m\u001b[1mwandb\u001b[0m: Syncing run \u001b[33m./results_llama3_sft/\u001b[0m\n",
      "\u001b[34m\u001b[1mwandb\u001b[0m: ⭐️ View project at \u001b[34m\u001b[4mhttps://wandb.ai/tommij/huggingface\u001b[0m\n",
      "\u001b[34m\u001b[1mwandb\u001b[0m: 🚀 View run at \u001b[34m\u001b[4mhttps://wandb.ai/tommij/huggingface/runs/n45by79n\u001b[0m\n",
      "`use_cache=True` is incompatible with gradient checkpointing. Setting `use_cache=False`.\n",
      "/opt/conda/lib/python3.10/site-packages/torch/utils/checkpoint.py:429: UserWarning: torch.utils.checkpoint: please pass in use_reentrant=True or use_reentrant=False explicitly. The default value of use_reentrant will be updated to be False in the future. To maintain current behavior, pass use_reentrant=True. It is recommended that you use use_reentrant=False. Refer to docs for more details on the differences between the two variants.\n",
      "  warnings.warn(\n"
     ]
    },
    {
     "data": {
      "text/html": [
       "\n",
       "    <div>\n",
       "      \n",
       "      <progress value='375' max='375' style='width:300px; height:20px; vertical-align: middle;'></progress>\n",
       "      [375/375 3:49:45, Epoch 1/1]\n",
       "    </div>\n",
       "    <table border=\"1\" class=\"dataframe\">\n",
       "  <thead>\n",
       " <tr style=\"text-align: left;\">\n",
       "      <th>Step</th>\n",
       "      <th>Training Loss</th>\n",
       "    </tr>\n",
       "  </thead>\n",
       "  <tbody>\n",
       "  </tbody>\n",
       "</table><p>"
      ],
      "text/plain": [
       "<IPython.core.display.HTML object>"
      ]
     },
     "metadata": {},
     "output_type": "display_data"
    },
    {
     "data": {
      "text/plain": [
       "TrainOutput(global_step=375, training_loss=2.66493017578125, metrics={'train_runtime': 13834.5488, 'train_samples_per_second': 0.217, 'train_steps_per_second': 0.027, 'total_flos': 4.566252941898547e+16, 'train_loss': 2.66493017578125, 'epoch': 1.0})"
      ]
     },
     "metadata": {},
     "output_type": "display_data"
    }
   ],
   "source": [
    "# SFTTrainer stands for supervised fine-tuning. The trl (Transformer Reinforcement Learning) library from HuggingFace provides a simple API to fine-tune models using SFTTrainer.\n",
    "trainer = SFTTrainer(\n",
    "        model=model,\n",
    "        train_dataset=dataset_train,\n",
    "        peft_config=peft_config,\n",
    "        dataset_text_field=\"text\",\n",
    "        max_seq_length=512,\n",
    "        tokenizer=tokenizer,\n",
    "        args=training_arguments,\n",
    ")\n",
    "\n",
    "trainer.train()"
   ]
  },
  {
   "cell_type": "code",
   "execution_count": null,
   "metadata": {},
   "outputs": [
    {
     "name": "stderr",
     "output_type": "stream",
     "text": [
      "/opt/conda/lib/python3.10/site-packages/transformers/generation/utils.py:1659: UserWarning: You are calling .generate() with the `input_ids` being on a device type different than your model's device. `input_ids` is on cpu, whereas the model is on cuda. You may experience unexpected behaviors or slower generation. Please make sure that you have put `input_ids` to the correct device by calling for example input_ids = input_ids.to('cuda') before running `.generate()`.\n",
      "  warnings.warn(\n",
      "/opt/conda/lib/python3.10/site-packages/torch/utils/checkpoint.py:61: UserWarning: None of the inputs have requires_grad=True. Gradients will be None\n",
      "  warnings.warn(\n"
     ]
    },
    {
     "name": "stdout",
     "output_type": "stream",
     "text": [
      "Write a review of maximum 50 words of an italian restaurant in english. The review you need to write needs to be of 1 stars out of 5. The restaurant is called \"Bella Vita\" and it is located in the city center of Rome. The restaurant is very small and the service is very slow. The food is not good at all. The pizza is very thin and the pasta is very oily. The price is very high. I will never go back to this restaurant again. \\n\\nI am very disappointed with this restaurant. I will never go back to this restaurant again. I will never recommend this restaurant\n",
      "Write a review of maximum 50 words of an italian restaurant in english. The review you need to write needs to be of 2 stars out of 5. The restaurant is called \"Bella Vita\" and it is located in the city center of Rome. The restaurant is very small and the service is very slow. The food is average. The price is very high. The restaurant is not recommended. \\n\\nI went to Bella Vita with my family and we were very disappointed. The restaurant is very small and the service is very slow. The waiter was very nice but he was not able to take care of us properly.\n",
      "Write a review of maximum 50 words of an italian restaurant in english. The review you need to write needs to be of 3 stars out of 5. The restaurant is called \"Bella Vita\" and it is located in the city center of Rome. The restaurant is very small and it is located in a very busy street. The restaurant is very popular and it is always full. The restaurant is very good and it is very cheap. The restaurant is very good and it is very cheap. The restaurant is very good and it is very cheap. The restaurant is very good and it is very cheap. The restaurant is very good\n",
      "Write a review of maximum 50 words of an italian restaurant in english. The review you need to write needs to be of 4 stars out of 5. The restaurant is called \"Bella Vita\" and it is located in the city center of Rome. The restaurant is very popular and it is always full of people. The food is delicious and the service is very good. The restaurant is very clean and the staff is very friendly. The restaurant is very popular and it is always full of people. The food is delicious and the service is very good. The restaurant is very clean and the staff is very friendly. The restaurant is\n",
      "Write a review of maximum 50 words of an italian restaurant in english. The review you need to write needs to be of 5 stars out of 5. The restaurant is called \"Bella Vita\" and it is located in the city of Rome. The restaurant is known for its delicious pasta and pizza. The restaurant is very clean and the staff is very friendly. The restaurant is located in the heart of the city and it is very easy to find. The restaurant is very popular and it is always full. The restaurant is very good and it is worth to visit. The restaurant is very good and it is worth to visit.\n"
     ]
    }
   ],
   "source": [
    "model_testing()"
   ]
  },
  {
   "cell_type": "markdown",
   "metadata": {},
   "source": [
    "$\\color{red}{\\text{Write a review of maximum 50 words of an italian restaurant in english. The review you need to write needs to be of 1 stars out of 5.}}$\n",
    "\n",
    "The restaurant is called \"Bella Vita\" and it is located in the city center of Rome. The restaurant is very small and the service is very slow. The food is not good at all. The pizza is very thin and the pasta is very oily. The price is very high. I will never go back to this restaurant again. I am very disappointed with this restaurant. I will never go back to this restaurant again. I will never recommend this restaurant\n",
    "\n",
    "\n",
    "\n",
    "$\\color{red}{\\text{Write a review of maximum 50 words of an italian restaurant in english. The review you need to write needs to be of 2 stars out of 5.}}$\n",
    "\n",
    "The restaurant is called \"Bella Vita\" and it is located in the city center of Rome. The restaurant is very small and the service is very slow. The food is average. The price is very high. The restaurant is not recommended. I went to Bella Vita with my family and we were very disappointed. The restaurant is very small and the service is very slow. The waiter was very nice but he was not able to take care of us properly.\n",
    "\n",
    "\n",
    "\n",
    "$\\color{red}{\\text{Write a review of maximum 50 words of an italian restaurant in english. The review you need to write needs to be of 3 stars out of 5.}}$\n",
    "\n",
    "The restaurant is called \"Bella Vita\" and it is located in the city center of Rome. The restaurant is very small and it is located in a very busy street. The restaurant is very popular and it is always full. The restaurant is very good and it is very cheap. The restaurant is very good and it is very cheap. The restaurant is very good and it is very cheap. The restaurant is very good and it is very cheap. The restaurant is very good\n",
    "\n",
    "\n",
    "\n",
    "$\\color{red}{\\text{Write a review of maximum 50 words of an italian restaurant in english. The review you need to write needs to be of 4 stars out of 5.}}$ \n",
    "\n",
    "The restaurant is called \"Bella Vita\" and it is located in the city center of Rome. The restaurant is very popular and it is always full of people. The food is delicious and the service is very good. The restaurant is very clean and the staff is very friendly. The restaurant is very popular and it is always full of people. The food is delicious and the service is very good. The restaurant is very clean and the staff is very friendly. The restaurant is\n",
    "\n",
    "\n",
    "\n",
    "$\\color{red}{\\text{Write a review of maximum 50 words of an italian restaurant in english. The review you need to write needs to be of 5 stars out of 5.}}$\n",
    "\n",
    "The restaurant is called \"Bella Vita\" and it is located in the city of Rome. The restaurant is known for its delicious pasta and pizza. The restaurant is very clean and the staff is very friendly. The restaurant is located in the heart of the city and it is very easy to find. The restaurant is very popular and it is always full. The restaurant is very good and it is worth to visit. The restaurant is very good and it is worth to visit."
   ]
  },
  {
   "cell_type": "markdown",
   "metadata": {},
   "source": [
    "### How about using few-shot learning?"
   ]
  },
  {
   "cell_type": "code",
   "execution_count": null,
   "metadata": {},
   "outputs": [],
   "source": [
    "import transformers\n",
    "from IPython.display import display, Markdown\n",
    "\n",
    "model = \"/kaggle/input/llama-3/transformers/8b-chat-hf/1\"\n",
    "\n",
    "pipeline = transformers.pipeline(\n",
    "    \"text-generation\",\n",
    "    model=model,\n",
    "    torch_dtype=torch.float16,\n",
    "    device_map=\"auto\",\n",
    ")"
   ]
  },
  {
   "cell_type": "code",
   "execution_count": null,
   "metadata": {},
   "outputs": [],
   "source": [
    "def query_model(\n",
    "        system_message,\n",
    "        user_message,\n",
    "        temperature=0.7,\n",
    "        max_length=1024\n",
    "        ):\n",
    "    start_time = time()\n",
    "    user_message = \"Question: \" + user_message + \" Answer:\"\n",
    "    messages = [\n",
    "        {\"role\": \"system\", \"content\": system_message},\n",
    "        {\"role\": \"user\", \"content\": user_message},\n",
    "        ]\n",
    "    prompt = pipeline.tokenizer.apply_chat_template(\n",
    "        messages, \n",
    "        tokenize=False, \n",
    "        add_generation_prompt=True\n",
    "        )\n",
    "    terminators = [\n",
    "        pipeline.tokenizer.eos_token_id,\n",
    "        pipeline.tokenizer.convert_tokens_to_ids(\"<|eot_id|>\")\n",
    "    ]\n",
    "    sequences = pipeline(\n",
    "        prompt,\n",
    "        do_sample=True,\n",
    "        top_p=0.9,\n",
    "        temperature=temperature,\n",
    "        #num_return_sequences=1,\n",
    "        eos_token_id=terminators,\n",
    "        max_new_tokens=max_length,\n",
    "        return_full_text=False,\n",
    "        pad_token_id=pipeline.model.config.eos_token_id\n",
    "    )\n",
    "    #answer = f\"{sequences[0]['generated_text'][len(prompt):]}\\n\"\n",
    "    answer = sequences[0]['generated_text']\n",
    "    end_time = time()\n",
    "    ttime = f\"Total time: {round(end_time-start_time, 2)} sec.\"\n",
    "\n",
    "    return user_message + \" \" + answer  + \" \" +  ttime\n",
    "\n",
    "\n",
    "system_message = \"\"\"\n",
    "You are an AI assistant designed to answer simple questions.\n",
    "Please restrict your answer to the exact question asked.\n",
    "\"\"\""
   ]
  },
  {
   "cell_type": "code",
   "execution_count": null,
   "metadata": {},
   "outputs": [],
   "source": [
    "def colorize_text(text):\n",
    "    for word, color in zip([\"Reasoning\", \"Question\", \"Answer\", \"Total time\"], [\"blue\", \"red\", \"green\", \"magenta\"]):\n",
    "        text = text.replace(f\"{word}:\", f\"\\n\\n**<font color='{color}'>{word}:</font>**\")\n",
    "    return text"
   ]
  },
  {
   "cell_type": "code",
   "execution_count": null,
   "metadata": {},
   "outputs": [],
   "source": [
    "import numpy as np\n",
    "# Import the indexes of the reviews talking about italian restaurants and select only those reviews\n",
    "italian_restaurant_idxs = np.load('/kaggle/input/italian-rest-idxs/idxs (1).npy')\n",
    "dataset_train=load_dataset(\"yelp_review_full\",split='train')\n",
    "dataset_train=dataset_train.select(italian_restaurant_idxs)"
   ]
  },
  {
   "cell_type": "code",
   "execution_count": null,
   "metadata": {},
   "outputs": [
    {
     "name": "stdout",
     "output_type": "stream",
     "text": [
      "1/5\n",
      "index:42\n",
      "This restaurant serves \\\"Italian\\\" food to those who have never been to Italy. The food is mediocre at best, the quantity is overwhelming (designed with huge families of overweight people in mind) and espresso tastes like instant coffee. The decor is done in incredibly poor taste even for a \\\"family\\\" restaurant. Definitely avoid.\n",
      "\n",
      "index:63\n",
      "BUCKET DI SHITO \\nIf you want authentic Italian food. This place isn't it,  Save your money and go to Olive Garden!!! \\n\\nTerrible food, 20 dollars a plate, and staff look like they don't want to work there!!!\\n\\nGood luck\n",
      "\n",
      "index:83\n",
      "After La Reve, very convenient location, but really mediocre food. The Carbonara was horrible, over-cooked pasta, tasteless sauce. Mozzarella and prosciutto appetizers were beyond boring.\n",
      "\n",
      "index:109\n",
      "This place is expensive and not good.\\nI wouldn't recommend this place if you're looking for Italian food.\\nI would suggest taking your hard earned cash elsewhere. Even Maggiano's across the street has better food.\n",
      "\n",
      "index:111\n",
      "This is the  is worst pizza place u can go to everythings gross health dept needs to visit this place asap and they say Italian ya rite\n",
      "\n",
      "index:118\n",
      "Let me start off by stating I am extremely picky when it comes to Italian food.  Lucky for them I didn't actually see any on their menu.  Sure it had names that could fool one into thinking they served some Italian style dishes what was brought to our table proved that to be a false belief.  \\n\\nIf you're looking for a place to have a drink while sitting in each others laps then this is the place for you.\n",
      "\n",
      "index:133\n",
      "head of the waiters very rude and not welcome the presence of little children and also reserving we were not offered a suitable table to sit down with strollers close, poor quality compared to a real Italian pizzeria. \\nPerhaps.........before calling it ESPRESSO ITALIANO would be advised to try one true.\\n\\nnot enough to give the name to the Italian food to make an Italian restaurant, and an Italian restaurant should be welcoming, sorry but they must improve to afford the Italian taste. \\n\\npositive note, our waiter was very kind.\n",
      "\n",
      "index:138\n",
      "This is an Italian restaurant for tourists on a budget. Simply awful!  Gloppy sauce, limited menu, and the rubbery meatballs tasted like horse meat. Cluttered, dusty decor.Skip this!\n",
      "\n",
      "index:150\n",
      "Sadly, the family that originally owned Cafe Roma sold this location off.  We have only experienced it once since then and have no plans on going back.  Although I like the way the new owners updated the location, they pretty much took great pizza and replaced it with the cheapest ingredients possible and then jacked up the prices.  We didn't even want to finish what we had ordered.  We took it to go and gave it away to a homeless person.\n",
      "\n",
      "index:151\n",
      "The worst \\\"italian\\\" restaurant in Montreal area!!! If you really love italian food don't go there!!!!!!\n",
      "\n",
      "----------------------------------------------------------------\n",
      "2/5\n",
      "index:53\n",
      "So not really Italian....and soooo overpriced and the atmosphere is almost non-existent....parking is horrible....using a voucher from Restaurant.com takes a bit of the bite of how not wonderful this place is.  The owner circulate among the guests but only talk to their croonies.\\n\\nI live in Henderson NV where this restaurant is.\n",
      "\n",
      "index:73\n",
      "Marcellino. This is supposed to be one if not best Italian restaurant in town. I was very disappointed in their specialty - the fresh pastas - \\n\\nMany classic dish are offered and many different cut of pasta. The quality doesn't justify the stiff prices. Just ok!\n",
      "\n",
      "index:80\n",
      "Ambiance: Salumeria style counter service with a small seating area. Tasteful and fun Italian themed interior. \\n\\nService: Attentive, friendly. \\n\\nPrice: $12 and up \\n\\nFood: Assortment of authentic Italian dishes, focus on pasta. The cannelloni marinara was good, the sauce and cannelloni appeared both homemade. The house Ros\\u00e9 refreshing and well chosen. \\n\\nSummary: A simple pasta dish together with a house wine and cannoli came to close to $30 for lunch. A diet coke rang up $4 after tax and tip. Ludicrously overpriced. The take out counter should not be avoided, the restaurant on the other hand, can be quietly ignored.\n",
      "\n",
      "index:198\n",
      "Warning: After living in Italy for 3 yrs and having an Italian Mother in law, I am an Italian food snob. Better to have high standards than none!\\n\\nHonestly- this place is way over priced and the food not so good. Only good thing going was the decor and the ambiance.\\n\\nHere's the breakdown:\\n1. Food way over priced. Yes, you get salad or soup, garlic bread and free red & white wine. But when you're paying min. $21, the main entree better taste good. And it didn't. Granted the portions are HUGE but still not worth if if the food is bad.\\n2. I ordered the linguini seafood- the seafood part was good but the sauce was bland and tasted too much like tomato paste. The pasta itself was way too al dente. \\n3. My sister ordered the cheese ravioli- the sauce was also way too bland and there was too much sauce on the dish. \\n4. For dessert, we sampled the cheesecake- tasted like a frozen cheesecake from a local grocery store. \\n5. The \\\"cappucino\\\" is really not cappucino. It's more like hot chocolate. Also, as an Italian restaurant, the owners should know better- in Italy, cappucino is a breakfast drink. In the evenings, one drinks espresso with or without liquor in it. \\n6. Nothing special about the salad or the wines. I can definintely say I have had better wines.\\n7. The guy with the accordion was a little creepy.\\n\\nI would never recommend this place to anyone other than to walk past it.\n",
      "\n",
      "index:208\n",
      "I really wanted to like this place, as it just would be so nice to find good Italian food in the Phoenix area, and it's close to home. But I was overall very disappointed in the food. The only thing I liked, honestly, was the bread and the wine. \\n\\nWe had the prosciutto fresh mozzarella dish and it was greasy, bland, salty and just bad. Our main dishes were the spaghetti carbonara, and it was such an Americanized \\\"past with alfredo sauce\\\" version of it. Very cheesey and creamy and way overpowering smoked pancetta. It was truly awful.  And at $16 or $18 a plate, hardly worth it and far from what traditional pasta carbonara should be. I'm not sure why restaurants use a cheesy alfredo sauce for carbonara, when it should be egg used for the consistency, not gobs of cheesy sauce. Bleh!\\n\\nThe atmosphere, wine and bread were good, but I can get that at home. Was sorely disappointed and felt the regret of spending $80 on a totally mediocre to bad experience with the food.\\n\\nI have yet to find good Italian food in the Phoenix area. The closest thing is the new Italian Restaurant by Chris Bianco. Meatballs to die for!\n",
      "\n",
      "index:246\n",
      "Went to this place for lunch with family today.  Wasn't impressed and after going to the one on 83rd and Bell which was a much better experience.  Arrived and was seated by host.  Drinks brought out quickly, ordered the mussels in rusted garlic sauce, Cesar salad, rigatoni alla diavolo, my wife ordered the mussels in alfredo sauce.  I ordered a childs pizza for my son.  Had to ask for bread which is usually not requested in Italian restaurants.  Server Mary brought bread when requested but with no butter, brought salad and never offered Parmesan cheese.  Food came out and compared to the 83rd Ave location it was bland and my son's pizza looked like they had someone training for the first day.  The thing wasn't even round.  Nonetheless I will be returning to that location.  The place was stuffy too.\n",
      "\n",
      "index:271\n",
      "A friend told me that this was a very good Italian Restaurant & i have to say I was a little disappointed..they gave you garlic bread that was very hard. The calamari was a little chewy. The baked rigatoni was over cooked. The restaurant itself is a little outdated. I sat near the bar and they have this ceiling to floor curtain that look like it hasn't been cleaned in 20 years..The service was ok. I owned pizzerias and I made better Italian food than this so called really good local Italian restaurant..I am sure they will never see me again\n",
      "\n",
      "index:286\n",
      "This place is overpriced and isn't real Italian. I was shocked by all the 4 and 5 star reviews of Sutti Santi. Don't waste your time here.\n",
      "\n",
      "index:292\n",
      "the restaurant changed name, atmosphere, and menu yesterday. we really enjoyed the place last month, not now. Quite a disappointment. now just another routine Italian restaurant, and not very good. service slow and poor,pizza no better than grocery frozen. really too bad, it had great possibilities.\n",
      "\n",
      "index:294\n",
      "This is a decent spot for some casual dining in the Grand Canl Shoppes in the Venetian. A few years ago this place used to be called Enoteca San Marco and I could honestly say that it boasted the best pizza I've ever had. Unfortunately ownership has since changed and although the menu looks almost identical to its earlier version, the quality has dropped a great deal. As things stand now, Enoteca has 2 things going for it: a good location in the middle of the replica of St. Mark's square which means that you will get a chance to see a performance of the \\\"Phantom\\\" soundtrack and some Italian opera pieces during dinner and that you won't pay an arm and a leg for a meal. The pizzas are about $18-21 each and are sufficient to keep you satiated and  one can easily feed 2 diners if you add an appetizer or 2. I would say the Prosciutto and Goat Cheese pizza is the best, although the last time I ordered it the pizza came out burnt and overloaded with cheese. Do yourself a favor and don't order the Pesto Pizza; it is supremely disappointing. Finally the wine list is (as expected) dominated by Italian vintages but the staff does not offer much in the way of suggestions if you're having trouble deciding. Their pours of wine are also stingy and the waiter made the mistake of using a wide rimmed glass for champagne. If you're not in the mood for pizza, the restaurant offers a limited selection of meats and pasta which are rather standard Italian fare and which you can get for approximately the same price and superior preparation in the nearby Canaletto and Postrio.\n",
      "\n",
      "----------------------------------------------------------------\n",
      "3/5\n",
      "index:19\n",
      "Cucina Italiana is the coffee house and pastry shop offshoot of Il Fornaio. They are not open in the evening. \\n\\nI had a decent cafe mocha here and a blueberry scone that was really a muffin in scones clothing. They offer the standard lineup of coffee house drinks, assorted pastries and a few salads and sandwiches. \\n\\nThe interior is nice and goes for a Manhattan coffee house look or something. Jazz and standards play loudly over the sound system.\n",
      "\n",
      "index:35\n",
      "Bar Roma seems to be a safe bet - its the default Italian restaurant for when a last minute decision about a meal has been made and everywhere else is booked.\\n\\nThere is an extensive menu, comprising of all the Itallian meals you could ever think of, and once you've ordered, food is often on your table within 15 minutes. The food is good - if sometimes on the bland and a bit on the boring side.\\n\\nThe atmosphere is cozy and welcoming, the staff are very friendly, and great with younger childern. It's the type of place where one after meal coffee can turn into 3 latte's and a long conversation.\\n\\nIt's a nice place, if a bit of a back-up plan, rather than a wow-factor type of place.\n",
      "\n",
      "index:43\n",
      "Overall, a nice Italian restaurant in the South Point Hotel. Elegant and comfortable atmosphere, good service and good food.  \\n\\nWith the opening carb basket, they serve a tasty italian \\\"chutney\\\" of olive oil, diced tomatoes and roasted garlic ... Super delicious on the warm slices of bread!\\n\\nI ordered their cioppino, and it was really quite yummy. Came in a huge bowl and was chock full of various sea-dwelling creature pieces. The broth was very flavorful.  I would order this again. My date had the chicken parm, which was fine. Not particularly impressive, but fine.\\n\\nIf I was in the area, I would happily eat here again,l but wouldn't travel out of my way to this perfectly fine but less-than-awesome Italian restaurant.\n",
      "\n",
      "index:82\n",
      "this place is pretty nice but expensive for italian food.  after dinner, this place becomes a bar/club, and it's pretty hopping (but VERY cheesy).\n",
      "\n",
      "index:101\n",
      "I questioned the existence of this place for a long time, as I couldn't believe an Italian restaurant would stay open until 5am! I put it down to my friend's wishful imagination. \\n\\nSo guess my surprise when after a night out, she led our group there at 3am! The queue was incredibly long, so we abandoned the idea for that night, but have since been back to sample the menu. It's the typical Italian offerings of pizza and pasta with quite a few risotto dishes as well. What is unusual is the list of burgers and kebabs right next to it! I suppose this is geared towards the after-midnight serving period! \\n\\nThe pizza I had there was quite good, but I'd say this place is best saved for the end of a night out, when the smell of grease and the idea if Italian food will satisfy anyone!\n",
      "\n",
      "index:108\n",
      "classic Italian food and a great service!\n",
      "\n",
      "index:112\n",
      "My two friends and I dined here last night in support of Restaurant Week and had a wonderful time. The portions are extremely generous and the prices are wonderful. Great service and we really enjoyed the cozy atmosphere. We started our meal with a bottle of Rosso (red) vino: Estrancia Cabernet Sauvignon (2010). It was light and fruity.\\n\\nFirst Course: We shared the FRITTO DI CALAMARI & ZUCCHINI (nice flavor, okay calamari quality; I liked the julienne zucchini), ZUPPA DI COZZE & VONGOLE (PEI Mussels and Manila Clams in a tasty garlic white wine broth; just okay in the flavor department), and the POLPETTE TRADIZIONALI (gigantic meatballs made with beef, veal, and pork served in a tomato basil sauce; these were delicious and juicy, just a tad salty).\\n\\nSecond Course: We tried the LINGUINI ALLE VONGOLE VERACI (sauce was similar to the appetizer, but better seasoned; pasta was cooked perfectly al dente), SALSA ALLA MARINARA with Linguine (San Marzano tomatoes made this simple but tasty marinara and again, perfect pasta), and SALMONE IN SALSA AL LIMONE (the salmon was cooked perfectly with wonderful crispy skin and the lemon butter sauce was nicely light).\\n\\nThird Course: Finished the meal with PROFITEROL (Pate Choux filled with French Vanilla gelato; good, but I don't like how the delicate pastry gets cold and tough from the frozen treat it's stuffed with), TORTA DI MELE (a really well-done and delicious French apple pie with very decadent Caramel gelato), and TORTA DI RICOTTA (ricotta cheesecake, beautifully light and airy with a delicious crumbly crust).\\n\\nCertainly not the best Italian food I've experienced (the desserts were pretty phenomenal though!), however, I love the neighborhood feel and the location is convenient. I look forward to trying other items.\n",
      "\n",
      "index:121\n",
      "Enjoyed our meal at Carmine's. Good for a large group of people.  Portions were very large (one dish feeds 4-6 people) and service was great. Byanka was wonderful. We ordered:\\n\\nCaesar Salad\\nCalamari\\nBolognese Meat Sauce\\nPenne Alla Vodka\\nShrimp Fra Diavolo\\nAngel Hair Marinara with Meatballs\\nCannoli\\nCheesecake\\n\\nThe penne and calamari were the best options. Shrimp Fra Diavolo was my least favorite.\\n\\nDefinitely get the cheesecake. The cannoli left something to be desired. It was coated in chocolate and sprinkled with pistachios.\\n\\nLocated in the Forum shops in Caesar's.  Average dish price:  $35\n",
      "\n",
      "index:132\n",
      "Love this place specifically for their cicillian pizza. I love that you can take out or eat in and it feels like a fancy restaurant.  Good service.  And not too expensive.  Definitely recommend\n",
      "\n",
      "index:140\n",
      "I am a big Mario Batali fan and have really enjoyed some of his other establishments such as Eataly and Mozza, but Carnevino left me wanting more.\\n\\n// LOCATION // In the Palazzo at the entrance of the casino on the strip so no need to walk deep into the casino to find it. \\n\\n// FOOD //\\n     + Ricotta and egg ravioli: Beautiful ravioli, but the 1 large ravioli I received for the small portion could not justify the anything but small price tag\\n     + Porterhouse: Tried a bit of the porterhouse, but it lacked flavor and did not pack the punch you would imagine steak would at a steakhouse.\n",
      "\n",
      "----------------------------------------------------------------\n",
      "4/5\n",
      "index:0\n",
      "Landed on this spot by accident; a great find!\\nCasual Italian bistro, good wine list.\\nThe chicken carbonara was so good! Was hesitant of egg on top, but made sauce even creamier. Husband had the veggie pizza and added chicken. The crust was the perfect crisp/soft combo, and the tomatoes were super fresh!\\nDelicious!\n",
      "\n",
      "index:1\n",
      "This is the place I imagine sneaking into on an evening spent with that charming someone who captures your heart with the slightest smile. Late spring, strolling along the cobblestone streets window shopping when the sky darkens, and the clouds open up. Huddled under an umbrella, his arm around you to warm you from the sudden chill, you scamper down the few steps and duck into the warmth of Girasole.\\n\\nYou're immediately greeted like family; with a glow in the background as if a huge fire were burning. The small space is filled with lovely folks laughing, and sharing wine; eyes twinkling as they listen to the live music being played by the gentleman walking around strumming his guitar singing loudly.\\n\\nThe menu is simply simple Italian. The wine list is the sweet red table wine offered immediately after you sit down. The desserts are so worthy of the extra calories. Home made and delightful. \\n\\nAlmost as tasty as that good night kiss.\n",
      "\n",
      "index:2\n",
      "Love this place..... been going for few years now. Good Italian.\n",
      "\n",
      "index:3\n",
      "We sort of stumbled upon this place which is off the strip and so glad we did!  We started with the Tritata Salad, I loved the flavor dimensions of the salad and you can never go wrong with crispy pancetta!  \\nWe also had 2 Pasta dishes, both better than the other.  Porcini Pappardelle con Ragu di Cinghiale (pasta with boar meat sauce).  This was so wonderful.  A truly hearty and filling dish with so much flavor.  Our 2nd, Bucatini Carbonara e Tartufio Nero.  All I can say is this was the best Carbonara I have ever had!  This is a place I would love to go to again and again.  \\nService was very good.  Server, Paulo was very knowledge and efficient.\n",
      "\n",
      "index:5\n",
      "Recently visited this restaurant for the first time, and was nicely surprised on many fronts. There were four of us in our party and we wanted good food in a relaxed setting that wasn't too noisy. We arrived for our 7 pm reservation and we were promptly seated by the fireplace in a very nice carpeted room with about 16 tables. A nice respite from the high ceilinged marble floor places that are the norm these days. \\n\\nWithin moments of being seated we were given some bread and ice water...and a little bowl dip with some crostini and bread sticks...love bread sticks. The menu is very traditional Italian, no surprises. They have a table d'h\\u00f4tel starting around 25 and going to 40. Pretty standard Italian fare but prepared well and served with a smile.\\n\\nWill return here again.\n",
      "\n",
      "index:6\n",
      "What do you do when you don't know the area and you have an urging for Italian without the use of a smartphone to go on Yelp? You improvise with the use of primitive 20th Century devices.  Naturally, we used a GPS and found the closest place.  That was Ciros.  What a pleasant surprise.\\n\\nThe waiter was professional, polite and on cue every step of the way with subtle humor as well.  Music live by accordion added nice ambiance to the setting.  The veggie calzone was excellent. The Marsala and marinara were a bit in the sweet side.  We concluded sherry but we didn't confirm.  The tiramisu and canolli were huge.  Over the top huge.  Very much made to be shared.\\n\\nOverall, we were very pleasantly impressed.\n",
      "\n",
      "index:8\n",
      "This place is great! Very fresh homemade Italian food. Complex tastes not boring at all. Great prices and they deliver!! Very clean and friendly service. Glad this restaurant is here.\n",
      "\n",
      "index:15\n",
      "Looking for italian restaurant? This is the place to go. Great view and place. Servers offer you variety of pasta to chose from and wine, great choices. If you are looking for a first romantic dinner date, this is the place. Great staffs too and very friendly.\n",
      "\n",
      "index:16\n",
      "Good Italian restaurant. Some of the best pizza around.\n",
      "\n",
      "index:18\n",
      "Very authentic Italian restaurant.  Excellent Veal Picatta, and delicious chocolate martini\n",
      "\n",
      "----------------------------------------------------------------\n",
      "5/5\n",
      "index:4\n",
      "Can't say enough about this place.  Had dinner here on 5/11/13, and it was wonderful. Try the Cioppino, it is Excellent.\n",
      "\n",
      "index:7\n",
      "This is place is incredible. This is the best Italian meal I've ever had -- beating everything I had in Italy as well.\\n\\nDECOR, SERVICE, and FOOD are all top notch.\\n\\nHighly recommended.\n",
      "\n",
      "index:9\n",
      "Il Pizzaiolo serves authentic and delicious pizza and pasta.  I highly, highly recommend eating in the \\\"wine bar\\\" out back - where the main restaurant is loud, bright, and crowded, the wine room is darker, more romantic, and closer to the bar.\n",
      "\n",
      "index:10\n",
      "This amazing Italian joint is tucked away in a out of the way strip mall cloaked in an unrevealing store front that yeilds no clue as to the amazing deliciousness you will find inside. Despite it's nonspectacular exterior inside you will find warm scrumptous, chewy, fragrant bread with excellent olive oil on the table.  The food is spectacular and the service attentive. Even with its out of the way location the place was packed at 530 when we stopped. We had pizza, a sausage calzone, pesto gnocchi, pesto fettucini and the chicken angelo. All were perectly prepared not to heavy very flavorful. Highly Recommended!!!!!\n",
      "\n",
      "index:11\n",
      "Love this place!! Great food and great service :-) this Italian girl approves! Try the gnocchi in vodka sauce, or the fried calamari when it is on special. The waitress is very knowledgable about what sauce goes best with which pasta (ravioli, gnocchi, tortellini, etc) and she can tell you the ingredients without having to ask. The service is prompt, and the food comes out very quickly, which is rare for Italian! I highly recommend this restaurant to everyone that is looking for some fresh Italian.\n",
      "\n",
      "index:12\n",
      "Know this - I am VERY PICKY when it comes to Italian Food (lived in Italy for over 5 years) so when a place bills itself as \\\"Modern Italian\\\" my skepticism meter goes bonkers....\\n\\nHowever, this place - what a find!  Great atmosphere, fantastic service, and a unique twist on gourmet Italian food.  Three courses for $35 is an absolute steal as well.\\n\\nStarted with Yellowtail (fresh, delightful and unique truffle flavoring), continued with Squid Ink Risotto ( a very particular dish which was executed perfectly), and finished with the pork belly...  Couldn't have been happier.  Note - I was also there with Italian friends (I mean, real Italians, not Americans with last names ending in vowels who claim some past lineage to Rome) and they raved about Crudo as well (and they are even more picky than I..).\\n\\nAll-in-all, this is fast becoming one of my favorites in Phoenix - and I swear it was motivated by more than the fantastic cocktails to kick off the evening....\n",
      "\n",
      "index:13\n",
      "Without a reservation, we walked in. We were seated promptly. Our table overlooked the open kitchen, the front of the house and the main room. It was the perfect booth. We were waited on by a team, headed by two waiters (a man and a woman) who were superb, and experienced. They brought us drinks, explained the menu, and got us started on oysters. I went with the Insalata di Cesare, with grilled lettuce, and a fabulous dressing, and for a main course the Pici Toscani, with Bolognese sauce. The salad was noticeable because it is the first variation on Cesare I have seen in a long time that really worked. The grilled lettuce and the stronger mustard, anchovy flavor was a hit. As to the Pici Toscana, the noodles were larger than spaghetti and hand rolled, with the pasta dressed in olive oil and served over the Bolognese. This dish was as good as it gets. It got me thinking how I could do that at home, if at all. Knockout status. My wife had the pre-theatre package, and she loved it. Desserts were a delight, with the Tiramisu, and the Panna Cotta both showing serious pastry chef attention to detail and flavor. I finished up with a coffee house worthy cappuccino. We loved every minute at Circo. We were especially pleased with the fantastic waitstaff, who displayed great knowledge, and attention to detail that is worthy of  5 stars. And, they made it look so easy. As we walked out, I saw the place was jammed and jumping. I am surprised the Ma\\u00eetre d' squeezed us in. Thanks. We'll be back.\n",
      "\n",
      "index:14\n",
      "Excellent, fresh, amazing food every time!  Cozy hole-in-the wall deli and restaurant, served by friendly people who all speak to each other in Italian.\n",
      "\n",
      "index:17\n",
      "Since I left Italy, I've been searching for that authentic Italian restaurant.  This place was a drive for me but well worth the trip. The place is in the middle of nowhere and doesn't look like much on the outside. As soon as I opened the door, the smell alone reminded me of being back in Italy.  The waiting staff was attentive but not hovering.  Its a family own place grandma coming out every once in a while to see how everyone is doing.  Each dish I had looked well prepared and tasted great all the way down to dessert washed down with limoncello.  I highly recommend checking the place out.\n",
      "\n",
      "index:20\n",
      "If your looking for a place to get authentic Italian food, look no further. Great Italian born owners and staff make this cafe the best place in town for a quick lunch or a long cappuccino break.\n",
      "\n",
      "----------------------------------------------------------------\n"
     ]
    }
   ],
   "source": [
    "# We need to choose the sample review to give as a prompt to llama\n",
    "labels = np.array(dataset_train['label'])\n",
    "label_map = {star: np.where(labels == star)[0] for star in range(5)}\n",
    "\n",
    "# Let's print some of them\n",
    "n_print_reviews = 10\n",
    "for star in range(5):\n",
    "    print(str(star+1)+'/5')\n",
    "    for i in range(n_print_reviews):  \n",
    "        print('index:' + str(label_map[star][i]))\n",
    "        print(dataset_train[int(label_map[star][i])]['text'])\n",
    "        print()\n",
    "    print('----------------------------------------------------------------')"
   ]
  },
  {
   "cell_type": "code",
   "execution_count": null,
   "metadata": {},
   "outputs": [],
   "source": [
    "sample_reviews ={}\n",
    "sample_reviews[0] = [83,138,151]\n",
    "sample_reviews[1] = [73,286,292]\n",
    "sample_reviews[2] = [35,82,121]\n",
    "sample_reviews[3] = [0,8,18]\n",
    "sample_reviews[4] = [10,11,17]"
   ]
  },
  {
   "cell_type": "code",
   "execution_count": null,
   "metadata": {},
   "outputs": [],
   "source": [
    "# Defining a function to generate the prompt for a review of given stars\n",
    "def prompt_generation(star, few_shot = True):\n",
    "    prompt = 'Write a review of maximum 100 words of an italian restaurant in english. The review you need to write needs to be of ' \n",
    "    prompt += str(star + 1) + ' stars out of 5. ' \n",
    "    if few_shot:\n",
    "        prompt += \"You should write in the same style as these examples: \" \n",
    "        prompt += '\\n' + '1. '+ dataset_train[sample_reviews[star][0]]['text']\n",
    "        prompt += '\\n' + '2. '+ dataset_train[sample_reviews[star][1]]['text']\n",
    "        prompt += '\\n' + '3. '+ dataset_train[sample_reviews[star][2]]['text']\n",
    "    return prompt\n"
   ]
  },
  {
   "cell_type": "markdown",
   "metadata": {},
   "source": [
    "#### Without giving examples:"
   ]
  },
  {
   "cell_type": "code",
   "execution_count": null,
   "metadata": {},
   "outputs": [
    {
     "data": {
      "text/markdown": [
       "\n",
       "\n",
       "**<font color='red'>Question:</font>** Write a review of maximum 100 words of an italian restaurant in english. The review you need to write needs to be of 5 stars out of 5.  \n",
       "\n",
       "**<font color='green'>Answer:</font>** \"I recently had the pleasure of dining at Bella Vita, and it was truly exceptional! From the moment we walked in, we were greeted with warm hospitality and seated promptly. The menu offered an impressive array of authentic Italian dishes, and we opted for the risotto and osso buco. Both dishes were expertly prepared and bursting with flavor. The service was attentive and knowledgeable, making recommendations and checking in regularly. Overall, I would highly recommend Bella Vita to anyone seeking a top-notch Italian dining experience. Five stars is not enough - I'd give it ten stars if I could!\" \n",
       "\n",
       "**<font color='magenta'>Total time:</font>** 10.96 sec."
      ],
      "text/plain": [
       "<IPython.core.display.Markdown object>"
      ]
     },
     "metadata": {},
     "output_type": "display_data"
    }
   ],
   "source": [
    "response = query_model(\n",
    "    system_message,\n",
    "    user_message=prompt_generation(4,False),\n",
    "    temperature=1.2,\n",
    "    max_length=512)\n",
    "display(Markdown(colorize_text(response)))"
   ]
  },
  {
   "cell_type": "markdown",
   "metadata": {},
   "source": [
    "#### With examples:"
   ]
  },
  {
   "cell_type": "code",
   "execution_count": null,
   "metadata": {},
   "outputs": [
    {
     "data": {
      "text/markdown": [
       "\n",
       "\n",
       "**<font color='red'>Question:</font>** Write a review of maximum 100 words of an italian restaurant in english. The review you need to write needs to be of 5 stars out of 5. You should write in the same style as these examples: \n",
       "1. This amazing Italian joint is tucked away in a out of the way strip mall cloaked in an unrevealing store front that yeilds no clue as to the amazing deliciousness you will find inside. Despite it's nonspectacular exterior inside you will find warm scrumptous, chewy, fragrant bread with excellent olive oil on the table.  The food is spectacular and the service attentive. Even with its out of the way location the place was packed at 530 when we stopped. We had pizza, a sausage calzone, pesto gnocchi, pesto fettucini and the chicken angelo. All were perectly prepared not to heavy very flavorful. Highly Recommended!!!!!\n",
       "2. Love this place!! Great food and great service :-) this Italian girl approves! Try the gnocchi in vodka sauce, or the fried calamari when it is on special. The waitress is very knowledgable about what sauce goes best with which pasta (ravioli, gnocchi, tortellini, etc) and she can tell you the ingredients without having to ask. The service is prompt, and the food comes out very quickly, which is rare for Italian! I highly recommend this restaurant to everyone that is looking for some fresh Italian.\n",
       "3. Since I left Italy, I've been searching for that authentic Italian restaurant.  This place was a drive for me but well worth the trip. The place is in the middle of nowhere and doesn't look like much on the outside. As soon as I opened the door, the smell alone reminded me of being back in Italy.  The waiting staff was attentive but not hovering.  Its a family own place grandma coming out every once in a while to see how everyone is doing.  Each dish I had looked well prepared and tasted great all the way down to dessert washed down with limoncello.  I highly recommend checking the place out. \n",
       "\n",
       "**<font color='green'>Answer:</font>** I recently had the pleasure of dining at this exquisite Italian restaurant and I must say, it was a truly exceptional experience! The moment I stepped inside, I was struck by the warm and inviting atmosphere, complete with soft lighting and traditional Italian decor. The service was top-notch, with attentive and knowledgeable staff who guided us through the menu with ease. The food, of course, was the real star of the show - each dish we ordered was expertly prepared and bursting with flavor. From the creamy pasta sauces to the tender, juicy meatballs, every bite was a delight. The tiramisu for dessert was the perfect finishing touch. Overall, I would give this restaurant a well-deserved 5 stars and highly recommend it to anyone seeking an authentic Italian dining experience. \n",
       "\n",
       "**<font color='magenta'>Total time:</font>** 11.13 sec."
      ],
      "text/plain": [
       "<IPython.core.display.Markdown object>"
      ]
     },
     "metadata": {},
     "output_type": "display_data"
    }
   ],
   "source": [
    "response = query_model(\n",
    "    system_message,\n",
    "    user_message=prompt_generation(4,True),\n",
    "    temperature=1.2,\n",
    "    max_length=512)\n",
    "display(Markdown(colorize_text(response)))"
   ]
  },
  {
   "cell_type": "markdown",
   "metadata": {},
   "source": [
    "#### Let's try with higher temperature (2)"
   ]
  },
  {
   "cell_type": "markdown",
   "metadata": {},
   "source": [
    "<img src=\"hot_llama.jpg\" alt=\"Example Image\" width=\"800\"/>"
   ]
  },
  {
   "cell_type": "code",
   "execution_count": null,
   "metadata": {},
   "outputs": [
    {
     "data": {
      "text/markdown": [
       "\n",
       "\n",
       "**<font color='red'>Question:</font>** Write a review of maximum 100 words of an italian restaurant in english. The review you need to write needs to be of 5 stars out of 5.  \n",
       "\n",
       "**<font color='green'>Answer:</font>** \"This 5-star Italian restaurant exceeded my highest expectations! The vibrant atmosphere and attentive staff set the tone for an unforgettable dining experience. The dishes arrived promptly, beautifully presented and oozing with authentic flavors. The risotto alla milanese was creamy and rich, while the hand-crafted pasta was cooked to perfection. To conclude, we indulged in decadent cannoli. Prices were reasonable considering the generous portion sizes. We left fully satisfied, anticipating our next visit. If you're craving Italian cuisine, look no further – this gem is a must-try!\" \n",
       "\n",
       "**<font color='magenta'>Total time:</font>** 8.03 sec."
      ],
      "text/plain": [
       "<IPython.core.display.Markdown object>"
      ]
     },
     "metadata": {},
     "output_type": "display_data"
    }
   ],
   "source": [
    "response = query_model(\n",
    "    system_message,\n",
    "    user_message=prompt_generation(4,False),\n",
    "    temperature=2.0,\n",
    "    max_length=512)\n",
    "display(Markdown(colorize_text(response)))"
   ]
  },
  {
   "cell_type": "code",
   "execution_count": null,
   "metadata": {},
   "outputs": [
    {
     "data": {
      "text/markdown": [
       "\n",
       "\n",
       "**<font color='red'>Question:</font>** Write a review of maximum 100 words of an italian restaurant in english. The review you need to write needs to be of 5 stars out of 5. You should write in the same style as these examples: \n",
       "1. This amazing Italian joint is tucked away in a out of the way strip mall cloaked in an unrevealing store front that yeilds no clue as to the amazing deliciousness you will find inside. Despite it's nonspectacular exterior inside you will find warm scrumptous, chewy, fragrant bread with excellent olive oil on the table.  The food is spectacular and the service attentive. Even with its out of the way location the place was packed at 530 when we stopped. We had pizza, a sausage calzone, pesto gnocchi, pesto fettucini and the chicken angelo. All were perectly prepared not to heavy very flavorful. Highly Recommended!!!!!\n",
       "2. Love this place!! Great food and great service :-) this Italian girl approves! Try the gnocchi in vodka sauce, or the fried calamari when it is on special. The waitress is very knowledgable about what sauce goes best with which pasta (ravioli, gnocchi, tortellini, etc) and she can tell you the ingredients without having to ask. The service is prompt, and the food comes out very quickly, which is rare for Italian! I highly recommend this restaurant to everyone that is looking for some fresh Italian.\n",
       "3. Since I left Italy, I've been searching for that authentic Italian restaurant.  This place was a drive for me but well worth the trip. The place is in the middle of nowhere and doesn't look like much on the outside. As soon as I opened the door, the smell alone reminded me of being back in Italy.  The waiting staff was attentive but not hovering.  Its a family own place grandma coming out every once in a while to see how everyone is doing.  Each dish I had looked well prepared and tasted great all the way down to dessert washed down with limoncello.  I highly recommend checking the place out. \n",
       "\n",
       "**<font color='green'>Answer:</font>** 5 stars! This hidden gem boasts sublime Italian cuisine. Stepping inside, I was transported to Bella Italia, where the aromas of freshly baked pizza crust and simmering sauces tantalized my senses. Service is attentive and warm, with servers knowledgeable about the wine list and capable of making thoughtful pairing recommendations. Each dish I savored - from the Bruschetta to the Linguine con Aragosta - melted on my palate, showcasing the chef's masterful hand. This little piece of Italy is a must-visit for any pasta devotee. Don't miss it! \n",
       "\n",
       "**<font color='magenta'>Total time:</font>** 8.57 sec."
      ],
      "text/plain": [
       "<IPython.core.display.Markdown object>"
      ]
     },
     "metadata": {},
     "output_type": "display_data"
    }
   ],
   "source": [
    "response = query_model(\n",
    "    system_message,\n",
    "    user_message=prompt_generation(4,True),\n",
    "    temperature=2.0,\n",
    "    max_length=512)\n",
    "display(Markdown(colorize_text(response)))"
   ]
  },
  {
   "cell_type": "markdown",
   "metadata": {},
   "source": [
    "#### Lets's try with even higher temperature (8)"
   ]
  },
  {
   "cell_type": "markdown",
   "metadata": {},
   "source": [
    "<img src=\"hot_hot_llama.jpg\" alt=\"Example Image\" width=\"800\"/>"
   ]
  },
  {
   "cell_type": "code",
   "execution_count": null,
   "metadata": {},
   "outputs": [
    {
     "data": {
      "text/markdown": [
       "\n",
       "\n",
       "**<font color='red'>Question:</font>** Write a review of maximum 100 words of an italian restaurant in english. The review you need to write needs to be of 5 stars out of 5.  \n",
       "\n",
       "**<font color='green'>Answer:</font>** \"Blessarelli, undoubtedly the crowne[red]\" to this quiet Roman-esque gem hides just near. Warm Amb[rose,niencea],[g,h] of fresh ingredients abond,[anre,e,nicee,,in each carefully conceived d'courc'. Brimming[ with la'via'fla's,'!he' \"Tas'[re,\" the tr[Z,]\"[B](O,\" \"V'v'n't,\" & \"[o\"T\"[F\",r'served,'!\" to, & \"I're\". E,[C,e,s,i,t,fie[ls] w'e'tch\" 7[th]' \"[e],[W]. The staff'[ 'Sf,fu,n,'!! W'll|[l,e'5',\" stars eazy.\"[note] \"Can we\"[w][k]? It,[s'] f[i've[5'.\"\"\". \"This pla/[,a,e,/is\"[c,r,a,./o,w,[k]],l/[,[l],[n,\"!... Perfect!\"\"`. For those e[seek]\"ing e[y,b,f,g,y,r'[n',\" I[n],\"l[k\",\"s'\". This restaurant'., [p,e,\"],.[o,b,b,o,,e[, \"k]]s,\" I,.'.,.,e]!\", \"B,y,B'['.''.!\" This Italian r'est's,\".,  is s,,t[, '!.I[!]'\" \"D'li'[v'er's'[.\" 4[,] w[,] \"\"\",w,,i,t,,h,.\",e[n[, \",.\",],r,,,,/,'t,s,a,a,b,o\"\" \"\"a\"\"d \"\"v,w,h\"[b,,f,,,.\"\".,.,,\"r,\",/]]/. E,c,,, \"w,h,w,k,b,.\" 'H,a,v,r,,,,]y,n't,w,y,u,p \"\"\",b,u,.,,,w,/[u/y,w/o,,,a/o,\"o/n\"y,k,e[y/l/o/e,n,!.!\" \n",
       "\n",
       "**<font color='magenta'>Total time:</font>** 29.56 sec."
      ],
      "text/plain": [
       "<IPython.core.display.Markdown object>"
      ]
     },
     "metadata": {},
     "output_type": "display_data"
    }
   ],
   "source": [
    "response = query_model(\n",
    "    system_message,\n",
    "    user_message=prompt_generation(4,False),\n",
    "    temperature=8.0,\n",
    "    max_length=512)\n",
    "display(Markdown(colorize_text(response)))"
   ]
  },
  {
   "cell_type": "code",
   "execution_count": null,
   "metadata": {},
   "outputs": [
    {
     "data": {
      "text/markdown": [
       "\n",
       "\n",
       "**<font color='red'>Question:</font>** Write a review of maximum 100 words of an italian restaurant in english. The review you need to write needs to be of 5 stars out of 5. You should write in the same style as these examples: \n",
       "1. This amazing Italian joint is tucked away in a out of the way strip mall cloaked in an unrevealing store front that yeilds no clue as to the amazing deliciousness you will find inside. Despite it's nonspectacular exterior inside you will find warm scrumptous, chewy, fragrant bread with excellent olive oil on the table.  The food is spectacular and the service attentive. Even with its out of the way location the place was packed at 530 when we stopped. We had pizza, a sausage calzone, pesto gnocchi, pesto fettucini and the chicken angelo. All were perectly prepared not to heavy very flavorful. Highly Recommended!!!!!\n",
       "2. Love this place!! Great food and great service :-) this Italian girl approves! Try the gnocchi in vodka sauce, or the fried calamari when it is on special. The waitress is very knowledgable about what sauce goes best with which pasta (ravioli, gnocchi, tortellini, etc) and she can tell you the ingredients without having to ask. The service is prompt, and the food comes out very quickly, which is rare for Italian! I highly recommend this restaurant to everyone that is looking for some fresh Italian.\n",
       "3. Since I left Italy, I've been searching for that authentic Italian restaurant.  This place was a drive for me but well worth the trip. The place is in the middle of nowhere and doesn't look like much on the outside. As soon as I opened the door, the smell alone reminded me of being back in Italy.  The waiting staff was attentive but not hovering.  Its a family own place grandma coming out every once in a while to see how everyone is doing.  Each dish I had looked well prepared and tasted great all the way down to dessert washed down with limoncello.  I highly recommend checking the place out. \n",
       "\n",
       "**<font color='green'>Answer:</font>** \"What struck initially was how out-classes all chain-rival establishments is the intimate atmosphere: rustic decor that borders the sentimental, tables cozily packed but providing ample freedom while offering subtle glimpsy windows towards quaint street scner. While exceptional waitressing that anticipated my needs left little left untouched my palate for sublime cuisine did exactly that to taste sensies! Amongst plethora offered from mouth-to-cloud ragü with the heavenly egg-like sfagnat; chicken 'Papparlleo'? And rizzotti in red or more than delightful were those laced and presented upon golden. Service: A; the Food: An unforgettable dining excursion I couldnot request. My new best friend!!!(Purina5)**stars.\" Five shining ****, truly deserve them! Highly recomendt for anyone for once-in-all, life in its whole time dining!... it will defitnal not forgotten and wainting your new best bud.\" - This Place!... The Italian, simply a treat!! That says and implies it has achieved true triumph within our culture by offering to perfection! ** ** in both ways, and thus the choice you must!\" ** the taste ** will find out ** there will also find one in each. It'is only \"in this** a fact for the\" you\" of this.\" is so perfect this so is for\" of this\" so and are will **is of its not that it is only not, one. - Here for to this is in of from one each way you go or no for as ** and not here with be.\" - Not be you as all these to \"I it** one by you will one it there to so here so at, this no to go this that as is on\" this not and there you the you want to no go and you ** in this all you must will ** a all one it not of no to** that** on.\" That so this I ** will here on way as one go a on to all at this here in all\" so one is so it be\" or go the with not \"on ** not on that that no\". Then the taste here then find in.\" - All so \" ** of course there at for by\" of be from this as then or I here for or this I and** go a ** from for there or way then not** no so all the ** a I go where that it as.\" then now\". The answer.\" then\". to ** of these from not on go from of at for where go so is\" these \n",
       "\n",
       "**<font color='magenta'>Total time:</font>** 36.88 sec."
      ],
      "text/plain": [
       "<IPython.core.display.Markdown object>"
      ]
     },
     "metadata": {},
     "output_type": "display_data"
    }
   ],
   "source": [
    "response = query_model(\n",
    "    system_message,\n",
    "    user_message=prompt_generation(4,True),\n",
    "    temperature=8.0,\n",
    "    max_length=512)\n",
    "display(Markdown(colorize_text(response)))"
   ]
  },
  {
   "cell_type": "markdown",
   "metadata": {},
   "source": [
    "### Let's try the same experiment using Gemma 2B"
   ]
  },
  {
   "cell_type": "markdown",
   "metadata": {},
   "source": [
    "<img src=\"gemma.jpg\" alt=\"Example Image\" width=\"800\"/>"
   ]
  },
  {
   "cell_type": "code",
   "execution_count": null,
   "metadata": {},
   "outputs": [],
   "source": [
    "from datasets import load_dataset\n",
    "import numpy as np\n",
    "import os\n",
    "os.environ[\"KERAS_BACKEND\"] = \"jax\"\n",
    "os.environ[\"XLA_PYTHON_CLIENT_MEM_FRACTION\"] = \"1.00\" # avoid memory fragmentation on JAX backend.\n",
    "\n",
    "import keras\n",
    "import keras_nlp\n",
    "\n",
    "import numpy as np\n",
    "import pandas as pd\n",
    "from tqdm.notebook import tqdm\n",
    "tqdm.pandas() # progress bar for pandas\n",
    "\n",
    "import plotly.graph_objs as go\n",
    "import plotly.express as px\n",
    "from IPython.display import display, Markdown\n"
   ]
  },
  {
   "cell_type": "code",
   "execution_count": null,
   "metadata": {},
   "outputs": [],
   "source": [
    "# Import the indexes of the reviews talking about italian restaurants and select only those reviews\n",
    "italian_restaurant_idxs = np.load('/kaggle/input/italian-rest-idxs/idxs (1).npy')\n",
    "dataset_train=load_dataset(\"yelp_review_full\",split='train')\n",
    "dataset_train=dataset_train.select(italian_restaurant_idxs)"
   ]
  },
  {
   "cell_type": "code",
   "execution_count": null,
   "metadata": {},
   "outputs": [],
   "source": [
    "# Defining a function to generate the prompt for a review of given stars\n",
    "def prompt_generation(star):\n",
    "    prompt = 'Generate a review of an italian restaurant of 50 words in english of ' + str(star) + ' stars out of 5'\n",
    "    return prompt\n",
    "def generate_prompt(example):\n",
    "    example['prompt'] = prompt_generation(example['label'] + 1)\n",
    "    return example\n",
    "\n",
    "dataset_train = dataset_train.map(generate_prompt)\n"
   ]
  },
  {
   "cell_type": "code",
   "execution_count": null,
   "metadata": {},
   "outputs": [],
   "source": [
    "class CFG:\n",
    "    seed = 42\n",
    "    preset = \"gemma_instruct_2b_en\" # name of pretrained Gemma\n",
    "    sequence_length = 256 # max size of input sequence for training\n",
    "    batch_size = 1 # size of the input batch in training\n",
    "    epochs = 1 # number of epochs to train\n",
    "keras.utils.set_random_seed(CFG.seed)"
   ]
  },
  {
   "cell_type": "code",
   "execution_count": null,
   "metadata": {},
   "outputs": [
    {
     "name": "stderr",
     "output_type": "stream",
     "text": [
      "Attaching 'config.json' from model 'keras/gemma/keras/gemma_instruct_2b_en/2' to your Kaggle notebook...\n",
      "Attaching 'config.json' from model 'keras/gemma/keras/gemma_instruct_2b_en/2' to your Kaggle notebook...\n",
      "Attaching 'model.weights.h5' from model 'keras/gemma/keras/gemma_instruct_2b_en/2' to your Kaggle notebook...\n",
      "Attaching 'tokenizer.json' from model 'keras/gemma/keras/gemma_instruct_2b_en/2' to your Kaggle notebook...\n",
      "Attaching 'assets/tokenizer/vocabulary.spm' from model 'keras/gemma/keras/gemma_instruct_2b_en/2' to your Kaggle notebook...\n",
      "normalizer.cc(51) LOG(INFO) precompiled_charsmap is empty. use identity normalization.\n"
     ]
    },
    {
     "data": {
      "text/html": [
       "<pre style=\"white-space:pre;overflow-x:auto;line-height:normal;font-family:Menlo,'DejaVu Sans Mono',consolas,'Courier New',monospace\"><span style=\"font-weight: bold\">Preprocessor: \"gemma_causal_lm_preprocessor\"</span>\n",
       "</pre>\n"
      ],
      "text/plain": [
       "\u001b[1mPreprocessor: \"gemma_causal_lm_preprocessor\"\u001b[0m\n"
      ]
     },
     "metadata": {},
     "output_type": "display_data"
    },
    {
     "data": {
      "text/html": [
       "<pre style=\"white-space:pre;overflow-x:auto;line-height:normal;font-family:Menlo,'DejaVu Sans Mono',consolas,'Courier New',monospace\">┏━━━━━━━━━━━━━━━━━━━━━━━━━━━━━━━━━━━━━━━━━━━━━━━━━━━━┳━━━━━━━━━━━━━━━━━━━━━━━━━━━━━━━━━━━━━━━━━━━━━━━━━━━━━┓\n",
       "┃<span style=\"font-weight: bold\"> Tokenizer (type)                                   </span>┃<span style=\"font-weight: bold\">                                             Vocab # </span>┃\n",
       "┡━━━━━━━━━━━━━━━━━━━━━━━━━━━━━━━━━━━━━━━━━━━━━━━━━━━━╇━━━━━━━━━━━━━━━━━━━━━━━━━━━━━━━━━━━━━━━━━━━━━━━━━━━━━┩\n",
       "│ gemma_tokenizer (<span style=\"color: #0087ff; text-decoration-color: #0087ff\">GemmaTokenizer</span>)                   │                                             <span style=\"color: #00af00; text-decoration-color: #00af00\">256,000</span> │\n",
       "└────────────────────────────────────────────────────┴─────────────────────────────────────────────────────┘\n",
       "</pre>\n"
      ],
      "text/plain": [
       "┏━━━━━━━━━━━━━━━━━━━━━━━━━━━━━━━━━━━━━━━━━━━━━━━━━━━━┳━━━━━━━━━━━━━━━━━━━━━━━━━━━━━━━━━━━━━━━━━━━━━━━━━━━━━┓\n",
       "┃\u001b[1m \u001b[0m\u001b[1mTokenizer (type)                                  \u001b[0m\u001b[1m \u001b[0m┃\u001b[1m \u001b[0m\u001b[1m                                            Vocab #\u001b[0m\u001b[1m \u001b[0m┃\n",
       "┡━━━━━━━━━━━━━━━━━━━━━━━━━━━━━━━━━━━━━━━━━━━━━━━━━━━━╇━━━━━━━━━━━━━━━━━━━━━━━━━━━━━━━━━━━━━━━━━━━━━━━━━━━━━┩\n",
       "│ gemma_tokenizer (\u001b[38;5;33mGemmaTokenizer\u001b[0m)                   │                                             \u001b[38;5;34m256,000\u001b[0m │\n",
       "└────────────────────────────────────────────────────┴─────────────────────────────────────────────────────┘\n"
      ]
     },
     "metadata": {},
     "output_type": "display_data"
    },
    {
     "data": {
      "text/html": [
       "<pre style=\"white-space:pre;overflow-x:auto;line-height:normal;font-family:Menlo,'DejaVu Sans Mono',consolas,'Courier New',monospace\"><span style=\"font-weight: bold\">Model: \"gemma_causal_lm\"</span>\n",
       "</pre>\n"
      ],
      "text/plain": [
       "\u001b[1mModel: \"gemma_causal_lm\"\u001b[0m\n"
      ]
     },
     "metadata": {},
     "output_type": "display_data"
    },
    {
     "data": {
      "text/html": [
       "<pre style=\"white-space:pre;overflow-x:auto;line-height:normal;font-family:Menlo,'DejaVu Sans Mono',consolas,'Courier New',monospace\">┏━━━━━━━━━━━━━━━━━━━━━━━━━━━━━━━┳━━━━━━━━━━━━━━━━━━━━━━━━━━━┳━━━━━━━━━━━━━━━━━┳━━━━━━━━━━━━━━━━━━━━━━━━━━━━┓\n",
       "┃<span style=\"font-weight: bold\"> Layer (type)                  </span>┃<span style=\"font-weight: bold\"> Output Shape              </span>┃<span style=\"font-weight: bold\">         Param # </span>┃<span style=\"font-weight: bold\"> Connected to               </span>┃\n",
       "┡━━━━━━━━━━━━━━━━━━━━━━━━━━━━━━━╇━━━━━━━━━━━━━━━━━━━━━━━━━━━╇━━━━━━━━━━━━━━━━━╇━━━━━━━━━━━━━━━━━━━━━━━━━━━━┩\n",
       "│ padding_mask (<span style=\"color: #0087ff; text-decoration-color: #0087ff\">InputLayer</span>)     │ (<span style=\"color: #00d7ff; text-decoration-color: #00d7ff\">None</span>, <span style=\"color: #00d7ff; text-decoration-color: #00d7ff\">None</span>)              │               <span style=\"color: #00af00; text-decoration-color: #00af00\">0</span> │ -                          │\n",
       "├───────────────────────────────┼───────────────────────────┼─────────────────┼────────────────────────────┤\n",
       "│ token_ids (<span style=\"color: #0087ff; text-decoration-color: #0087ff\">InputLayer</span>)        │ (<span style=\"color: #00d7ff; text-decoration-color: #00d7ff\">None</span>, <span style=\"color: #00d7ff; text-decoration-color: #00d7ff\">None</span>)              │               <span style=\"color: #00af00; text-decoration-color: #00af00\">0</span> │ -                          │\n",
       "├───────────────────────────────┼───────────────────────────┼─────────────────┼────────────────────────────┤\n",
       "│ gemma_backbone                │ (<span style=\"color: #00d7ff; text-decoration-color: #00d7ff\">None</span>, <span style=\"color: #00d7ff; text-decoration-color: #00d7ff\">None</span>, <span style=\"color: #00af00; text-decoration-color: #00af00\">2048</span>)        │   <span style=\"color: #00af00; text-decoration-color: #00af00\">2,506,172,416</span> │ padding_mask[<span style=\"color: #00af00; text-decoration-color: #00af00\">0</span>][<span style=\"color: #00af00; text-decoration-color: #00af00\">0</span>],        │\n",
       "│ (<span style=\"color: #0087ff; text-decoration-color: #0087ff\">GemmaBackbone</span>)               │                           │                 │ token_ids[<span style=\"color: #00af00; text-decoration-color: #00af00\">0</span>][<span style=\"color: #00af00; text-decoration-color: #00af00\">0</span>]            │\n",
       "├───────────────────────────────┼───────────────────────────┼─────────────────┼────────────────────────────┤\n",
       "│ token_embedding               │ (<span style=\"color: #00d7ff; text-decoration-color: #00d7ff\">None</span>, <span style=\"color: #00d7ff; text-decoration-color: #00d7ff\">None</span>, <span style=\"color: #00af00; text-decoration-color: #00af00\">256000</span>)      │     <span style=\"color: #00af00; text-decoration-color: #00af00\">524,288,000</span> │ gemma_backbone[<span style=\"color: #00af00; text-decoration-color: #00af00\">0</span>][<span style=\"color: #00af00; text-decoration-color: #00af00\">0</span>]       │\n",
       "│ (<span style=\"color: #0087ff; text-decoration-color: #0087ff\">ReversibleEmbedding</span>)         │                           │                 │                            │\n",
       "└───────────────────────────────┴───────────────────────────┴─────────────────┴────────────────────────────┘\n",
       "</pre>\n"
      ],
      "text/plain": [
       "┏━━━━━━━━━━━━━━━━━━━━━━━━━━━━━━━┳━━━━━━━━━━━━━━━━━━━━━━━━━━━┳━━━━━━━━━━━━━━━━━┳━━━━━━━━━━━━━━━━━━━━━━━━━━━━┓\n",
       "┃\u001b[1m \u001b[0m\u001b[1mLayer (type)                 \u001b[0m\u001b[1m \u001b[0m┃\u001b[1m \u001b[0m\u001b[1mOutput Shape             \u001b[0m\u001b[1m \u001b[0m┃\u001b[1m \u001b[0m\u001b[1m        Param #\u001b[0m\u001b[1m \u001b[0m┃\u001b[1m \u001b[0m\u001b[1mConnected to              \u001b[0m\u001b[1m \u001b[0m┃\n",
       "┡━━━━━━━━━━━━━━━━━━━━━━━━━━━━━━━╇━━━━━━━━━━━━━━━━━━━━━━━━━━━╇━━━━━━━━━━━━━━━━━╇━━━━━━━━━━━━━━━━━━━━━━━━━━━━┩\n",
       "│ padding_mask (\u001b[38;5;33mInputLayer\u001b[0m)     │ (\u001b[38;5;45mNone\u001b[0m, \u001b[38;5;45mNone\u001b[0m)              │               \u001b[38;5;34m0\u001b[0m │ -                          │\n",
       "├───────────────────────────────┼───────────────────────────┼─────────────────┼────────────────────────────┤\n",
       "│ token_ids (\u001b[38;5;33mInputLayer\u001b[0m)        │ (\u001b[38;5;45mNone\u001b[0m, \u001b[38;5;45mNone\u001b[0m)              │               \u001b[38;5;34m0\u001b[0m │ -                          │\n",
       "├───────────────────────────────┼───────────────────────────┼─────────────────┼────────────────────────────┤\n",
       "│ gemma_backbone                │ (\u001b[38;5;45mNone\u001b[0m, \u001b[38;5;45mNone\u001b[0m, \u001b[38;5;34m2048\u001b[0m)        │   \u001b[38;5;34m2,506,172,416\u001b[0m │ padding_mask[\u001b[38;5;34m0\u001b[0m][\u001b[38;5;34m0\u001b[0m],        │\n",
       "│ (\u001b[38;5;33mGemmaBackbone\u001b[0m)               │                           │                 │ token_ids[\u001b[38;5;34m0\u001b[0m][\u001b[38;5;34m0\u001b[0m]            │\n",
       "├───────────────────────────────┼───────────────────────────┼─────────────────┼────────────────────────────┤\n",
       "│ token_embedding               │ (\u001b[38;5;45mNone\u001b[0m, \u001b[38;5;45mNone\u001b[0m, \u001b[38;5;34m256000\u001b[0m)      │     \u001b[38;5;34m524,288,000\u001b[0m │ gemma_backbone[\u001b[38;5;34m0\u001b[0m][\u001b[38;5;34m0\u001b[0m]       │\n",
       "│ (\u001b[38;5;33mReversibleEmbedding\u001b[0m)         │                           │                 │                            │\n",
       "└───────────────────────────────┴───────────────────────────┴─────────────────┴────────────────────────────┘\n"
      ]
     },
     "metadata": {},
     "output_type": "display_data"
    },
    {
     "data": {
      "text/html": [
       "<pre style=\"white-space:pre;overflow-x:auto;line-height:normal;font-family:Menlo,'DejaVu Sans Mono',consolas,'Courier New',monospace\"><span style=\"font-weight: bold\"> Total params: </span><span style=\"color: #00af00; text-decoration-color: #00af00\">2,506,172,416</span> (9.34 GB)\n",
       "</pre>\n"
      ],
      "text/plain": [
       "\u001b[1m Total params: \u001b[0m\u001b[38;5;34m2,506,172,416\u001b[0m (9.34 GB)\n"
      ]
     },
     "metadata": {},
     "output_type": "display_data"
    },
    {
     "data": {
      "text/html": [
       "<pre style=\"white-space:pre;overflow-x:auto;line-height:normal;font-family:Menlo,'DejaVu Sans Mono',consolas,'Courier New',monospace\"><span style=\"font-weight: bold\"> Trainable params: </span><span style=\"color: #00af00; text-decoration-color: #00af00\">2,506,172,416</span> (9.34 GB)\n",
       "</pre>\n"
      ],
      "text/plain": [
       "\u001b[1m Trainable params: \u001b[0m\u001b[38;5;34m2,506,172,416\u001b[0m (9.34 GB)\n"
      ]
     },
     "metadata": {},
     "output_type": "display_data"
    },
    {
     "data": {
      "text/html": [
       "<pre style=\"white-space:pre;overflow-x:auto;line-height:normal;font-family:Menlo,'DejaVu Sans Mono',consolas,'Courier New',monospace\"><span style=\"font-weight: bold\"> Non-trainable params: </span><span style=\"color: #00af00; text-decoration-color: #00af00\">0</span> (0.00 B)\n",
       "</pre>\n"
      ],
      "text/plain": [
       "\u001b[1m Non-trainable params: \u001b[0m\u001b[38;5;34m0\u001b[0m (0.00 B)\n"
      ]
     },
     "metadata": {},
     "output_type": "display_data"
    }
   ],
   "source": [
    "gemma_lm = keras_nlp.models.GemmaCausalLM.from_preset(CFG.preset)\n",
    "gemma_lm.summary()"
   ]
  },
  {
   "cell_type": "code",
   "execution_count": null,
   "metadata": {},
   "outputs": [],
   "source": [
    "def model_testing():\n",
    "    for i in range(5):\n",
    "        prompt = prompt_generation(i+1)\n",
    "        output = gemma_lm.generate(prompt, max_length=128)\n",
    "        print('Prompt: ' + prompt +'\\n' + 'Output: ' + output)"
   ]
  },
  {
   "cell_type": "markdown",
   "metadata": {},
   "source": [
    "Before finetuning"
   ]
  },
  {
   "cell_type": "code",
   "execution_count": null,
   "metadata": {},
   "outputs": [
    {
     "name": "stdout",
     "output_type": "stream",
     "text": [
      "Prompt: Generate a review of an italian restaurant of 50 words in english of 1 stars out of 5\n",
      "Output: Generate a review of an italian restaurant of 50 words in english of 1 stars out of 5.\n",
      "\n",
      "The food was delicious, with fresh and flavorful ingredients. The pasta was perfectly cooked, and the sauce was rich and flavorful. The atmosphere was warm and inviting, and the service was friendly and attentive. Overall, it was a wonderful dining experience.\n",
      "\n",
      "However, the price point was quite high, and the portions were quite small.\n",
      "Prompt: Generate a review of an italian restaurant of 50 words in english of 2 stars out of 5\n",
      "Output: Generate a review of an italian restaurant of 50 words in english of 2 stars out of 5.\n",
      "\n",
      "The food was delicious, with fresh and flavorful ingredients. The pasta was perfectly cooked, and the sauce was rich and flavorful. The atmosphere was warm and inviting, and the service was friendly and attentive. Overall, it was a wonderful dining experience.\n",
      "\n",
      "However, the price point was quite high, and the portions were quite small.\n",
      "Prompt: Generate a review of an italian restaurant of 50 words in english of 3 stars out of 5\n",
      "Output: Generate a review of an italian restaurant of 50 words in english of 3 stars out of 5.\n",
      "\n",
      "The food at La Bella Vita is simply divine. The pasta is perfectly cooked, the sauces are bursting with flavor, and the atmosphere is warm and inviting. The staff is incredibly friendly and attentive, making the dining experience truly memorable.\n",
      "\n",
      "If you're looking for a truly special Italian meal, La Bella Vita is the place to go. Highly recommended!\n",
      "Prompt: Generate a review of an italian restaurant of 50 words in english of 4 stars out of 5\n",
      "Output: Generate a review of an italian restaurant of 50 words in english of 4 stars out of 5.\n",
      "\n",
      "The food at La Bella Vita is simply divine. The pasta is perfectly cooked, the sauces are bursting with flavor, and the atmosphere is warm and inviting. The staff is incredibly friendly and attentive, making the dining experience truly memorable.\n",
      "\n",
      "If you're looking for a truly special Italian meal, La Bella Vita is the place to go. Highly recommended!\n",
      "Prompt: Generate a review of an italian restaurant of 50 words in english of 5 stars out of 5\n",
      "Output: Generate a review of an italian restaurant of 50 words in english of 5 stars out of 5.\n",
      "\n",
      "The food at La Bella Vita is simply divine. The pasta is perfectly cooked, the sauces are bursting with flavor, and the atmosphere is warm and inviting. The staff is incredibly friendly and attentive, ensuring a truly memorable dining experience.\n",
      "\n",
      "If you're looking for a truly special Italian meal, La Bella Vita is the place to go. Highly recommended!\n"
     ]
    }
   ],
   "source": [
    "# Before FineTuning\n",
    "model_testing()"
   ]
  },
  {
   "cell_type": "code",
   "execution_count": null,
   "metadata": {},
   "outputs": [
    {
     "data": {
      "text/html": [
       "<pre style=\"white-space:pre;overflow-x:auto;line-height:normal;font-family:Menlo,'DejaVu Sans Mono',consolas,'Courier New',monospace\"><span style=\"font-weight: bold\">Preprocessor: \"gemma_causal_lm_preprocessor\"</span>\n",
       "</pre>\n"
      ],
      "text/plain": [
       "\u001b[1mPreprocessor: \"gemma_causal_lm_preprocessor\"\u001b[0m\n"
      ]
     },
     "metadata": {},
     "output_type": "display_data"
    },
    {
     "data": {
      "text/html": [
       "<pre style=\"white-space:pre;overflow-x:auto;line-height:normal;font-family:Menlo,'DejaVu Sans Mono',consolas,'Courier New',monospace\">┏━━━━━━━━━━━━━━━━━━━━━━━━━━━━━━━━━━━━━━━━━━━━━━━━━━━━┳━━━━━━━━━━━━━━━━━━━━━━━━━━━━━━━━━━━━━━━━━━━━━━━━━━━━━┓\n",
       "┃<span style=\"font-weight: bold\"> Tokenizer (type)                                   </span>┃<span style=\"font-weight: bold\">                                             Vocab # </span>┃\n",
       "┡━━━━━━━━━━━━━━━━━━━━━━━━━━━━━━━━━━━━━━━━━━━━━━━━━━━━╇━━━━━━━━━━━━━━━━━━━━━━━━━━━━━━━━━━━━━━━━━━━━━━━━━━━━━┩\n",
       "│ gemma_tokenizer (<span style=\"color: #0087ff; text-decoration-color: #0087ff\">GemmaTokenizer</span>)                   │                                             <span style=\"color: #00af00; text-decoration-color: #00af00\">256,000</span> │\n",
       "└────────────────────────────────────────────────────┴─────────────────────────────────────────────────────┘\n",
       "</pre>\n"
      ],
      "text/plain": [
       "┏━━━━━━━━━━━━━━━━━━━━━━━━━━━━━━━━━━━━━━━━━━━━━━━━━━━━┳━━━━━━━━━━━━━━━━━━━━━━━━━━━━━━━━━━━━━━━━━━━━━━━━━━━━━┓\n",
       "┃\u001b[1m \u001b[0m\u001b[1mTokenizer (type)                                  \u001b[0m\u001b[1m \u001b[0m┃\u001b[1m \u001b[0m\u001b[1m                                            Vocab #\u001b[0m\u001b[1m \u001b[0m┃\n",
       "┡━━━━━━━━━━━━━━━━━━━━━━━━━━━━━━━━━━━━━━━━━━━━━━━━━━━━╇━━━━━━━━━━━━━━━━━━━━━━━━━━━━━━━━━━━━━━━━━━━━━━━━━━━━━┩\n",
       "│ gemma_tokenizer (\u001b[38;5;33mGemmaTokenizer\u001b[0m)                   │                                             \u001b[38;5;34m256,000\u001b[0m │\n",
       "└────────────────────────────────────────────────────┴─────────────────────────────────────────────────────┘\n"
      ]
     },
     "metadata": {},
     "output_type": "display_data"
    },
    {
     "data": {
      "text/html": [
       "<pre style=\"white-space:pre;overflow-x:auto;line-height:normal;font-family:Menlo,'DejaVu Sans Mono',consolas,'Courier New',monospace\"><span style=\"font-weight: bold\">Model: \"gemma_causal_lm\"</span>\n",
       "</pre>\n"
      ],
      "text/plain": [
       "\u001b[1mModel: \"gemma_causal_lm\"\u001b[0m\n"
      ]
     },
     "metadata": {},
     "output_type": "display_data"
    },
    {
     "data": {
      "text/html": [
       "<pre style=\"white-space:pre;overflow-x:auto;line-height:normal;font-family:Menlo,'DejaVu Sans Mono',consolas,'Courier New',monospace\">┏━━━━━━━━━━━━━━━━━━━━━━━━━━━━━━━┳━━━━━━━━━━━━━━━━━━━━━━━━━━━┳━━━━━━━━━━━━━━━━━┳━━━━━━━━━━━━━━━━━━━━━━━━━━━━┓\n",
       "┃<span style=\"font-weight: bold\"> Layer (type)                  </span>┃<span style=\"font-weight: bold\"> Output Shape              </span>┃<span style=\"font-weight: bold\">         Param # </span>┃<span style=\"font-weight: bold\"> Connected to               </span>┃\n",
       "┡━━━━━━━━━━━━━━━━━━━━━━━━━━━━━━━╇━━━━━━━━━━━━━━━━━━━━━━━━━━━╇━━━━━━━━━━━━━━━━━╇━━━━━━━━━━━━━━━━━━━━━━━━━━━━┩\n",
       "│ padding_mask (<span style=\"color: #0087ff; text-decoration-color: #0087ff\">InputLayer</span>)     │ (<span style=\"color: #00d7ff; text-decoration-color: #00d7ff\">None</span>, <span style=\"color: #00d7ff; text-decoration-color: #00d7ff\">None</span>)              │               <span style=\"color: #00af00; text-decoration-color: #00af00\">0</span> │ -                          │\n",
       "├───────────────────────────────┼───────────────────────────┼─────────────────┼────────────────────────────┤\n",
       "│ token_ids (<span style=\"color: #0087ff; text-decoration-color: #0087ff\">InputLayer</span>)        │ (<span style=\"color: #00d7ff; text-decoration-color: #00d7ff\">None</span>, <span style=\"color: #00d7ff; text-decoration-color: #00d7ff\">None</span>)              │               <span style=\"color: #00af00; text-decoration-color: #00af00\">0</span> │ -                          │\n",
       "├───────────────────────────────┼───────────────────────────┼─────────────────┼────────────────────────────┤\n",
       "│ gemma_backbone                │ (<span style=\"color: #00d7ff; text-decoration-color: #00d7ff\">None</span>, <span style=\"color: #00d7ff; text-decoration-color: #00d7ff\">None</span>, <span style=\"color: #00af00; text-decoration-color: #00af00\">2048</span>)        │   <span style=\"color: #00af00; text-decoration-color: #00af00\">2,506,854,400</span> │ padding_mask[<span style=\"color: #00af00; text-decoration-color: #00af00\">0</span>][<span style=\"color: #00af00; text-decoration-color: #00af00\">0</span>],        │\n",
       "│ (<span style=\"color: #0087ff; text-decoration-color: #0087ff\">GemmaBackbone</span>)               │                           │                 │ token_ids[<span style=\"color: #00af00; text-decoration-color: #00af00\">0</span>][<span style=\"color: #00af00; text-decoration-color: #00af00\">0</span>]            │\n",
       "├───────────────────────────────┼───────────────────────────┼─────────────────┼────────────────────────────┤\n",
       "│ token_embedding               │ (<span style=\"color: #00d7ff; text-decoration-color: #00d7ff\">None</span>, <span style=\"color: #00d7ff; text-decoration-color: #00d7ff\">None</span>, <span style=\"color: #00af00; text-decoration-color: #00af00\">256000</span>)      │     <span style=\"color: #00af00; text-decoration-color: #00af00\">524,288,000</span> │ gemma_backbone[<span style=\"color: #00af00; text-decoration-color: #00af00\">0</span>][<span style=\"color: #00af00; text-decoration-color: #00af00\">0</span>]       │\n",
       "│ (<span style=\"color: #0087ff; text-decoration-color: #0087ff\">ReversibleEmbedding</span>)         │                           │                 │                            │\n",
       "└───────────────────────────────┴───────────────────────────┴─────────────────┴────────────────────────────┘\n",
       "</pre>\n"
      ],
      "text/plain": [
       "┏━━━━━━━━━━━━━━━━━━━━━━━━━━━━━━━┳━━━━━━━━━━━━━━━━━━━━━━━━━━━┳━━━━━━━━━━━━━━━━━┳━━━━━━━━━━━━━━━━━━━━━━━━━━━━┓\n",
       "┃\u001b[1m \u001b[0m\u001b[1mLayer (type)                 \u001b[0m\u001b[1m \u001b[0m┃\u001b[1m \u001b[0m\u001b[1mOutput Shape             \u001b[0m\u001b[1m \u001b[0m┃\u001b[1m \u001b[0m\u001b[1m        Param #\u001b[0m\u001b[1m \u001b[0m┃\u001b[1m \u001b[0m\u001b[1mConnected to              \u001b[0m\u001b[1m \u001b[0m┃\n",
       "┡━━━━━━━━━━━━━━━━━━━━━━━━━━━━━━━╇━━━━━━━━━━━━━━━━━━━━━━━━━━━╇━━━━━━━━━━━━━━━━━╇━━━━━━━━━━━━━━━━━━━━━━━━━━━━┩\n",
       "│ padding_mask (\u001b[38;5;33mInputLayer\u001b[0m)     │ (\u001b[38;5;45mNone\u001b[0m, \u001b[38;5;45mNone\u001b[0m)              │               \u001b[38;5;34m0\u001b[0m │ -                          │\n",
       "├───────────────────────────────┼───────────────────────────┼─────────────────┼────────────────────────────┤\n",
       "│ token_ids (\u001b[38;5;33mInputLayer\u001b[0m)        │ (\u001b[38;5;45mNone\u001b[0m, \u001b[38;5;45mNone\u001b[0m)              │               \u001b[38;5;34m0\u001b[0m │ -                          │\n",
       "├───────────────────────────────┼───────────────────────────┼─────────────────┼────────────────────────────┤\n",
       "│ gemma_backbone                │ (\u001b[38;5;45mNone\u001b[0m, \u001b[38;5;45mNone\u001b[0m, \u001b[38;5;34m2048\u001b[0m)        │   \u001b[38;5;34m2,506,854,400\u001b[0m │ padding_mask[\u001b[38;5;34m0\u001b[0m][\u001b[38;5;34m0\u001b[0m],        │\n",
       "│ (\u001b[38;5;33mGemmaBackbone\u001b[0m)               │                           │                 │ token_ids[\u001b[38;5;34m0\u001b[0m][\u001b[38;5;34m0\u001b[0m]            │\n",
       "├───────────────────────────────┼───────────────────────────┼─────────────────┼────────────────────────────┤\n",
       "│ token_embedding               │ (\u001b[38;5;45mNone\u001b[0m, \u001b[38;5;45mNone\u001b[0m, \u001b[38;5;34m256000\u001b[0m)      │     \u001b[38;5;34m524,288,000\u001b[0m │ gemma_backbone[\u001b[38;5;34m0\u001b[0m][\u001b[38;5;34m0\u001b[0m]       │\n",
       "│ (\u001b[38;5;33mReversibleEmbedding\u001b[0m)         │                           │                 │                            │\n",
       "└───────────────────────────────┴───────────────────────────┴─────────────────┴────────────────────────────┘\n"
      ]
     },
     "metadata": {},
     "output_type": "display_data"
    },
    {
     "data": {
      "text/html": [
       "<pre style=\"white-space:pre;overflow-x:auto;line-height:normal;font-family:Menlo,'DejaVu Sans Mono',consolas,'Courier New',monospace\"><span style=\"font-weight: bold\"> Total params: </span><span style=\"color: #00af00; text-decoration-color: #00af00\">2,506,854,400</span> (9.34 GB)\n",
       "</pre>\n"
      ],
      "text/plain": [
       "\u001b[1m Total params: \u001b[0m\u001b[38;5;34m2,506,854,400\u001b[0m (9.34 GB)\n"
      ]
     },
     "metadata": {},
     "output_type": "display_data"
    },
    {
     "data": {
      "text/html": [
       "<pre style=\"white-space:pre;overflow-x:auto;line-height:normal;font-family:Menlo,'DejaVu Sans Mono',consolas,'Courier New',monospace\"><span style=\"font-weight: bold\"> Trainable params: </span><span style=\"color: #00af00; text-decoration-color: #00af00\">681,984</span> (2.60 MB)\n",
       "</pre>\n"
      ],
      "text/plain": [
       "\u001b[1m Trainable params: \u001b[0m\u001b[38;5;34m681,984\u001b[0m (2.60 MB)\n"
      ]
     },
     "metadata": {},
     "output_type": "display_data"
    },
    {
     "data": {
      "text/html": [
       "<pre style=\"white-space:pre;overflow-x:auto;line-height:normal;font-family:Menlo,'DejaVu Sans Mono',consolas,'Courier New',monospace\"><span style=\"font-weight: bold\"> Non-trainable params: </span><span style=\"color: #00af00; text-decoration-color: #00af00\">2,506,172,416</span> (9.34 GB)\n",
       "</pre>\n"
      ],
      "text/plain": [
       "\u001b[1m Non-trainable params: \u001b[0m\u001b[38;5;34m2,506,172,416\u001b[0m (9.34 GB)\n"
      ]
     },
     "metadata": {},
     "output_type": "display_data"
    }
   ],
   "source": [
    "gemma_lm.backbone.enable_lora(rank= 2)\n",
    "gemma_lm.summary()"
   ]
  },
  {
   "cell_type": "code",
   "execution_count": null,
   "metadata": {},
   "outputs": [],
   "source": [
    "def create_gemma_input(example):\n",
    "    example['input'] = 'Prompt: ' + example['prompt'] +'\\n' + 'Output: ' + example['text']\n",
    "    return example\n",
    "dataset_train = dataset_train.map(create_gemma_input)"
   ]
  },
  {
   "cell_type": "code",
   "execution_count": null,
   "metadata": {},
   "outputs": [
    {
     "name": "stdout",
     "output_type": "stream",
     "text": [
      "\u001b[1m5000/5000\u001b[0m \u001b[32m━━━━━━━━━━━━━━━━━━━━\u001b[0m\u001b[37m\u001b[0m \u001b[1m4093s\u001b[0m 808ms/step - loss: 1.8069 - sparse_categorical_accuracy: 0.4671\n"
     ]
    },
    {
     "data": {
      "text/plain": [
       "<keras.src.callbacks.history.History at 0x7f17647bc0a0>"
      ]
     },
     "metadata": {},
     "output_type": "display_data"
    }
   ],
   "source": [
    "gemma_lm.preprocessor.sequence_length = CFG.sequence_length \n",
    "\n",
    "# Compile the model with loss, optimizer, and metric\n",
    "gemma_lm.compile(\n",
    "    loss=keras.losses.SparseCategoricalCrossentropy(from_logits=True),\n",
    "    optimizer=keras.optimizers.Adam(learning_rate=5e-5),\n",
    "    weighted_metrics=[keras.metrics.SparseCategoricalAccuracy()],\n",
    ")\n",
    "\n",
    "# Train model\n",
    "gemma_lm.fit(dataset_train['input'], epochs=CFG.epochs, batch_size=CFG.batch_size)"
   ]
  },
  {
   "cell_type": "markdown",
   "metadata": {},
   "source": [
    "After FineTuning"
   ]
  },
  {
   "cell_type": "code",
   "execution_count": null,
   "metadata": {},
   "outputs": [
    {
     "name": "stdout",
     "output_type": "stream",
     "text": [
      "Prompt: Generate a review of an italian restaurant of 50 words in english of 1 stars out of 5\n",
      "Output: Generate a review of an italian restaurant of 50 words in english of 1 stars out of 5\n",
      "Output: I went to this place with my family and friends and we were all disappointed.  The food was not very good and the service was terrible.  The only thing that was good was the atmosphere.  The place is very nice and the staff is very friendly.  The only thing that was bad was the food.  I would not recommend this place to anyone.\n",
      "Prompt: Generate a review of an italian restaurant of 50 words in english of 2 stars out of 5\n",
      "Output: Generate a review of an italian restaurant of 50 words in english of 2 stars out of 5\n",
      "Output: I'm not sure what the deal is with this place. I've been there twice and it's been a disaster both times. The first time, I ordered a pizza and it was cold and the crust was hard. The second time, I ordered a pizza and it was soggy and the crust was soggy. I'm not sure what the deal is with this place. I've heard that it's a good place to eat, but I'm not sure if I'm\n",
      "Prompt: Generate a review of an italian restaurant of 50 words in english of 3 stars out of 5\n",
      "Output: Generate a review of an italian restaurant of 50 words in english of 3 stars out of 5\n",
      "Output: I'm not sure what the deal is with this place. I've been there twice and it's been either a complete disaster or a complete hit. I'm not sure if it's just me or if it's a bad luck thing to go there. I've had the pizza, the pasta, and the salad. I've had the pizza twice and the pasta once. I've had the salad once. I've had the pizza twice and the pasta once\n",
      "Prompt: Generate a review of an italian restaurant of 50 words in english of 4 stars out of 5\n",
      "Output: Generate a review of an italian restaurant of 50 words in english of 4 stars out of 5\n",
      "Output: I've been to this place a few times and it's always a great experience.  The food is always delicious and the service is great.  I've tried the pizza, pasta, and the chicken and it's all delicious.  I've also tried the tiramisu and the cheesecake and it's both delicious.  I've also tried the wine and the beer and it's all great.  I've been to this place a few times and it'\n",
      "Prompt: Generate a review of an italian restaurant of 50 words in english of 5 stars out of 5\n",
      "Output: Generate a review of an italian restaurant of 50 words in english of 5 stars out of 5\n",
      "Output: I've been to this place a few times and it's always a great experience.  The food is always delicious and the service is great.  I've tried the pizza, pasta, and the chicken and it's all delicious.  I've also tried the tiramisu and the cheesecake and it's both delicious.  I've also tried the wine and the beer and it's all great.  I've been to this place a few times and it'\n"
     ]
    }
   ],
   "source": [
    "\n",
    "model_testing()"
   ]
  },
  {
   "cell_type": "markdown",
   "metadata": {},
   "source": [
    "$\\color{red}{\\text{Prompt: Generate a review of an italian restaurant of 50 words in english of 1 stars out of 5}}$ <br>\n",
    "Output: Generate a review of an italian restaurant of 50 words in english of 1 stars out of 5 <br>\n",
    "Output: I went to this place with my family and friends and we were all disappointed.  The food was not very good and the service was terrible.  The only thing that was good was the atmosphere.  The place is very nice and the staff is very friendly.  The only thing that was bad was the food.  I would not recommend this place to anyone.\n",
    "<br> <br>\n",
    "\n",
    "$\\color{red}{\\text{Prompt: Generate a review of an italian restaurant of 50 words in english of 2 stars out of 5}}$ <br>\n",
    "Output: Generate a review of an italian restaurant of 50 words in english of 2 stars out of 5 <br>\n",
    "Output: I'm not sure what the deal is with this place. I've been there twice and it's been a disaster both times. The first time, I ordered a pizza and it was cold and the crust was hard. The second time, I ordered a pizza and it was soggy and the crust was soggy. I'm not sure what the deal is with this place. I've heard that it's a good place to eat, but I'm not sure if I'm\n",
    "\n",
    "<br><br>\n",
    "\n",
    "$\\color{red}{\\text{Prompt: Generate a review of an italian restaurant of 50 words in english of 3 stars out of 5}}$ <br>\n",
    "Output: Generate a review of an italian restaurant of 50 words in english of 3 stars out of 5 <br>\n",
    "Output: I'm not sure what the deal is with this place. I've been there twice and it's been either a complete disaster or a complete hit. I'm not sure if it's just me or if it's a bad luck thing to go there. I've had the pizza, the pasta, and the salad. I've had the pizza twice and the pasta once. I've had the salad once. I've had the pizza twice and the pasta once\n",
    "\n",
    "<br><br>\n",
    "\n",
    "$\\color{red}{\\text{Prompt: Generate a review of an italian restaurant of 50 words in english of 4 stars out of 5}}$ <br>\n",
    "Output: Generate a review of an italian restaurant of 50 words in english of 4 stars out of 5 <br>\n",
    "Output: I've been to this place a few times and it's always a great experience.  The food is always delicious and the service is great.  I've tried the pizza, pasta, and the chicken and it's all delicious.  I've also tried the tiramisu and the cheesecake and it's both delicious.  I've also tried the wine and the beer and it's all great.  I've been to this place a few times and it'\n",
    "<br><br>\n",
    "\n",
    "$\\color{red}{\\text{Prompt: Generate a review of an italian restaurant of 50 words in english of 5 stars out of 5}}$ <br>\n",
    "Output: Generate a review of an italian restaurant of 50 words in english of 5 stars out of 5 <br>\n",
    "Output: I've been to this place a few times and it's always a great experience.  The food is always delicious and the service is great.  I've tried the pizza, pasta, and the chicken and it's all delicious.  I've also tried the tiramisu and the cheesecake and it's both delicious.  I've also tried the wine and the beer and it's all great.  I've been to this place a few times and it'\n"
   ]
  },
  {
   "cell_type": "markdown",
   "metadata": {},
   "source": [
    "However compared to Llama the performances look worse"
   ]
  }
 ],
 "metadata": {
  "kernelspec": {
   "display_name": "Python 3",
   "language": "python",
   "name": "python3"
  },
  "language_info": {
   "codemirror_mode": {
    "name": "ipython",
    "version": 3
   },
   "file_extension": ".py",
   "mimetype": "text/x-python",
   "name": "python",
   "nbconvert_exporter": "python",
   "pygments_lexer": "ipython3",
   "version": "3.11.3"
  }
 },
 "nbformat": 4,
 "nbformat_minor": 2
}
