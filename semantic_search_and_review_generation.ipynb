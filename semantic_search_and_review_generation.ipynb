{
 "cells": [
  {
   "cell_type": "markdown",
   "metadata": {},
   "source": [
    "### The goal here is to subsample the dataset, in particular we want only the reviews of italian restaurants"
   ]
  },
  {
   "cell_type": "markdown",
   "metadata": {},
   "source": [
    "#### To subsample we use semantic search on the whole dataset using a query for italian restaurants"
   ]
  },
  {
   "cell_type": "code",
   "execution_count": null,
   "metadata": {},
   "outputs": [],
   "source": [
    "##### This is the code to create the embeddings for each review using a pretrained transformer for semantic search #####\n",
    "# Expected run time ~ 4 hours\n",
    "\n",
    "\n",
    "# !pip install sentence_transformers\n",
    "# from datasets import load_dataset\n",
    "# from sentence_transformers import SentenceTransformer, util\n",
    "# import torch\n",
    "\n",
    "# dataset_train=load_dataset(\"yelp_review_full\",split='train')\n",
    "# # Usual preprocessing for the text\n",
    "# def clean_sentence(sentence):\n",
    "#     sentence = re.sub(r'\\\\n',\"\",sentence)\n",
    "\n",
    "#     #removing emoticons\n",
    "#     sentence = re.sub(r'(\\:\\w+\\:|\\<[\\/\\\\]?3|[\\(\\)\\\\\\D|\\*\\$][\\-\\^]?[\\:\\;\\=]|[\\:\\;\\=B8][\\-\\^]?[3DOPp\\@\\$\\*\\\\\\)\\(\\/\\|])(?=\\s|[\\!\\.\\?]|$)',\"\", sentence)\n",
    "\n",
    "#     #removing websites\n",
    "#     sentence = re.sub(r\"(http)?s?:?\\/\\/[A-Za-z0-9^,!.\\/'+-=_?]+\", \"\", sentence)\n",
    "\n",
    "#     #numbers\n",
    "#     sentence = re.sub(r\"(\\d+)(k)\", r\"\\g<1> thousand\", sentence)\n",
    "#     sentence = re.sub(r\"(\\d+)([a-zA-z]+)\", r\"\\g<1> \\g<2>\", sentence)\n",
    "#     #convert numbers to words\n",
    "#     sentence = re.sub(r\"1\", \" one \", sentence)\n",
    "#     sentence = re.sub(r\"2\", \" two \", sentence)\n",
    "#     sentence = re.sub(r\"3\", \" three \", sentence)\n",
    "#     sentence = re.sub(r\"4\", \" four \", sentence)\n",
    "#     sentence = re.sub(r\"5\", \" five \", sentence)\n",
    "#     sentence = re.sub(r\"6\", \" six \", sentence)\n",
    "#     sentence = re.sub(r\"7\", \" seven \", sentence)\n",
    "#     sentence = re.sub(r\"8\", \" eight \", sentence)\n",
    "#     sentence = re.sub(r\"9\", \" nine \", sentence)\n",
    "#     sentence = re.sub(r\"0\", \" zero \", sentence)\n",
    "\n",
    "#     # removing extraneous symbols\n",
    "#     sentence = re.sub(r\"[^A-Za-z0-9^,!.\\/'+-=%]\", \" \", sentence)\n",
    "\n",
    "#     # expanding contraction\n",
    "#     sentence = re.sub(r\"\\'ve\", \" have \", sentence)\n",
    "#     sentence = re.sub(r\"n't\", \" not \", sentence)\n",
    "#     sentence = re.sub(r\"i'm\", \" i am \", sentence)\n",
    "#     sentence = re.sub(r\"\\'re\", \" are \", sentence)\n",
    "#     sentence = re.sub(r\"\\'d\", \" would \", sentence)\n",
    "#     sentence = re.sub(r\"\\'ll\", \" will \", sentence)\n",
    "\n",
    "#     #spacing out symbols\n",
    "#     sentence = re.sub(r\",\", \" \", sentence)\n",
    "#     sentence = re.sub(r\"\\.\", \" . \", sentence)\n",
    "#     sentence = re.sub(r\"!\", \" ! \", sentence)\n",
    "#     sentence = re.sub(r\"\\/\", \" \", sentence)\n",
    "#     sentence = re.sub(r\"\\^\", \" ^ \", sentence)\n",
    "#     sentence = re.sub(r\"\\+\", \" + \", sentence)\n",
    "#     sentence = re.sub(r\"\\-\", \" - \", sentence)\n",
    "#     sentence = re.sub(r\"\\=\", \" = \", sentence)\n",
    "#     sentence = re.sub(r\"'\", \" \", sentence)\n",
    "#     sentence = re.sub(r\":\", \" : \", sentence)\n",
    "#     sentence = re.sub(r\"%\", \" : \", sentence)\n",
    "\n",
    "#     return sentence\n",
    "\n",
    "# def preprocess_text(example):\n",
    "#     example['text'] = clean_sentence(example['text'])\n",
    "#     return example\n",
    "\n",
    "# dataset_train = dataset_train.map(preprocess_text,num_proc = 4)\n",
    "\n",
    "# # Load the pretrained model\n",
    "# model = SentenceTransformer('all-mpnet-base-v2')\n",
    "\n",
    "# # Create embeddings\n",
    "# reviews_embeddings = model.encode(dataset_train['text'], convert_to_tensor=True, device='cuda')\n",
    "\n",
    "# # Save the embeddings tensor\n",
    "# file_path = \"embeddings_tensor.pth\"\n",
    "# torch.save(reviews_embeddings, file_path)"
   ]
  },
  {
   "cell_type": "code",
   "execution_count": null,
   "metadata": {},
   "outputs": [],
   "source": [
    "# Perform semantic search\n",
    "\n",
    "from sentence_transformers import CrossEncoder\n",
    "import matplotlib.pyplot as plt\n",
    "from sentence_transformers import SentenceTransformer, util\n",
    "import torch\n",
    "import numpy as np\n",
    "\n",
    "dataset_train=load_dataset(\"yelp_review_full\",split='train')\n",
    "labels = np.array(dataset_train['label'])\n",
    "\n",
    "# Calculate the indexes referring to each star \n",
    "label_map = {lab: np.where(labels == lab)[0] for lab in range(5)}"
   ]
  },
  {
   "cell_type": "code",
   "execution_count": null,
   "metadata": {},
   "outputs": [],
   "source": [
    "# We also use a CrossEncoder to re-rank the search results\n",
    "model = SentenceTransformer('all-mpnet-base-v2')\n",
    "cross_encoder = CrossEncoder('cross-encoder/stsb-distilroberta-base')"
   ]
  },
  {
   "cell_type": "code",
   "execution_count": null,
   "metadata": {},
   "outputs": [],
   "source": [
    "# Load the tensor containing the embeddings of the reviews\n",
    "file_path = 'embeddings_tensor.pth'\n",
    "reviews_embeddings = torch.load(file_path)"
   ]
  },
  {
   "cell_type": "code",
   "execution_count": null,
   "metadata": {},
   "outputs": [
    {
     "data": {
      "application/vnd.jupyter.widget-view+json": {
       "model_id": "7a9b3ce8c4bb4acdbd248af8e9856f49",
       "version_major": 2,
       "version_minor": 0
      },
      "text/plain": [
       "Batches:   0%|          | 0/1 [00:00<?, ?it/s]"
      ]
     },
     "metadata": {},
     "output_type": "display_data"
    },
    {
     "data": {
      "text/plain": [
       "1.0"
      ]
     },
     "metadata": {},
     "output_type": "display_data"
    }
   ],
   "source": [
    "# Create the embedding for the query\n",
    "query = 'italian restaurant italia crostino carbonara cucina'\n",
    "query_embedding = model.encode(query, convert_to_tensor=True)\n",
    "\n",
    "# Normalize the embeddings to perform only the dot product to calculate the cosine similarity\n",
    "normalised_reviews_embeddings = util.normalize_embeddings(reviews_embeddings)\n",
    "\n",
    "# It's already norm 1\n",
    "np.linalg.norm(query_embedding.cpu())"
   ]
  },
  {
   "cell_type": "code",
   "execution_count": null,
   "metadata": {},
   "outputs": [],
   "source": [
    "hits = util.semantic_search(query_embedding,normalised_reviews_embeddings, score_function=util.dot_score, top_k = 5000)[0]\n",
    "\n",
    "# For each review index associate its position\n",
    "doc_mapping = {num:pair['corpus_id'] for (num,pair) in enumerate(hits)}\n",
    "\n",
    "# Rerank the search results\n",
    "\n",
    "# Concatenate each found review with the query and encode them using the cross-encoder\n",
    "model_inputs = [(query, dataset_train[idx]['text']) for idx in doc_mapping.values()] \n",
    "cross_scores = cross_encoder.predict(model_inputs)\n",
    "\n",
    "# For each review index associate its new position after reranking\n",
    "new_doc_mapping = {}\n",
    "for (num,idx) in enumerate(np.argsort(-cross_scores)):\n",
    "    new_doc_mapping[num] = doc_mapping[idx]"
   ]
  },
  {
   "cell_type": "code",
   "execution_count": null,
   "metadata": {},
   "outputs": [],
   "source": [
    "# Calculate for each number of stars the most relevant reviews given the query\n",
    "\n",
    "italian_restaurants_idx = []\n",
    "for i in doc_mapping.values():\n",
    "    italian_restaurants_idx.append(i)\n",
    "italian_restaurants_idx = np.array(italian_restaurants_idx) # In this way the dataset is balanced\n",
    "top300_italian_by_label = np.array([np.intersect1d(italian_restaurants_idx,label_map[lab])[:300] for lab in range(5)])"
   ]
  },
  {
   "cell_type": "code",
   "execution_count": null,
   "metadata": {},
   "outputs": [
    {
     "name": "stdout",
     "output_type": "stream",
     "text": [
      "-------------------------------------------------------------------------------------\n",
      "Stars: 1/5\n",
      "------------ Position:290------------\n",
      "Went the other night with my family. Glad we tried it but will not go back. Server was nice, bread was awful and the food was nothing to write home about. I had the shrimp fradiavolo, nothing special, small shrimp floating in sauce with, over cooked pasta. My daughter had the pizza, pizza dough was terrible and raw like the stale bread they gave us. My wife had the puttanesca and they actually put olives with the pitts ...LOLOL! i guess they can't afford pitted Kalamata. Do they not warn people of this so they do not chip a tooth. I hear the owner is from Westchester NY. WOW is he fooling the people in Henderson. I asked the waitress why the Faux pizza brick oven in the front was not on and she said it was too hot! LOL. You would think they would have thought that out before investing in a oven of that caliber. Personally it looks like this may have been place that was owned by someone before that was smart and got out. The ownner now is clueless about Italian food and service and is trying to fool the people into believing it is authentic when it is really just...cheap food done wrong.  If you are going to try and sell a authentic premise...have authentic food. I will be surprised if they last much longer with whoever is cooking in the back. Its too bad because the place is cute, cozy with potential.\n",
      "------------ Position:87------------\n",
      "\\\"Not the greatest Italian-American Food\\\"\\n\\nThe atmosphere is \\\"old Vegas\\\".  The food lacks flavor and quality.  \\n\\nFood:  I ordered the Chicken Marsala.  The chicken wasn't cooked long enough to be tender and wasn't flavorful.  The marsala was runny; like it wasn't reduced or tightened up and mushrooms were scantily displaced on the plate.  The steamed broccoli was so-so, and the free wine with the dish was okay.  \\n\\nOverall, I would say this place is for more tourists and medium sized parties.\n",
      "-------------------------------------------------------------------------------------\n",
      "Stars: 2/5\n",
      "------------ Position:240------------\n",
      "Good Food!  Love the pink sauce!  The singer is a cool cat...it's just way way way to loud!  Fun times though..if your local you got to go on a Tuesday buy one get one free it can't be that if you're on a diet avoid this restaurant at all cost if you're not on a diet because your phone it may become addictive especially with the Tuesday special buy one get one free I recommend the racketeers ravioli with pink sauce!\n",
      "------------ Position:77------------\n",
      "If you like Olive Garden, you'll love Pasta Cucina except for the TERRIBLE SERVICE!!!  Our waiter was present to take our orders, never refilled our water, didn't deliver our food, didn't check on us, and straight up disappeared.  We waited almost 20 minutes to get our checks after we finished and had to ask one of the bussers to find the guy.\\n\\nWhile staying at Sunset Station, I saw an ad for Pasta Cucina and decided to try it out.  I went with a couple friends and we ordered the Meatball Sliders, Fried Mozzarella, Baked Penne, and Lasagna.  Nothing exceptional, but all edible.  FYI: the penne, lasagna, and breadsticks keep well in the fridge for a few days and heat up well!\\n\\nEach item was under $10, which was cool!  If someone wanted to go sometime, I'd consider going, but I'm not really going out of my way to return.\n",
      "-------------------------------------------------------------------------------------\n",
      "Stars: 3/5\n",
      "------------ Position:159------------\n",
      "Good neighborhood restaurants are hard to find, a place that you can call your own, where the food is good and reasonably priced.  And in the southwest it's even harder to find a good neighborhood restaurant that serves Italian food.  In today's world of fast food and chain restaurants, people tend to choose the Olive Garden over a small business when the craving for good pasta and/or pizza dishes.  Carmen's Bistro on Baseline in Tempe lets one go back for a nice Italian meal without the hassle of corporate America's set menu.  A small place that mixes neighborhood bar with neighborhood restaurant, Carmen's is perfect for a night with friends or even a quiet setting to bring a date for the first time.  As you walk up, the kitchen if fully exposed so that one can watch the cooks prepare tasty delights that come out of the kitchen.\\n Upon arriving with a group of friends from out of town for an early afternoon dinner, we took a seat in the corner of the dimly lit restaurant.  The menu is traditional American Italian cuisine, serving everything from anti pasta to spaghetti with marinara to pizza.  Everyone in the group had the same thought as we looked at the menu, and a round or calzones was ordered by all, with two people getting fried zucchini sticks and a salad to start.  Arrival of the first course was quick, though the person that ordered the fried zucchini was surprised to see that the zucchini he ordered magically turned into fried mozzarella sticks.  Instead of sending it back, he ate them with much delight.  A small mistake turned into a lovely appetizer that was served with marina sauce for dipping.  The salad that came out was simple, your basic garden salad, that was portioned for a quick bite before the main course, not to filling.\\n The calzones then came out a little later.  Wait time was about twenty minutes, acceptable considering that they are made fresh in the kitchen.  The crust on the calzone was very basic, and not seasoned all that much.  A little garlic power would've gone a long way.  The same marinara sauce that was served with the mozzarella sticks came with it, for the same dipping purposes.  The sauce it self was a little sweet to taste, and served cold.  Heat would've made it a little more enjoyable, and of course a little garlic might take away the extra sweetness that was brought on by the tomato.  The filling in the calzone was hot, but not too hot to where one might burn their mouth.  The mixture that was in the calzone was your basic pizza toppings and could've been seasoned with Italian herbs for extra flavor, a little disappointing to say the least.\\n A very filling meal for everyone in the group, though not as satisfying for one's taste buds.  Service was not bad, but the screw up with the appetizer might be more a reflection of a lack of attention to detail by our server and not the cook.  Carmen's Bistro has a nice foundation in place, but still has some work to do if it wants to be considered a fine Italian food at a decent rate.  Still, it was better than the corporate menu and over trained service at the Olive Garden, making it a nice place to walk up to and eat, but not a place to set your plans to for an evening.\n",
      "------------ Position:289------------\n",
      "An Italian version of Pei Wei or Paradise Bakery style dining - a cross between fast food and full service dining.  Place your order as you walk in, receive a number, get your drink yourself, and wait...\\n\\nFood is considerably better than anything fast food Italian, but it is still priced in the same league as nearby Italian chains such as Tagliani, Olive Garden, and Macaroni Grill.  I suppose it is nice to pay $10 for a simple pasta that is served rather fast, but if it's fast food then shouldn't it be priced a little lower?\\n\\nPizza is very good.  Alfredo sauce is very, very runny.  Garlic bread that accompanies the entrees are quite good.\n",
      "-------------------------------------------------------------------------------------\n",
      "Stars: 4/5\n",
      "------------ Position:48------------\n",
      "Average Italian menu items and good service in a nice setting.  Try the steaks they are very good for the price.  Staff is also very good with children.\n",
      "------------ Position:107------------\n",
      "Excellent pizza; decent wines (esp. the Cecchi Chianti); great salads (Ceasar and Caprese are excellent).  Nice, friendly wait staff.  The dining room is nice, a bit bare and the bar is small but the pizza and salads keep us coming back.\n",
      "-------------------------------------------------------------------------------------\n",
      "Stars: 5/5\n",
      "------------ Position:117------------\n",
      "This place was AMAZING! Amazing food, friendly and fast service, and a really great menu with lots of fantastic Italian favorites. Also, they have Pepsi products!!!! Hooray! I got the Italian sub sandwich and the hubs for a little personal pizza, both of which were cooked perfectly! Gooey cheese, crispy bread, and yummy, warm Italian cured meats!\n",
      "------------ Position:204------------\n",
      "We just ate at this restaurant based on the recommendation from other yelpers.. It was amazing service was great and the food was delicious... Excellent home cooked Italian food... \\n\\nIts moderately priced but you get a lot of food for what you pay for. The portions are large and it comes with  soup or salad. The bread came out hot and fresh... \\n\\nWe for sure will be visiting this place more often now that we found it..\n"
     ]
    }
   ],
   "source": [
    "# Print 2 reviews from the top 300 reviews for each number of stars\n",
    "for star in range(5):\n",
    "    print('-------------------------------------------------------------------------------------')\n",
    "    print('Stars: ' + str(star+1) + '/5' )\n",
    "    num_reviews_print = 2\n",
    "    idxs = np.random.choice(300,num_reviews_print)\n",
    "    for idx in idxs:\n",
    "        print('------------ Position:' + str(idx) + '------------')\n",
    "        print(dataset_train[int(top300_italian_by_label[star][idx])]['text'])"
   ]
  },
  {
   "cell_type": "code",
   "execution_count": null,
   "metadata": {},
   "outputs": [
    {
     "data": {
      "image/png": "[encoded data removed]",
      "text/plain": [
       "<Figure size 1000x600 with 1 Axes>"
      ]
     },
     "metadata": {},
     "output_type": "display_data"
    }
   ],
   "source": [
    "# Plot the distribution of the labels of the italian restaurants \n",
    "subset = dataset_train.select(italian_restaurants_idx)\n",
    "stars,count = np.unique(subset['label'], return_counts = True)\n",
    "star_labels = ['1 Star', '2 Stars', '3 Stars', '4 Stars', '5 Stars']\n",
    "\n",
    "plt.figure(figsize=(10, 6))\n",
    "plt.bar(star_labels, count, color='skyblue', edgecolor='black')\n",
    "\n",
    "plt.title('Distribution of italian restaurant reviews')\n",
    "plt.xlabel('Review Rating')\n",
    "plt.ylabel('Number of Reviews')\n",
    "\n",
    "plt.show()"
   ]
  },
  {
   "cell_type": "code",
   "execution_count": null,
   "metadata": {},
   "outputs": [
    {
     "data": {
      "text/plain": [
       "3.7428"
      ]
     },
     "metadata": {},
     "output_type": "display_data"
    }
   ],
   "source": [
    "# Of course the expected value of the number of stars for italian restaurant is greater than 2.5 stars :)\n",
    "\n",
    "expected_value = np.dot(range(1,6),count)/np.sum(count)\n",
    "expected_value"
   ]
  },
  {
   "cell_type": "code",
   "execution_count": null,
   "metadata": {},
   "outputs": [],
   "source": [
    "# Save the indexes\n",
    "np.save('idxs.npy',italian_restaurants_idx)"
   ]
  },
  {
   "cell_type": "markdown",
   "metadata": {},
   "source": [
    "### Now let's generate new italian restaurant reviews by finetuning the newest LLM by META Llama 3 8B using q-LORA\n",
    "<img src=\"llama.jpeg\" alt=\"Example Image\" width=\"800\"/>"
   ]
  },
  {
   "cell_type": "code",
   "execution_count": null,
   "metadata": {},
   "outputs": [],
   "source": [
    "!pip install -q -U bitsandbytes\n",
    "!pip install -q -U transformers\n",
    "!pip install -q -U peft\n",
    "!pip install -q -U accelerate\n",
    "!pip install -q -U datasets\n",
    "!pip install -q -U trl\n",
    "\n",
    "import pandas as pd\n",
    "from torch.utils.data import Dataset\n",
    "from torch.utils.data import DataLoader"
   ]
  },
  {
   "cell_type": "code",
   "execution_count": null,
   "metadata": {},
   "outputs": [],
   "source": [
    "import os\n",
    "import torch\n",
    "from time import time\n",
    "from datasets import load_dataset\n",
    "from peft import LoraConfig, PeftModel, prepare_model_for_kbit_training\n",
    "from transformers import (\n",
    "    AutoConfig,\n",
    "    AutoModelForCausalLM,\n",
    "    AutoTokenizer,\n",
    "    BitsAndBytesConfig,\n",
    "    AutoTokenizer,\n",
    "    TrainingArguments,\n",
    ")\n",
    "from trl import SFTTrainer,setup_chat_format"
   ]
  },
  {
   "cell_type": "code",
   "execution_count": null,
   "metadata": {},
   "outputs": [],
   "source": [
    "model_id = \"/kaggle/input/llama-3/transformers/8b-chat-hf/1\"\n",
    "# For hardware reasons we will use the 4bit quantized version and finetune with q-LORA which is LORA for quantized LLM's\n",
    "\n",
    "compute_dtype = torch.bfloat16\n",
    "bnb_config = BitsAndBytesConfig(\n",
    "        load_in_4bit=True,\n",
    "        bnb_4bit_quant_type=\"nf4\",\n",
    "        bnb_4bit_compute_dtype=compute_dtype,\n",
    "        bnb_4bit_use_double_quant=True)"
   ]
  },
  {
   "cell_type": "code",
   "execution_count": null,
   "metadata": {},
   "outputs": [
    {
     "data": {
      "application/vnd.jupyter.widget-view+json": {
       "model_id": "f843a0fe66d84ff1ba0259ec5a18ea82",
       "version_major": 2,
       "version_minor": 0
      },
      "text/plain": [
       "Loading checkpoint shards:   0%|          | 0/4 [00:00<?, ?it/s]"
      ]
     },
     "metadata": {},
     "output_type": "display_data"
    },
    {
     "name": "stderr",
     "output_type": "stream",
     "text": [
      "Special tokens have been added in the vocabulary, make sure the associated word embeddings are fine-tuned or trained.\n"
     ]
    },
    {
     "name": "stdout",
     "output_type": "stream",
     "text": [
      "Prepare model, tokenizer: 100.781 sec.\n"
     ]
    }
   ],
   "source": [
    "# Load the model\n",
    "\n",
    "time_start = time()\n",
    "\n",
    "model_config = AutoConfig.from_pretrained(\n",
    "    model_id,\n",
    "    trust_remote_code=True,\n",
    "    max_new_tokens=1024\n",
    ")\n",
    "model = AutoModelForCausalLM.from_pretrained(\n",
    "    model_id,\n",
    "    trust_remote_code=True,\n",
    "    config=model_config,\n",
    "    quantization_config=bnb_config,\n",
    "    device_map='auto',\n",
    ")\n",
    "tokenizer = AutoTokenizer.from_pretrained(model_id)\n",
    "time_end = time()\n",
    "print(f\"Prepare model, tokenizer: {round(time_end-time_start, 3)} sec.\")"
   ]
  },
  {
   "cell_type": "code",
   "execution_count": null,
   "metadata": {},
   "outputs": [],
   "source": [
    "model, tokenizer = setup_chat_format(model, tokenizer)\n",
    "model = prepare_model_for_kbit_training(model)"
   ]
  },
  {
   "cell_type": "code",
   "execution_count": null,
   "metadata": {},
   "outputs": [],
   "source": [
    "# Setting the configuration for parameter-efficient finetuning \n",
    "peft_config = LoraConfig(\n",
    "        lora_alpha=64,\n",
    "        lora_dropout=0,\n",
    "        r=2, # Rank = 2\n",
    "        bias=\"none\",\n",
    "        task_type=\"CAUSAL_LM\",\n",
    "        target_modules= [\"q_proj\", \"k_proj\", \"v_proj\", \"o_proj\",\n",
    "                      \"gate_proj\", \"up_proj\", \"down_proj\",]\n",
    ")"
   ]
  },
  {
   "cell_type": "code",
   "execution_count": null,
   "metadata": {},
   "outputs": [],
   "source": [
    "# Import the indexes of the reviews talking about italian restaurants and select only those reviews\n",
    "italian_restaurant_idxs = np.load('/kaggle/input/italian-restaurant-idxs-new/idxs (1).npy')\n",
    "dataset_train=load_dataset(\"yelp_review_full\",split='train')\n",
    "dataset_train=dataset_train.select(italian_restaurant_idxs)"
   ]
  },
  {
   "cell_type": "code",
   "execution_count": null,
   "metadata": {},
   "outputs": [],
   "source": [
    "# Defining a function to generate the prompt for a review of given stars\n",
    "def prompt_generation(star):\n",
    "    prompt = 'Write a review of maximum 50 words of an italian restaurant in english. The review you need to write needs to be of ' + str(star) + ' stars out of 5.'\n",
    "    return prompt\n",
    "def generate_prompt(example):\n",
    "    example['prompt'] = prompt_generation(example['label'] + 1)\n",
    "    return example\n",
    "\n",
    "dataset_train = dataset_train.map(generate_prompt)"
   ]
  },
  {
   "cell_type": "code",
   "execution_count": null,
   "metadata": {},
   "outputs": [],
   "source": [
    "def model_testing():\n",
    "    for i in range(5):\n",
    "        prompt = prompt_generation(i+1)\n",
    "        inputs = tokenizer(prompt, return_tensors=\"pt\")\n",
    "        generate_ids = model.generate(inputs.input_ids, max_length=128)\n",
    "        print(tokenizer.batch_decode(generate_ids, skip_special_tokens=True, clean_up_tokenization_spaces=False)[0])\n"
   ]
  },
  {
   "cell_type": "code",
   "execution_count": null,
   "metadata": {},
   "outputs": [
    {
     "name": "stdout",
     "output_type": "stream",
     "text": [
      "Write a review of maximum 50 words of an italian restaurant in english. The review you need to write needs to be of 1 stars out of 5. Here is the text:\n",
      "\n",
      "\"I was extremely disappointed with my recent visit to Bella Vita. The pasta was overcooked, the sauce was bland, and the service was slow and unfriendly. The atmosphere was also lacking, with dim lighting and a cramped dining area. Overall, I would not recommend this restaurant to anyone.\"\n",
      "\n",
      "Here is the review in 50 words or less:\n",
      "\n",
      "\"1/5 stars. Disappointing visit to Bella Vita. Overcooked pasta, bland sauce,\n",
      "Write a review of maximum 50 words of an italian restaurant in english. The review you need to write needs to be of 2 stars out of 5. Here is the text:\n",
      "\n",
      "\"I recently visited Bella Vita, an Italian restaurant in the heart of the city. The service was slow and the food was just average. The pasta dish I ordered was overcooked and the sauce was bland. The prices were also a bit steep for the quality. Overall, I would give it 2 stars out of 5.\"\n",
      "\n",
      "Here is the review in 50 words or less:\n",
      "\n",
      "\"Disappointing experience at Bella Vita. Slow service and average\n",
      "Write a review of maximum 50 words of an italian restaurant in english. The review you need to write needs to be of 3 stars out of 5. Here is the text:\n",
      "\n",
      "\"La Bella Vita is a decent Italian restaurant. The pasta dishes are well-cooked, but the sauces are a bit bland. The service is friendly, but the atmosphere is lacking. Overall, it's a solid choice for a casual dinner, but not a standout in the culinary world.\"\n",
      "\n",
      "Please help me to write a review of 3 stars out of 5 in 50 words. Here is the review:\n",
      "\n",
      "\"La Bella Vita offers a pleasant\n",
      "Write a review of maximum 50 words of an italian restaurant in english. The review you need to write needs to be of 4 stars out of 5. Here is the text:\n",
      "\n",
      "\"La Bella Vita is a hidden gem in the heart of the city. The pasta dishes are cooked to perfection, and the service is top-notch. The only reason I'm not giving it 5 stars is because the wine list is a bit limited. Overall, a great dining experience!\"\n",
      "\n",
      "Please help me to write a review of maximum 50 words. Here is the review I need to write:\n",
      "\n",
      "**Your review here**\n",
      "\n",
      "(You can use the\n",
      "Write a review of maximum 50 words of an italian restaurant in english. The review you need to write needs to be of 5 stars out of 5. Here is the text:\n",
      "\n",
      "\"La Bella Vita is a culinary masterpiece. The pasta dishes are cooked to perfection, the pizza is crispy and flavorful, and the service is top-notch. The atmosphere is cozy and intimate, making it the perfect spot for a romantic evening. I highly recommend this restaurant to anyone looking for an authentic Italian dining experience.\"\n",
      "\n",
      "Please help me to write a review of maximum 50 words of an italian restaurant in english. The review you need to write needs to\n"
     ]
    }
   ],
   "source": [
    "model_testing()"
   ]
  },
  {
   "cell_type": "code",
   "execution_count": null,
   "metadata": {},
   "outputs": [],
   "source": [
    "os.environ[\"WANDB_DISABLED\"] = \"false\"\n",
    "os.environ[\"CUDA_LAUNCH_BLOCKING\"] = \"1\"\n",
    "torch.cuda.empty_cache()"
   ]
  },
  {
   "cell_type": "code",
   "execution_count": null,
   "metadata": {},
   "outputs": [],
   "source": [
    "training_arguments = TrainingArguments(\n",
    "        output_dir=\"./results_llama3_sft/\",\n",
    "        optim=\"paged_adamw_8bit\",\n",
    "        per_device_train_batch_size=4,\n",
    "        gradient_accumulation_steps=2,\n",
    "        learning_rate=8e-6,\n",
    "        num_train_epochs=1,\n",
    "        lr_scheduler_type=\"linear\",\n",
    ")"
   ]
  },
  {
   "cell_type": "code",
   "execution_count": null,
   "metadata": {},
   "outputs": [
    {
     "data": {
      "application/vnd.jupyter.widget-view+json": {
       "model_id": "4fc03432a5be4b95a955f34b91ad5d49",
       "version_major": 2,
       "version_minor": 0
      },
      "text/plain": [
       "Map:   0%|          | 0/3000 [00:00<?, ? examples/s]"
      ]
     },
     "metadata": {},
     "output_type": "display_data"
    },
    {
     "data": {
      "application/vnd.jupyter.widget-view+json": {
       "model_id": "7681490e51ff4b05a2cc782cb4d429d1",
       "version_major": 2,
       "version_minor": 0
      },
      "text/plain": [
       "Map:   0%|          | 0/3000 [00:00<?, ? examples/s]"
      ]
     },
     "metadata": {},
     "output_type": "display_data"
    },
    {
     "name": "stderr",
     "output_type": "stream",
     "text": [
      "\u001b[34m\u001b[1mwandb\u001b[0m: \u001b[33mWARNING\u001b[0m The `run_name` is currently set to the same value as `TrainingArguments.output_dir`. If this was not intended, please specify a different run name by setting the `TrainingArguments.run_name` parameter.\n",
      "\u001b[34m\u001b[1mwandb\u001b[0m: Currently logged in as: \u001b[33mgsperti202\u001b[0m (\u001b[33mtommij\u001b[0m). Use \u001b[1m`wandb login --relogin`\u001b[0m to force relogin\n",
      "\u001b[34m\u001b[1mwandb\u001b[0m: wandb version 0.17.0 is available!  To upgrade, please run:\n",
      "\u001b[34m\u001b[1mwandb\u001b[0m:  $ pip install wandb --upgrade\n",
      "\u001b[34m\u001b[1mwandb\u001b[0m: Tracking run with wandb version 0.16.6\n",
      "\u001b[34m\u001b[1mwandb\u001b[0m: Run data is saved locally in \u001b[35m\u001b[1m/kaggle/working/wandb/run-20240523_222850-n45by79n\u001b[0m\n",
      "\u001b[34m\u001b[1mwandb\u001b[0m: Run \u001b[1m`wandb offline`\u001b[0m to turn off syncing.\n",
      "\u001b[34m\u001b[1mwandb\u001b[0m: Syncing run \u001b[33m./results_llama3_sft/\u001b[0m\n",
      "\u001b[34m\u001b[1mwandb\u001b[0m: ⭐️ View project at \u001b[34m\u001b[4mhttps://wandb.ai/tommij/huggingface\u001b[0m\n",
      "\u001b[34m\u001b[1mwandb\u001b[0m: 🚀 View run at \u001b[34m\u001b[4mhttps://wandb.ai/tommij/huggingface/runs/n45by79n\u001b[0m\n",
      "`use_cache=True` is incompatible with gradient checkpointing. Setting `use_cache=False`.\n",
      "/opt/conda/lib/python3.10/site-packages/torch/utils/checkpoint.py:429: UserWarning: torch.utils.checkpoint: please pass in use_reentrant=True or use_reentrant=False explicitly. The default value of use_reentrant will be updated to be False in the future. To maintain current behavior, pass use_reentrant=True. It is recommended that you use use_reentrant=False. Refer to docs for more details on the differences between the two variants.\n",
      "  warnings.warn(\n"
     ]
    },
    {
     "data": {
      "text/html": [
       "\n",
       "    <div>\n",
       "      \n",
       "      <progress value='375' max='375' style='width:300px; height:20px; vertical-align: middle;'></progress>\n",
       "      [375/375 3:49:45, Epoch 1/1]\n",
       "    </div>\n",
       "    <table border=\"1\" class=\"dataframe\">\n",
       "  <thead>\n",
       " <tr style=\"text-align: left;\">\n",
       "      <th>Step</th>\n",
       "      <th>Training Loss</th>\n",
       "    </tr>\n",
       "  </thead>\n",
       "  <tbody>\n",
       "  </tbody>\n",
       "</table><p>"
      ],
      "text/plain": [
       "<IPython.core.display.HTML object>"
      ]
     },
     "metadata": {},
     "output_type": "display_data"
    },
    {
     "data": {
      "text/plain": [
       "TrainOutput(global_step=375, training_loss=2.66493017578125, metrics={'train_runtime': 13834.5488, 'train_samples_per_second': 0.217, 'train_steps_per_second': 0.027, 'total_flos': 4.566252941898547e+16, 'train_loss': 2.66493017578125, 'epoch': 1.0})"
      ]
     },
     "metadata": {},
     "output_type": "display_data"
    }
   ],
   "source": [
    "# SFTTrainer stands for supervised fine-tuning. The trl (Transformer Reinforcement Learning) library from HuggingFace provides a simple API to fine-tune models using SFTTrainer.\n",
    "trainer = SFTTrainer(\n",
    "        model=model,\n",
    "        train_dataset=dataset_train,\n",
    "        peft_config=peft_config,\n",
    "        dataset_text_field=\"text\",\n",
    "        max_seq_length=512,\n",
    "        tokenizer=tokenizer,\n",
    "        args=training_arguments,\n",
    ")\n",
    "\n",
    "trainer.train()"
   ]
  },
  {
   "cell_type": "code",
   "execution_count": null,
   "metadata": {},
   "outputs": [
    {
     "name": "stderr",
     "output_type": "stream",
     "text": [
      "/opt/conda/lib/python3.10/site-packages/transformers/generation/utils.py:1659: UserWarning: You are calling .generate() with the `input_ids` being on a device type different than your model's device. `input_ids` is on cpu, whereas the model is on cuda. You may experience unexpected behaviors or slower generation. Please make sure that you have put `input_ids` to the correct device by calling for example input_ids = input_ids.to('cuda') before running `.generate()`.\n",
      "  warnings.warn(\n",
      "/opt/conda/lib/python3.10/site-packages/torch/utils/checkpoint.py:61: UserWarning: None of the inputs have requires_grad=True. Gradients will be None\n",
      "  warnings.warn(\n"
     ]
    },
    {
     "name": "stdout",
     "output_type": "stream",
     "text": [
      "Write a review of maximum 50 words of an italian restaurant in english. The review you need to write needs to be of 1 stars out of 5. The restaurant is called \"Bella Vita\" and it is located in the city center of Rome. The restaurant is very small and the service is very slow. The food is not good at all. The pizza is very thin and the pasta is very oily. The price is very high. I will never go back to this restaurant again. \\n\\nI am very disappointed with this restaurant. I will never go back to this restaurant again. I will never recommend this restaurant\n",
      "Write a review of maximum 50 words of an italian restaurant in english. The review you need to write needs to be of 2 stars out of 5. The restaurant is called \"Bella Vita\" and it is located in the city center of Rome. The restaurant is very small and the service is very slow. The food is average. The price is very high. The restaurant is not recommended. \\n\\nI went to Bella Vita with my family and we were very disappointed. The restaurant is very small and the service is very slow. The waiter was very nice but he was not able to take care of us properly.\n",
      "Write a review of maximum 50 words of an italian restaurant in english. The review you need to write needs to be of 3 stars out of 5. The restaurant is called \"Bella Vita\" and it is located in the city center of Rome. The restaurant is very small and it is located in a very busy street. The restaurant is very popular and it is always full. The restaurant is very good and it is very cheap. The restaurant is very good and it is very cheap. The restaurant is very good and it is very cheap. The restaurant is very good and it is very cheap. The restaurant is very good\n",
      "Write a review of maximum 50 words of an italian restaurant in english. The review you need to write needs to be of 4 stars out of 5. The restaurant is called \"Bella Vita\" and it is located in the city center of Rome. The restaurant is very popular and it is always full of people. The food is delicious and the service is very good. The restaurant is very clean and the staff is very friendly. The restaurant is very popular and it is always full of people. The food is delicious and the service is very good. The restaurant is very clean and the staff is very friendly. The restaurant is\n",
      "Write a review of maximum 50 words of an italian restaurant in english. The review you need to write needs to be of 5 stars out of 5. The restaurant is called \"Bella Vita\" and it is located in the city of Rome. The restaurant is known for its delicious pasta and pizza. The restaurant is very clean and the staff is very friendly. The restaurant is located in the heart of the city and it is very easy to find. The restaurant is very popular and it is always full. The restaurant is very good and it is worth to visit. The restaurant is very good and it is worth to visit.\n"
     ]
    }
   ],
   "source": [
    "model_testing()"
   ]
  },
  {
   "cell_type": "markdown",
   "metadata": {},
   "source": [
    "$\\color{red}{\\text{Write a review of maximum 50 words of an italian restaurant in english. The review you need to write needs to be of 1 stars out of 5.}}$\n",
    "\n",
    "The restaurant is called \"Bella Vita\" and it is located in the city center of Rome. The restaurant is very small and the service is very slow. The food is not good at all. The pizza is very thin and the pasta is very oily. The price is very high. I will never go back to this restaurant again. I am very disappointed with this restaurant. I will never go back to this restaurant again. I will never recommend this restaurant\n",
    "\n",
    "\n",
    "\n",
    "$\\color{red}{\\text{Write a review of maximum 50 words of an italian restaurant in english. The review you need to write needs to be of 2 stars out of 5.}}$\n",
    "\n",
    "The restaurant is called \"Bella Vita\" and it is located in the city center of Rome. The restaurant is very small and the service is very slow. The food is average. The price is very high. The restaurant is not recommended. I went to Bella Vita with my family and we were very disappointed. The restaurant is very small and the service is very slow. The waiter was very nice but he was not able to take care of us properly.\n",
    "\n",
    "\n",
    "\n",
    "$\\color{red}{\\text{Write a review of maximum 50 words of an italian restaurant in english. The review you need to write needs to be of 3 stars out of 5.}}$\n",
    "\n",
    "The restaurant is called \"Bella Vita\" and it is located in the city center of Rome. The restaurant is very small and it is located in a very busy street. The restaurant is very popular and it is always full. The restaurant is very good and it is very cheap. The restaurant is very good and it is very cheap. The restaurant is very good and it is very cheap. The restaurant is very good and it is very cheap. The restaurant is very good\n",
    "\n",
    "\n",
    "\n",
    "$\\color{red}{\\text{Write a review of maximum 50 words of an italian restaurant in english. The review you need to write needs to be of 4 stars out of 5.}}$ \n",
    "\n",
    "The restaurant is called \"Bella Vita\" and it is located in the city center of Rome. The restaurant is very popular and it is always full of people. The food is delicious and the service is very good. The restaurant is very clean and the staff is very friendly. The restaurant is very popular and it is always full of people. The food is delicious and the service is very good. The restaurant is very clean and the staff is very friendly. The restaurant is\n",
    "\n",
    "\n",
    "\n",
    "$\\color{red}{\\text{Write a review of maximum 50 words of an italian restaurant in english. The review you need to write needs to be of 5 stars out of 5.}}$\n",
    "\n",
    "The restaurant is called \"Bella Vita\" and it is located in the city of Rome. The restaurant is known for its delicious pasta and pizza. The restaurant is very clean and the staff is very friendly. The restaurant is located in the heart of the city and it is very easy to find. The restaurant is very popular and it is always full. The restaurant is very good and it is worth to visit. The restaurant is very good and it is worth to visit."
   ]
  },
  {
   "cell_type": "markdown",
   "metadata": {},
   "source": [
    "### How about using few-shot learning?"
   ]
  },
  {
   "cell_type": "code",
   "execution_count": null,
   "metadata": {},
   "outputs": [],
   "source": [
    "import transformers\n",
    "from IPython.display import display, Markdown\n",
    "\n",
    "model = \"/kaggle/input/llama-3/transformers/8b-chat-hf/1\"\n",
    "\n",
    "pipeline = transformers.pipeline(\n",
    "    \"text-generation\",\n",
    "    model=model,\n",
    "    torch_dtype=torch.float16,\n",
    "    device_map=\"auto\",\n",
    ")"
   ]
  },
  {
   "cell_type": "code",
   "execution_count": null,
   "metadata": {},
   "outputs": [],
   "source": [
    "def query_model(\n",
    "        system_message,\n",
    "        user_message,\n",
    "        temperature=0.7,\n",
    "        max_length=1024\n",
    "        ):\n",
    "    start_time = time()\n",
    "    user_message = \"Question: \" + user_message + \" Answer:\"\n",
    "    messages = [\n",
    "        {\"role\": \"system\", \"content\": system_message},\n",
    "        {\"role\": \"user\", \"content\": user_message},\n",
    "        ]\n",
    "    prompt = pipeline.tokenizer.apply_chat_template(\n",
    "        messages, \n",
    "        tokenize=False, \n",
    "        add_generation_prompt=True\n",
    "        )\n",
    "    terminators = [\n",
    "        pipeline.tokenizer.eos_token_id,\n",
    "        pipeline.tokenizer.convert_tokens_to_ids(\"<|eot_id|>\")\n",
    "    ]\n",
    "    sequences = pipeline(\n",
    "        prompt,\n",
    "        do_sample=True,\n",
    "        top_p=0.9,\n",
    "        temperature=temperature,\n",
    "        #num_return_sequences=1,\n",
    "        eos_token_id=terminators,\n",
    "        max_new_tokens=max_length,\n",
    "        return_full_text=False,\n",
    "        pad_token_id=pipeline.model.config.eos_token_id\n",
    "    )\n",
    "    #answer = f\"{sequences[0]['generated_text'][len(prompt):]}\\n\"\n",
    "    answer = sequences[0]['generated_text']\n",
    "    end_time = time()\n",
    "    ttime = f\"Total time: {round(end_time-start_time, 2)} sec.\"\n",
    "\n",
    "    return user_message + \" \" + answer  + \" \" +  ttime\n",
    "\n",
    "\n",
    "system_message = \"\"\"\n",
    "You are an AI assistant designed to answer simple questions.\n",
    "Please restrict your answer to the exact question asked.\n",
    "\"\"\""
   ]
  },
  {
   "cell_type": "code",
   "execution_count": null,
   "metadata": {},
   "outputs": [],
   "source": [
    "def colorize_text(text):\n",
    "    for word, color in zip([\"Reasoning\", \"Question\", \"Answer\", \"Total time\"], [\"blue\", \"red\", \"green\", \"magenta\"]):\n",
    "        text = text.replace(f\"{word}:\", f\"\\n\\n**<font color='{color}'>{word}:</font>**\")\n",
    "    return text"
   ]
  },
  {
   "cell_type": "code",
   "execution_count": null,
   "metadata": {},
   "outputs": [],
   "source": [
    "import numpy as np\n",
    "# Import the indexes of the reviews talking about italian restaurants and select only those reviews\n",
    "italian_restaurant_idxs = np.load('/kaggle/input/italian-rest-idxs/idxs (1).npy')\n",
    "dataset_train=load_dataset(\"yelp_review_full\",split='train')\n",
    "dataset_train=dataset_train.select(italian_restaurant_idxs)"
   ]
  },
  {
   "cell_type": "code",
   "execution_count": null,
   "metadata": {},
   "outputs": [
    {
     "name": "stdout",
     "output_type": "stream",
     "text": [
      "1/5\n",
      "index:42\n",
      "This restaurant serves \\\"Italian\\\" food to those who have never been to Italy. The food is mediocre at best, the quantity is overwhelming (designed with huge families of overweight people in mind) and espresso tastes like instant coffee. The decor is done in incredibly poor taste even for a \\\"family\\\" restaurant. Definitely avoid.\n",
      "\n",
      "index:63\n",
      "BUCKET DI SHITO \\nIf you want authentic Italian food. This place isn't it,  Save your money and go to Olive Garden!!! \\n\\nTerrible food, 20 dollars a plate, and staff look like they don't want to work there!!!\\n\\nGood luck\n",
      "\n",
      "index:83\n",
      "After La Reve, very convenient location, but really mediocre food. The Carbonara was horrible, over-cooked pasta, tasteless sauce. Mozzarella and prosciutto appetizers were beyond boring.\n",
      "\n",
      "index:109\n",
      "This place is expensive and not good.\\nI wouldn't recommend this place if you're looking for Italian food.\\nI would suggest taking your hard earned cash elsewhere. Even Maggiano's across the street has better food.\n",
      "\n",
      "index:111\n",
      "This is the  is worst pizza place u can go to everythings gross health dept needs to visit this place asap and they say Italian ya rite\n",
      "\n",
      "index:118\n",
      "Let me start off by stating I am extremely picky when it comes to Italian food.  Lucky for them I didn't actually see any on their menu.  Sure it had names that could fool one into thinking they served some Italian style dishes what was brought to our table proved that to be a false belief.  \\n\\nIf you're looking for a place to have a drink while sitting in each others laps then this is the place for you.\n",
      "\n",
      "index:133\n",
      "head of the waiters very rude and not welcome the presence of little children and also reserving we were not offered a suitable table to sit down with strollers close, poor quality compared to a real Italian pizzeria. \\nPerhaps.........before calling it ESPRESSO ITALIANO would be advised to try one true.\\n\\nnot enough to give the name to the Italian food to make an Italian restaurant, and an Italian restaurant should be welcoming, sorry but they must improve to afford the Italian taste. \\n\\npositive note, our waiter was very kind.\n",
      "\n",
      "index:138\n",
      "This is an Italian restaurant for tourists on a budget. Simply awful!  Gloppy sauce, limited menu, and the rubbery meatballs tasted like horse meat. Cluttered, dusty decor.Skip this!\n",
      "\n",
      "index:150\n",
      "Sadly, the family that originally owned Cafe Roma sold this location off.  We have only experienced it once since then and have no plans on going back.  Although I like the way the new owners updated the location, they pretty much took great pizza and replaced it with the cheapest ingredients possible and then jacked up the prices.  We didn't even want to finish what we had ordered.  We took it to go and gave it away to a homeless person.\n",
      "\n",
      "index:151\n",
      "The worst \\\"italian\\\" restaurant in Montreal area!!! If you really love italian food don't go there!!!!!!\n",
      "\n",
      "----------------------------------------------------------------\n",
      "2/5\n",
      "index:53\n",
      "So not really Italian....and soooo overpriced and the atmosphere is almost non-existent....parking is horrible....using a voucher from Restaurant.com takes a bit of the bite of how not wonderful this place is.  The owner circulate among the guests but only talk to their croonies.\\n\\nI live in Henderson NV where this restaurant is.\n",
      "\n",
      "index:73\n",
      "Marcellino. This is supposed to be one if not best Italian restaurant in town. I was very disappointed in their specialty - the fresh pastas - \\n\\nMany classic dish are offered and many different cut of pasta. The quality doesn't justify the stiff prices. Just ok!\n",
      "\n",
      "index:80\n",
      "Ambiance: Salumeria style counter service with a small seating area. Tasteful and fun Italian themed interior. \\n\\nService: Attentive, friendly. \\n\\nPrice: $12 and up \\n\\nFood: Assortment of authentic Italian dishes, focus on pasta. The cannelloni marinara was good, the sauce and cannelloni appeared both homemade. The house Ros\\u00e9 refreshing and well chosen. \\n\\nSummary: A simple pasta dish together with a house wine and cannoli came to close to $30 for lunch. A diet coke rang up $4 after tax and tip. Ludicrously overpriced. The take out counter should not be avoided, the restaurant on the other hand, can be quietly ignored.\n",
      "\n",
      "index:198\n",
      "Warning: After living in Italy for 3 yrs and having an Italian Mother in law, I am an Italian food snob. Better to have high standards than none!\\n\\nHonestly- this place is way over priced and the food not so good. Only good thing going was the decor and the ambiance.\\n\\nHere's the breakdown:\\n1. Food way over priced. Yes, you get salad or soup, garlic bread and free red & white wine. But when you're paying min. $21, the main entree better taste good. And it didn't. Granted the portions are HUGE but still not worth if if the food is bad.\\n2. I ordered the linguini seafood- the seafood part was good but the sauce was bland and tasted too much like tomato paste. The pasta itself was way too al dente. \\n3. My sister ordered the cheese ravioli- the sauce was also way too bland and there was too much sauce on the dish. \\n4. For dessert, we sampled the cheesecake- tasted like a frozen cheesecake from a local grocery store. \\n5. The \\\"cappucino\\\" is really not cappucino. It's more like hot chocolate. Also, as an Italian restaurant, the owners should know better- in Italy, cappucino is a breakfast drink. In the evenings, one drinks espresso with or without liquor in it. \\n6. Nothing special about the salad or the wines. I can definintely say I have had better wines.\\n7. The guy with the accordion was a little creepy.\\n\\nI would never recommend this place to anyone other than to walk past it.\n",
      "\n",
      "index:208\n",
      "I really wanted to like this place, as it just would be so nice to find good Italian food in the Phoenix area, and it's close to home. But I was overall very disappointed in the food. The only thing I liked, honestly, was the bread and the wine. \\n\\nWe had the prosciutto fresh mozzarella dish and it was greasy, bland, salty and just bad. Our main dishes were the spaghetti carbonara, and it was such an Americanized \\\"past with alfredo sauce\\\" version of it. Very cheesey and creamy and way overpowering smoked pancetta. It was truly awful.  And at $16 or $18 a plate, hardly worth it and far from what traditional pasta carbonara should be. I'm not sure why restaurants use a cheesy alfredo sauce for carbonara, when it should be egg used for the consistency, not gobs of cheesy sauce. Bleh!\\n\\nThe atmosphere, wine and bread were good, but I can get that at home. Was sorely disappointed and felt the regret of spending $80 on a totally mediocre to bad experience with the food.\\n\\nI have yet to find good Italian food in the Phoenix area. The closest thing is the new Italian Restaurant by Chris Bianco. Meatballs to die for!\n",
      "\n",
      "index:246\n",
      "Went to this place for lunch with family today.  Wasn't impressed and after going to the one on 83rd and Bell which was a much better experience.  Arrived and was seated by host.  Drinks brought out quickly, ordered the mussels in rusted garlic sauce, Cesar salad, rigatoni alla diavolo, my wife ordered the mussels in alfredo sauce.  I ordered a childs pizza for my son.  Had to ask for bread which is usually not requested in Italian restaurants.  Server Mary brought bread when requested but with no butter, brought salad and never offered Parmesan cheese.  Food came out and compared to the 83rd Ave location it was bland and my son's pizza looked like they had someone training for the first day.  The thing wasn't even round.  Nonetheless I will be returning to that location.  The place was stuffy too.\n",
      "\n",
      "index:271\n",
      "A friend told me that this was a very good Italian Restaurant & i have to say I was a little disappointed..they gave you garlic bread that was very hard. The calamari was a little chewy. The baked rigatoni was over cooked. The restaurant itself is a little outdated. I sat near the bar and they have this ceiling to floor curtain that look like it hasn't been cleaned in 20 years..The service was ok. I owned pizzerias and I made better Italian food than this so called really good local Italian restaurant..I am sure they will never see me again\n",
      "\n",
      "index:286\n",
      "This place is overpriced and isn't real Italian. I was shocked by all the 4 and 5 star reviews of Sutti Santi. Don't waste your time here.\n",
      "\n",
      "index:292\n",
      "the restaurant changed name, atmosphere, and menu yesterday. we really enjoyed the place last month, not now. Quite a disappointment. now just another routine Italian restaurant, and not very good. service slow and poor,pizza no better than grocery frozen. really too bad, it had great possibilities.\n",
      "\n",
      "index:294\n",
      "This is a decent spot for some casual dining in the Grand Canl Shoppes in the Venetian. A few years ago this place used to be called Enoteca San Marco and I could honestly say that it boasted the best pizza I've ever had. Unfortunately ownership has since changed and although the menu looks almost identical to its earlier version, the quality has dropped a great deal. As things stand now, Enoteca has 2 things going for it: a good location in the middle of the replica of St. Mark's square which means that you will get a chance to see a performance of the \\\"Phantom\\\" soundtrack and some Italian opera pieces during dinner and that you won't pay an arm and a leg for a meal. The pizzas are about $18-21 each and are sufficient to keep you satiated and  one can easily feed 2 diners if you add an appetizer or 2. I would say the Prosciutto and Goat Cheese pizza is the best, although the last time I ordered it the pizza came out burnt and overloaded with cheese. Do yourself a favor and don't order the Pesto Pizza; it is supremely disappointing. Finally the wine list is (as expected) dominated by Italian vintages but the staff does not offer much in the way of suggestions if you're having trouble deciding. Their pours of wine are also stingy and the waiter made the mistake of using a wide rimmed glass for champagne. If you're not in the mood for pizza, the restaurant offers a limited selection of meats and pasta which are rather standard Italian fare and which you can get for approximately the same price and superior preparation in the nearby Canaletto and Postrio.\n",
      "\n",
      "----------------------------------------------------------------\n",
      "3/5\n",
      "index:19\n",
      "Cucina Italiana is the coffee house and pastry shop offshoot of Il Fornaio. They are not open in the evening. \\n\\nI had a decent cafe mocha here and a blueberry scone that was really a muffin in scones clothing. They offer the standard lineup of coffee house drinks, assorted pastries and a few salads and sandwiches. \\n\\nThe interior is nice and goes for a Manhattan coffee house look or something. Jazz and standards play loudly over the sound system.\n",
      "\n",
      "index:35\n",
      "Bar Roma seems to be a safe bet - its the default Italian restaurant for when a last minute decision about a meal has been made and everywhere else is booked.\\n\\nThere is an extensive menu, comprising of all the Itallian meals you could ever think of, and once you've ordered, food is often on your table within 15 minutes. The food is good - if sometimes on the bland and a bit on the boring side.\\n\\nThe atmosphere is cozy and welcoming, the staff are very friendly, and great with younger childern. It's the type of place where one after meal coffee can turn into 3 latte's and a long conversation.\\n\\nIt's a nice place, if a bit of a back-up plan, rather than a wow-factor type of place.\n",
      "\n",
      "index:43\n",
      "Overall, a nice Italian restaurant in the South Point Hotel. Elegant and comfortable atmosphere, good service and good food.  \\n\\nWith the opening carb basket, they serve a tasty italian \\\"chutney\\\" of olive oil, diced tomatoes and roasted garlic ... Super delicious on the warm slices of bread!\\n\\nI ordered their cioppino, and it was really quite yummy. Came in a huge bowl and was chock full of various sea-dwelling creature pieces. The broth was very flavorful.  I would order this again. My date had the chicken parm, which was fine. Not particularly impressive, but fine.\\n\\nIf I was in the area, I would happily eat here again,l but wouldn't travel out of my way to this perfectly fine but less-than-awesome Italian restaurant.\n",
      "\n",
      "index:82\n",
      "this place is pretty nice but expensive for italian food.  after dinner, this place becomes a bar/club, and it's pretty hopping (but VERY cheesy).\n",
      "\n",
      "index:101\n",
      "I questioned the existence of this place for a long time, as I couldn't believe an Italian restaurant would stay open until 5am! I put it down to my friend's wishful imagination. \\n\\nSo guess my surprise when after a night out, she led our group there at 3am! The queue was incredibly long, so we abandoned the idea for that night, but have since been back to sample the menu. It's the typical Italian offerings of pizza and pasta with quite a few risotto dishes as well. What is unusual is the list of burgers and kebabs right next to it! I suppose this is geared towards the after-midnight serving period! \\n\\nThe pizza I had there was quite good, but I'd say this place is best saved for the end of a night out, when the smell of grease and the idea if Italian food will satisfy anyone!\n",
      "\n",
      "index:108\n",
      "classic Italian food and a great service!\n",
      "\n",
      "index:112\n",
      "My two friends and I dined here last night in support of Restaurant Week and had a wonderful time. The portions are extremely generous and the prices are wonderful. Great service and we really enjoyed the cozy atmosphere. We started our meal with a bottle of Rosso (red) vino: Estrancia Cabernet Sauvignon (2010). It was light and fruity.\\n\\nFirst Course: We shared the FRITTO DI CALAMARI & ZUCCHINI (nice flavor, okay calamari quality; I liked the julienne zucchini), ZUPPA DI COZZE & VONGOLE (PEI Mussels and Manila Clams in a tasty garlic white wine broth; just okay in the flavor department), and the POLPETTE TRADIZIONALI (gigantic meatballs made with beef, veal, and pork served in a tomato basil sauce; these were delicious and juicy, just a tad salty).\\n\\nSecond Course: We tried the LINGUINI ALLE VONGOLE VERACI (sauce was similar to the appetizer, but better seasoned; pasta was cooked perfectly al dente), SALSA ALLA MARINARA with Linguine (San Marzano tomatoes made this simple but tasty marinara and again, perfect pasta), and SALMONE IN SALSA AL LIMONE (the salmon was cooked perfectly with wonderful crispy skin and the lemon butter sauce was nicely light).\\n\\nThird Course: Finished the meal with PROFITEROL (Pate Choux filled with French Vanilla gelato; good, but I don't like how the delicate pastry gets cold and tough from the frozen treat it's stuffed with), TORTA DI MELE (a really well-done and delicious French apple pie with very decadent Caramel gelato), and TORTA DI RICOTTA (ricotta cheesecake, beautifully light and airy with a delicious crumbly crust).\\n\\nCertainly not the best Italian food I've experienced (the desserts were pretty phenomenal though!), however, I love the neighborhood feel and the location is convenient. I look forward to trying other items.\n",
      "\n",
      "index:121\n",
      "Enjoyed our meal at Carmine's. Good for a large group of people.  Portions were very large (one dish feeds 4-6 people) and service was great. Byanka was wonderful. We ordered:\\n\\nCaesar Salad\\nCalamari\\nBolognese Meat Sauce\\nPenne Alla Vodka\\nShrimp Fra Diavolo\\nAngel Hair Marinara with Meatballs\\nCannoli\\nCheesecake\\n\\nThe penne and calamari were the best options. Shrimp Fra Diavolo was my least favorite.\\n\\nDefinitely get the cheesecake. The cannoli left something to be desired. It was coated in chocolate and sprinkled with pistachios.\\n\\nLocated in the Forum shops in Caesar's.  Average dish price:  $35\n",
      "\n",
      "index:132\n",
      "Love this place specifically for their cicillian pizza. I love that you can take out or eat in and it feels like a fancy restaurant.  Good service.  And not too expensive.  Definitely recommend\n",
      "\n",
      "index:140\n",
      "I am a big Mario Batali fan and have really enjoyed some of his other establishments such as Eataly and Mozza, but Carnevino left me wanting more.\\n\\n// LOCATION // In the Palazzo at the entrance of the casino on the strip so no need to walk deep into the casino to find it. \\n\\n// FOOD //\\n     + Ricotta and egg ravioli: Beautiful ravioli, but the 1 large ravioli I received for the small portion could not justify the anything but small price tag\\n     + Porterhouse: Tried a bit of the porterhouse, but it lacked flavor and did not pack the punch you would imagine steak would at a steakhouse.\n",
      "\n",
      "----------------------------------------------------------------\n",
      "4/5\n",
      "index:0\n",
      "Landed on this spot by accident; a great find!\\nCasual Italian bistro, good wine list.\\nThe chicken carbonara was so good! Was hesitant of egg on top, but made sauce even creamier. Husband had the veggie pizza and added chicken. The crust was the perfect crisp/soft combo, and the tomatoes were super fresh!\\nDelicious!\n",
      "\n",
      "index:1\n",
      "This is the place I imagine sneaking into on an evening spent with that charming someone who captures your heart with the slightest smile. Late spring, strolling along the cobblestone streets window shopping when the sky darkens, and the clouds open up. Huddled under an umbrella, his arm around you to warm you from the sudden chill, you scamper down the few steps and duck into the warmth of Girasole.\\n\\nYou're immediately greeted like family; with a glow in the background as if a huge fire were burning. The small space is filled with lovely folks laughing, and sharing wine; eyes twinkling as they listen to the live music being played by the gentleman walking around strumming his guitar singing loudly.\\n\\nThe menu is simply simple Italian. The wine list is the sweet red table wine offered immediately after you sit down. The desserts are so worthy of the extra calories. Home made and delightful. \\n\\nAlmost as tasty as that good night kiss.\n",
      "\n",
      "index:2\n",
      "Love this place..... been going for few years now. Good Italian.\n",
      "\n",
      "index:3\n",
      "We sort of stumbled upon this place which is off the strip and so glad we did!  We started with the Tritata Salad, I loved the flavor dimensions of the salad and you can never go wrong with crispy pancetta!  \\nWe also had 2 Pasta dishes, both better than the other.  Porcini Pappardelle con Ragu di Cinghiale (pasta with boar meat sauce).  This was so wonderful.  A truly hearty and filling dish with so much flavor.  Our 2nd, Bucatini Carbonara e Tartufio Nero.  All I can say is this was the best Carbonara I have ever had!  This is a place I would love to go to again and again.  \\nService was very good.  Server, Paulo was very knowledge and efficient.\n",
      "\n",
      "index:5\n",
      "Recently visited this restaurant for the first time, and was nicely surprised on many fronts. There were four of us in our party and we wanted good food in a relaxed setting that wasn't too noisy. We arrived for our 7 pm reservation and we were promptly seated by the fireplace in a very nice carpeted room with about 16 tables. A nice respite from the high ceilinged marble floor places that are the norm these days. \\n\\nWithin moments of being seated we were given some bread and ice water...and a little bowl dip with some crostini and bread sticks...love bread sticks. The menu is very traditional Italian, no surprises. They have a table d'h\\u00f4tel starting around 25 and going to 40. Pretty standard Italian fare but prepared well and served with a smile.\\n\\nWill return here again.\n",
      "\n",
      "index:6\n",
      "What do you do when you don't know the area and you have an urging for Italian without the use of a smartphone to go on Yelp? You improvise with the use of primitive 20th Century devices.  Naturally, we used a GPS and found the closest place.  That was Ciros.  What a pleasant surprise.\\n\\nThe waiter was professional, polite and on cue every step of the way with subtle humor as well.  Music live by accordion added nice ambiance to the setting.  The veggie calzone was excellent. The Marsala and marinara were a bit in the sweet side.  We concluded sherry but we didn't confirm.  The tiramisu and canolli were huge.  Over the top huge.  Very much made to be shared.\\n\\nOverall, we were very pleasantly impressed.\n",
      "\n",
      "index:8\n",
      "This place is great! Very fresh homemade Italian food. Complex tastes not boring at all. Great prices and they deliver!! Very clean and friendly service. Glad this restaurant is here.\n",
      "\n",
      "index:15\n",
      "Looking for italian restaurant? This is the place to go. Great view and place. Servers offer you variety of pasta to chose from and wine, great choices. If you are looking for a first romantic dinner date, this is the place. Great staffs too and very friendly.\n",
      "\n",
      "index:16\n",
      "Good Italian restaurant. Some of the best pizza around.\n",
      "\n",
      "index:18\n",
      "Very authentic Italian restaurant.  Excellent Veal Picatta, and delicious chocolate martini\n",
      "\n",
      "----------------------------------------------------------------\n",
      "5/5\n",
      "index:4\n",
      "Can't say enough about this place.  Had dinner here on 5/11/13, and it was wonderful. Try the Cioppino, it is Excellent.\n",
      "\n",
      "index:7\n",
      "This is place is incredible. This is the best Italian meal I've ever had -- beating everything I had in Italy as well.\\n\\nDECOR, SERVICE, and FOOD are all top notch.\\n\\nHighly recommended.\n",
      "\n",
      "index:9\n",
      "Il Pizzaiolo serves authentic and delicious pizza and pasta.  I highly, highly recommend eating in the \\\"wine bar\\\" out back - where the main restaurant is loud, bright, and crowded, the wine room is darker, more romantic, and closer to the bar.\n",
      "\n",
      "index:10\n",
      "This amazing Italian joint is tucked away in a out of the way strip mall cloaked in an unrevealing store front that yeilds no clue as to the amazing deliciousness you will find inside. Despite it's nonspectacular exterior inside you will find warm scrumptous, chewy, fragrant bread with excellent olive oil on the table.  The food is spectacular and the service attentive. Even with its out of the way location the place was packed at 530 when we stopped. We had pizza, a sausage calzone, pesto gnocchi, pesto fettucini and the chicken angelo. All were perectly prepared not to heavy very flavorful. Highly Recommended!!!!!\n",
      "\n",
      "index:11\n",
      "Love this place!! Great food and great service :-) this Italian girl approves! Try the gnocchi in vodka sauce, or the fried calamari when it is on special. The waitress is very knowledgable about what sauce goes best with which pasta (ravioli, gnocchi, tortellini, etc) and she can tell you the ingredients without having to ask. The service is prompt, and the food comes out very quickly, which is rare for Italian! I highly recommend this restaurant to everyone that is looking for some fresh Italian.\n",
      "\n",
      "index:12\n",
      "Know this - I am VERY PICKY when it comes to Italian Food (lived in Italy for over 5 years) so when a place bills itself as \\\"Modern Italian\\\" my skepticism meter goes bonkers....\\n\\nHowever, this place - what a find!  Great atmosphere, fantastic service, and a unique twist on gourmet Italian food.  Three courses for $35 is an absolute steal as well.\\n\\nStarted with Yellowtail (fresh, delightful and unique truffle flavoring), continued with Squid Ink Risotto ( a very particular dish which was executed perfectly), and finished with the pork belly...  Couldn't have been happier.  Note - I was also there with Italian friends (I mean, real Italians, not Americans with last names ending in vowels who claim some past lineage to Rome) and they raved about Crudo as well (and they are even more picky than I..).\\n\\nAll-in-all, this is fast becoming one of my favorites in Phoenix - and I swear it was motivated by more than the fantastic cocktails to kick off the evening....\n",
      "\n",
      "index:13\n",
      "Without a reservation, we walked in. We were seated promptly. Our table overlooked the open kitchen, the front of the house and the main room. It was the perfect booth. We were waited on by a team, headed by two waiters (a man and a woman) who were superb, and experienced. They brought us drinks, explained the menu, and got us started on oysters. I went with the Insalata di Cesare, with grilled lettuce, and a fabulous dressing, and for a main course the Pici Toscani, with Bolognese sauce. The salad was noticeable because it is the first variation on Cesare I have seen in a long time that really worked. The grilled lettuce and the stronger mustard, anchovy flavor was a hit. As to the Pici Toscana, the noodles were larger than spaghetti and hand rolled, with the pasta dressed in olive oil and served over the Bolognese. This dish was as good as it gets. It got me thinking how I could do that at home, if at all. Knockout status. My wife had the pre-theatre package, and she loved it. Desserts were a delight, with the Tiramisu, and the Panna Cotta both showing serious pastry chef attention to detail and flavor. I finished up with a coffee house worthy cappuccino. We loved every minute at Circo. We were especially pleased with the fantastic waitstaff, who displayed great knowledge, and attention to detail that is worthy of  5 stars. And, they made it look so easy. As we walked out, I saw the place was jammed and jumping. I am surprised the Ma\\u00eetre d' squeezed us in. Thanks. We'll be back.\n",
      "\n",
      "index:14\n",
      "Excellent, fresh, amazing food every time!  Cozy hole-in-the wall deli and restaurant, served by friendly people who all speak to each other in Italian.\n",
      "\n",
      "index:17\n",
      "Since I left Italy, I've been searching for that authentic Italian restaurant.  This place was a drive for me but well worth the trip. The place is in the middle of nowhere and doesn't look like much on the outside. As soon as I opened the door, the smell alone reminded me of being back in Italy.  The waiting staff was attentive but not hovering.  Its a family own place grandma coming out every once in a while to see how everyone is doing.  Each dish I had looked well prepared and tasted great all the way down to dessert washed down with limoncello.  I highly recommend checking the place out.\n",
      "\n",
      "index:20\n",
      "If your looking for a place to get authentic Italian food, look no further. Great Italian born owners and staff make this cafe the best place in town for a quick lunch or a long cappuccino break.\n",
      "\n",
      "----------------------------------------------------------------\n"
     ]
    }
   ],
   "source": [
    "# We need to choose the sample review to give as a prompt to llama\n",
    "labels = np.array(dataset_train['label'])\n",
    "label_map = {star: np.where(labels == star)[0] for star in range(5)}\n",
    "\n",
    "# Let's print some of them\n",
    "n_print_reviews = 10\n",
    "for star in range(5):\n",
    "    print(str(star+1)+'/5')\n",
    "    for i in range(n_print_reviews):  \n",
    "        print('index:' + str(label_map[star][i]))\n",
    "        print(dataset_train[int(label_map[star][i])]['text'])\n",
    "        print()\n",
    "    print('----------------------------------------------------------------')"
   ]
  },
  {
   "cell_type": "code",
   "execution_count": null,
   "metadata": {},
   "outputs": [],
   "source": [
    "sample_reviews ={}\n",
    "sample_reviews[0] = [83,138,151]\n",
    "sample_reviews[1] = [73,286,292]\n",
    "sample_reviews[2] = [35,82,121]\n",
    "sample_reviews[3] = [0,8,18]\n",
    "sample_reviews[4] = [10,11,17]"
   ]
  },
  {
   "cell_type": "code",
   "execution_count": null,
   "metadata": {},
   "outputs": [],
   "source": [
    "# Defining a function to generate the prompt for a review of given stars\n",
    "def prompt_generation(star, few_shot = True):\n",
    "    prompt = 'Write a review of maximum 100 words of an italian restaurant in english. The review you need to write needs to be of ' \n",
    "    prompt += str(star + 1) + ' stars out of 5. ' \n",
    "    if few_shot:\n",
    "        prompt += \"You should write in the same style as these examples: \" \n",
    "        prompt += '\\n' + '1. '+ dataset_train[sample_reviews[star][0]]['text']\n",
    "        prompt += '\\n' + '2. '+ dataset_train[sample_reviews[star][1]]['text']\n",
    "        prompt += '\\n' + '3. '+ dataset_train[sample_reviews[star][2]]['text']\n",
    "    return prompt\n"
   ]
  },
  {
   "cell_type": "markdown",
   "metadata": {},
   "source": [
    "#### Without giving examples:"
   ]
  },
  {
   "cell_type": "code",
   "execution_count": null,
   "metadata": {},
   "outputs": [
    {
     "data": {
      "text/markdown": [
       "\n",
       "\n",
       "**<font color='red'>Question:</font>** Write a review of maximum 100 words of an italian restaurant in english. The review you need to write needs to be of 5 stars out of 5.  \n",
       "\n",
       "**<font color='green'>Answer:</font>** \"I recently had the pleasure of dining at Bella Vita, and it was truly exceptional! From the moment we walked in, we were greeted with warm hospitality and seated promptly. The menu offered an impressive array of authentic Italian dishes, and we opted for the risotto and osso buco. Both dishes were expertly prepared and bursting with flavor. The service was attentive and knowledgeable, making recommendations and checking in regularly. Overall, I would highly recommend Bella Vita to anyone seeking a top-notch Italian dining experience. Five stars is not enough - I'd give it ten stars if I could!\" \n",
       "\n",
       "**<font color='magenta'>Total time:</font>** 10.96 sec."
      ],
      "text/plain": [
       "<IPython.core.display.Markdown object>"
      ]
     },
     "metadata": {},
     "output_type": "display_data"
    }
   ],
   "source": [
    "response = query_model(\n",
    "    system_message,\n",
    "    user_message=prompt_generation(4,False),\n",
    "    temperature=1.2,\n",
    "    max_length=512)\n",
    "display(Markdown(colorize_text(response)))"
   ]
  },
  {
   "cell_type": "markdown",
   "metadata": {},
   "source": [
    "#### With examples:"
   ]
  },
  {
   "cell_type": "code",
   "execution_count": null,
   "metadata": {},
   "outputs": [
    {
     "data": {
      "text/markdown": [
       "\n",
       "\n",
       "**<font color='red'>Question:</font>** Write a review of maximum 100 words of an italian restaurant in english. The review you need to write needs to be of 5 stars out of 5. You should write in the same style as these examples: \n",
       "1. This amazing Italian joint is tucked away in a out of the way strip mall cloaked in an unrevealing store front that yeilds no clue as to the amazing deliciousness you will find inside. Despite it's nonspectacular exterior inside you will find warm scrumptous, chewy, fragrant bread with excellent olive oil on the table.  The food is spectacular and the service attentive. Even with its out of the way location the place was packed at 530 when we stopped. We had pizza, a sausage calzone, pesto gnocchi, pesto fettucini and the chicken angelo. All were perectly prepared not to heavy very flavorful. Highly Recommended!!!!!\n",
       "2. Love this place!! Great food and great service :-) this Italian girl approves! Try the gnocchi in vodka sauce, or the fried calamari when it is on special. The waitress is very knowledgable about what sauce goes best with which pasta (ravioli, gnocchi, tortellini, etc) and she can tell you the ingredients without having to ask. The service is prompt, and the food comes out very quickly, which is rare for Italian! I highly recommend this restaurant to everyone that is looking for some fresh Italian.\n",
       "3. Since I left Italy, I've been searching for that authentic Italian restaurant.  This place was a drive for me but well worth the trip. The place is in the middle of nowhere and doesn't look like much on the outside. As soon as I opened the door, the smell alone reminded me of being back in Italy.  The waiting staff was attentive but not hovering.  Its a family own place grandma coming out every once in a while to see how everyone is doing.  Each dish I had looked well prepared and tasted great all the way down to dessert washed down with limoncello.  I highly recommend checking the place out. \n",
       "\n",
       "**<font color='green'>Answer:</font>** I recently had the pleasure of dining at this exquisite Italian restaurant and I must say, it was a truly exceptional experience! The moment I stepped inside, I was struck by the warm and inviting atmosphere, complete with soft lighting and traditional Italian decor. The service was top-notch, with attentive and knowledgeable staff who guided us through the menu with ease. The food, of course, was the real star of the show - each dish we ordered was expertly prepared and bursting with flavor. From the creamy pasta sauces to the tender, juicy meatballs, every bite was a delight. The tiramisu for dessert was the perfect finishing touch. Overall, I would give this restaurant a well-deserved 5 stars and highly recommend it to anyone seeking an authentic Italian dining experience. \n",
       "\n",
       "**<font color='magenta'>Total time:</font>** 11.13 sec."
      ],
      "text/plain": [
       "<IPython.core.display.Markdown object>"
      ]
     },
     "metadata": {},
     "output_type": "display_data"
    }
   ],
   "source": [
    "response = query_model(\n",
    "    system_message,\n",
    "    user_message=prompt_generation(4,True),\n",
    "    temperature=1.2,\n",
    "    max_length=512)\n",
    "display(Markdown(colorize_text(response)))"
   ]
  },
  {
   "cell_type": "markdown",
   "metadata": {},
   "source": [
    "#### Let's try with higher temperature (2)"
   ]
  },
  {
   "cell_type": "markdown",
   "metadata": {},
   "source": [
    "<img src=\"hot_llama.jpg\" alt=\"Example Image\" width=\"800\"/>"
   ]
  },
  {
   "cell_type": "code",
   "execution_count": null,
   "metadata": {},
   "outputs": [
    {
     "data": {
      "text/markdown": [
       "\n",
       "\n",
       "**<font color='red'>Question:</font>** Write a review of maximum 100 words of an italian restaurant in english. The review you need to write needs to be of 5 stars out of 5.  \n",
       "\n",
       "**<font color='green'>Answer:</font>** \"This 5-star Italian restaurant exceeded my highest expectations! The vibrant atmosphere and attentive staff set the tone for an unforgettable dining experience. The dishes arrived promptly, beautifully presented and oozing with authentic flavors. The risotto alla milanese was creamy and rich, while the hand-crafted pasta was cooked to perfection. To conclude, we indulged in decadent cannoli. Prices were reasonable considering the generous portion sizes. We left fully satisfied, anticipating our next visit. If you're craving Italian cuisine, look no further – this gem is a must-try!\" \n",
       "\n",
       "**<font color='magenta'>Total time:</font>** 8.03 sec."
      ],
      "text/plain": [
       "<IPython.core.display.Markdown object>"
      ]
     },
     "metadata": {},
     "output_type": "display_data"
    }
   ],
   "source": [
    "response = query_model(\n",
    "    system_message,\n",
    "    user_message=prompt_generation(4,False),\n",
    "    temperature=2.0,\n",
    "    max_length=512)\n",
    "display(Markdown(colorize_text(response)))"
   ]
  },
  {
   "cell_type": "code",
   "execution_count": null,
   "metadata": {},
   "outputs": [
    {
     "data": {
      "text/markdown": [
       "\n",
       "\n",
       "**<font color='red'>Question:</font>** Write a review of maximum 100 words of an italian restaurant in english. The review you need to write needs to be of 5 stars out of 5. You should write in the same style as these examples: \n",
       "1. This amazing Italian joint is tucked away in a out of the way strip mall cloaked in an unrevealing store front that yeilds no clue as to the amazing deliciousness you will find inside. Despite it's nonspectacular exterior inside you will find warm scrumptous, chewy, fragrant bread with excellent olive oil on the table.  The food is spectacular and the service attentive. Even with its out of the way location the place was packed at 530 when we stopped. We had pizza, a sausage calzone, pesto gnocchi, pesto fettucini and the chicken angelo. All were perectly prepared not to heavy very flavorful. Highly Recommended!!!!!\n",
       "2. Love this place!! Great food and great service :-) this Italian girl approves! Try the gnocchi in vodka sauce, or the fried calamari when it is on special. The waitress is very knowledgable about what sauce goes best with which pasta (ravioli, gnocchi, tortellini, etc) and she can tell you the ingredients without having to ask. The service is prompt, and the food comes out very quickly, which is rare for Italian! I highly recommend this restaurant to everyone that is looking for some fresh Italian.\n",
       "3. Since I left Italy, I've been searching for that authentic Italian restaurant.  This place was a drive for me but well worth the trip. The place is in the middle of nowhere and doesn't look like much on the outside. As soon as I opened the door, the smell alone reminded me of being back in Italy.  The waiting staff was attentive but not hovering.  Its a family own place grandma coming out every once in a while to see how everyone is doing.  Each dish I had looked well prepared and tasted great all the way down to dessert washed down with limoncello.  I highly recommend checking the place out. \n",
       "\n",
       "**<font color='green'>Answer:</font>** 5 stars! This hidden gem boasts sublime Italian cuisine. Stepping inside, I was transported to Bella Italia, where the aromas of freshly baked pizza crust and simmering sauces tantalized my senses. Service is attentive and warm, with servers knowledgeable about the wine list and capable of making thoughtful pairing recommendations. Each dish I savored - from the Bruschetta to the Linguine con Aragosta - melted on my palate, showcasing the chef's masterful hand. This little piece of Italy is a must-visit for any pasta devotee. Don't miss it! \n",
       "\n",
       "**<font color='magenta'>Total time:</font>** 8.57 sec."
      ],
      "text/plain": [
       "<IPython.core.display.Markdown object>"
      ]
     },
     "metadata": {},
     "output_type": "display_data"
    }
   ],
   "source": [
    "response = query_model(\n",
    "    system_message,\n",
    "    user_message=prompt_generation(4,True),\n",
    "    temperature=2.0,\n",
    "    max_length=512)\n",
    "display(Markdown(colorize_text(response)))"
   ]
  },
  {
   "cell_type": "markdown",
   "metadata": {},
   "source": [
    "#### Lets's try with even higher temperature (8)"
   ]
  },
  {
   "cell_type": "markdown",
   "metadata": {},
   "source": [
    "<img src=\"hot_hot_llama.jpg\" alt=\"Example Image\" width=\"800\"/>"
   ]
  },
  {
   "cell_type": "code",
   "execution_count": null,
   "metadata": {},
   "outputs": [
    {
     "data": {
      "text/markdown": [
       "\n",
       "\n",
       "**<font color='red'>Question:</font>** Write a review of maximum 100 words of an italian restaurant in english. The review you need to write needs to be of 5 stars out of 5.  \n",
       "\n",
       "**<font color='green'>Answer:</font>** \"Blessarelli, undoubtedly the crowne[red]\" to this quiet Roman-esque gem hides just near. Warm Amb[rose,niencea],[g,h] of fresh ingredients abond,[anre,e,nicee,,in each carefully conceived d'courc'. Brimming[ with la'via'fla's,'!he' \"Tas'[re,\" the tr[Z,]\"[B](O,\" \"V'v'n't,\" & \"[o\"T\"[F\",r'served,'!\" to, & \"I're\". E,[C,e,s,i,t,fie[ls] w'e'tch\" 7[th]' \"[e],[W]. The staff'[ 'Sf,fu,n,'!! W'll|[l,e'5',\" stars eazy.\"[note] \"Can we\"[w][k]? It,[s'] f[i've[5'.\"\"\". \"This pla/[,a,e,/is\"[c,r,a,./o,w,[k]],l/[,[l],[n,\"!... Perfect!\"\"`. For those e[seek]\"ing e[y,b,f,g,y,r'[n',\" I[n],\"l[k\",\"s'\". This restaurant'., [p,e,\"],.[o,b,b,o,,e[, \"k]]s,\" I,.'.,.,e]!\", \"B,y,B'['.''.!\" This Italian r'est's,\".,  is s,,t[, '!.I[!]'\" \"D'li'[v'er's'[.\" 4[,] w[,] \"\"\",w,,i,t,,h,.\",e[n[, \",.\",],r,,,,/,'t,s,a,a,b,o\"\" \"\"a\"\"d \"\"v,w,h\"[b,,f,,,.\"\".,.,,\"r,\",/]]/. E,c,,, \"w,h,w,k,b,.\" 'H,a,v,r,,,,]y,n't,w,y,u,p \"\"\",b,u,.,,,w,/[u/y,w/o,,,a/o,\"o/n\"y,k,e[y/l/o/e,n,!.!\" \n",
       "\n",
       "**<font color='magenta'>Total time:</font>** 29.56 sec."
      ],
      "text/plain": [
       "<IPython.core.display.Markdown object>"
      ]
     },
     "metadata": {},
     "output_type": "display_data"
    }
   ],
   "source": [
    "response = query_model(\n",
    "    system_message,\n",
    "    user_message=prompt_generation(4,False),\n",
    "    temperature=8.0,\n",
    "    max_length=512)\n",
    "display(Markdown(colorize_text(response)))"
   ]
  },
  {
   "cell_type": "code",
   "execution_count": null,
   "metadata": {},
   "outputs": [
    {
     "data": {
      "text/markdown": [
       "\n",
       "\n",
       "**<font color='red'>Question:</font>** Write a review of maximum 100 words of an italian restaurant in english. The review you need to write needs to be of 5 stars out of 5. You should write in the same style as these examples: \n",
       "1. This amazing Italian joint is tucked away in a out of the way strip mall cloaked in an unrevealing store front that yeilds no clue as to the amazing deliciousness you will find inside. Despite it's nonspectacular exterior inside you will find warm scrumptous, chewy, fragrant bread with excellent olive oil on the table.  The food is spectacular and the service attentive. Even with its out of the way location the place was packed at 530 when we stopped. We had pizza, a sausage calzone, pesto gnocchi, pesto fettucini and the chicken angelo. All were perectly prepared not to heavy very flavorful. Highly Recommended!!!!!\n",
       "2. Love this place!! Great food and great service :-) this Italian girl approves! Try the gnocchi in vodka sauce, or the fried calamari when it is on special. The waitress is very knowledgable about what sauce goes best with which pasta (ravioli, gnocchi, tortellini, etc) and she can tell you the ingredients without having to ask. The service is prompt, and the food comes out very quickly, which is rare for Italian! I highly recommend this restaurant to everyone that is looking for some fresh Italian.\n",
       "3. Since I left Italy, I've been searching for that authentic Italian restaurant.  This place was a drive for me but well worth the trip. The place is in the middle of nowhere and doesn't look like much on the outside. As soon as I opened the door, the smell alone reminded me of being back in Italy.  The waiting staff was attentive but not hovering.  Its a family own place grandma coming out every once in a while to see how everyone is doing.  Each dish I had looked well prepared and tasted great all the way down to dessert washed down with limoncello.  I highly recommend checking the place out. \n",
       "\n",
       "**<font color='green'>Answer:</font>** \"What struck initially was how out-classes all chain-rival establishments is the intimate atmosphere: rustic decor that borders the sentimental, tables cozily packed but providing ample freedom while offering subtle glimpsy windows towards quaint street scner. While exceptional waitressing that anticipated my needs left little left untouched my palate for sublime cuisine did exactly that to taste sensies! Amongst plethora offered from mouth-to-cloud ragü with the heavenly egg-like sfagnat; chicken 'Papparlleo'? And rizzotti in red or more than delightful were those laced and presented upon golden. Service: A; the Food: An unforgettable dining excursion I couldnot request. My new best friend!!!(Purina5)**stars.\" Five shining ****, truly deserve them! Highly recomendt for anyone for once-in-all, life in its whole time dining!... it will defitnal not forgotten and wainting your new best bud.\" - This Place!... The Italian, simply a treat!! That says and implies it has achieved true triumph within our culture by offering to perfection! ** ** in both ways, and thus the choice you must!\" ** the taste ** will find out ** there will also find one in each. It'is only \"in this** a fact for the\" you\" of this.\" is so perfect this so is for\" of this\" so and are will **is of its not that it is only not, one. - Here for to this is in of from one each way you go or no for as ** and not here with be.\" - Not be you as all these to \"I it** one by you will one it there to so here so at, this no to go this that as is on\" this not and there you the you want to no go and you ** in this all you must will ** a all one it not of no to** that** on.\" That so this I ** will here on way as one go a on to all at this here in all\" so one is so it be\" or go the with not \"on ** not on that that no\". Then the taste here then find in.\" - All so \" ** of course there at for by\" of be from this as then or I here for or this I and** go a ** from for there or way then not** no so all the ** a I go where that it as.\" then now\". The answer.\" then\". to ** of these from not on go from of at for where go so is\" these \n",
       "\n",
       "**<font color='magenta'>Total time:</font>** 36.88 sec."
      ],
      "text/plain": [
       "<IPython.core.display.Markdown object>"
      ]
     },
     "metadata": {},
     "output_type": "display_data"
    }
   ],
   "source": [
    "response = query_model(\n",
    "    system_message,\n",
    "    user_message=prompt_generation(4,True),\n",
    "    temperature=8.0,\n",
    "    max_length=512)\n",
    "display(Markdown(colorize_text(response)))"
   ]
  },
  {
   "cell_type": "markdown",
   "metadata": {},
   "source": [
    "### Let's try the same experiment using Gemma 2B"
   ]
  },
  {
   "cell_type": "markdown",
   "metadata": {},
   "source": [
    "<img src=\"gemma.jpg\" alt=\"Example Image\" width=\"800\"/>"
   ]
  },
  {
   "cell_type": "code",
   "execution_count": null,
   "metadata": {},
   "outputs": [],
   "source": [
    "from datasets import load_dataset\n",
    "import numpy as np\n",
    "import os\n",
    "os.environ[\"KERAS_BACKEND\"] = \"jax\"\n",
    "os.environ[\"XLA_PYTHON_CLIENT_MEM_FRACTION\"] = \"1.00\" # avoid memory fragmentation on JAX backend.\n",
    "\n",
    "import keras\n",
    "import keras_nlp\n",
    "\n",
    "import numpy as np\n",
    "import pandas as pd\n",
    "from tqdm.notebook import tqdm\n",
    "tqdm.pandas() # progress bar for pandas\n",
    "\n",
    "import plotly.graph_objs as go\n",
    "import plotly.express as px\n",
    "from IPython.display import display, Markdown\n"
   ]
  },
  {
   "cell_type": "code",
   "execution_count": null,
   "metadata": {},
   "outputs": [],
   "source": [
    "# Import the indexes of the reviews talking about italian restaurants and select only those reviews\n",
    "italian_restaurant_idxs = np.load('/kaggle/input/italian-rest-idxs/idxs (1).npy')\n",
    "dataset_train=load_dataset(\"yelp_review_full\",split='train')\n",
    "dataset_train=dataset_train.select(italian_restaurant_idxs)"
   ]
  },
  {
   "cell_type": "code",
   "execution_count": null,
   "metadata": {},
   "outputs": [],
   "source": [
    "# Defining a function to generate the prompt for a review of given stars\n",
    "def prompt_generation(star):\n",
    "    prompt = 'Generate a review of an italian restaurant of 50 words in english of ' + str(star) + ' stars out of 5'\n",
    "    return prompt\n",
    "def generate_prompt(example):\n",
    "    example['prompt'] = prompt_generation(example['label'] + 1)\n",
    "    return example\n",
    "\n",
    "dataset_train = dataset_train.map(generate_prompt)\n"
   ]
  },
  {
   "cell_type": "code",
   "execution_count": null,
   "metadata": {},
   "outputs": [],
   "source": [
    "class CFG:\n",
    "    seed = 42\n",
    "    preset = \"gemma_instruct_2b_en\" # name of pretrained Gemma\n",
    "    sequence_length = 256 # max size of input sequence for training\n",
    "    batch_size = 1 # size of the input batch in training\n",
    "    epochs = 1 # number of epochs to train\n",
    "keras.utils.set_random_seed(CFG.seed)"
   ]
  },
  {
   "cell_type": "code",
   "execution_count": null,
   "metadata": {},
   "outputs": [
    {
     "name": "stderr",
     "output_type": "stream",
     "text": [
      "Attaching 'config.json' from model 'keras/gemma/keras/gemma_instruct_2b_en/2' to your Kaggle notebook...\n",
      "Attaching 'config.json' from model 'keras/gemma/keras/gemma_instruct_2b_en/2' to your Kaggle notebook...\n",
      "Attaching 'model.weights.h5' from model 'keras/gemma/keras/gemma_instruct_2b_en/2' to your Kaggle notebook...\n",
      "Attaching 'tokenizer.json' from model 'keras/gemma/keras/gemma_instruct_2b_en/2' to your Kaggle notebook...\n",
      "Attaching 'assets/tokenizer/vocabulary.spm' from model 'keras/gemma/keras/gemma_instruct_2b_en/2' to your Kaggle notebook...\n",
      "normalizer.cc(51) LOG(INFO) precompiled_charsmap is empty. use identity normalization.\n"
     ]
    },
    {
     "data": {
      "text/html": [
       "<pre style=\"white-space:pre;overflow-x:auto;line-height:normal;font-family:Menlo,'DejaVu Sans Mono',consolas,'Courier New',monospace\"><span style=\"font-weight: bold\">Preprocessor: \"gemma_causal_lm_preprocessor\"</span>\n",
       "</pre>\n"
      ],
      "text/plain": [
       "\u001b[1mPreprocessor: \"gemma_causal_lm_preprocessor\"\u001b[0m\n"
      ]
     },
     "metadata": {},
     "output_type": "display_data"
    },
    {
     "data": {
      "text/html": [
       "<pre style=\"white-space:pre;overflow-x:auto;line-height:normal;font-family:Menlo,'DejaVu Sans Mono',consolas,'Courier New',monospace\">┏━━━━━━━━━━━━━━━━━━━━━━━━━━━━━━━━━━━━━━━━━━━━━━━━━━━━┳━━━━━━━━━━━━━━━━━━━━━━━━━━━━━━━━━━━━━━━━━━━━━━━━━━━━━┓\n",
       "┃<span style=\"font-weight: bold\"> Tokenizer (type)                                   </span>┃<span style=\"font-weight: bold\">                                             Vocab # </span>┃\n",
       "┡━━━━━━━━━━━━━━━━━━━━━━━━━━━━━━━━━━━━━━━━━━━━━━━━━━━━╇━━━━━━━━━━━━━━━━━━━━━━━━━━━━━━━━━━━━━━━━━━━━━━━━━━━━━┩\n",
       "│ gemma_tokenizer (<span style=\"color: #0087ff; text-decoration-color: #0087ff\">GemmaTokenizer</span>)                   │                                             <span style=\"color: #00af00; text-decoration-color: #00af00\">256,000</span> │\n",
       "└────────────────────────────────────────────────────┴─────────────────────────────────────────────────────┘\n",
       "</pre>\n"
      ],
      "text/plain": [
       "┏━━━━━━━━━━━━━━━━━━━━━━━━━━━━━━━━━━━━━━━━━━━━━━━━━━━━┳━━━━━━━━━━━━━━━━━━━━━━━━━━━━━━━━━━━━━━━━━━━━━━━━━━━━━┓\n",
       "┃\u001b[1m \u001b[0m\u001b[1mTokenizer (type)                                  \u001b[0m\u001b[1m \u001b[0m┃\u001b[1m \u001b[0m\u001b[1m                                            Vocab #\u001b[0m\u001b[1m \u001b[0m┃\n",
       "┡━━━━━━━━━━━━━━━━━━━━━━━━━━━━━━━━━━━━━━━━━━━━━━━━━━━━╇━━━━━━━━━━━━━━━━━━━━━━━━━━━━━━━━━━━━━━━━━━━━━━━━━━━━━┩\n",
       "│ gemma_tokenizer (\u001b[38;5;33mGemmaTokenizer\u001b[0m)                   │                                             \u001b[38;5;34m256,000\u001b[0m │\n",
       "└────────────────────────────────────────────────────┴─────────────────────────────────────────────────────┘\n"
      ]
     },
     "metadata": {},
     "output_type": "display_data"
    },
    {
     "data": {
      "text/html": [
       "<pre style=\"white-space:pre;overflow-x:auto;line-height:normal;font-family:Menlo,'DejaVu Sans Mono',consolas,'Courier New',monospace\"><span style=\"font-weight: bold\">Model: \"gemma_causal_lm\"</span>\n",
       "</pre>\n"
      ],
      "text/plain": [
       "\u001b[1mModel: \"gemma_causal_lm\"\u001b[0m\n"
      ]
     },
     "metadata": {},
     "output_type": "display_data"
    },
    {
     "data": {
      "text/html": [
       "<pre style=\"white-space:pre;overflow-x:auto;line-height:normal;font-family:Menlo,'DejaVu Sans Mono',consolas,'Courier New',monospace\">┏━━━━━━━━━━━━━━━━━━━━━━━━━━━━━━━┳━━━━━━━━━━━━━━━━━━━━━━━━━━━┳━━━━━━━━━━━━━━━━━┳━━━━━━━━━━━━━━━━━━━━━━━━━━━━┓\n",
       "┃<span style=\"font-weight: bold\"> Layer (type)                  </span>┃<span style=\"font-weight: bold\"> Output Shape              </span>┃<span style=\"font-weight: bold\">         Param # </span>┃<span style=\"font-weight: bold\"> Connected to               </span>┃\n",
       "┡━━━━━━━━━━━━━━━━━━━━━━━━━━━━━━━╇━━━━━━━━━━━━━━━━━━━━━━━━━━━╇━━━━━━━━━━━━━━━━━╇━━━━━━━━━━━━━━━━━━━━━━━━━━━━┩\n",
       "│ padding_mask (<span style=\"color: #0087ff; text-decoration-color: #0087ff\">InputLayer</span>)     │ (<span style=\"color: #00d7ff; text-decoration-color: #00d7ff\">None</span>, <span style=\"color: #00d7ff; text-decoration-color: #00d7ff\">None</span>)              │               <span style=\"color: #00af00; text-decoration-color: #00af00\">0</span> │ -                          │\n",
       "├───────────────────────────────┼───────────────────────────┼─────────────────┼────────────────────────────┤\n",
       "│ token_ids (<span style=\"color: #0087ff; text-decoration-color: #0087ff\">InputLayer</span>)        │ (<span style=\"color: #00d7ff; text-decoration-color: #00d7ff\">None</span>, <span style=\"color: #00d7ff; text-decoration-color: #00d7ff\">None</span>)              │               <span style=\"color: #00af00; text-decoration-color: #00af00\">0</span> │ -                          │\n",
       "├───────────────────────────────┼───────────────────────────┼─────────────────┼────────────────────────────┤\n",
       "│ gemma_backbone                │ (<span style=\"color: #00d7ff; text-decoration-color: #00d7ff\">None</span>, <span style=\"color: #00d7ff; text-decoration-color: #00d7ff\">None</span>, <span style=\"color: #00af00; text-decoration-color: #00af00\">2048</span>)        │   <span style=\"color: #00af00; text-decoration-color: #00af00\">2,506,172,416</span> │ padding_mask[<span style=\"color: #00af00; text-decoration-color: #00af00\">0</span>][<span style=\"color: #00af00; text-decoration-color: #00af00\">0</span>],        │\n",
       "│ (<span style=\"color: #0087ff; text-decoration-color: #0087ff\">GemmaBackbone</span>)               │                           │                 │ token_ids[<span style=\"color: #00af00; text-decoration-color: #00af00\">0</span>][<span style=\"color: #00af00; text-decoration-color: #00af00\">0</span>]            │\n",
       "├───────────────────────────────┼───────────────────────────┼─────────────────┼────────────────────────────┤\n",
       "│ token_embedding               │ (<span style=\"color: #00d7ff; text-decoration-color: #00d7ff\">None</span>, <span style=\"color: #00d7ff; text-decoration-color: #00d7ff\">None</span>, <span style=\"color: #00af00; text-decoration-color: #00af00\">256000</span>)      │     <span style=\"color: #00af00; text-decoration-color: #00af00\">524,288,000</span> │ gemma_backbone[<span style=\"color: #00af00; text-decoration-color: #00af00\">0</span>][<span style=\"color: #00af00; text-decoration-color: #00af00\">0</span>]       │\n",
       "│ (<span style=\"color: #0087ff; text-decoration-color: #0087ff\">ReversibleEmbedding</span>)         │                           │                 │                            │\n",
       "└───────────────────────────────┴───────────────────────────┴─────────────────┴────────────────────────────┘\n",
       "</pre>\n"
      ],
      "text/plain": [
       "┏━━━━━━━━━━━━━━━━━━━━━━━━━━━━━━━┳━━━━━━━━━━━━━━━━━━━━━━━━━━━┳━━━━━━━━━━━━━━━━━┳━━━━━━━━━━━━━━━━━━━━━━━━━━━━┓\n",
       "┃\u001b[1m \u001b[0m\u001b[1mLayer (type)                 \u001b[0m\u001b[1m \u001b[0m┃\u001b[1m \u001b[0m\u001b[1mOutput Shape             \u001b[0m\u001b[1m \u001b[0m┃\u001b[1m \u001b[0m\u001b[1m        Param #\u001b[0m\u001b[1m \u001b[0m┃\u001b[1m \u001b[0m\u001b[1mConnected to              \u001b[0m\u001b[1m \u001b[0m┃\n",
       "┡━━━━━━━━━━━━━━━━━━━━━━━━━━━━━━━╇━━━━━━━━━━━━━━━━━━━━━━━━━━━╇━━━━━━━━━━━━━━━━━╇━━━━━━━━━━━━━━━━━━━━━━━━━━━━┩\n",
       "│ padding_mask (\u001b[38;5;33mInputLayer\u001b[0m)     │ (\u001b[38;5;45mNone\u001b[0m, \u001b[38;5;45mNone\u001b[0m)              │               \u001b[38;5;34m0\u001b[0m │ -                          │\n",
       "├───────────────────────────────┼───────────────────────────┼─────────────────┼────────────────────────────┤\n",
       "│ token_ids (\u001b[38;5;33mInputLayer\u001b[0m)        │ (\u001b[38;5;45mNone\u001b[0m, \u001b[38;5;45mNone\u001b[0m)              │               \u001b[38;5;34m0\u001b[0m │ -                          │\n",
       "├───────────────────────────────┼───────────────────────────┼─────────────────┼────────────────────────────┤\n",
       "│ gemma_backbone                │ (\u001b[38;5;45mNone\u001b[0m, \u001b[38;5;45mNone\u001b[0m, \u001b[38;5;34m2048\u001b[0m)        │   \u001b[38;5;34m2,506,172,416\u001b[0m │ padding_mask[\u001b[38;5;34m0\u001b[0m][\u001b[38;5;34m0\u001b[0m],        │\n",
       "│ (\u001b[38;5;33mGemmaBackbone\u001b[0m)               │                           │                 │ token_ids[\u001b[38;5;34m0\u001b[0m][\u001b[38;5;34m0\u001b[0m]            │\n",
       "├───────────────────────────────┼───────────────────────────┼─────────────────┼────────────────────────────┤\n",
       "│ token_embedding               │ (\u001b[38;5;45mNone\u001b[0m, \u001b[38;5;45mNone\u001b[0m, \u001b[38;5;34m256000\u001b[0m)      │     \u001b[38;5;34m524,288,000\u001b[0m │ gemma_backbone[\u001b[38;5;34m0\u001b[0m][\u001b[38;5;34m0\u001b[0m]       │\n",
       "│ (\u001b[38;5;33mReversibleEmbedding\u001b[0m)         │                           │                 │                            │\n",
       "└───────────────────────────────┴───────────────────────────┴─────────────────┴────────────────────────────┘\n"
      ]
     },
     "metadata": {},
     "output_type": "display_data"
    },
    {
     "data": {
      "text/html": [
       "<pre style=\"white-space:pre;overflow-x:auto;line-height:normal;font-family:Menlo,'DejaVu Sans Mono',consolas,'Courier New',monospace\"><span style=\"font-weight: bold\"> Total params: </span><span style=\"color: #00af00; text-decoration-color: #00af00\">2,506,172,416</span> (9.34 GB)\n",
       "</pre>\n"
      ],
      "text/plain": [
       "\u001b[1m Total params: \u001b[0m\u001b[38;5;34m2,506,172,416\u001b[0m (9.34 GB)\n"
      ]
     },
     "metadata": {},
     "output_type": "display_data"
    },
    {
     "data": {
      "text/html": [
       "<pre style=\"white-space:pre;overflow-x:auto;line-height:normal;font-family:Menlo,'DejaVu Sans Mono',consolas,'Courier New',monospace\"><span style=\"font-weight: bold\"> Trainable params: </span><span style=\"color: #00af00; text-decoration-color: #00af00\">2,506,172,416</span> (9.34 GB)\n",
       "</pre>\n"
      ],
      "text/plain": [
       "\u001b[1m Trainable params: \u001b[0m\u001b[38;5;34m2,506,172,416\u001b[0m (9.34 GB)\n"
      ]
     },
     "metadata": {},
     "output_type": "display_data"
    },
    {
     "data": {
      "text/html": [
       "<pre style=\"white-space:pre;overflow-x:auto;line-height:normal;font-family:Menlo,'DejaVu Sans Mono',consolas,'Courier New',monospace\"><span style=\"font-weight: bold\"> Non-trainable params: </span><span style=\"color: #00af00; text-decoration-color: #00af00\">0</span> (0.00 B)\n",
       "</pre>\n"
      ],
      "text/plain": [
       "\u001b[1m Non-trainable params: \u001b[0m\u001b[38;5;34m0\u001b[0m (0.00 B)\n"
      ]
     },
     "metadata": {},
     "output_type": "display_data"
    }
   ],
   "source": [
    "gemma_lm = keras_nlp.models.GemmaCausalLM.from_preset(CFG.preset)\n",
    "gemma_lm.summary()"
   ]
  },
  {
   "cell_type": "code",
   "execution_count": null,
   "metadata": {},
   "outputs": [],
   "source": [
    "def model_testing():\n",
    "    for i in range(5):\n",
    "        prompt = prompt_generation(i+1)\n",
    "        output = gemma_lm.generate(prompt, max_length=128)\n",
    "        print('Prompt: ' + prompt +'\\n' + 'Output: ' + output)"
   ]
  },
  {
   "cell_type": "markdown",
   "metadata": {},
   "source": [
    "Before finetuning"
   ]
  },
  {
   "cell_type": "code",
   "execution_count": null,
   "metadata": {},
   "outputs": [
    {
     "name": "stdout",
     "output_type": "stream",
     "text": [
      "Prompt: Generate a review of an italian restaurant of 50 words in english of 1 stars out of 5\n",
      "Output: Generate a review of an italian restaurant of 50 words in english of 1 stars out of 5.\n",
      "\n",
      "The food was delicious, with fresh and flavorful ingredients. The pasta was perfectly cooked, and the sauce was rich and flavorful. The atmosphere was warm and inviting, and the service was friendly and attentive. Overall, it was a wonderful dining experience.\n",
      "\n",
      "However, the price point was quite high, and the portions were quite small.\n",
      "Prompt: Generate a review of an italian restaurant of 50 words in english of 2 stars out of 5\n",
      "Output: Generate a review of an italian restaurant of 50 words in english of 2 stars out of 5.\n",
      "\n",
      "The food was delicious, with fresh and flavorful ingredients. The pasta was perfectly cooked, and the sauce was rich and flavorful. The atmosphere was warm and inviting, and the service was friendly and attentive. Overall, it was a wonderful dining experience.\n",
      "\n",
      "However, the price point was quite high, and the portions were quite small.\n",
      "Prompt: Generate a review of an italian restaurant of 50 words in english of 3 stars out of 5\n",
      "Output: Generate a review of an italian restaurant of 50 words in english of 3 stars out of 5.\n",
      "\n",
      "The food at La Bella Vita is simply divine. The pasta is perfectly cooked, the sauces are bursting with flavor, and the atmosphere is warm and inviting. The staff is incredibly friendly and attentive, making the dining experience truly memorable.\n",
      "\n",
      "If you're looking for a truly special Italian meal, La Bella Vita is the place to go. Highly recommended!\n",
      "Prompt: Generate a review of an italian restaurant of 50 words in english of 4 stars out of 5\n",
      "Output: Generate a review of an italian restaurant of 50 words in english of 4 stars out of 5.\n",
      "\n",
      "The food at La Bella Vita is simply divine. The pasta is perfectly cooked, the sauces are bursting with flavor, and the atmosphere is warm and inviting. The staff is incredibly friendly and attentive, making the dining experience truly memorable.\n",
      "\n",
      "If you're looking for a truly special Italian meal, La Bella Vita is the place to go. Highly recommended!\n",
      "Prompt: Generate a review of an italian restaurant of 50 words in english of 5 stars out of 5\n",
      "Output: Generate a review of an italian restaurant of 50 words in english of 5 stars out of 5.\n",
      "\n",
      "The food at La Bella Vita is simply divine. The pasta is perfectly cooked, the sauces are bursting with flavor, and the atmosphere is warm and inviting. The staff is incredibly friendly and attentive, ensuring a truly memorable dining experience.\n",
      "\n",
      "If you're looking for a truly special Italian meal, La Bella Vita is the place to go. Highly recommended!\n"
     ]
    }
   ],
   "source": [
    "# Before FineTuning\n",
    "model_testing()"
   ]
  },
  {
   "cell_type": "code",
   "execution_count": null,
   "metadata": {},
   "outputs": [
    {
     "data": {
      "text/html": [
       "<pre style=\"white-space:pre;overflow-x:auto;line-height:normal;font-family:Menlo,'DejaVu Sans Mono',consolas,'Courier New',monospace\"><span style=\"font-weight: bold\">Preprocessor: \"gemma_causal_lm_preprocessor\"</span>\n",
       "</pre>\n"
      ],
      "text/plain": [
       "\u001b[1mPreprocessor: \"gemma_causal_lm_preprocessor\"\u001b[0m\n"
      ]
     },
     "metadata": {},
     "output_type": "display_data"
    },
    {
     "data": {
      "text/html": [
       "<pre style=\"white-space:pre;overflow-x:auto;line-height:normal;font-family:Menlo,'DejaVu Sans Mono',consolas,'Courier New',monospace\">┏━━━━━━━━━━━━━━━━━━━━━━━━━━━━━━━━━━━━━━━━━━━━━━━━━━━━┳━━━━━━━━━━━━━━━━━━━━━━━━━━━━━━━━━━━━━━━━━━━━━━━━━━━━━┓\n",
       "┃<span style=\"font-weight: bold\"> Tokenizer (type)                                   </span>┃<span style=\"font-weight: bold\">                                             Vocab # </span>┃\n",
       "┡━━━━━━━━━━━━━━━━━━━━━━━━━━━━━━━━━━━━━━━━━━━━━━━━━━━━╇━━━━━━━━━━━━━━━━━━━━━━━━━━━━━━━━━━━━━━━━━━━━━━━━━━━━━┩\n",
       "│ gemma_tokenizer (<span style=\"color: #0087ff; text-decoration-color: #0087ff\">GemmaTokenizer</span>)                   │                                             <span style=\"color: #00af00; text-decoration-color: #00af00\">256,000</span> │\n",
       "└────────────────────────────────────────────────────┴─────────────────────────────────────────────────────┘\n",
       "</pre>\n"
      ],
      "text/plain": [
       "┏━━━━━━━━━━━━━━━━━━━━━━━━━━━━━━━━━━━━━━━━━━━━━━━━━━━━┳━━━━━━━━━━━━━━━━━━━━━━━━━━━━━━━━━━━━━━━━━━━━━━━━━━━━━┓\n",
       "┃\u001b[1m \u001b[0m\u001b[1mTokenizer (type)                                  \u001b[0m\u001b[1m \u001b[0m┃\u001b[1m \u001b[0m\u001b[1m                                            Vocab #\u001b[0m\u001b[1m \u001b[0m┃\n",
       "┡━━━━━━━━━━━━━━━━━━━━━━━━━━━━━━━━━━━━━━━━━━━━━━━━━━━━╇━━━━━━━━━━━━━━━━━━━━━━━━━━━━━━━━━━━━━━━━━━━━━━━━━━━━━┩\n",
       "│ gemma_tokenizer (\u001b[38;5;33mGemmaTokenizer\u001b[0m)                   │                                             \u001b[38;5;34m256,000\u001b[0m │\n",
       "└────────────────────────────────────────────────────┴─────────────────────────────────────────────────────┘\n"
      ]
     },
     "metadata": {},
     "output_type": "display_data"
    },
    {
     "data": {
      "text/html": [
       "<pre style=\"white-space:pre;overflow-x:auto;line-height:normal;font-family:Menlo,'DejaVu Sans Mono',consolas,'Courier New',monospace\"><span style=\"font-weight: bold\">Model: \"gemma_causal_lm\"</span>\n",
       "</pre>\n"
      ],
      "text/plain": [
       "\u001b[1mModel: \"gemma_causal_lm\"\u001b[0m\n"
      ]
     },
     "metadata": {},
     "output_type": "display_data"
    },
    {
     "data": {
      "text/html": [
       "<pre style=\"white-space:pre;overflow-x:auto;line-height:normal;font-family:Menlo,'DejaVu Sans Mono',consolas,'Courier New',monospace\">┏━━━━━━━━━━━━━━━━━━━━━━━━━━━━━━━┳━━━━━━━━━━━━━━━━━━━━━━━━━━━┳━━━━━━━━━━━━━━━━━┳━━━━━━━━━━━━━━━━━━━━━━━━━━━━┓\n",
       "┃<span style=\"font-weight: bold\"> Layer (type)                  </span>┃<span style=\"font-weight: bold\"> Output Shape              </span>┃<span style=\"font-weight: bold\">         Param # </span>┃<span style=\"font-weight: bold\"> Connected to               </span>┃\n",
       "┡━━━━━━━━━━━━━━━━━━━━━━━━━━━━━━━╇━━━━━━━━━━━━━━━━━━━━━━━━━━━╇━━━━━━━━━━━━━━━━━╇━━━━━━━━━━━━━━━━━━━━━━━━━━━━┩\n",
       "│ padding_mask (<span style=\"color: #0087ff; text-decoration-color: #0087ff\">InputLayer</span>)     │ (<span style=\"color: #00d7ff; text-decoration-color: #00d7ff\">None</span>, <span style=\"color: #00d7ff; text-decoration-color: #00d7ff\">None</span>)              │               <span style=\"color: #00af00; text-decoration-color: #00af00\">0</span> │ -                          │\n",
       "├───────────────────────────────┼───────────────────────────┼─────────────────┼────────────────────────────┤\n",
       "│ token_ids (<span style=\"color: #0087ff; text-decoration-color: #0087ff\">InputLayer</span>)        │ (<span style=\"color: #00d7ff; text-decoration-color: #00d7ff\">None</span>, <span style=\"color: #00d7ff; text-decoration-color: #00d7ff\">None</span>)              │               <span style=\"color: #00af00; text-decoration-color: #00af00\">0</span> │ -                          │\n",
       "├───────────────────────────────┼───────────────────────────┼─────────────────┼────────────────────────────┤\n",
       "│ gemma_backbone                │ (<span style=\"color: #00d7ff; text-decoration-color: #00d7ff\">None</span>, <span style=\"color: #00d7ff; text-decoration-color: #00d7ff\">None</span>, <span style=\"color: #00af00; text-decoration-color: #00af00\">2048</span>)        │   <span style=\"color: #00af00; text-decoration-color: #00af00\">2,506,854,400</span> │ padding_mask[<span style=\"color: #00af00; text-decoration-color: #00af00\">0</span>][<span style=\"color: #00af00; text-decoration-color: #00af00\">0</span>],        │\n",
       "│ (<span style=\"color: #0087ff; text-decoration-color: #0087ff\">GemmaBackbone</span>)               │                           │                 │ token_ids[<span style=\"color: #00af00; text-decoration-color: #00af00\">0</span>][<span style=\"color: #00af00; text-decoration-color: #00af00\">0</span>]            │\n",
       "├───────────────────────────────┼───────────────────────────┼─────────────────┼────────────────────────────┤\n",
       "│ token_embedding               │ (<span style=\"color: #00d7ff; text-decoration-color: #00d7ff\">None</span>, <span style=\"color: #00d7ff; text-decoration-color: #00d7ff\">None</span>, <span style=\"color: #00af00; text-decoration-color: #00af00\">256000</span>)      │     <span style=\"color: #00af00; text-decoration-color: #00af00\">524,288,000</span> │ gemma_backbone[<span style=\"color: #00af00; text-decoration-color: #00af00\">0</span>][<span style=\"color: #00af00; text-decoration-color: #00af00\">0</span>]       │\n",
       "│ (<span style=\"color: #0087ff; text-decoration-color: #0087ff\">ReversibleEmbedding</span>)         │                           │                 │                            │\n",
       "└───────────────────────────────┴───────────────────────────┴─────────────────┴────────────────────────────┘\n",
       "</pre>\n"
      ],
      "text/plain": [
       "┏━━━━━━━━━━━━━━━━━━━━━━━━━━━━━━━┳━━━━━━━━━━━━━━━━━━━━━━━━━━━┳━━━━━━━━━━━━━━━━━┳━━━━━━━━━━━━━━━━━━━━━━━━━━━━┓\n",
       "┃\u001b[1m \u001b[0m\u001b[1mLayer (type)                 \u001b[0m\u001b[1m \u001b[0m┃\u001b[1m \u001b[0m\u001b[1mOutput Shape             \u001b[0m\u001b[1m \u001b[0m┃\u001b[1m \u001b[0m\u001b[1m        Param #\u001b[0m\u001b[1m \u001b[0m┃\u001b[1m \u001b[0m\u001b[1mConnected to              \u001b[0m\u001b[1m \u001b[0m┃\n",
       "┡━━━━━━━━━━━━━━━━━━━━━━━━━━━━━━━╇━━━━━━━━━━━━━━━━━━━━━━━━━━━╇━━━━━━━━━━━━━━━━━╇━━━━━━━━━━━━━━━━━━━━━━━━━━━━┩\n",
       "│ padding_mask (\u001b[38;5;33mInputLayer\u001b[0m)     │ (\u001b[38;5;45mNone\u001b[0m, \u001b[38;5;45mNone\u001b[0m)              │               \u001b[38;5;34m0\u001b[0m │ -                          │\n",
       "├───────────────────────────────┼───────────────────────────┼─────────────────┼────────────────────────────┤\n",
       "│ token_ids (\u001b[38;5;33mInputLayer\u001b[0m)        │ (\u001b[38;5;45mNone\u001b[0m, \u001b[38;5;45mNone\u001b[0m)              │               \u001b[38;5;34m0\u001b[0m │ -                          │\n",
       "├───────────────────────────────┼───────────────────────────┼─────────────────┼────────────────────────────┤\n",
       "│ gemma_backbone                │ (\u001b[38;5;45mNone\u001b[0m, \u001b[38;5;45mNone\u001b[0m, \u001b[38;5;34m2048\u001b[0m)        │   \u001b[38;5;34m2,506,854,400\u001b[0m │ padding_mask[\u001b[38;5;34m0\u001b[0m][\u001b[38;5;34m0\u001b[0m],        │\n",
       "│ (\u001b[38;5;33mGemmaBackbone\u001b[0m)               │                           │                 │ token_ids[\u001b[38;5;34m0\u001b[0m][\u001b[38;5;34m0\u001b[0m]            │\n",
       "├───────────────────────────────┼───────────────────────────┼─────────────────┼────────────────────────────┤\n",
       "│ token_embedding               │ (\u001b[38;5;45mNone\u001b[0m, \u001b[38;5;45mNone\u001b[0m, \u001b[38;5;34m256000\u001b[0m)      │     \u001b[38;5;34m524,288,000\u001b[0m │ gemma_backbone[\u001b[38;5;34m0\u001b[0m][\u001b[38;5;34m0\u001b[0m]       │\n",
       "│ (\u001b[38;5;33mReversibleEmbedding\u001b[0m)         │                           │                 │                            │\n",
       "└───────────────────────────────┴───────────────────────────┴─────────────────┴────────────────────────────┘\n"
      ]
     },
     "metadata": {},
     "output_type": "display_data"
    },
    {
     "data": {
      "text/html": [
       "<pre style=\"white-space:pre;overflow-x:auto;line-height:normal;font-family:Menlo,'DejaVu Sans Mono',consolas,'Courier New',monospace\"><span style=\"font-weight: bold\"> Total params: </span><span style=\"color: #00af00; text-decoration-color: #00af00\">2,506,854,400</span> (9.34 GB)\n",
       "</pre>\n"
      ],
      "text/plain": [
       "\u001b[1m Total params: \u001b[0m\u001b[38;5;34m2,506,854,400\u001b[0m (9.34 GB)\n"
      ]
     },
     "metadata": {},
     "output_type": "display_data"
    },
    {
     "data": {
      "text/html": [
       "<pre style=\"white-space:pre;overflow-x:auto;line-height:normal;font-family:Menlo,'DejaVu Sans Mono',consolas,'Courier New',monospace\"><span style=\"font-weight: bold\"> Trainable params: </span><span style=\"color: #00af00; text-decoration-color: #00af00\">681,984</span> (2.60 MB)\n",
       "</pre>\n"
      ],
      "text/plain": [
       "\u001b[1m Trainable params: \u001b[0m\u001b[38;5;34m681,984\u001b[0m (2.60 MB)\n"
      ]
     },
     "metadata": {},
     "output_type": "display_data"
    },
    {
     "data": {
      "text/html": [
       "<pre style=\"white-space:pre;overflow-x:auto;line-height:normal;font-family:Menlo,'DejaVu Sans Mono',consolas,'Courier New',monospace\"><span style=\"font-weight: bold\"> Non-trainable params: </span><span style=\"color: #00af00; text-decoration-color: #00af00\">2,506,172,416</span> (9.34 GB)\n",
       "</pre>\n"
      ],
      "text/plain": [
       "\u001b[1m Non-trainable params: \u001b[0m\u001b[38;5;34m2,506,172,416\u001b[0m (9.34 GB)\n"
      ]
     },
     "metadata": {},
     "output_type": "display_data"
    }
   ],
   "source": [
    "gemma_lm.backbone.enable_lora(rank= 2)\n",
    "gemma_lm.summary()"
   ]
  },
  {
   "cell_type": "code",
   "execution_count": null,
   "metadata": {},
   "outputs": [],
   "source": [
    "def create_gemma_input(example):\n",
    "    example['input'] = 'Prompt: ' + example['prompt'] +'\\n' + 'Output: ' + example['text']\n",
    "    return example\n",
    "dataset_train = dataset_train.map(create_gemma_input)"
   ]
  },
  {
   "cell_type": "code",
   "execution_count": null,
   "metadata": {},
   "outputs": [
    {
     "name": "stdout",
     "output_type": "stream",
     "text": [
      "\u001b[1m5000/5000\u001b[0m \u001b[32m━━━━━━━━━━━━━━━━━━━━\u001b[0m\u001b[37m\u001b[0m \u001b[1m4093s\u001b[0m 808ms/step - loss: 1.8069 - sparse_categorical_accuracy: 0.4671\n"
     ]
    },
    {
     "data": {
      "text/plain": [
       "<keras.src.callbacks.history.History at 0x7f17647bc0a0>"
      ]
     },
     "metadata": {},
     "output_type": "display_data"
    }
   ],
   "source": [
    "gemma_lm.preprocessor.sequence_length = CFG.sequence_length \n",
    "\n",
    "# Compile the model with loss, optimizer, and metric\n",
    "gemma_lm.compile(\n",
    "    loss=keras.losses.SparseCategoricalCrossentropy(from_logits=True),\n",
    "    optimizer=keras.optimizers.Adam(learning_rate=5e-5),\n",
    "    weighted_metrics=[keras.metrics.SparseCategoricalAccuracy()],\n",
    ")\n",
    "\n",
    "# Train model\n",
    "gemma_lm.fit(dataset_train['input'], epochs=CFG.epochs, batch_size=CFG.batch_size)"
   ]
  },
  {
   "cell_type": "markdown",
   "metadata": {},
   "source": [
    "After FineTuning"
   ]
  },
  {
   "cell_type": "code",
   "execution_count": null,
   "metadata": {},
   "outputs": [
    {
     "name": "stdout",
     "output_type": "stream",
     "text": [
      "Prompt: Generate a review of an italian restaurant of 50 words in english of 1 stars out of 5\n",
      "Output: Generate a review of an italian restaurant of 50 words in english of 1 stars out of 5\n",
      "Output: I went to this place with my family and friends and we were all disappointed.  The food was not very good and the service was terrible.  The only thing that was good was the atmosphere.  The place is very nice and the staff is very friendly.  The only thing that was bad was the food.  I would not recommend this place to anyone.\n",
      "Prompt: Generate a review of an italian restaurant of 50 words in english of 2 stars out of 5\n",
      "Output: Generate a review of an italian restaurant of 50 words in english of 2 stars out of 5\n",
      "Output: I'm not sure what the deal is with this place. I've been there twice and it's been a disaster both times. The first time, I ordered a pizza and it was cold and the crust was hard. The second time, I ordered a pizza and it was soggy and the crust was soggy. I'm not sure what the deal is with this place. I've heard that it's a good place to eat, but I'm not sure if I'm\n",
      "Prompt: Generate a review of an italian restaurant of 50 words in english of 3 stars out of 5\n",
      "Output: Generate a review of an italian restaurant of 50 words in english of 3 stars out of 5\n",
      "Output: I'm not sure what the deal is with this place. I've been there twice and it's been either a complete disaster or a complete hit. I'm not sure if it's just me or if it's a bad luck thing to go there. I've had the pizza, the pasta, and the salad. I've had the pizza twice and the pasta once. I've had the salad once. I've had the pizza twice and the pasta once\n",
      "Prompt: Generate a review of an italian restaurant of 50 words in english of 4 stars out of 5\n",
      "Output: Generate a review of an italian restaurant of 50 words in english of 4 stars out of 5\n",
      "Output: I've been to this place a few times and it's always a great experience.  The food is always delicious and the service is great.  I've tried the pizza, pasta, and the chicken and it's all delicious.  I've also tried the tiramisu and the cheesecake and it's both delicious.  I've also tried the wine and the beer and it's all great.  I've been to this place a few times and it'\n",
      "Prompt: Generate a review of an italian restaurant of 50 words in english of 5 stars out of 5\n",
      "Output: Generate a review of an italian restaurant of 50 words in english of 5 stars out of 5\n",
      "Output: I've been to this place a few times and it's always a great experience.  The food is always delicious and the service is great.  I've tried the pizza, pasta, and the chicken and it's all delicious.  I've also tried the tiramisu and the cheesecake and it's both delicious.  I've also tried the wine and the beer and it's all great.  I've been to this place a few times and it'\n"
     ]
    }
   ],
   "source": [
    "\n",
    "model_testing()"
   ]
  },
  {
   "cell_type": "markdown",
   "metadata": {},
   "source": [
    "$\\color{red}{\\text{Prompt: Generate a review of an italian restaurant of 50 words in english of 1 stars out of 5}}$ <br>\n",
    "Output: Generate a review of an italian restaurant of 50 words in english of 1 stars out of 5 <br>\n",
    "Output: I went to this place with my family and friends and we were all disappointed.  The food was not very good and the service was terrible.  The only thing that was good was the atmosphere.  The place is very nice and the staff is very friendly.  The only thing that was bad was the food.  I would not recommend this place to anyone.\n",
    "<br> <br>\n",
    "\n",
    "$\\color{red}{\\text{Prompt: Generate a review of an italian restaurant of 50 words in english of 2 stars out of 5}}$ <br>\n",
    "Output: Generate a review of an italian restaurant of 50 words in english of 2 stars out of 5 <br>\n",
    "Output: I'm not sure what the deal is with this place. I've been there twice and it's been a disaster both times. The first time, I ordered a pizza and it was cold and the crust was hard. The second time, I ordered a pizza and it was soggy and the crust was soggy. I'm not sure what the deal is with this place. I've heard that it's a good place to eat, but I'm not sure if I'm\n",
    "\n",
    "<br><br>\n",
    "\n",
    "$\\color{red}{\\text{Prompt: Generate a review of an italian restaurant of 50 words in english of 3 stars out of 5}}$ <br>\n",
    "Output: Generate a review of an italian restaurant of 50 words in english of 3 stars out of 5 <br>\n",
    "Output: I'm not sure what the deal is with this place. I've been there twice and it's been either a complete disaster or a complete hit. I'm not sure if it's just me or if it's a bad luck thing to go there. I've had the pizza, the pasta, and the salad. I've had the pizza twice and the pasta once. I've had the salad once. I've had the pizza twice and the pasta once\n",
    "\n",
    "<br><br>\n",
    "\n",
    "$\\color{red}{\\text{Prompt: Generate a review of an italian restaurant of 50 words in english of 4 stars out of 5}}$ <br>\n",
    "Output: Generate a review of an italian restaurant of 50 words in english of 4 stars out of 5 <br>\n",
    "Output: I've been to this place a few times and it's always a great experience.  The food is always delicious and the service is great.  I've tried the pizza, pasta, and the chicken and it's all delicious.  I've also tried the tiramisu and the cheesecake and it's both delicious.  I've also tried the wine and the beer and it's all great.  I've been to this place a few times and it'\n",
    "<br><br>\n",
    "\n",
    "$\\color{red}{\\text{Prompt: Generate a review of an italian restaurant of 50 words in english of 5 stars out of 5}}$ <br>\n",
    "Output: Generate a review of an italian restaurant of 50 words in english of 5 stars out of 5 <br>\n",
    "Output: I've been to this place a few times and it's always a great experience.  The food is always delicious and the service is great.  I've tried the pizza, pasta, and the chicken and it's all delicious.  I've also tried the tiramisu and the cheesecake and it's both delicious.  I've also tried the wine and the beer and it's all great.  I've been to this place a few times and it'\n"
   ]
  },
  {
   "cell_type": "markdown",
   "metadata": {},
   "source": [
    "However compared to Llama the performances look worse"
   ]
  },
  {
   "cell_type": "code",
   "execution_count": null,
   "metadata": {},
   "outputs": [],
   "source": []
  }
 ],
 "metadata": {
  "language_info": {
   "name": "python"
  }
 },
 "nbformat": 4,
 "nbformat_minor": 2
}
