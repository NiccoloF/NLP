{
 "cells": [
  {
   "cell_type": "code",
   "execution_count": 1,
   "id": "19b7ac05",
   "metadata": {
    "_cell_guid": "b1076dfc-b9ad-4769-8c92-a6c4dae69d19",
    "_uuid": "8f2839f25d086af736a60e9eeb907d3b93b6e0e5",
    "execution": {
     "iopub.execute_input": "2024-05-08T20:05:52.018130Z",
     "iopub.status.busy": "2024-05-08T20:05:52.017727Z",
     "iopub.status.idle": "2024-05-08T20:05:54.299174Z",
     "shell.execute_reply": "2024-05-08T20:05:54.298359Z"
    },
    "papermill": {
     "duration": 2.29602,
     "end_time": "2024-05-08T20:05:54.301522",
     "exception": false,
     "start_time": "2024-05-08T20:05:52.005502",
     "status": "completed"
    },
    "tags": []
   },
   "outputs": [],
   "source": [
    "import sys, os, re, json\n",
    "import nltk\n",
    "import numpy as np\n",
    "import pandas as pd\n",
    "import matplotlib.pyplot as plt\n",
    "from collections import defaultdict, Counter\n",
    "from typing import List, Tuple, Dict\n",
    "from sklearn.model_selection import train_test_split"
   ]
  },
  {
   "cell_type": "code",
   "execution_count": 2,
   "id": "b5fa5d4c",
   "metadata": {
    "execution": {
     "iopub.execute_input": "2024-05-08T20:05:54.323750Z",
     "iopub.status.busy": "2024-05-08T20:05:54.323360Z",
     "iopub.status.idle": "2024-05-08T20:05:54.520238Z",
     "shell.execute_reply": "2024-05-08T20:05:54.519244Z"
    },
    "papermill": {
     "duration": 0.210093,
     "end_time": "2024-05-08T20:05:54.522325",
     "exception": false,
     "start_time": "2024-05-08T20:05:54.312232",
     "status": "completed"
    },
    "tags": []
   },
   "outputs": [
    {
     "name": "stdout",
     "output_type": "stream",
     "text": [
      "[nltk_data] Downloading package stopwords to /usr/share/nltk_data...\n",
      "[nltk_data]   Package stopwords is already up-to-date!\n",
      "[nltk_data] Downloading package punkt to /usr/share/nltk_data...\n",
      "[nltk_data]   Package punkt is already up-to-date!\n",
      "[nltk_data] Downloading package wordnet to /usr/share/nltk_data...\n",
      "[nltk_data]   Package wordnet is already up-to-date!\n"
     ]
    },
    {
     "data": {
      "text/plain": [
       "True"
      ]
     },
     "execution_count": 2,
     "metadata": {},
     "output_type": "execute_result"
    }
   ],
   "source": [
    "%matplotlib inline\n",
    "nltk.download('stopwords')\n",
    "nltk.download('punkt')\n",
    "nltk.download('wordnet')"
   ]
  },
  {
   "cell_type": "code",
   "execution_count": 3,
   "id": "c8609479",
   "metadata": {
    "execution": {
     "iopub.execute_input": "2024-05-08T20:05:54.544320Z",
     "iopub.status.busy": "2024-05-08T20:05:54.544040Z",
     "iopub.status.idle": "2024-05-08T20:06:22.366949Z",
     "shell.execute_reply": "2024-05-08T20:06:22.366075Z"
    },
    "papermill": {
     "duration": 27.836474,
     "end_time": "2024-05-08T20:06:22.369333",
     "exception": false,
     "start_time": "2024-05-08T20:05:54.532859",
     "status": "completed"
    },
    "tags": []
   },
   "outputs": [
    {
     "name": "stdout",
     "output_type": "stream",
     "text": [
      "Requirement already satisfied: datasets in /opt/conda/lib/python3.10/site-packages (2.18.0)\r\n",
      "Requirement already satisfied: filelock in /opt/conda/lib/python3.10/site-packages (from datasets) (3.13.1)\r\n",
      "Requirement already satisfied: numpy>=1.17 in /opt/conda/lib/python3.10/site-packages (from datasets) (1.26.4)\r\n",
      "Requirement already satisfied: pyarrow>=12.0.0 in /opt/conda/lib/python3.10/site-packages (from datasets) (15.0.2)\r\n",
      "Requirement already satisfied: pyarrow-hotfix in /opt/conda/lib/python3.10/site-packages (from datasets) (0.6)\r\n",
      "Requirement already satisfied: dill<0.3.9,>=0.3.0 in /opt/conda/lib/python3.10/site-packages (from datasets) (0.3.8)\r\n",
      "Requirement already satisfied: pandas in /opt/conda/lib/python3.10/site-packages (from datasets) (2.1.4)\r\n",
      "Requirement already satisfied: requests>=2.19.0 in /opt/conda/lib/python3.10/site-packages (from datasets) (2.31.0)\r\n",
      "Requirement already satisfied: tqdm>=4.62.1 in /opt/conda/lib/python3.10/site-packages (from datasets) (4.66.1)\r\n",
      "Requirement already satisfied: xxhash in /opt/conda/lib/python3.10/site-packages (from datasets) (3.4.1)\r\n",
      "Requirement already satisfied: multiprocess in /opt/conda/lib/python3.10/site-packages (from datasets) (0.70.16)\r\n",
      "Requirement already satisfied: fsspec<=2024.2.0,>=2023.1.0 in /opt/conda/lib/python3.10/site-packages (from fsspec[http]<=2024.2.0,>=2023.1.0->datasets) (2024.2.0)\r\n",
      "Requirement already satisfied: aiohttp in /opt/conda/lib/python3.10/site-packages (from datasets) (3.9.1)\r\n",
      "Requirement already satisfied: huggingface-hub>=0.19.4 in /opt/conda/lib/python3.10/site-packages (from datasets) (0.22.2)\r\n",
      "Requirement already satisfied: packaging in /opt/conda/lib/python3.10/site-packages (from datasets) (21.3)\r\n",
      "Requirement already satisfied: pyyaml>=5.1 in /opt/conda/lib/python3.10/site-packages (from datasets) (6.0.1)\r\n",
      "Requirement already satisfied: attrs>=17.3.0 in /opt/conda/lib/python3.10/site-packages (from aiohttp->datasets) (23.2.0)\r\n",
      "Requirement already satisfied: multidict<7.0,>=4.5 in /opt/conda/lib/python3.10/site-packages (from aiohttp->datasets) (6.0.4)\r\n",
      "Requirement already satisfied: yarl<2.0,>=1.0 in /opt/conda/lib/python3.10/site-packages (from aiohttp->datasets) (1.9.3)\r\n",
      "Requirement already satisfied: frozenlist>=1.1.1 in /opt/conda/lib/python3.10/site-packages (from aiohttp->datasets) (1.4.1)\r\n",
      "Requirement already satisfied: aiosignal>=1.1.2 in /opt/conda/lib/python3.10/site-packages (from aiohttp->datasets) (1.3.1)\r\n",
      "Requirement already satisfied: async-timeout<5.0,>=4.0 in /opt/conda/lib/python3.10/site-packages (from aiohttp->datasets) (4.0.3)\r\n",
      "Requirement already satisfied: typing-extensions>=3.7.4.3 in /opt/conda/lib/python3.10/site-packages (from huggingface-hub>=0.19.4->datasets) (4.9.0)\r\n",
      "Requirement already satisfied: pyparsing!=3.0.5,>=2.0.2 in /opt/conda/lib/python3.10/site-packages (from packaging->datasets) (3.1.1)\r\n",
      "Requirement already satisfied: charset-normalizer<4,>=2 in /opt/conda/lib/python3.10/site-packages (from requests>=2.19.0->datasets) (3.3.2)\r\n",
      "Requirement already satisfied: idna<4,>=2.5 in /opt/conda/lib/python3.10/site-packages (from requests>=2.19.0->datasets) (3.6)\r\n",
      "Requirement already satisfied: urllib3<3,>=1.21.1 in /opt/conda/lib/python3.10/site-packages (from requests>=2.19.0->datasets) (1.26.18)\r\n",
      "Requirement already satisfied: certifi>=2017.4.17 in /opt/conda/lib/python3.10/site-packages (from requests>=2.19.0->datasets) (2024.2.2)\r\n",
      "Requirement already satisfied: python-dateutil>=2.8.2 in /opt/conda/lib/python3.10/site-packages (from pandas->datasets) (2.9.0.post0)\r\n",
      "Requirement already satisfied: pytz>=2020.1 in /opt/conda/lib/python3.10/site-packages (from pandas->datasets) (2023.3.post1)\r\n",
      "Requirement already satisfied: tzdata>=2022.1 in /opt/conda/lib/python3.10/site-packages (from pandas->datasets) (2023.4)\r\n",
      "Requirement already satisfied: six>=1.5 in /opt/conda/lib/python3.10/site-packages (from python-dateutil>=2.8.2->pandas->datasets) (1.16.0)\r\n"
     ]
    },
    {
     "data": {
      "application/vnd.jupyter.widget-view+json": {
       "model_id": "a4dbd4f8e37d483bb7321e0d696a0806",
       "version_major": 2,
       "version_minor": 0
      },
      "text/plain": [
       "Downloading readme:   0%|          | 0.00/6.72k [00:00<?, ?B/s]"
      ]
     },
     "metadata": {},
     "output_type": "display_data"
    },
    {
     "name": "stderr",
     "output_type": "stream",
     "text": [
      "Downloading data: 100%|██████████| 299M/299M [00:01<00:00, 250MB/s]\n",
      "Downloading data: 100%|██████████| 23.5M/23.5M [00:00<00:00, 112MB/s] \n"
     ]
    },
    {
     "data": {
      "application/vnd.jupyter.widget-view+json": {
       "model_id": "99c437ef6f4f4bdaaf621d61da297008",
       "version_major": 2,
       "version_minor": 0
      },
      "text/plain": [
       "Generating train split:   0%|          | 0/650000 [00:00<?, ? examples/s]"
      ]
     },
     "metadata": {},
     "output_type": "display_data"
    },
    {
     "data": {
      "application/vnd.jupyter.widget-view+json": {
       "model_id": "67cce28088d740ee9d52e72a1b84f2f1",
       "version_major": 2,
       "version_minor": 0
      },
      "text/plain": [
       "Generating test split:   0%|          | 0/50000 [00:00<?, ? examples/s]"
      ]
     },
     "metadata": {},
     "output_type": "display_data"
    }
   ],
   "source": [
    "!pip install datasets\n",
    "from datasets import load_dataset\n",
    "dataset_train=load_dataset(\"yelp_review_full\",split='train')\n",
    "dataset_test=load_dataset(\"yelp_review_full\",split='test')\n",
    "# Column names\n",
    "column_names = ['star', 'review']\n",
    "\n",
    "# Extract features \n",
    "data_train = {'star': dataset_train['label'], 'review': dataset_train['text']}\n",
    "data_test = {'star': dataset_test['label'], 'review': dataset_test['text']}\n",
    "\n",
    "# Convert to DataFrame Pandas\n",
    "data_train = pd.DataFrame(data_train, columns=column_names)\n",
    "data_test = pd.DataFrame(data_test, columns=column_names)"
   ]
  },
  {
   "cell_type": "markdown",
   "id": "b8d39ea8",
   "metadata": {
    "papermill": {
     "duration": 0.013984,
     "end_time": "2024-05-08T20:06:22.396636",
     "exception": false,
     "start_time": "2024-05-08T20:06:22.382652",
     "status": "completed"
    },
    "tags": []
   },
   "source": [
    "We have a datataset containing two features:\n",
    "- *text*: the current review\n",
    "- *label*: the current star reting"
   ]
  },
  {
   "cell_type": "code",
   "execution_count": 4,
   "id": "e18291fc",
   "metadata": {
    "execution": {
     "iopub.execute_input": "2024-05-08T20:06:22.425283Z",
     "iopub.status.busy": "2024-05-08T20:06:22.424341Z",
     "iopub.status.idle": "2024-05-08T20:06:22.434149Z",
     "shell.execute_reply": "2024-05-08T20:06:22.433240Z"
    },
    "papermill": {
     "duration": 0.026335,
     "end_time": "2024-05-08T20:06:22.436299",
     "exception": false,
     "start_time": "2024-05-08T20:06:22.409964",
     "status": "completed"
    },
    "tags": []
   },
   "outputs": [
    {
     "name": "stdout",
     "output_type": "stream",
     "text": [
      "   star                                             review\n",
      "0     4  dr. goldberg offers everything i look for in a...\n",
      "1     1  Unfortunately, the frustration of being Dr. Go...\n",
      "2     3  Been going to Dr. Goldberg for over 10 years. ...\n",
      "3     3  Got a letter in the mail last week that said D...\n",
      "4     0  I don't know what Dr. Goldberg was like before...\n",
      "5     4  Top notch doctor in a top notch practice. Can'...\n",
      "6     4  Dr. Eric Goldberg is a fantastic doctor who ha...\n",
      "7     0  I'm writing this review to give you a heads up...\n",
      "8     1  Wing sauce is like water. Pretty much a lot of...\n",
      "9     2  Decent range somewhat close to the city.  The ...\n"
     ]
    }
   ],
   "source": [
    "print(data_train.head(10))"
   ]
  },
  {
   "cell_type": "markdown",
   "id": "a8ab3c4d",
   "metadata": {
    "papermill": {
     "duration": 0.012913,
     "end_time": "2024-05-08T20:06:22.463016",
     "exception": false,
     "start_time": "2024-05-08T20:06:22.450103",
     "status": "completed"
    },
    "tags": []
   },
   "source": [
    "# Data distribution\n",
    "we should rating distribution here"
   ]
  },
  {
   "cell_type": "code",
   "execution_count": 5,
   "id": "3c9d9e9b",
   "metadata": {
    "execution": {
     "iopub.execute_input": "2024-05-08T20:06:22.491163Z",
     "iopub.status.busy": "2024-05-08T20:06:22.490768Z",
     "iopub.status.idle": "2024-05-08T20:06:22.510144Z",
     "shell.execute_reply": "2024-05-08T20:06:22.509209Z"
    },
    "papermill": {
     "duration": 0.035931,
     "end_time": "2024-05-08T20:06:22.512180",
     "exception": false,
     "start_time": "2024-05-08T20:06:22.476249",
     "status": "completed"
    },
    "tags": []
   },
   "outputs": [
    {
     "data": {
      "text/plain": [
       "star\n",
       "4    130000\n",
       "1    130000\n",
       "3    130000\n",
       "0    130000\n",
       "2    130000\n",
       "Name: count, dtype: int64"
      ]
     },
     "execution_count": 5,
     "metadata": {},
     "output_type": "execute_result"
    }
   ],
   "source": [
    "data_train[\"star\"].value_counts(normalize=False)"
   ]
  },
  {
   "cell_type": "code",
   "execution_count": 6,
   "id": "faeae6a8",
   "metadata": {
    "execution": {
     "iopub.execute_input": "2024-05-08T20:06:22.540942Z",
     "iopub.status.busy": "2024-05-08T20:06:22.540542Z",
     "iopub.status.idle": "2024-05-08T20:06:22.546456Z",
     "shell.execute_reply": "2024-05-08T20:06:22.545612Z"
    },
    "papermill": {
     "duration": 0.022526,
     "end_time": "2024-05-08T20:06:22.548320",
     "exception": false,
     "start_time": "2024-05-08T20:06:22.525794",
     "status": "completed"
    },
    "tags": []
   },
   "outputs": [],
   "source": [
    "def plot_labels(df, title=None):\n",
    "  ds_labels = df[\"star\"].value_counts(normalize=True)\n",
    "  ds_labels.sort_index(inplace=True)\n",
    "  plt.figure(figsize=(4,3))\n",
    "  ax = ds_labels.plot(kind=\"bar\")\n",
    "  ax.set_xlabel(\"Star-\" + title)\n",
    "  ax.set_ylabel(\"Ratio\")\n",
    "  if title is not None:\n",
    "    plt.savefig(title + \".eps\")\n",
    "  plt.show()"
   ]
  },
  {
   "cell_type": "code",
   "execution_count": 7,
   "id": "49c937c0",
   "metadata": {
    "execution": {
     "iopub.execute_input": "2024-05-08T20:06:22.577015Z",
     "iopub.status.busy": "2024-05-08T20:06:22.576631Z",
     "iopub.status.idle": "2024-05-08T20:06:23.236824Z",
     "shell.execute_reply": "2024-05-08T20:06:23.235858Z"
    },
    "papermill": {
     "duration": 0.67713,
     "end_time": "2024-05-08T20:06:23.238931",
     "exception": false,
     "start_time": "2024-05-08T20:06:22.561801",
     "status": "completed"
    },
    "tags": []
   },
   "outputs": [
    {
     "data": {
      "image/png": "[encoded data removed]",
      "text/plain": [
       "<Figure size 400x300 with 1 Axes>"
      ]
     },
     "metadata": {},
     "output_type": "display_data"
    }
   ],
   "source": [
    "plot_labels(data_train, \"train\")"
   ]
  },
  {
   "cell_type": "markdown",
   "id": "33d60355",
   "metadata": {
    "papermill": {
     "duration": 0.013652,
     "end_time": "2024-05-08T20:06:23.266442",
     "exception": false,
     "start_time": "2024-05-08T20:06:23.252790",
     "status": "completed"
    },
    "tags": []
   },
   "source": [
    "We can find that the dataset is balanced."
   ]
  },
  {
   "cell_type": "markdown",
   "id": "1e72363b",
   "metadata": {
    "papermill": {
     "duration": 0.01342,
     "end_time": "2024-05-08T20:06:23.293866",
     "exception": false,
     "start_time": "2024-05-08T20:06:23.280446",
     "status": "completed"
    },
    "tags": []
   },
   "source": [
    "# Data Preprocessing and split\n",
    "We need to seperate training, validation, and testing sets."
   ]
  },
  {
   "cell_type": "markdown",
   "id": "b6f15893",
   "metadata": {
    "papermill": {
     "duration": 0.01334,
     "end_time": "2024-05-08T20:06:23.321037",
     "exception": false,
     "start_time": "2024-05-08T20:06:23.307697",
     "status": "completed"
    },
    "tags": []
   },
   "source": [
    "#### Removing emoticons\n",
    "\n",
    "We will shortly train a classifier to detect stars rating.\n",
    "- Before doing so, it is best to remove the emoticons and other symbols to make the classifier more stable."
   ]
  },
  {
   "cell_type": "code",
   "execution_count": 8,
   "id": "5cc62ead",
   "metadata": {
    "execution": {
     "iopub.execute_input": "2024-05-08T20:06:23.350726Z",
     "iopub.status.busy": "2024-05-08T20:06:23.349778Z",
     "iopub.status.idle": "2024-05-08T20:13:02.806736Z",
     "shell.execute_reply": "2024-05-08T20:13:02.805928Z"
    },
    "papermill": {
     "duration": 399.474749,
     "end_time": "2024-05-08T20:13:02.809428",
     "exception": false,
     "start_time": "2024-05-08T20:06:23.334679",
     "status": "completed"
    },
    "tags": []
   },
   "outputs": [],
   "source": [
    "def clean_sentence(sentence):\n",
    "    sentence = re.sub(r'\\\\n',\"\",sentence)\n",
    "\n",
    "    #removing emoticons\n",
    "    sentence = re.sub(r'(\\:\\w+\\:|\\<[\\/\\\\]?3|[\\(\\)\\\\\\D|\\*\\$][\\-\\^]?[\\:\\;\\=]|[\\:\\;\\=B8][\\-\\^]?[3DOPp\\@\\$\\*\\\\\\)\\(\\/\\|])(?=\\s|[\\!\\.\\?]|$)',\"\", sentence)\n",
    "\n",
    "    #removing websites\n",
    "    sentence = re.sub(r\"(http)?s?:?\\/\\/[A-Za-z0-9^,!.\\/'+-=_?]+\", \"\", sentence)\n",
    "\n",
    "    #numbers\n",
    "    sentence = re.sub(r\"(\\d+)(k)\", r\"\\g<1> thousand\", sentence)\n",
    "    sentence = re.sub(r\"(\\d+)([a-zA-z]+)\", r\"\\g<1> \\g<2>\", sentence)\n",
    "    #convert numbers to words\n",
    "    sentence = re.sub(r\"1\", \" one \", sentence)\n",
    "    sentence = re.sub(r\"2\", \" two \", sentence)\n",
    "    sentence = re.sub(r\"3\", \" three \", sentence)\n",
    "    sentence = re.sub(r\"4\", \" four \", sentence)\n",
    "    sentence = re.sub(r\"5\", \" five \", sentence)\n",
    "    sentence = re.sub(r\"6\", \" six \", sentence)\n",
    "    sentence = re.sub(r\"7\", \" seven \", sentence)\n",
    "    sentence = re.sub(r\"8\", \" eight \", sentence)\n",
    "    sentence = re.sub(r\"9\", \" nine \", sentence)\n",
    "    sentence = re.sub(r\"0\", \" zero \", sentence)\n",
    "\n",
    "    # removing extraneous symbols\n",
    "    sentence = re.sub(r\"[^A-Za-z0-9^,!.\\/'+-=%]\", \" \", sentence)\n",
    "\n",
    "    # expanding contraction\n",
    "    sentence = re.sub(r\"\\'s\", \" is \", sentence)\n",
    "    sentence = re.sub(r\"\\'ve\", \" have \", sentence)\n",
    "    sentence = re.sub(r\"n't\", \" not \", sentence)\n",
    "    sentence = re.sub(r\"i'm\", \" i am \", sentence)\n",
    "    sentence = re.sub(r\"\\'re\", \" are \", sentence)\n",
    "    sentence = re.sub(r\"\\'d\", \" would \", sentence)\n",
    "    sentence = re.sub(r\"\\'ll\", \" will \", sentence)\n",
    "\n",
    "    #spacing out symbols\n",
    "    sentence = re.sub(r\",\", \" \", sentence)\n",
    "    sentence = re.sub(r\"\\.\", \" . \", sentence)\n",
    "    sentence = re.sub(r\"!\", \" ! \", sentence)\n",
    "    sentence = re.sub(r\"\\/\", \" \", sentence)\n",
    "    sentence = re.sub(r\"\\^\", \" ^ \", sentence)\n",
    "    sentence = re.sub(r\"\\+\", \" + \", sentence)\n",
    "    sentence = re.sub(r\"\\-\", \" - \", sentence)\n",
    "    sentence = re.sub(r\"\\=\", \" = \", sentence)\n",
    "    sentence = re.sub(r\"'\", \" \", sentence)\n",
    "    sentence = re.sub(r\":\", \" : \", sentence)\n",
    "    sentence = re.sub(r\"%\", \" : \", sentence)\n",
    "    \n",
    "    #Aggiunta da me, per rimuovere punti nelle frasi, inoltre metto tutto minuscolo per non avere embedding\n",
    "    #case sensitive\n",
    "    \n",
    "    sentence=re.sub('\\W', ' ', sentence).lower() \n",
    "\n",
    "    return sentence\n",
    "\n",
    "\n",
    "texts_train_cleaned = list(map(clean_sentence, data_train['review']))\n",
    "texts_test_cleaned = list(map(clean_sentence, data_test['review']))"
   ]
  },
  {
   "cell_type": "code",
   "execution_count": 9,
   "id": "37941eb5",
   "metadata": {
    "execution": {
     "iopub.execute_input": "2024-05-08T20:13:02.839035Z",
     "iopub.status.busy": "2024-05-08T20:13:02.838371Z",
     "iopub.status.idle": "2024-05-08T20:13:02.874543Z",
     "shell.execute_reply": "2024-05-08T20:13:02.873682Z"
    },
    "papermill": {
     "duration": 0.053057,
     "end_time": "2024-05-08T20:13:02.876601",
     "exception": false,
     "start_time": "2024-05-08T20:13:02.823544",
     "status": "completed"
    },
    "tags": []
   },
   "outputs": [
    {
     "name": "stdout",
     "output_type": "stream",
     "text": [
      "############# BEFORE CLEANING ###############\n",
      "0 stars: We just came here with a large group and got kicked out bc we apparently refused to pay our tabs and were over intoxicated.  Umm, I personally paid $123 of overcharged drinks for my friends. We paid whatever charges they said we were refusing and left. We will never go there again. Take your money somewhere else that will at least treat you nicely. The drinks were overpriced and the service was horrible.  Don't waste your time and money.\n",
      "\n",
      "1 stars: Ordered chicken pad thai and the thai wonton soup. Definitely had better. For the price, was disappointed. Still trying to find a really good Thai place in this city.\n",
      "\n",
      "2 stars: BF and I went here at 9pm on a Friday night, when they closed at 10, and I have to say everyone was very nice, considering they probably wanted to wrap up and leave. \\n\\nPlus, my chicken egg roll was amazing. BF's general tso shrimp was very good. \\n\\nMinus, we each got a very little bowl of rice, and when we packed up our leftovers we had to ask for more rice and received very, very, little containers. \\n\\nAnother minus/plus, the flavor of my Capital Chicken was very good, a lot of chicken, good sauce, however, for $14, I had too many questionable pieces of chicken. I expect that from a cheap hole in the wall Chinese place where you pay $7, but for $14 and being the Sesame Inn, I definitely expected more!\n",
      "\n",
      "3 stars: Very good food and wonderful service!  Great place to go! Highly recommend! :-)\n",
      "\n",
      "4 stars: Food is awesome. Prices are reasonable for said food. Service hasn't been totally consistent, but everything else compensates for it. Butter Burger is a new favorite. Kerry Simon is a culinary genius and never disappoints, even if he's not there making the food himself!\n",
      "\n",
      "\n",
      "############# AFTER CLEANING #############\n",
      "0 stars: we just came here with a large group and got kicked out bc we apparently refused to pay our tabs and were over intoxicated     umm  i personally paid   one  two  three  of overcharged drinks for my friends    we paid whatever charges they said we were refusing and left    we will never go there again    take your money somewhere else that will at least treat you nicely    the drinks were overpriced and the service was horrible     do not  waste your time and money   \n",
      "\n",
      "1 stars: ordered chicken pad thai and the thai wonton soup    definitely had better    for the price  was disappointed    still trying to find a really good thai place in this city   \n",
      "\n",
      "2 stars: bf and i went here at  nine  pm on a friday night  when they closed at  one  zero   and i have to say everyone was very nice  considering they probably wanted to wrap up and leave    plus  my chicken egg roll was amazing    bf is  general tso shrimp was very good    minus  we each got a very little bowl of rice  and when we packed up our leftovers we had to ask for more rice and received very  very  little containers    another minus plus  the flavor of my capital chicken was very good  a lot of chicken  good sauce  however  for   one  four   i had too many questionable pieces of chicken    i expect that from a cheap hole in the wall chinese place where you pay   seven   but for   one  four  and being the sesame inn  i definitely expected more   \n",
      "\n",
      "3 stars: very good food and wonderful service     great place to go    highly recommend    \n",
      "\n",
      "4 stars: food is awesome    prices are reasonable for said food    service has not  been totally consistent  but everything else compensates for it    butter burger is a new favorite    kerry simon is a culinary genius and never disappoints  even if he is  not there making the food himself   \n",
      "\n"
     ]
    }
   ],
   "source": [
    "print(\"############# BEFORE CLEANING ###############\")\n",
    "np.random.seed(42)\n",
    "for i in range(5):\n",
    "  indexes = np.where(np.array(data_train[\"star\"])==i)[0]  \n",
    "  print(f\"{i} stars: {data_train['review'][np.random.choice(indexes)]}\\n\")\n",
    "    \n",
    "print(\"\\n############# AFTER CLEANING #############\")\n",
    "np.random.seed(42)\n",
    "for i in range(5):\n",
    "  indexes = np.where(np.array(data_train[\"star\"])==i)[0]\n",
    "  print(f\"{i} stars: {texts_train_cleaned[np.random.choice(indexes)]}\\n\")"
   ]
  },
  {
   "cell_type": "code",
   "execution_count": 10,
   "id": "585c3c04",
   "metadata": {
    "execution": {
     "iopub.execute_input": "2024-05-08T20:13:02.905327Z",
     "iopub.status.busy": "2024-05-08T20:13:02.905063Z",
     "iopub.status.idle": "2024-05-08T20:13:03.507625Z",
     "shell.execute_reply": "2024-05-08T20:13:03.506838Z"
    },
    "papermill": {
     "duration": 0.619572,
     "end_time": "2024-05-08T20:13:03.509942",
     "exception": false,
     "start_time": "2024-05-08T20:13:02.890370",
     "status": "completed"
    },
    "tags": []
   },
   "outputs": [],
   "source": [
    "X_train, X_val, y_train, y_val = train_test_split(texts_train_cleaned, data_train['star'], test_size=0.2, random_state=42,stratify = data_train['star'])\n",
    "df_train = pd.DataFrame(data = {'review':X_train,'star':y_train})\n",
    "df_train.reset_index(drop=True, inplace=True)\n",
    "df_val = pd.DataFrame(data = {'review':X_val,'star':y_val})\n",
    "df_val.reset_index(drop=True, inplace=True)\n",
    "df_test = pd.DataFrame(data = {'review':texts_test_cleaned,'star':data_test['star']})\n",
    "df_test.reset_index(drop=True, inplace=True)"
   ]
  },
  {
   "cell_type": "code",
   "execution_count": 11,
   "id": "86842921",
   "metadata": {
    "execution": {
     "iopub.execute_input": "2024-05-08T20:13:03.538770Z",
     "iopub.status.busy": "2024-05-08T20:13:03.538463Z",
     "iopub.status.idle": "2024-05-08T20:13:03.915497Z",
     "shell.execute_reply": "2024-05-08T20:13:03.914578Z"
    },
    "papermill": {
     "duration": 0.394206,
     "end_time": "2024-05-08T20:13:03.917865",
     "exception": false,
     "start_time": "2024-05-08T20:13:03.523659",
     "status": "completed"
    },
    "tags": []
   },
   "outputs": [
    {
     "data": {
      "image/png": "[encoded data removed]",
      "text/plain": [
       "<Figure size 400x300 with 1 Axes>"
      ]
     },
     "metadata": {},
     "output_type": "display_data"
    },
    {
     "data": {
      "text/plain": [
       "star\n",
       "1    104000\n",
       "4    104000\n",
       "3    104000\n",
       "2    104000\n",
       "0    104000\n",
       "Name: count, dtype: int64"
      ]
     },
     "execution_count": 11,
     "metadata": {},
     "output_type": "execute_result"
    }
   ],
   "source": [
    "plot_labels(df_train, \"train\")\n",
    "df_train[\"star\"].value_counts(normalize=False)"
   ]
  },
  {
   "cell_type": "code",
   "execution_count": 12,
   "id": "fb8681e4",
   "metadata": {
    "execution": {
     "iopub.execute_input": "2024-05-08T20:13:03.946910Z",
     "iopub.status.busy": "2024-05-08T20:13:03.946616Z",
     "iopub.status.idle": "2024-05-08T20:13:04.249067Z",
     "shell.execute_reply": "2024-05-08T20:13:04.247955Z"
    },
    "papermill": {
     "duration": 0.319513,
     "end_time": "2024-05-08T20:13:04.251452",
     "exception": false,
     "start_time": "2024-05-08T20:13:03.931939",
     "status": "completed"
    },
    "tags": []
   },
   "outputs": [
    {
     "data": {
      "image/png": "[encoded data removed]",
      "text/plain": [
       "<Figure size 400x300 with 1 Axes>"
      ]
     },
     "metadata": {},
     "output_type": "display_data"
    },
    {
     "data": {
      "text/plain": [
       "star\n",
       "0    26000\n",
       "4    26000\n",
       "1    26000\n",
       "3    26000\n",
       "2    26000\n",
       "Name: count, dtype: int64"
      ]
     },
     "execution_count": 12,
     "metadata": {},
     "output_type": "execute_result"
    }
   ],
   "source": [
    "plot_labels(df_val, \"validation\")\n",
    "df_val[\"star\"].value_counts(normalize=False)"
   ]
  },
  {
   "cell_type": "code",
   "execution_count": 13,
   "id": "6b726fe2",
   "metadata": {
    "execution": {
     "iopub.execute_input": "2024-05-08T20:13:04.289752Z",
     "iopub.status.busy": "2024-05-08T20:13:04.289238Z",
     "iopub.status.idle": "2024-05-08T20:13:04.599830Z",
     "shell.execute_reply": "2024-05-08T20:13:04.598859Z"
    },
    "papermill": {
     "duration": 0.331047,
     "end_time": "2024-05-08T20:13:04.601980",
     "exception": false,
     "start_time": "2024-05-08T20:13:04.270933",
     "status": "completed"
    },
    "tags": []
   },
   "outputs": [
    {
     "data": {
      "image/png": "[encoded data removed]",
      "text/plain": [
       "<Figure size 400x300 with 1 Axes>"
      ]
     },
     "metadata": {},
     "output_type": "display_data"
    },
    {
     "data": {
      "text/plain": [
       "star\n",
       "0    10000\n",
       "2    10000\n",
       "1    10000\n",
       "3    10000\n",
       "4    10000\n",
       "Name: count, dtype: int64"
      ]
     },
     "execution_count": 13,
     "metadata": {},
     "output_type": "execute_result"
    }
   ],
   "source": [
    "plot_labels(df_test, \"test\")\n",
    "df_test[\"star\"].value_counts(normalize=False)"
   ]
  },
  {
   "cell_type": "markdown",
   "id": "149e362c",
   "metadata": {
    "papermill": {
     "duration": 0.016704,
     "end_time": "2024-05-08T20:13:04.633916",
     "exception": false,
     "start_time": "2024-05-08T20:13:04.617212",
     "status": "completed"
    },
    "tags": []
   },
   "source": [
    "### Tokenization\n",
    "In this part, we will tokenize reviews and count numbers of tokens for each review. This information will be useful in BERT model. But we will not use these tokens directly for training models."
   ]
  },
  {
   "cell_type": "code",
   "execution_count": 14,
   "id": "77d47f3f",
   "metadata": {
    "execution": {
     "iopub.execute_input": "2024-05-08T20:13:04.665617Z",
     "iopub.status.busy": "2024-05-08T20:13:04.664739Z",
     "iopub.status.idle": "2024-05-08T20:13:04.669166Z",
     "shell.execute_reply": "2024-05-08T20:13:04.668289Z"
    },
    "papermill": {
     "duration": 0.022418,
     "end_time": "2024-05-08T20:13:04.671494",
     "exception": false,
     "start_time": "2024-05-08T20:13:04.649076",
     "status": "completed"
    },
    "tags": []
   },
   "outputs": [],
   "source": [
    "from nltk.tokenize import word_tokenize"
   ]
  },
  {
   "cell_type": "code",
   "execution_count": 15,
   "id": "c06119f3",
   "metadata": {
    "execution": {
     "iopub.execute_input": "2024-05-08T20:13:04.754018Z",
     "iopub.status.busy": "2024-05-08T20:13:04.753005Z",
     "iopub.status.idle": "2024-05-08T20:13:04.760646Z",
     "shell.execute_reply": "2024-05-08T20:13:04.759634Z"
    },
    "papermill": {
     "duration": 0.072489,
     "end_time": "2024-05-08T20:13:04.762661",
     "exception": false,
     "start_time": "2024-05-08T20:13:04.690172",
     "status": "completed"
    },
    "tags": []
   },
   "outputs": [
    {
     "name": "stdout",
     "output_type": "stream",
     "text": [
      "just went to taste for lunch     well we will get this out of the way firs  the food is good and fresh     everything in there is shiny new and clean and sleek     however  after getting the soup and sandwich combo with a drink  i am still hungry     and i paid over ten bucks     the sandwich is a half in the combo     which means mini  we are talking three bites     those three bites were good  however for   five     nine  nine  today at jersey mikes i would have had a huge sandwich and chips and a drink     so     overall i think they should have toned down the chic   ness and tried to price their food better    \n",
      " ['just', 'went', 'to', 'taste', 'for', 'lunch', 'well', 'we', 'will', 'get', 'this', 'out', 'of', 'the', 'way', 'firs', 'the', 'food', 'is', 'good', 'and', 'fresh', 'everything', 'in', 'there', 'is', 'shiny', 'new', 'and', 'clean', 'and', 'sleek', 'however', 'after', 'getting', 'the', 'soup', 'and', 'sandwich', 'combo', 'with', 'a', 'drink', 'i', 'am', 'still', 'hungry', 'and', 'i', 'paid', 'over', 'ten', 'bucks', 'the', 'sandwich', 'is', 'a', 'half', 'in', 'the', 'combo', 'which', 'means', 'mini', 'we', 'are', 'talking', 'three', 'bites', 'those', 'three', 'bites', 'were', 'good', 'however', 'for', 'five', 'nine', 'nine', 'today', 'at', 'jersey', 'mikes', 'i', 'would', 'have', 'had', 'a', 'huge', 'sandwich', 'and', 'chips', 'and', 'a', 'drink', 'so', 'overall', 'i', 'think', 'they', 'should', 'have', 'toned', 'down', 'the', 'chic', 'ness', 'and', 'tried', 'to', 'price', 'their', 'food', 'better']\n"
     ]
    }
   ],
   "source": [
    "ds_temp = df_train[\"review\"].iloc[:10].map(lambda text: text.split())\n",
    "print(df_train[\"review\"].iloc[0], '\\n', ds_temp.iloc[0])"
   ]
  },
  {
   "cell_type": "code",
   "execution_count": 16,
   "id": "bdd2493e",
   "metadata": {
    "execution": {
     "iopub.execute_input": "2024-05-08T20:13:04.798648Z",
     "iopub.status.busy": "2024-05-08T20:13:04.798211Z",
     "iopub.status.idle": "2024-05-08T20:13:17.253091Z",
     "shell.execute_reply": "2024-05-08T20:13:17.252016Z"
    },
    "papermill": {
     "duration": 12.474802,
     "end_time": "2024-05-08T20:13:17.255254",
     "exception": false,
     "start_time": "2024-05-08T20:13:04.780452",
     "status": "completed"
    },
    "tags": []
   },
   "outputs": [
    {
     "name": "stdout",
     "output_type": "stream",
     "text": [
      "CPU times: user 10.3 s, sys: 2.19 s, total: 12.5 s\n",
      "Wall time: 12.4 s\n"
     ]
    }
   ],
   "source": [
    "%time df_train[\"tokens\"] = df_train[\"review\"].map(lambda text: text.split())"
   ]
  },
  {
   "cell_type": "code",
   "execution_count": 17,
   "id": "24c3a674",
   "metadata": {
    "execution": {
     "iopub.execute_input": "2024-05-08T20:13:17.285996Z",
     "iopub.status.busy": "2024-05-08T20:13:17.285684Z",
     "iopub.status.idle": "2024-05-08T20:13:19.484264Z",
     "shell.execute_reply": "2024-05-08T20:13:19.483440Z"
    },
    "papermill": {
     "duration": 2.216565,
     "end_time": "2024-05-08T20:13:19.486718",
     "exception": false,
     "start_time": "2024-05-08T20:13:17.270153",
     "status": "completed"
    },
    "tags": []
   },
   "outputs": [
    {
     "name": "stdout",
     "output_type": "stream",
     "text": [
      "how does this place even stay in business    it is  disgusting    the food is crap    everything is filthy    all the waitresses look like crackheads    they screwed up a club sandwich   fries    how is that even possible   it deserves negative stars for sucking so badly    \n",
      " ['how', 'does', 'this', 'place', 'even', 'stay', 'in', 'business', 'it', 'is', 'disgusting', 'the', 'food', 'is', 'crap', 'everything', 'is', 'filthy', 'all', 'the', 'waitresses', 'look', 'like', 'crackheads', 'they', 'screwed', 'up', 'a', 'club', 'sandwich', 'fries', 'how', 'is', 'that', 'even', 'possible', 'it', 'deserves', 'negative', 'stars', 'for', 'sucking', 'so', 'badly']\n"
     ]
    }
   ],
   "source": [
    "ds_temp = df_val[\"review\"].iloc[:10].map(lambda text: text.split())\n",
    "print(df_val[\"review\"].iloc[0], '\\n', ds_temp.iloc[0])\n",
    "df_val[\"tokens\"] = df_val[\"review\"].map(lambda text: text.split())"
   ]
  },
  {
   "cell_type": "code",
   "execution_count": 18,
   "id": "641b25a7",
   "metadata": {
    "execution": {
     "iopub.execute_input": "2024-05-08T20:13:19.519020Z",
     "iopub.status.busy": "2024-05-08T20:13:19.518662Z",
     "iopub.status.idle": "2024-05-08T20:13:22.332102Z",
     "shell.execute_reply": "2024-05-08T20:13:22.331286Z"
    },
    "papermill": {
     "duration": 2.832243,
     "end_time": "2024-05-08T20:13:22.334631",
     "exception": false,
     "start_time": "2024-05-08T20:13:19.502388",
     "status": "completed"
    },
    "tags": []
   },
   "outputs": [
    {
     "name": "stdout",
     "output_type": "stream",
     "text": [
      "i got  new  tires from them and within two weeks got a flat    i took my car to a local mechanic to see if i could get the hole patched  but they said the reason i had a flat was because the previous patch had blown     wait  what  i just got the tire and never needed to have it patched  this was supposed to be a new tire    i took the tire over to flynn is  and they told me that someone punctured my tire  then tried to patch it    so there are resentful tire slashers  i find that very unlikely    after arguing with the guy and telling him that his logic was far fetched he said he would  give me a new tire   this time      i will never go back to flynn is  b c of the way this guy treated me and the simple fact that they gave me a used tire    \n",
      " ['i', 'got', 'new', 'tires', 'from', 'them', 'and', 'within', 'two', 'weeks', 'got', 'a', 'flat', 'i', 'took', 'my', 'car', 'to', 'a', 'local', 'mechanic', 'to', 'see', 'if', 'i', 'could', 'get', 'the', 'hole', 'patched', 'but', 'they', 'said', 'the', 'reason', 'i', 'had', 'a', 'flat', 'was', 'because', 'the', 'previous', 'patch', 'had', 'blown', 'wait', 'what', 'i', 'just', 'got', 'the', 'tire', 'and', 'never', 'needed', 'to', 'have', 'it', 'patched', 'this', 'was', 'supposed', 'to', 'be', 'a', 'new', 'tire', 'i', 'took', 'the', 'tire', 'over', 'to', 'flynn', 'is', 'and', 'they', 'told', 'me', 'that', 'someone', 'punctured', 'my', 'tire', 'then', 'tried', 'to', 'patch', 'it', 'so', 'there', 'are', 'resentful', 'tire', 'slashers', 'i', 'find', 'that', 'very', 'unlikely', 'after', 'arguing', 'with', 'the', 'guy', 'and', 'telling', 'him', 'that', 'his', 'logic', 'was', 'far', 'fetched', 'he', 'said', 'he', 'would', 'give', 'me', 'a', 'new', 'tire', 'this', 'time', 'i', 'will', 'never', 'go', 'back', 'to', 'flynn', 'is', 'b', 'c', 'of', 'the', 'way', 'this', 'guy', 'treated', 'me', 'and', 'the', 'simple', 'fact', 'that', 'they', 'gave', 'me', 'a', 'used', 'tire']\n"
     ]
    }
   ],
   "source": [
    "ds_temp = df_test[\"review\"].iloc[:10].map(lambda text: text.split())\n",
    "print(df_test[\"review\"].iloc[0], '\\n', ds_temp.iloc[0])\n",
    "df_test[\"tokens\"] = df_test[\"review\"].map(lambda text: text.split())"
   ]
  },
  {
   "cell_type": "code",
   "execution_count": 19,
   "id": "bcb99f66",
   "metadata": {
    "execution": {
     "iopub.execute_input": "2024-05-08T20:13:22.367727Z",
     "iopub.status.busy": "2024-05-08T20:13:22.367391Z",
     "iopub.status.idle": "2024-05-08T20:13:23.002891Z",
     "shell.execute_reply": "2024-05-08T20:13:23.001820Z"
    },
    "papermill": {
     "duration": 0.65486,
     "end_time": "2024-05-08T20:13:23.005557",
     "exception": false,
     "start_time": "2024-05-08T20:13:22.350697",
     "status": "completed"
    },
    "tags": []
   },
   "outputs": [
    {
     "data": {
      "image/png": "[encoded data removed]",
      "text/plain": [
       "<Figure size 400x300 with 1 Axes>"
      ]
     },
     "metadata": {},
     "output_type": "display_data"
    }
   ],
   "source": [
    "df_train[\"num_tokens\"] = df_train[\"tokens\"].map(len)\n",
    "ax = df_train[\"num_tokens\"].hist(bins=20, \n",
    "                                 figsize=(4,3),\n",
    "                                 grid = False,\n",
    "                                 weights=np.ones(df_train.shape[0])/df_train.shape[0])\n",
    "ax.set_xlabel(\"Number of Tokens\")\n",
    "ax.set_ylabel(\"Ratio\")\n",
    "plt.tight_layout()\n",
    "plt.show()"
   ]
  },
  {
   "cell_type": "code",
   "execution_count": 20,
   "id": "c23be73b",
   "metadata": {
    "execution": {
     "iopub.execute_input": "2024-05-08T20:13:23.043393Z",
     "iopub.status.busy": "2024-05-08T20:13:23.043048Z",
     "iopub.status.idle": "2024-05-08T20:13:23.197760Z",
     "shell.execute_reply": "2024-05-08T20:13:23.196700Z"
    },
    "papermill": {
     "duration": 0.176263,
     "end_time": "2024-05-08T20:13:23.200290",
     "exception": false,
     "start_time": "2024-05-08T20:13:23.024027",
     "status": "completed"
    },
    "tags": []
   },
   "outputs": [
    {
     "name": "stdout",
     "output_type": "stream",
     "text": [
      "0.5986788461538461\n",
      "0.8641019230769231\n"
     ]
    }
   ],
   "source": [
    "print(len(df_train[df_train[\"num_tokens\"] <= 128]) / len(df_train[\"num_tokens\"]))\n",
    "print(len(df_train[df_train[\"num_tokens\"] <= 256]) / len(df_train[\"num_tokens\"]))"
   ]
  },
  {
   "cell_type": "code",
   "execution_count": 21,
   "id": "cb7ab16c",
   "metadata": {
    "execution": {
     "iopub.execute_input": "2024-05-08T20:13:23.238370Z",
     "iopub.status.busy": "2024-05-08T20:13:23.237728Z",
     "iopub.status.idle": "2024-05-08T20:13:23.257528Z",
     "shell.execute_reply": "2024-05-08T20:13:23.256431Z"
    },
    "papermill": {
     "duration": 0.041581,
     "end_time": "2024-05-08T20:13:23.260070",
     "exception": false,
     "start_time": "2024-05-08T20:13:23.218489",
     "status": "completed"
    },
    "tags": []
   },
   "outputs": [
    {
     "data": {
      "text/html": [
       "<div>\n",
       "<style scoped>\n",
       "    .dataframe tbody tr th:only-of-type {\n",
       "        vertical-align: middle;\n",
       "    }\n",
       "\n",
       "    .dataframe tbody tr th {\n",
       "        vertical-align: top;\n",
       "    }\n",
       "\n",
       "    .dataframe thead th {\n",
       "        text-align: right;\n",
       "    }\n",
       "</style>\n",
       "<table border=\"1\" class=\"dataframe\">\n",
       "  <thead>\n",
       "    <tr style=\"text-align: right;\">\n",
       "      <th></th>\n",
       "      <th>review</th>\n",
       "      <th>star</th>\n",
       "      <th>tokens</th>\n",
       "      <th>num_tokens</th>\n",
       "    </tr>\n",
       "  </thead>\n",
       "  <tbody>\n",
       "    <tr>\n",
       "      <th>0</th>\n",
       "      <td>just went to taste for lunch     well we will ...</td>\n",
       "      <td>1</td>\n",
       "      <td>[just, went, to, taste, for, lunch, well, we, ...</td>\n",
       "      <td>114</td>\n",
       "    </tr>\n",
       "    <tr>\n",
       "      <th>1</th>\n",
       "      <td>excellent service     this is the main reason ...</td>\n",
       "      <td>4</td>\n",
       "      <td>[excellent, service, this, is, the, main, reas...</td>\n",
       "      <td>85</td>\n",
       "    </tr>\n",
       "    <tr>\n",
       "      <th>2</th>\n",
       "      <td>found this restaurant on a food network app   ...</td>\n",
       "      <td>3</td>\n",
       "      <td>[found, this, restaurant, on, a, food, network...</td>\n",
       "      <td>35</td>\n",
       "    </tr>\n",
       "    <tr>\n",
       "      <th>3</th>\n",
       "      <td>one of the only pizza places i get really exci...</td>\n",
       "      <td>3</td>\n",
       "      <td>[one, of, the, only, pizza, places, i, get, re...</td>\n",
       "      <td>241</td>\n",
       "    </tr>\n",
       "    <tr>\n",
       "      <th>4</th>\n",
       "      <td>frick n chicken is tucked in a strip mall righ...</td>\n",
       "      <td>2</td>\n",
       "      <td>[frick, n, chicken, is, tucked, in, a, strip, ...</td>\n",
       "      <td>262</td>\n",
       "    </tr>\n",
       "  </tbody>\n",
       "</table>\n",
       "</div>"
      ],
      "text/plain": [
       "                                              review  star  \\\n",
       "0  just went to taste for lunch     well we will ...     1   \n",
       "1  excellent service     this is the main reason ...     4   \n",
       "2  found this restaurant on a food network app   ...     3   \n",
       "3  one of the only pizza places i get really exci...     3   \n",
       "4  frick n chicken is tucked in a strip mall righ...     2   \n",
       "\n",
       "                                              tokens  num_tokens  \n",
       "0  [just, went, to, taste, for, lunch, well, we, ...         114  \n",
       "1  [excellent, service, this, is, the, main, reas...          85  \n",
       "2  [found, this, restaurant, on, a, food, network...          35  \n",
       "3  [one, of, the, only, pizza, places, i, get, re...         241  \n",
       "4  [frick, n, chicken, is, tucked, in, a, strip, ...         262  "
      ]
     },
     "execution_count": 21,
     "metadata": {},
     "output_type": "execute_result"
    }
   ],
   "source": [
    "df_train.head()"
   ]
  },
  {
   "cell_type": "code",
   "execution_count": 22,
   "id": "20b5e179",
   "metadata": {
    "execution": {
     "iopub.execute_input": "2024-05-08T20:13:23.296396Z",
     "iopub.status.busy": "2024-05-08T20:13:23.296051Z",
     "iopub.status.idle": "2024-05-08T20:23:44.269187Z",
     "shell.execute_reply": "2024-05-08T20:23:44.268031Z"
    },
    "papermill": {
     "duration": 621.009222,
     "end_time": "2024-05-08T20:23:44.288636",
     "exception": false,
     "start_time": "2024-05-08T20:13:23.279414",
     "status": "completed"
    },
    "tags": []
   },
   "outputs": [
    {
     "data": {
      "text/plain": [
       "43014"
      ]
     },
     "execution_count": 22,
     "metadata": {},
     "output_type": "execute_result"
    }
   ],
   "source": [
    "from gensim.models.word2vec import Word2Vec\n",
    "\n",
    "modelsize=70\n",
    "model = Word2Vec(df_train['tokens'], vector_size=modelsize, min_count=10, window=50,workers=16)\n",
    "len(model.wv)"
   ]
  },
  {
   "cell_type": "code",
   "execution_count": 23,
   "id": "030f98f2",
   "metadata": {
    "execution": {
     "iopub.execute_input": "2024-05-08T20:23:44.321969Z",
     "iopub.status.busy": "2024-05-08T20:23:44.321339Z",
     "iopub.status.idle": "2024-05-08T20:23:44.388379Z",
     "shell.execute_reply": "2024-05-08T20:23:44.387539Z"
    },
    "papermill": {
     "duration": 0.0866,
     "end_time": "2024-05-08T20:23:44.390970",
     "exception": false,
     "start_time": "2024-05-08T20:23:44.304370",
     "status": "completed"
    },
    "tags": []
   },
   "outputs": [],
   "source": [
    "from gensim.models import KeyedVectors\n",
    "model.save('word2vecmodel_rightembedding.kv')"
   ]
  },
  {
   "cell_type": "code",
   "execution_count": 24,
   "id": "8788515e",
   "metadata": {
    "execution": {
     "iopub.execute_input": "2024-05-08T20:23:44.430208Z",
     "iopub.status.busy": "2024-05-08T20:23:44.429846Z",
     "iopub.status.idle": "2024-05-08T20:27:31.468368Z",
     "shell.execute_reply": "2024-05-08T20:27:31.467246Z"
    },
    "papermill": {
     "duration": 227.061179,
     "end_time": "2024-05-08T20:27:31.470943",
     "exception": false,
     "start_time": "2024-05-08T20:23:44.409764",
     "status": "completed"
    },
    "tags": []
   },
   "outputs": [],
   "source": [
    "def vectorize(docs, embedding_model=model.wv, useSum=True):\n",
    "    vectors = np.zeros((len(docs),modelsize))\n",
    "    for i in range(len(docs)):\n",
    "    \n",
    "        tokens = docs[i]\n",
    "        embeddings = [embedding_model.get_vector(token) for token in tokens if token in embedding_model]\n",
    "        if (len(embeddings) > 0):\n",
    "            if (useSum):\n",
    "                vectors[i] = sum(embeddings)\n",
    "            else:\n",
    "                vectors[i] = np.mean(embeddings, axis=0)\n",
    "    return vectors\n",
    "\n",
    "train_x_vector = vectorize(df_train['tokens'])\n",
    "train_y=df_train['star']"
   ]
  },
  {
   "cell_type": "code",
   "execution_count": 25,
   "id": "11c8c085",
   "metadata": {
    "execution": {
     "iopub.execute_input": "2024-05-08T20:27:31.505502Z",
     "iopub.status.busy": "2024-05-08T20:27:31.505163Z",
     "iopub.status.idle": "2024-05-08T20:28:29.020186Z",
     "shell.execute_reply": "2024-05-08T20:28:29.019191Z"
    },
    "papermill": {
     "duration": 57.550529,
     "end_time": "2024-05-08T20:28:29.037996",
     "exception": false,
     "start_time": "2024-05-08T20:27:31.487467",
     "status": "completed"
    },
    "tags": []
   },
   "outputs": [
    {
     "name": "stdout",
     "output_type": "stream",
     "text": [
      "130000\n",
      "130000\n"
     ]
    }
   ],
   "source": [
    "val_x_vector=vectorize(df_val['tokens'])\n",
    "y_val=df_val['star']\n",
    "print(len(val_x_vector))\n",
    "print(len(y_val))"
   ]
  },
  {
   "cell_type": "code",
   "execution_count": 26,
   "id": "754cc186",
   "metadata": {
    "execution": {
     "iopub.execute_input": "2024-05-08T20:28:29.070230Z",
     "iopub.status.busy": "2024-05-08T20:28:29.069924Z",
     "iopub.status.idle": "2024-05-08T20:28:51.374933Z",
     "shell.execute_reply": "2024-05-08T20:28:51.373765Z"
    },
    "papermill": {
     "duration": 22.323575,
     "end_time": "2024-05-08T20:28:51.377083",
     "exception": false,
     "start_time": "2024-05-08T20:28:29.053508",
     "status": "completed"
    },
    "tags": []
   },
   "outputs": [
    {
     "name": "stdout",
     "output_type": "stream",
     "text": [
      "50000\n",
      "50000\n"
     ]
    }
   ],
   "source": [
    "test_x_vector=vectorize(df_test['tokens'])\n",
    "test_y=df_test['star']\n",
    "print(len(test_x_vector))\n",
    "print(len(test_y))"
   ]
  },
  {
   "cell_type": "markdown",
   "id": "7acff52a",
   "metadata": {
    "papermill": {
     "duration": 0.015508,
     "end_time": "2024-05-08T20:28:51.408462",
     "exception": false,
     "start_time": "2024-05-08T20:28:51.392954",
     "status": "completed"
    },
    "tags": []
   },
   "source": [
    "### Vectorization\n",
    "We will try following settings for vectorization:\n",
    "- Word representation: CountVectorizer vs. TfidfVectorizer\n",
    "- N-grams: unigram & bigram\n",
    "- Minimum document frequency: 5\n",
    "- Convert to lowercase\n",
    "- Use stop words"
   ]
  },
  {
   "cell_type": "markdown",
   "id": "472f5bb2",
   "metadata": {
    "papermill": {
     "duration": 0.015532,
     "end_time": "2024-05-08T20:28:51.439434",
     "exception": false,
     "start_time": "2024-05-08T20:28:51.423902",
     "status": "completed"
    },
    "tags": []
   },
   "source": [
    "# Experiments and Results\n",
    "We will use machine learning models and transformer-based models\n",
    "### Machine Learning\n",
    "Navie Bayes, Logistic Regression, Random Forest, and SGD Classifier will used in this section."
   ]
  },
  {
   "cell_type": "markdown",
   "id": "83a0d033",
   "metadata": {
    "papermill": {
     "duration": 0.01559,
     "end_time": "2024-05-08T20:28:51.470677",
     "exception": false,
     "start_time": "2024-05-08T20:28:51.455087",
     "status": "completed"
    },
    "tags": []
   },
   "source": [
    "#### Evaluation Metrics\n",
    "- Precision, recall, F1 score\n",
    "- Accuracy\n",
    "- Confusion matrix"
   ]
  },
  {
   "cell_type": "code",
   "execution_count": 27,
   "id": "1c4fd56e",
   "metadata": {
    "execution": {
     "iopub.execute_input": "2024-05-08T20:28:51.503270Z",
     "iopub.status.busy": "2024-05-08T20:28:51.502941Z",
     "iopub.status.idle": "2024-05-08T20:28:51.507713Z",
     "shell.execute_reply": "2024-05-08T20:28:51.506946Z"
    },
    "papermill": {
     "duration": 0.023464,
     "end_time": "2024-05-08T20:28:51.509618",
     "exception": false,
     "start_time": "2024-05-08T20:28:51.486154",
     "status": "completed"
    },
    "tags": []
   },
   "outputs": [],
   "source": [
    "from sklearn.metrics import accuracy_score, precision_score, recall_score\n",
    "from sklearn.metrics import f1_score, mean_squared_error\n",
    "from sklearn.metrics import classification_report\n",
    "from sklearn.metrics import confusion_matrix"
   ]
  },
  {
   "cell_type": "code",
   "execution_count": 28,
   "id": "be090eae",
   "metadata": {
    "execution": {
     "iopub.execute_input": "2024-05-08T20:28:51.542220Z",
     "iopub.status.busy": "2024-05-08T20:28:51.541949Z",
     "iopub.status.idle": "2024-05-08T20:28:51.734214Z",
     "shell.execute_reply": "2024-05-08T20:28:51.733407Z"
    },
    "papermill": {
     "duration": 0.211388,
     "end_time": "2024-05-08T20:28:51.736517",
     "exception": false,
     "start_time": "2024-05-08T20:28:51.525129",
     "status": "completed"
    },
    "tags": []
   },
   "outputs": [],
   "source": [
    "import seaborn as sns\n",
    "def evaluate_model_Xy(model, X, y, y_pred=None, label=\"Training\", model_name=\"model\"):\n",
    "  if y_pred is None:\n",
    "    y_pred = model.predict(X)\n",
    "\n",
    "  print(label + ' Set')\n",
    "  print(\"Accuracy:\", accuracy_score(y, y_pred))\n",
    "  print()\n",
    "\n",
    "  print(classification_report(y, y_pred, digits=4))\n",
    "  disp = confusion_matrix(y, y_pred, \n",
    "                          normalize='true')\n",
    "  sns.heatmap(disp, annot=True, fmt=\".2f\", cmap=\"Blues\")\n",
    "  plt.savefig(model_name + \"_\" + label.lower() + \".eps\")\n",
    "  plt.show()\n",
    "  print()"
   ]
  },
  {
   "cell_type": "code",
   "execution_count": 29,
   "id": "407c24b2",
   "metadata": {
    "execution": {
     "iopub.execute_input": "2024-05-08T20:28:51.769692Z",
     "iopub.status.busy": "2024-05-08T20:28:51.769411Z",
     "iopub.status.idle": "2024-05-08T20:28:51.774661Z",
     "shell.execute_reply": "2024-05-08T20:28:51.773768Z"
    },
    "papermill": {
     "duration": 0.023838,
     "end_time": "2024-05-08T20:28:51.776555",
     "exception": false,
     "start_time": "2024-05-08T20:28:51.752717",
     "status": "completed"
    },
    "tags": []
   },
   "outputs": [],
   "source": [
    "def evaluate_model(model, model_name=\"model\",\n",
    "                   y_train_pred=None, y_dev_pred=None, y_test_pred=None):\n",
    "  evaluate_model_Xy(model, train_x_vector, train_y, label=\"Training\", model_name=model_name)\n",
    "  evaluate_model_Xy(model, val_x_vector, y_val, label=\"Validation\", model_name=model_name)\n",
    "  evaluate_model_Xy(model, test_x_vector, test_y, label=\"Testing\", model_name=model_name)"
   ]
  },
  {
   "cell_type": "markdown",
   "id": "039372bf",
   "metadata": {
    "papermill": {
     "duration": 0.015515,
     "end_time": "2024-05-08T20:28:51.808808",
     "exception": false,
     "start_time": "2024-05-08T20:28:51.793293",
     "status": "completed"
    },
    "tags": []
   },
   "source": [
    "### Logistic Regression Classifier-Lasso"
   ]
  },
  {
   "cell_type": "code",
   "execution_count": 30,
   "id": "5a63f2ce",
   "metadata": {
    "execution": {
     "iopub.execute_input": "2024-05-08T20:28:51.841294Z",
     "iopub.status.busy": "2024-05-08T20:28:51.841023Z",
     "iopub.status.idle": "2024-05-08T20:28:51.845817Z",
     "shell.execute_reply": "2024-05-08T20:28:51.844990Z"
    },
    "papermill": {
     "duration": 0.023351,
     "end_time": "2024-05-08T20:28:51.847669",
     "exception": false,
     "start_time": "2024-05-08T20:28:51.824318",
     "status": "completed"
    },
    "tags": []
   },
   "outputs": [],
   "source": [
    "from sklearn.linear_model import LogisticRegression\n",
    "clf_lr_lasso = LogisticRegression(\n",
    "                                  tol=1e-4,\n",
    "                                  fit_intercept=True,\n",
    "                                  class_weight='balanced',\n",
    "                                  random_state=0,\n",
    "                                  solver='lbfgs',\n",
    "                                  max_iter=500,\n",
    "                                  multi_class='auto',\n",
    "                                  verbose=1,\n",
    "                                  n_jobs=-1)"
   ]
  },
  {
   "cell_type": "code",
   "execution_count": 31,
   "id": "992dc285",
   "metadata": {
    "execution": {
     "iopub.execute_input": "2024-05-08T20:28:51.879951Z",
     "iopub.status.busy": "2024-05-08T20:28:51.879683Z",
     "iopub.status.idle": "2024-05-08T20:30:37.802641Z",
     "shell.execute_reply": "2024-05-08T20:30:37.801559Z"
    },
    "papermill": {
     "duration": 105.941503,
     "end_time": "2024-05-08T20:30:37.804818",
     "exception": false,
     "start_time": "2024-05-08T20:28:51.863315",
     "status": "completed"
    },
    "tags": []
   },
   "outputs": [
    {
     "name": "stderr",
     "output_type": "stream",
     "text": [
      "[Parallel(n_jobs=-1)]: Using backend LokyBackend with 4 concurrent workers.\n"
     ]
    },
    {
     "name": "stdout",
     "output_type": "stream",
     "text": [
      "RUNNING THE L-BFGS-B CODE\n",
      "\n",
      "           * * *\n",
      "\n",
      "Machine precision = 2.220D-16\n",
      " N =          355     M =           10\n",
      "\n",
      "At X0         0 variables are exactly at the bounds\n",
      "\n",
      "At iterate    0    f=  8.36908D+05    |proj g|=  1.28187D+07\n"
     ]
    },
    {
     "name": "stderr",
     "output_type": "stream",
     "text": [
      " This problem is unconstrained.\n"
     ]
    },
    {
     "name": "stdout",
     "output_type": "stream",
     "text": [
      "\n",
      "At iterate   50    f=  5.51977D+05    |proj g|=  3.50525D+05\n",
      "\n",
      "At iterate  100    f=  5.51140D+05    |proj g|=  4.70614D+04\n",
      "\n",
      "At iterate  150    f=  5.50641D+05    |proj g|=  3.98874D+04\n",
      "\n",
      "At iterate  200    f=  5.50543D+05    |proj g|=  1.15812D+04\n",
      "\n",
      "At iterate  250    f=  5.50534D+05    |proj g|=  9.11737D+03\n",
      "\n",
      "At iterate  300    f=  5.50531D+05    |proj g|=  4.65804D+03\n",
      "\n",
      "At iterate  350    f=  5.50527D+05    |proj g|=  7.09142D+03\n",
      "\n",
      "At iterate  400    f=  5.50519D+05    |proj g|=  7.71221D+03\n",
      "\n",
      "At iterate  450    f=  5.50455D+05    |proj g|=  3.83637D+04\n",
      "\n",
      "At iterate  500    f=  5.50398D+05    |proj g|=  1.11693D+04\n",
      "\n",
      "           * * *\n",
      "\n",
      "Tit   = total number of iterations\n",
      "Tnf   = total number of function evaluations\n",
      "Tnint = total number of segments explored during Cauchy searches\n",
      "Skip  = number of BFGS updates skipped\n",
      "Nact  = number of active bounds at final generalized Cauchy point\n",
      "Projg = norm of the final projected gradient\n",
      "F     = final function value\n",
      "\n",
      "           * * *\n",
      "\n",
      "   N    Tit     Tnf  Tnint  Skip  Nact     Projg        F\n",
      "  355    500    549      1     0     0   1.117D+04   5.504D+05\n",
      "  F =   550398.26807598060     \n",
      "\n",
      "STOP: TOTAL NO. of ITERATIONS REACHED LIMIT                 \n"
     ]
    },
    {
     "name": "stderr",
     "output_type": "stream",
     "text": [
      "/opt/conda/lib/python3.10/site-packages/sklearn/linear_model/_logistic.py:458: ConvergenceWarning: lbfgs failed to converge (status=1):\n",
      "STOP: TOTAL NO. of ITERATIONS REACHED LIMIT.\n",
      "\n",
      "Increase the number of iterations (max_iter) or scale the data as shown in:\n",
      "    https://scikit-learn.org/stable/modules/preprocessing.html\n",
      "Please also refer to the documentation for alternative solver options:\n",
      "    https://scikit-learn.org/stable/modules/linear_model.html#logistic-regression\n",
      "  n_iter_i = _check_optimize_result(\n"
     ]
    },
    {
     "data": {
      "text/html": [
       "<style>#sk-container-id-1 {color: black;background-color: white;}#sk-container-id-1 pre{padding: 0;}#sk-container-id-1 div.sk-toggleable {background-color: white;}#sk-container-id-1 label.sk-toggleable__label {cursor: pointer;display: block;width: 100%;margin-bottom: 0;padding: 0.3em;box-sizing: border-box;text-align: center;}#sk-container-id-1 label.sk-toggleable__label-arrow:before {content: \"▸\";float: left;margin-right: 0.25em;color: #696969;}#sk-container-id-1 label.sk-toggleable__label-arrow:hover:before {color: black;}#sk-container-id-1 div.sk-estimator:hover label.sk-toggleable__label-arrow:before {color: black;}#sk-container-id-1 div.sk-toggleable__content {max-height: 0;max-width: 0;overflow: hidden;text-align: left;background-color: #f0f8ff;}#sk-container-id-1 div.sk-toggleable__content pre {margin: 0.2em;color: black;border-radius: 0.25em;background-color: #f0f8ff;}#sk-container-id-1 input.sk-toggleable__control:checked~div.sk-toggleable__content {max-height: 200px;max-width: 100%;overflow: auto;}#sk-container-id-1 input.sk-toggleable__control:checked~label.sk-toggleable__label-arrow:before {content: \"▾\";}#sk-container-id-1 div.sk-estimator input.sk-toggleable__control:checked~label.sk-toggleable__label {background-color: #d4ebff;}#sk-container-id-1 div.sk-label input.sk-toggleable__control:checked~label.sk-toggleable__label {background-color: #d4ebff;}#sk-container-id-1 input.sk-hidden--visually {border: 0;clip: rect(1px 1px 1px 1px);clip: rect(1px, 1px, 1px, 1px);height: 1px;margin: -1px;overflow: hidden;padding: 0;position: absolute;width: 1px;}#sk-container-id-1 div.sk-estimator {font-family: monospace;background-color: #f0f8ff;border: 1px dotted black;border-radius: 0.25em;box-sizing: border-box;margin-bottom: 0.5em;}#sk-container-id-1 div.sk-estimator:hover {background-color: #d4ebff;}#sk-container-id-1 div.sk-parallel-item::after {content: \"\";width: 100%;border-bottom: 1px solid gray;flex-grow: 1;}#sk-container-id-1 div.sk-label:hover label.sk-toggleable__label {background-color: #d4ebff;}#sk-container-id-1 div.sk-serial::before {content: \"\";position: absolute;border-left: 1px solid gray;box-sizing: border-box;top: 0;bottom: 0;left: 50%;z-index: 0;}#sk-container-id-1 div.sk-serial {display: flex;flex-direction: column;align-items: center;background-color: white;padding-right: 0.2em;padding-left: 0.2em;position: relative;}#sk-container-id-1 div.sk-item {position: relative;z-index: 1;}#sk-container-id-1 div.sk-parallel {display: flex;align-items: stretch;justify-content: center;background-color: white;position: relative;}#sk-container-id-1 div.sk-item::before, #sk-container-id-1 div.sk-parallel-item::before {content: \"\";position: absolute;border-left: 1px solid gray;box-sizing: border-box;top: 0;bottom: 0;left: 50%;z-index: -1;}#sk-container-id-1 div.sk-parallel-item {display: flex;flex-direction: column;z-index: 1;position: relative;background-color: white;}#sk-container-id-1 div.sk-parallel-item:first-child::after {align-self: flex-end;width: 50%;}#sk-container-id-1 div.sk-parallel-item:last-child::after {align-self: flex-start;width: 50%;}#sk-container-id-1 div.sk-parallel-item:only-child::after {width: 0;}#sk-container-id-1 div.sk-dashed-wrapped {border: 1px dashed gray;margin: 0 0.4em 0.5em 0.4em;box-sizing: border-box;padding-bottom: 0.4em;background-color: white;}#sk-container-id-1 div.sk-label label {font-family: monospace;font-weight: bold;display: inline-block;line-height: 1.2em;}#sk-container-id-1 div.sk-label-container {text-align: center;}#sk-container-id-1 div.sk-container {/* jupyter's `normalize.less` sets `[hidden] { display: none; }` but bootstrap.min.css set `[hidden] { display: none !important; }` so we also need the `!important` here to be able to override the default hidden behavior on the sphinx rendered scikit-learn.org. See: https://github.com/scikit-learn/scikit-learn/issues/21755 */display: inline-block !important;position: relative;}#sk-container-id-1 div.sk-text-repr-fallback {display: none;}</style><div id=\"sk-container-id-1\" class=\"sk-top-container\"><div class=\"sk-text-repr-fallback\"><pre>LogisticRegression(class_weight=&#x27;balanced&#x27;, max_iter=500, n_jobs=-1,\n",
       "                   random_state=0, verbose=1)</pre><b>In a Jupyter environment, please rerun this cell to show the HTML representation or trust the notebook. <br />On GitHub, the HTML representation is unable to render, please try loading this page with nbviewer.org.</b></div><div class=\"sk-container\" hidden><div class=\"sk-item\"><div class=\"sk-estimator sk-toggleable\"><input class=\"sk-toggleable__control sk-hidden--visually\" id=\"sk-estimator-id-1\" type=\"checkbox\" checked><label for=\"sk-estimator-id-1\" class=\"sk-toggleable__label sk-toggleable__label-arrow\">LogisticRegression</label><div class=\"sk-toggleable__content\"><pre>LogisticRegression(class_weight=&#x27;balanced&#x27;, max_iter=500, n_jobs=-1,\n",
       "                   random_state=0, verbose=1)</pre></div></div></div></div></div>"
      ],
      "text/plain": [
       "LogisticRegression(class_weight='balanced', max_iter=500, n_jobs=-1,\n",
       "                   random_state=0, verbose=1)"
      ]
     },
     "execution_count": 31,
     "metadata": {},
     "output_type": "execute_result"
    }
   ],
   "source": [
    "clf_lr_lasso.fit(train_x_vector, y_train)"
   ]
  },
  {
   "cell_type": "code",
   "execution_count": 32,
   "id": "34388de6",
   "metadata": {
    "execution": {
     "iopub.execute_input": "2024-05-08T20:30:37.841030Z",
     "iopub.status.busy": "2024-05-08T20:30:37.840715Z",
     "iopub.status.idle": "2024-05-08T20:30:40.075863Z",
     "shell.execute_reply": "2024-05-08T20:30:40.074919Z"
    },
    "papermill": {
     "duration": 2.25619,
     "end_time": "2024-05-08T20:30:40.078661",
     "exception": false,
     "start_time": "2024-05-08T20:30:37.822471",
     "status": "completed"
    },
    "tags": []
   },
   "outputs": [
    {
     "name": "stdout",
     "output_type": "stream",
     "text": [
      "Training Set\n",
      "Accuracy: 0.5606403846153846\n",
      "\n",
      "              precision    recall  f1-score   support\n",
      "\n",
      "           0     0.6755    0.7530    0.7121    104000\n",
      "           1     0.5048    0.4493    0.4755    104000\n",
      "           2     0.4735    0.4475    0.4601    104000\n",
      "           3     0.4825    0.4226    0.4506    104000\n",
      "           4     0.6223    0.7308    0.6722    104000\n",
      "\n",
      "    accuracy                         0.5606    520000\n",
      "   macro avg     0.5517    0.5606    0.5541    520000\n",
      "weighted avg     0.5517    0.5606    0.5541    520000\n",
      "\n"
     ]
    },
    {
     "data": {
      "image/png": "[encoded data removed]",
      "text/plain": [
       "<Figure size 640x480 with 2 Axes>"
      ]
     },
     "metadata": {},
     "output_type": "display_data"
    },
    {
     "name": "stdout",
     "output_type": "stream",
     "text": [
      "\n",
      "Validation Set\n",
      "Accuracy: 0.5606461538461538\n",
      "\n",
      "              precision    recall  f1-score   support\n",
      "\n",
      "           0     0.6760    0.7580    0.7147     26000\n",
      "           1     0.5032    0.4456    0.4726     26000\n",
      "           2     0.4714    0.4506    0.4608     26000\n",
      "           3     0.4823    0.4195    0.4487     26000\n",
      "           4     0.6249    0.7295    0.6731     26000\n",
      "\n",
      "    accuracy                         0.5606    130000\n",
      "   macro avg     0.5516    0.5606    0.5540    130000\n",
      "weighted avg     0.5516    0.5606    0.5540    130000\n",
      "\n"
     ]
    },
    {
     "data": {
      "image/png": "[encoded data removed]",
      "text/plain": [
       "<Figure size 640x480 with 2 Axes>"
      ]
     },
     "metadata": {},
     "output_type": "display_data"
    },
    {
     "name": "stdout",
     "output_type": "stream",
     "text": [
      "\n",
      "Testing Set\n",
      "Accuracy: 0.56146\n",
      "\n",
      "              precision    recall  f1-score   support\n",
      "\n",
      "           0     0.6698    0.7502    0.7077     10000\n",
      "           1     0.5029    0.4489    0.4744     10000\n",
      "           2     0.4774    0.4488    0.4627     10000\n",
      "           3     0.4865    0.4337    0.4586     10000\n",
      "           4     0.6279    0.7257    0.6733     10000\n",
      "\n",
      "    accuracy                         0.5615     50000\n",
      "   macro avg     0.5529    0.5615    0.5553     50000\n",
      "weighted avg     0.5529    0.5615    0.5553     50000\n",
      "\n"
     ]
    },
    {
     "data": {
      "image/png": "[encoded data removed]",
      "text/plain": [
       "<Figure size 640x480 with 2 Axes>"
      ]
     },
     "metadata": {},
     "output_type": "display_data"
    },
    {
     "name": "stdout",
     "output_type": "stream",
     "text": [
      "\n"
     ]
    }
   ],
   "source": [
    "evaluate_model(clf_lr_lasso, model_name=\"lr_tfidf_lasso\")"
   ]
  }
 ],
 "metadata": {
  "kaggle": {
   "accelerator": "gpu",
   "dataSources": [],
   "dockerImageVersionId": 30699,
   "isGpuEnabled": true,
   "isInternetEnabled": true,
   "language": "python",
   "sourceType": "notebook"
  },
  "kernelspec": {
   "display_name": "Python 3",
   "language": "python",
   "name": "python3"
  },
  "language_info": {
   "codemirror_mode": {
    "name": "ipython",
    "version": 3
   },
   "file_extension": ".py",
   "mimetype": "text/x-python",
   "name": "python",
   "nbconvert_exporter": "python",
   "pygments_lexer": "ipython3",
   "version": "3.10.13"
  },
  "papermill": {
   "default_parameters": {},
   "duration": 1493.986235,
   "end_time": "2024-05-08T20:30:43.222925",
   "environment_variables": {},
   "exception": null,
   "input_path": "__notebook__.ipynb",
   "output_path": "__notebook__.ipynb",
   "parameters": {},
   "start_time": "2024-05-08T20:05:49.236690",
   "version": "2.5.0"
  },
  "widgets": {
   "application/vnd.jupyter.widget-state+json": {
    "state": {
     "0fa2bd00d1cd43b78fd34d2b5513a1b0": {
      "model_module": "@jupyter-widgets/base",
      "model_module_version": "1.2.0",
      "model_name": "LayoutModel",
      "state": {
       "_model_module": "@jupyter-widgets/base",
       "_model_module_version": "1.2.0",
       "_model_name": "LayoutModel",
       "_view_count": null,
       "_view_module": "@jupyter-widgets/base",
       "_view_module_version": "1.2.0",
       "_view_name": "LayoutView",
       "align_content": null,
       "align_items": null,
       "align_self": null,
       "border": null,
       "bottom": null,
       "display": null,
       "flex": null,
       "flex_flow": null,
       "grid_area": null,
       "grid_auto_columns": null,
       "grid_auto_flow": null,
       "grid_auto_rows": null,
       "grid_column": null,
       "grid_gap": null,
       "grid_row": null,
       "grid_template_areas": null,
       "grid_template_columns": null,
       "grid_template_rows": null,
       "height": null,
       "justify_content": null,
       "justify_items": null,
       "left": null,
       "margin": null,
       "max_height": null,
       "max_width": null,
       "min_height": null,
       "min_width": null,
       "object_fit": null,
       "object_position": null,
       "order": null,
       "overflow": null,
       "overflow_x": null,
       "overflow_y": null,
       "padding": null,
       "right": null,
       "top": null,
       "visibility": null,
       "width": null
      }
     },
     "1491394b1ce5481c9c3fcaabc0515f01": {
      "model_module": "@jupyter-widgets/base",
      "model_module_version": "1.2.0",
      "model_name": "LayoutModel",
      "state": {
       "_model_module": "@jupyter-widgets/base",
       "_model_module_version": "1.2.0",
       "_model_name": "LayoutModel",
       "_view_count": null,
       "_view_module": "@jupyter-widgets/base",
       "_view_module_version": "1.2.0",
       "_view_name": "LayoutView",
       "align_content": null,
       "align_items": null,
       "align_self": null,
       "border": null,
       "bottom": null,
       "display": null,
       "flex": null,
       "flex_flow": null,
       "grid_area": null,
       "grid_auto_columns": null,
       "grid_auto_flow": null,
       "grid_auto_rows": null,
       "grid_column": null,
       "grid_gap": null,
       "grid_row": null,
       "grid_template_areas": null,
       "grid_template_columns": null,
       "grid_template_rows": null,
       "height": null,
       "justify_content": null,
       "justify_items": null,
       "left": null,
       "margin": null,
       "max_height": null,
       "max_width": null,
       "min_height": null,
       "min_width": null,
       "object_fit": null,
       "object_position": null,
       "order": null,
       "overflow": null,
       "overflow_x": null,
       "overflow_y": null,
       "padding": null,
       "right": null,
       "top": null,
       "visibility": null,
       "width": null
      }
     },
     "1c9074444fb643668abd927fe3ed0d5b": {
      "model_module": "@jupyter-widgets/base",
      "model_module_version": "1.2.0",
      "model_name": "LayoutModel",
      "state": {
       "_model_module": "@jupyter-widgets/base",
       "_model_module_version": "1.2.0",
       "_model_name": "LayoutModel",
       "_view_count": null,
       "_view_module": "@jupyter-widgets/base",
       "_view_module_version": "1.2.0",
       "_view_name": "LayoutView",
       "align_content": null,
       "align_items": null,
       "align_self": null,
       "border": null,
       "bottom": null,
       "display": null,
       "flex": null,
       "flex_flow": null,
       "grid_area": null,
       "grid_auto_columns": null,
       "grid_auto_flow": null,
       "grid_auto_rows": null,
       "grid_column": null,
       "grid_gap": null,
       "grid_row": null,
       "grid_template_areas": null,
       "grid_template_columns": null,
       "grid_template_rows": null,
       "height": null,
       "justify_content": null,
       "justify_items": null,
       "left": null,
       "margin": null,
       "max_height": null,
       "max_width": null,
       "min_height": null,
       "min_width": null,
       "object_fit": null,
       "object_position": null,
       "order": null,
       "overflow": null,
       "overflow_x": null,
       "overflow_y": null,
       "padding": null,
       "right": null,
       "top": null,
       "visibility": null,
       "width": null
      }
     },
     "22c7a24c295f4c549dd3f032457b6be8": {
      "model_module": "@jupyter-widgets/base",
      "model_module_version": "1.2.0",
      "model_name": "LayoutModel",
      "state": {
       "_model_module": "@jupyter-widgets/base",
       "_model_module_version": "1.2.0",
       "_model_name": "LayoutModel",
       "_view_count": null,
       "_view_module": "@jupyter-widgets/base",
       "_view_module_version": "1.2.0",
       "_view_name": "LayoutView",
       "align_content": null,
       "align_items": null,
       "align_self": null,
       "border": null,
       "bottom": null,
       "display": null,
       "flex": null,
       "flex_flow": null,
       "grid_area": null,
       "grid_auto_columns": null,
       "grid_auto_flow": null,
       "grid_auto_rows": null,
       "grid_column": null,
       "grid_gap": null,
       "grid_row": null,
       "grid_template_areas": null,
       "grid_template_columns": null,
       "grid_template_rows": null,
       "height": null,
       "justify_content": null,
       "justify_items": null,
       "left": null,
       "margin": null,
       "max_height": null,
       "max_width": null,
       "min_height": null,
       "min_width": null,
       "object_fit": null,
       "object_position": null,
       "order": null,
       "overflow": null,
       "overflow_x": null,
       "overflow_y": null,
       "padding": null,
       "right": null,
       "top": null,
       "visibility": null,
       "width": null
      }
     },
     "244cbeede0cd4e9280e95d10b9cb5184": {
      "model_module": "@jupyter-widgets/base",
      "model_module_version": "1.2.0",
      "model_name": "LayoutModel",
      "state": {
       "_model_module": "@jupyter-widgets/base",
       "_model_module_version": "1.2.0",
       "_model_name": "LayoutModel",
       "_view_count": null,
       "_view_module": "@jupyter-widgets/base",
       "_view_module_version": "1.2.0",
       "_view_name": "LayoutView",
       "align_content": null,
       "align_items": null,
       "align_self": null,
       "border": null,
       "bottom": null,
       "display": null,
       "flex": null,
       "flex_flow": null,
       "grid_area": null,
       "grid_auto_columns": null,
       "grid_auto_flow": null,
       "grid_auto_rows": null,
       "grid_column": null,
       "grid_gap": null,
       "grid_row": null,
       "grid_template_areas": null,
       "grid_template_columns": null,
       "grid_template_rows": null,
       "height": null,
       "justify_content": null,
       "justify_items": null,
       "left": null,
       "margin": null,
       "max_height": null,
       "max_width": null,
       "min_height": null,
       "min_width": null,
       "object_fit": null,
       "object_position": null,
       "order": null,
       "overflow": null,
       "overflow_x": null,
       "overflow_y": null,
       "padding": null,
       "right": null,
       "top": null,
       "visibility": null,
       "width": null
      }
     },
     "26c3498f1a6748aa855e71a092508e44": {
      "model_module": "@jupyter-widgets/controls",
      "model_module_version": "1.5.0",
      "model_name": "FloatProgressModel",
      "state": {
       "_dom_classes": [],
       "_model_module": "@jupyter-widgets/controls",
       "_model_module_version": "1.5.0",
       "_model_name": "FloatProgressModel",
       "_view_count": null,
       "_view_module": "@jupyter-widgets/controls",
       "_view_module_version": "1.5.0",
       "_view_name": "ProgressView",
       "bar_style": "success",
       "description": "",
       "description_tooltip": null,
       "layout": "IPY_MODEL_54d4a0031f4f4104a4ddad72b3ec2eb2",
       "max": 2.0,
       "min": 0.0,
       "orientation": "horizontal",
       "style": "IPY_MODEL_98701e4cfe8847c2b6f911ca839e5e6f",
       "value": 2.0
      }
     },
     "2f22ed1493834f8abaaa6d4ebfe3e01a": {
      "model_module": "@jupyter-widgets/base",
      "model_module_version": "1.2.0",
      "model_name": "LayoutModel",
      "state": {
       "_model_module": "@jupyter-widgets/base",
       "_model_module_version": "1.2.0",
       "_model_name": "LayoutModel",
       "_view_count": null,
       "_view_module": "@jupyter-widgets/base",
       "_view_module_version": "1.2.0",
       "_view_name": "LayoutView",
       "align_content": null,
       "align_items": null,
       "align_self": null,
       "border": null,
       "bottom": null,
       "display": null,
       "flex": null,
       "flex_flow": null,
       "grid_area": null,
       "grid_auto_columns": null,
       "grid_auto_flow": null,
       "grid_auto_rows": null,
       "grid_column": null,
       "grid_gap": null,
       "grid_row": null,
       "grid_template_areas": null,
       "grid_template_columns": null,
       "grid_template_rows": null,
       "height": null,
       "justify_content": null,
       "justify_items": null,
       "left": null,
       "margin": null,
       "max_height": null,
       "max_width": null,
       "min_height": null,
       "min_width": null,
       "object_fit": null,
       "object_position": null,
       "order": null,
       "overflow": null,
       "overflow_x": null,
       "overflow_y": null,
       "padding": null,
       "right": null,
       "top": null,
       "visibility": null,
       "width": null
      }
     },
     "34304c7be10b4b2bb9c9d2927ffe26fe": {
      "model_module": "@jupyter-widgets/base",
      "model_module_version": "1.2.0",
      "model_name": "LayoutModel",
      "state": {
       "_model_module": "@jupyter-widgets/base",
       "_model_module_version": "1.2.0",
       "_model_name": "LayoutModel",
       "_view_count": null,
       "_view_module": "@jupyter-widgets/base",
       "_view_module_version": "1.2.0",
       "_view_name": "LayoutView",
       "align_content": null,
       "align_items": null,
       "align_self": null,
       "border": null,
       "bottom": null,
       "display": null,
       "flex": null,
       "flex_flow": null,
       "grid_area": null,
       "grid_auto_columns": null,
       "grid_auto_flow": null,
       "grid_auto_rows": null,
       "grid_column": null,
       "grid_gap": null,
       "grid_row": null,
       "grid_template_areas": null,
       "grid_template_columns": null,
       "grid_template_rows": null,
       "height": null,
       "justify_content": null,
       "justify_items": null,
       "left": null,
       "margin": null,
       "max_height": null,
       "max_width": null,
       "min_height": null,
       "min_width": null,
       "object_fit": null,
       "object_position": null,
       "order": null,
       "overflow": null,
       "overflow_x": null,
       "overflow_y": null,
       "padding": null,
       "right": null,
       "top": null,
       "visibility": null,
       "width": null
      }
     },
     "43c63cce8e2b4d4d9c6e0eb93532009a": {
      "model_module": "@jupyter-widgets/controls",
      "model_module_version": "1.5.0",
      "model_name": "ProgressStyleModel",
      "state": {
       "_model_module": "@jupyter-widgets/controls",
       "_model_module_version": "1.5.0",
       "_model_name": "ProgressStyleModel",
       "_view_count": null,
       "_view_module": "@jupyter-widgets/base",
       "_view_module_version": "1.2.0",
       "_view_name": "StyleView",
       "bar_color": null,
       "description_width": ""
      }
     },
     "54d4a0031f4f4104a4ddad72b3ec2eb2": {
      "model_module": "@jupyter-widgets/base",
      "model_module_version": "1.2.0",
      "model_name": "LayoutModel",
      "state": {
       "_model_module": "@jupyter-widgets/base",
       "_model_module_version": "1.2.0",
       "_model_name": "LayoutModel",
       "_view_count": null,
       "_view_module": "@jupyter-widgets/base",
       "_view_module_version": "1.2.0",
       "_view_name": "LayoutView",
       "align_content": null,
       "align_items": null,
       "align_self": null,
       "border": null,
       "bottom": null,
       "display": null,
       "flex": null,
       "flex_flow": null,
       "grid_area": null,
       "grid_auto_columns": null,
       "grid_auto_flow": null,
       "grid_auto_rows": null,
       "grid_column": null,
       "grid_gap": null,
       "grid_row": null,
       "grid_template_areas": null,
       "grid_template_columns": null,
       "grid_template_rows": null,
       "height": null,
       "justify_content": null,
       "justify_items": null,
       "left": null,
       "margin": null,
       "max_height": null,
       "max_width": null,
       "min_height": null,
       "min_width": null,
       "object_fit": null,
       "object_position": null,
       "order": null,
       "overflow": null,
       "overflow_x": null,
       "overflow_y": null,
       "padding": null,
       "right": null,
       "top": null,
       "visibility": null,
       "width": null
      }
     },
     "594d4ccd612c43b08e05dd824c865f85": {
      "model_module": "@jupyter-widgets/controls",
      "model_module_version": "1.5.0",
      "model_name": "ProgressStyleModel",
      "state": {
       "_model_module": "@jupyter-widgets/controls",
       "_model_module_version": "1.5.0",
       "_model_name": "ProgressStyleModel",
       "_view_count": null,
       "_view_module": "@jupyter-widgets/base",
       "_view_module_version": "1.2.0",
       "_view_name": "StyleView",
       "bar_color": null,
       "description_width": ""
      }
     },
     "5ef6f98b0cb94b9c9774bb5d31228c00": {
      "model_module": "@jupyter-widgets/base",
      "model_module_version": "1.2.0",
      "model_name": "LayoutModel",
      "state": {
       "_model_module": "@jupyter-widgets/base",
       "_model_module_version": "1.2.0",
       "_model_name": "LayoutModel",
       "_view_count": null,
       "_view_module": "@jupyter-widgets/base",
       "_view_module_version": "1.2.0",
       "_view_name": "LayoutView",
       "align_content": null,
       "align_items": null,
       "align_self": null,
       "border": null,
       "bottom": null,
       "display": null,
       "flex": null,
       "flex_flow": null,
       "grid_area": null,
       "grid_auto_columns": null,
       "grid_auto_flow": null,
       "grid_auto_rows": null,
       "grid_column": null,
       "grid_gap": null,
       "grid_row": null,
       "grid_template_areas": null,
       "grid_template_columns": null,
       "grid_template_rows": null,
       "height": null,
       "justify_content": null,
       "justify_items": null,
       "left": null,
       "margin": null,
       "max_height": null,
       "max_width": null,
       "min_height": null,
       "min_width": null,
       "object_fit": null,
       "object_position": null,
       "order": null,
       "overflow": null,
       "overflow_x": null,
       "overflow_y": null,
       "padding": null,
       "right": null,
       "top": null,
       "visibility": null,
       "width": null
      }
     },
     "63c4bca0ac98416493d2a6942b285108": {
      "model_module": "@jupyter-widgets/base",
      "model_module_version": "1.2.0",
      "model_name": "LayoutModel",
      "state": {
       "_model_module": "@jupyter-widgets/base",
       "_model_module_version": "1.2.0",
       "_model_name": "LayoutModel",
       "_view_count": null,
       "_view_module": "@jupyter-widgets/base",
       "_view_module_version": "1.2.0",
       "_view_name": "LayoutView",
       "align_content": null,
       "align_items": null,
       "align_self": null,
       "border": null,
       "bottom": null,
       "display": null,
       "flex": null,
       "flex_flow": null,
       "grid_area": null,
       "grid_auto_columns": null,
       "grid_auto_flow": null,
       "grid_auto_rows": null,
       "grid_column": null,
       "grid_gap": null,
       "grid_row": null,
       "grid_template_areas": null,
       "grid_template_columns": null,
       "grid_template_rows": null,
       "height": null,
       "justify_content": null,
       "justify_items": null,
       "left": null,
       "margin": null,
       "max_height": null,
       "max_width": null,
       "min_height": null,
       "min_width": null,
       "object_fit": null,
       "object_position": null,
       "order": null,
       "overflow": null,
       "overflow_x": null,
       "overflow_y": null,
       "padding": null,
       "right": null,
       "top": null,
       "visibility": null,
       "width": null
      }
     },
     "67cce28088d740ee9d52e72a1b84f2f1": {
      "model_module": "@jupyter-widgets/controls",
      "model_module_version": "1.5.0",
      "model_name": "HBoxModel",
      "state": {
       "_dom_classes": [],
       "_model_module": "@jupyter-widgets/controls",
       "_model_module_version": "1.5.0",
       "_model_name": "HBoxModel",
       "_view_count": null,
       "_view_module": "@jupyter-widgets/controls",
       "_view_module_version": "1.5.0",
       "_view_name": "HBoxView",
       "box_style": "",
       "children": [
        "IPY_MODEL_805a127e869e458aac9abbddeb7d2b0f",
        "IPY_MODEL_9e4441b2c499422f80332227e27ee625",
        "IPY_MODEL_bf9bcf24e1fb4541a8174e2ebcdc6854"
       ],
       "layout": "IPY_MODEL_1491394b1ce5481c9c3fcaabc0515f01"
      }
     },
     "6f680700a91e479b8fd946a70199b0fd": {
      "model_module": "@jupyter-widgets/controls",
      "model_module_version": "1.5.0",
      "model_name": "DescriptionStyleModel",
      "state": {
       "_model_module": "@jupyter-widgets/controls",
       "_model_module_version": "1.5.0",
       "_model_name": "DescriptionStyleModel",
       "_view_count": null,
       "_view_module": "@jupyter-widgets/base",
       "_view_module_version": "1.2.0",
       "_view_name": "StyleView",
       "description_width": ""
      }
     },
     "6f81b21ef3394ddead55148ec9077a14": {
      "model_module": "@jupyter-widgets/controls",
      "model_module_version": "1.5.0",
      "model_name": "FloatProgressModel",
      "state": {
       "_dom_classes": [],
       "_model_module": "@jupyter-widgets/controls",
       "_model_module_version": "1.5.0",
       "_model_name": "FloatProgressModel",
       "_view_count": null,
       "_view_module": "@jupyter-widgets/controls",
       "_view_module_version": "1.5.0",
       "_view_name": "ProgressView",
       "bar_style": "success",
       "description": "",
       "description_tooltip": null,
       "layout": "IPY_MODEL_5ef6f98b0cb94b9c9774bb5d31228c00",
       "max": 6724.0,
       "min": 0.0,
       "orientation": "horizontal",
       "style": "IPY_MODEL_cf6101fc31524b539115a6696277f60f",
       "value": 6724.0
      }
     },
     "805a127e869e458aac9abbddeb7d2b0f": {
      "model_module": "@jupyter-widgets/controls",
      "model_module_version": "1.5.0",
      "model_name": "HTMLModel",
      "state": {
       "_dom_classes": [],
       "_model_module": "@jupyter-widgets/controls",
       "_model_module_version": "1.5.0",
       "_model_name": "HTMLModel",
       "_view_count": null,
       "_view_module": "@jupyter-widgets/controls",
       "_view_module_version": "1.5.0",
       "_view_name": "HTMLView",
       "description": "",
       "description_tooltip": null,
       "layout": "IPY_MODEL_2f22ed1493834f8abaaa6d4ebfe3e01a",
       "placeholder": "​",
       "style": "IPY_MODEL_a8d7fd78d3a74dcb96c2e96c25d18dea",
       "value": "Generating test split: 100%"
      }
     },
     "8be0ca8bd93e42129d794e45dd865d7f": {
      "model_module": "@jupyter-widgets/base",
      "model_module_version": "1.2.0",
      "model_name": "LayoutModel",
      "state": {
       "_model_module": "@jupyter-widgets/base",
       "_model_module_version": "1.2.0",
       "_model_name": "LayoutModel",
       "_view_count": null,
       "_view_module": "@jupyter-widgets/base",
       "_view_module_version": "1.2.0",
       "_view_name": "LayoutView",
       "align_content": null,
       "align_items": null,
       "align_self": null,
       "border": null,
       "bottom": null,
       "display": null,
       "flex": null,
       "flex_flow": null,
       "grid_area": null,
       "grid_auto_columns": null,
       "grid_auto_flow": null,
       "grid_auto_rows": null,
       "grid_column": null,
       "grid_gap": null,
       "grid_row": null,
       "grid_template_areas": null,
       "grid_template_columns": null,
       "grid_template_rows": null,
       "height": null,
       "justify_content": null,
       "justify_items": null,
       "left": null,
       "margin": null,
       "max_height": null,
       "max_width": null,
       "min_height": null,
       "min_width": null,
       "object_fit": null,
       "object_position": null,
       "order": null,
       "overflow": null,
       "overflow_x": null,
       "overflow_y": null,
       "padding": null,
       "right": null,
       "top": null,
       "visibility": null,
       "width": null
      }
     },
     "8c15c3ac2de4498d93e8b45e78b9dee7": {
      "model_module": "@jupyter-widgets/controls",
      "model_module_version": "1.5.0",
      "model_name": "HTMLModel",
      "state": {
       "_dom_classes": [],
       "_model_module": "@jupyter-widgets/controls",
       "_model_module_version": "1.5.0",
       "_model_name": "HTMLModel",
       "_view_count": null,
       "_view_module": "@jupyter-widgets/controls",
       "_view_module_version": "1.5.0",
       "_view_name": "HTMLView",
       "description": "",
       "description_tooltip": null,
       "layout": "IPY_MODEL_be782b53a43f42838de3f5a54eb1aafc",
       "placeholder": "​",
       "style": "IPY_MODEL_9cb076eeba0a4e34a1db416dd63e4421",
       "value": " 650000/650000 [00:02&lt;00:00, 288498.79 examples/s]"
      }
     },
     "9055ff26874b4c0fa64bf62f12c0a6f9": {
      "model_module": "@jupyter-widgets/base",
      "model_module_version": "1.2.0",
      "model_name": "LayoutModel",
      "state": {
       "_model_module": "@jupyter-widgets/base",
       "_model_module_version": "1.2.0",
       "_model_name": "LayoutModel",
       "_view_count": null,
       "_view_module": "@jupyter-widgets/base",
       "_view_module_version": "1.2.0",
       "_view_name": "LayoutView",
       "align_content": null,
       "align_items": null,
       "align_self": null,
       "border": null,
       "bottom": null,
       "display": null,
       "flex": null,
       "flex_flow": null,
       "grid_area": null,
       "grid_auto_columns": null,
       "grid_auto_flow": null,
       "grid_auto_rows": null,
       "grid_column": null,
       "grid_gap": null,
       "grid_row": null,
       "grid_template_areas": null,
       "grid_template_columns": null,
       "grid_template_rows": null,
       "height": null,
       "justify_content": null,
       "justify_items": null,
       "left": null,
       "margin": null,
       "max_height": null,
       "max_width": null,
       "min_height": null,
       "min_width": null,
       "object_fit": null,
       "object_position": null,
       "order": null,
       "overflow": null,
       "overflow_x": null,
       "overflow_y": null,
       "padding": null,
       "right": null,
       "top": null,
       "visibility": null,
       "width": null
      }
     },
     "98701e4cfe8847c2b6f911ca839e5e6f": {
      "model_module": "@jupyter-widgets/controls",
      "model_module_version": "1.5.0",
      "model_name": "ProgressStyleModel",
      "state": {
       "_model_module": "@jupyter-widgets/controls",
       "_model_module_version": "1.5.0",
       "_model_name": "ProgressStyleModel",
       "_view_count": null,
       "_view_module": "@jupyter-widgets/base",
       "_view_module_version": "1.2.0",
       "_view_name": "StyleView",
       "bar_color": null,
       "description_width": ""
      }
     },
     "98808221dc814bb29ee86121d13b3ed5": {
      "model_module": "@jupyter-widgets/controls",
      "model_module_version": "1.5.0",
      "model_name": "FloatProgressModel",
      "state": {
       "_dom_classes": [],
       "_model_module": "@jupyter-widgets/controls",
       "_model_module_version": "1.5.0",
       "_model_name": "FloatProgressModel",
       "_view_count": null,
       "_view_module": "@jupyter-widgets/controls",
       "_view_module_version": "1.5.0",
       "_view_name": "ProgressView",
       "bar_style": "success",
       "description": "",
       "description_tooltip": null,
       "layout": "IPY_MODEL_9055ff26874b4c0fa64bf62f12c0a6f9",
       "max": 650000.0,
       "min": 0.0,
       "orientation": "horizontal",
       "style": "IPY_MODEL_43c63cce8e2b4d4d9c6e0eb93532009a",
       "value": 650000.0
      }
     },
     "99c437ef6f4f4bdaaf621d61da297008": {
      "model_module": "@jupyter-widgets/controls",
      "model_module_version": "1.5.0",
      "model_name": "HBoxModel",
      "state": {
       "_dom_classes": [],
       "_model_module": "@jupyter-widgets/controls",
       "_model_module_version": "1.5.0",
       "_model_name": "HBoxModel",
       "_view_count": null,
       "_view_module": "@jupyter-widgets/controls",
       "_view_module_version": "1.5.0",
       "_view_name": "HBoxView",
       "box_style": "",
       "children": [
        "IPY_MODEL_e8b508f1a0e04108be57ecf2033372a1",
        "IPY_MODEL_98808221dc814bb29ee86121d13b3ed5",
        "IPY_MODEL_8c15c3ac2de4498d93e8b45e78b9dee7"
       ],
       "layout": "IPY_MODEL_22c7a24c295f4c549dd3f032457b6be8"
      }
     },
     "9bc1b5fd60884621808d11d5c5337722": {
      "model_module": "@jupyter-widgets/controls",
      "model_module_version": "1.5.0",
      "model_name": "HTMLModel",
      "state": {
       "_dom_classes": [],
       "_model_module": "@jupyter-widgets/controls",
       "_model_module_version": "1.5.0",
       "_model_name": "HTMLModel",
       "_view_count": null,
       "_view_module": "@jupyter-widgets/controls",
       "_view_module_version": "1.5.0",
       "_view_name": "HTMLView",
       "description": "",
       "description_tooltip": null,
       "layout": "IPY_MODEL_da82455e651d44c9bb98d1d6bf0a732d",
       "placeholder": "​",
       "style": "IPY_MODEL_e555c668609142aa80f74ad7b9a8a70f",
       "value": "Downloading readme: 100%"
      }
     },
     "9cb076eeba0a4e34a1db416dd63e4421": {
      "model_module": "@jupyter-widgets/controls",
      "model_module_version": "1.5.0",
      "model_name": "DescriptionStyleModel",
      "state": {
       "_model_module": "@jupyter-widgets/controls",
       "_model_module_version": "1.5.0",
       "_model_name": "DescriptionStyleModel",
       "_view_count": null,
       "_view_module": "@jupyter-widgets/base",
       "_view_module_version": "1.2.0",
       "_view_name": "StyleView",
       "description_width": ""
      }
     },
     "9d5cd16e528348c592c2f4e74c062ad7": {
      "model_module": "@jupyter-widgets/controls",
      "model_module_version": "1.5.0",
      "model_name": "DescriptionStyleModel",
      "state": {
       "_model_module": "@jupyter-widgets/controls",
       "_model_module_version": "1.5.0",
       "_model_name": "DescriptionStyleModel",
       "_view_count": null,
       "_view_module": "@jupyter-widgets/base",
       "_view_module_version": "1.2.0",
       "_view_name": "StyleView",
       "description_width": ""
      }
     },
     "9e4441b2c499422f80332227e27ee625": {
      "model_module": "@jupyter-widgets/controls",
      "model_module_version": "1.5.0",
      "model_name": "FloatProgressModel",
      "state": {
       "_dom_classes": [],
       "_model_module": "@jupyter-widgets/controls",
       "_model_module_version": "1.5.0",
       "_model_name": "FloatProgressModel",
       "_view_count": null,
       "_view_module": "@jupyter-widgets/controls",
       "_view_module_version": "1.5.0",
       "_view_name": "ProgressView",
       "bar_style": "success",
       "description": "",
       "description_tooltip": null,
       "layout": "IPY_MODEL_8be0ca8bd93e42129d794e45dd865d7f",
       "max": 50000.0,
       "min": 0.0,
       "orientation": "horizontal",
       "style": "IPY_MODEL_594d4ccd612c43b08e05dd824c865f85",
       "value": 50000.0
      }
     },
     "a4dbd4f8e37d483bb7321e0d696a0806": {
      "model_module": "@jupyter-widgets/controls",
      "model_module_version": "1.5.0",
      "model_name": "HBoxModel",
      "state": {
       "_dom_classes": [],
       "_model_module": "@jupyter-widgets/controls",
       "_model_module_version": "1.5.0",
       "_model_name": "HBoxModel",
       "_view_count": null,
       "_view_module": "@jupyter-widgets/controls",
       "_view_module_version": "1.5.0",
       "_view_name": "HBoxView",
       "box_style": "",
       "children": [
        "IPY_MODEL_9bc1b5fd60884621808d11d5c5337722",
        "IPY_MODEL_6f81b21ef3394ddead55148ec9077a14",
        "IPY_MODEL_e1961db1ceb840f2942e2b1c088fcffe"
       ],
       "layout": "IPY_MODEL_34304c7be10b4b2bb9c9d2927ffe26fe"
      }
     },
     "a8d7fd78d3a74dcb96c2e96c25d18dea": {
      "model_module": "@jupyter-widgets/controls",
      "model_module_version": "1.5.0",
      "model_name": "DescriptionStyleModel",
      "state": {
       "_model_module": "@jupyter-widgets/controls",
       "_model_module_version": "1.5.0",
       "_model_name": "DescriptionStyleModel",
       "_view_count": null,
       "_view_module": "@jupyter-widgets/base",
       "_view_module_version": "1.2.0",
       "_view_name": "StyleView",
       "description_width": ""
      }
     },
     "a9141f15649742ae8cc21c884c20026b": {
      "model_module": "@jupyter-widgets/controls",
      "model_module_version": "1.5.0",
      "model_name": "DescriptionStyleModel",
      "state": {
       "_model_module": "@jupyter-widgets/controls",
       "_model_module_version": "1.5.0",
       "_model_name": "DescriptionStyleModel",
       "_view_count": null,
       "_view_module": "@jupyter-widgets/base",
       "_view_module_version": "1.2.0",
       "_view_name": "StyleView",
       "description_width": ""
      }
     },
     "afe68d3684bb4e4da5fc940fbdcd0f1a": {
      "model_module": "@jupyter-widgets/controls",
      "model_module_version": "1.5.0",
      "model_name": "HBoxModel",
      "state": {
       "_dom_classes": [],
       "_model_module": "@jupyter-widgets/controls",
       "_model_module_version": "1.5.0",
       "_model_name": "HBoxModel",
       "_view_count": null,
       "_view_module": "@jupyter-widgets/controls",
       "_view_module_version": "1.5.0",
       "_view_name": "HBoxView",
       "box_style": "",
       "children": [
        "IPY_MODEL_b8b95cc7d3ca4a1c8fbed8f16147605e",
        "IPY_MODEL_26c3498f1a6748aa855e71a092508e44",
        "IPY_MODEL_cb9df1a07ed44dc0a370ed319554b064"
       ],
       "layout": "IPY_MODEL_b256bde849fd40c9aa6236e99e40ed7b"
      }
     },
     "b1a047e623cf420a8ace5e7694ef191b": {
      "model_module": "@jupyter-widgets/controls",
      "model_module_version": "1.5.0",
      "model_name": "DescriptionStyleModel",
      "state": {
       "_model_module": "@jupyter-widgets/controls",
       "_model_module_version": "1.5.0",
       "_model_name": "DescriptionStyleModel",
       "_view_count": null,
       "_view_module": "@jupyter-widgets/base",
       "_view_module_version": "1.2.0",
       "_view_name": "StyleView",
       "description_width": ""
      }
     },
     "b256bde849fd40c9aa6236e99e40ed7b": {
      "model_module": "@jupyter-widgets/base",
      "model_module_version": "1.2.0",
      "model_name": "LayoutModel",
      "state": {
       "_model_module": "@jupyter-widgets/base",
       "_model_module_version": "1.2.0",
       "_model_name": "LayoutModel",
       "_view_count": null,
       "_view_module": "@jupyter-widgets/base",
       "_view_module_version": "1.2.0",
       "_view_name": "LayoutView",
       "align_content": null,
       "align_items": null,
       "align_self": null,
       "border": null,
       "bottom": null,
       "display": null,
       "flex": null,
       "flex_flow": null,
       "grid_area": null,
       "grid_auto_columns": null,
       "grid_auto_flow": null,
       "grid_auto_rows": null,
       "grid_column": null,
       "grid_gap": null,
       "grid_row": null,
       "grid_template_areas": null,
       "grid_template_columns": null,
       "grid_template_rows": null,
       "height": null,
       "justify_content": null,
       "justify_items": null,
       "left": null,
       "margin": null,
       "max_height": null,
       "max_width": null,
       "min_height": null,
       "min_width": null,
       "object_fit": null,
       "object_position": null,
       "order": null,
       "overflow": null,
       "overflow_x": null,
       "overflow_y": null,
       "padding": null,
       "right": null,
       "top": null,
       "visibility": null,
       "width": null
      }
     },
     "b8b95cc7d3ca4a1c8fbed8f16147605e": {
      "model_module": "@jupyter-widgets/controls",
      "model_module_version": "1.5.0",
      "model_name": "HTMLModel",
      "state": {
       "_dom_classes": [],
       "_model_module": "@jupyter-widgets/controls",
       "_model_module_version": "1.5.0",
       "_model_name": "HTMLModel",
       "_view_count": null,
       "_view_module": "@jupyter-widgets/controls",
       "_view_module_version": "1.5.0",
       "_view_name": "HTMLView",
       "description": "",
       "description_tooltip": null,
       "layout": "IPY_MODEL_0fa2bd00d1cd43b78fd34d2b5513a1b0",
       "placeholder": "​",
       "style": "IPY_MODEL_6f680700a91e479b8fd946a70199b0fd",
       "value": "Computing checksums: 100%"
      }
     },
     "be782b53a43f42838de3f5a54eb1aafc": {
      "model_module": "@jupyter-widgets/base",
      "model_module_version": "1.2.0",
      "model_name": "LayoutModel",
      "state": {
       "_model_module": "@jupyter-widgets/base",
       "_model_module_version": "1.2.0",
       "_model_name": "LayoutModel",
       "_view_count": null,
       "_view_module": "@jupyter-widgets/base",
       "_view_module_version": "1.2.0",
       "_view_name": "LayoutView",
       "align_content": null,
       "align_items": null,
       "align_self": null,
       "border": null,
       "bottom": null,
       "display": null,
       "flex": null,
       "flex_flow": null,
       "grid_area": null,
       "grid_auto_columns": null,
       "grid_auto_flow": null,
       "grid_auto_rows": null,
       "grid_column": null,
       "grid_gap": null,
       "grid_row": null,
       "grid_template_areas": null,
       "grid_template_columns": null,
       "grid_template_rows": null,
       "height": null,
       "justify_content": null,
       "justify_items": null,
       "left": null,
       "margin": null,
       "max_height": null,
       "max_width": null,
       "min_height": null,
       "min_width": null,
       "object_fit": null,
       "object_position": null,
       "order": null,
       "overflow": null,
       "overflow_x": null,
       "overflow_y": null,
       "padding": null,
       "right": null,
       "top": null,
       "visibility": null,
       "width": null
      }
     },
     "bf9bcf24e1fb4541a8174e2ebcdc6854": {
      "model_module": "@jupyter-widgets/controls",
      "model_module_version": "1.5.0",
      "model_name": "HTMLModel",
      "state": {
       "_dom_classes": [],
       "_model_module": "@jupyter-widgets/controls",
       "_model_module_version": "1.5.0",
       "_model_name": "HTMLModel",
       "_view_count": null,
       "_view_module": "@jupyter-widgets/controls",
       "_view_module_version": "1.5.0",
       "_view_name": "HTMLView",
       "description": "",
       "description_tooltip": null,
       "layout": "IPY_MODEL_63c4bca0ac98416493d2a6942b285108",
       "placeholder": "​",
       "style": "IPY_MODEL_e71ab5fc2c0847c6ae6c6a20586bcfdd",
       "value": " 50000/50000 [00:00&lt;00:00, 274681.72 examples/s]"
      }
     },
     "cb9df1a07ed44dc0a370ed319554b064": {
      "model_module": "@jupyter-widgets/controls",
      "model_module_version": "1.5.0",
      "model_name": "HTMLModel",
      "state": {
       "_dom_classes": [],
       "_model_module": "@jupyter-widgets/controls",
       "_model_module_version": "1.5.0",
       "_model_name": "HTMLModel",
       "_view_count": null,
       "_view_module": "@jupyter-widgets/controls",
       "_view_module_version": "1.5.0",
       "_view_name": "HTMLView",
       "description": "",
       "description_tooltip": null,
       "layout": "IPY_MODEL_d975432e81e6489c816fc5b8eceacf2d",
       "placeholder": "​",
       "style": "IPY_MODEL_a9141f15649742ae8cc21c884c20026b",
       "value": " 2/2 [00:00&lt;00:00, 211.17it/s]"
      }
     },
     "cf6101fc31524b539115a6696277f60f": {
      "model_module": "@jupyter-widgets/controls",
      "model_module_version": "1.5.0",
      "model_name": "ProgressStyleModel",
      "state": {
       "_model_module": "@jupyter-widgets/controls",
       "_model_module_version": "1.5.0",
       "_model_name": "ProgressStyleModel",
       "_view_count": null,
       "_view_module": "@jupyter-widgets/base",
       "_view_module_version": "1.2.0",
       "_view_name": "StyleView",
       "bar_color": null,
       "description_width": ""
      }
     },
     "d975432e81e6489c816fc5b8eceacf2d": {
      "model_module": "@jupyter-widgets/base",
      "model_module_version": "1.2.0",
      "model_name": "LayoutModel",
      "state": {
       "_model_module": "@jupyter-widgets/base",
       "_model_module_version": "1.2.0",
       "_model_name": "LayoutModel",
       "_view_count": null,
       "_view_module": "@jupyter-widgets/base",
       "_view_module_version": "1.2.0",
       "_view_name": "LayoutView",
       "align_content": null,
       "align_items": null,
       "align_self": null,
       "border": null,
       "bottom": null,
       "display": null,
       "flex": null,
       "flex_flow": null,
       "grid_area": null,
       "grid_auto_columns": null,
       "grid_auto_flow": null,
       "grid_auto_rows": null,
       "grid_column": null,
       "grid_gap": null,
       "grid_row": null,
       "grid_template_areas": null,
       "grid_template_columns": null,
       "grid_template_rows": null,
       "height": null,
       "justify_content": null,
       "justify_items": null,
       "left": null,
       "margin": null,
       "max_height": null,
       "max_width": null,
       "min_height": null,
       "min_width": null,
       "object_fit": null,
       "object_position": null,
       "order": null,
       "overflow": null,
       "overflow_x": null,
       "overflow_y": null,
       "padding": null,
       "right": null,
       "top": null,
       "visibility": null,
       "width": null
      }
     },
     "da82455e651d44c9bb98d1d6bf0a732d": {
      "model_module": "@jupyter-widgets/base",
      "model_module_version": "1.2.0",
      "model_name": "LayoutModel",
      "state": {
       "_model_module": "@jupyter-widgets/base",
       "_model_module_version": "1.2.0",
       "_model_name": "LayoutModel",
       "_view_count": null,
       "_view_module": "@jupyter-widgets/base",
       "_view_module_version": "1.2.0",
       "_view_name": "LayoutView",
       "align_content": null,
       "align_items": null,
       "align_self": null,
       "border": null,
       "bottom": null,
       "display": null,
       "flex": null,
       "flex_flow": null,
       "grid_area": null,
       "grid_auto_columns": null,
       "grid_auto_flow": null,
       "grid_auto_rows": null,
       "grid_column": null,
       "grid_gap": null,
       "grid_row": null,
       "grid_template_areas": null,
       "grid_template_columns": null,
       "grid_template_rows": null,
       "height": null,
       "justify_content": null,
       "justify_items": null,
       "left": null,
       "margin": null,
       "max_height": null,
       "max_width": null,
       "min_height": null,
       "min_width": null,
       "object_fit": null,
       "object_position": null,
       "order": null,
       "overflow": null,
       "overflow_x": null,
       "overflow_y": null,
       "padding": null,
       "right": null,
       "top": null,
       "visibility": null,
       "width": null
      }
     },
     "e1961db1ceb840f2942e2b1c088fcffe": {
      "model_module": "@jupyter-widgets/controls",
      "model_module_version": "1.5.0",
      "model_name": "HTMLModel",
      "state": {
       "_dom_classes": [],
       "_model_module": "@jupyter-widgets/controls",
       "_model_module_version": "1.5.0",
       "_model_name": "HTMLModel",
       "_view_count": null,
       "_view_module": "@jupyter-widgets/controls",
       "_view_module_version": "1.5.0",
       "_view_name": "HTMLView",
       "description": "",
       "description_tooltip": null,
       "layout": "IPY_MODEL_244cbeede0cd4e9280e95d10b9cb5184",
       "placeholder": "​",
       "style": "IPY_MODEL_b1a047e623cf420a8ace5e7694ef191b",
       "value": " 6.72k/6.72k [00:00&lt;00:00, 506kB/s]"
      }
     },
     "e555c668609142aa80f74ad7b9a8a70f": {
      "model_module": "@jupyter-widgets/controls",
      "model_module_version": "1.5.0",
      "model_name": "DescriptionStyleModel",
      "state": {
       "_model_module": "@jupyter-widgets/controls",
       "_model_module_version": "1.5.0",
       "_model_name": "DescriptionStyleModel",
       "_view_count": null,
       "_view_module": "@jupyter-widgets/base",
       "_view_module_version": "1.2.0",
       "_view_name": "StyleView",
       "description_width": ""
      }
     },
     "e71ab5fc2c0847c6ae6c6a20586bcfdd": {
      "model_module": "@jupyter-widgets/controls",
      "model_module_version": "1.5.0",
      "model_name": "DescriptionStyleModel",
      "state": {
       "_model_module": "@jupyter-widgets/controls",
       "_model_module_version": "1.5.0",
       "_model_name": "DescriptionStyleModel",
       "_view_count": null,
       "_view_module": "@jupyter-widgets/base",
       "_view_module_version": "1.2.0",
       "_view_name": "StyleView",
       "description_width": ""
      }
     },
     "e8b508f1a0e04108be57ecf2033372a1": {
      "model_module": "@jupyter-widgets/controls",
      "model_module_version": "1.5.0",
      "model_name": "HTMLModel",
      "state": {
       "_dom_classes": [],
       "_model_module": "@jupyter-widgets/controls",
       "_model_module_version": "1.5.0",
       "_model_name": "HTMLModel",
       "_view_count": null,
       "_view_module": "@jupyter-widgets/controls",
       "_view_module_version": "1.5.0",
       "_view_name": "HTMLView",
       "description": "",
       "description_tooltip": null,
       "layout": "IPY_MODEL_1c9074444fb643668abd927fe3ed0d5b",
       "placeholder": "​",
       "style": "IPY_MODEL_9d5cd16e528348c592c2f4e74c062ad7",
       "value": "Generating train split: 100%"
      }
     }
    },
    "version_major": 2,
    "version_minor": 0
   }
  }
 },
 "nbformat": 4,
 "nbformat_minor": 5
}
